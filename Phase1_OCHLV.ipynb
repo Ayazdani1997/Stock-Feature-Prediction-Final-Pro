{
  "nbformat": 4,
  "nbformat_minor": 0,
  "metadata": {
    "colab": {
      "name": "Phase1 OCHLV.ipynb",
      "provenance": [],
      "collapsed_sections": [],
      "authorship_tag": "ABX9TyOzi9z9L62lVbuWn6fSZAfn",
      "include_colab_link": true
    },
    "kernelspec": {
      "name": "python3",
      "display_name": "Python 3"
    }
  },
  "cells": [
    {
      "cell_type": "markdown",
      "metadata": {
        "id": "view-in-github",
        "colab_type": "text"
      },
      "source": [
        "<a href=\"https://colab.research.google.com/github/Ayazdani1997/stock-feature-prediction-final-pro/blob/master/Phase1_OCHLV.ipynb\" target=\"_parent\"><img src=\"https://colab.research.google.com/assets/colab-badge.svg\" alt=\"Open In Colab\"/></a>"
      ]
    },
    {
      "cell_type": "code",
      "metadata": {
        "id": "RA5xnKo5dv0y",
        "colab_type": "code",
        "colab": {}
      },
      "source": [
        "print(\"test\")\n",
        "print(\"test1\")"
      ],
      "execution_count": 0,
      "outputs": []
    }
  ]
}