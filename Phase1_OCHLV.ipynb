{
  "nbformat": 4,
  "nbformat_minor": 0,
  "metadata": {
    "colab": {
      "name": "Phase1 OCHLV.ipynb",
      "provenance": [],
      "collapsed_sections": [],
      "machine_shape": "hm",
      "authorship_tag": "ABX9TyPKEJ0nR+5q2mxjNQ6e8VpH",
      "include_colab_link": true
    },
    "kernelspec": {
      "name": "python3",
      "display_name": "Python 3"
    },
    "accelerator": "GPU"
  },
  "cells": [
    {
      "cell_type": "markdown",
      "metadata": {
        "id": "view-in-github",
        "colab_type": "text"
      },
      "source": [
        "<a href=\"https://colab.research.google.com/github/Ayazdani1997/stock-feature-prediction-final-pro/blob/master/Phase1_OCHLV.ipynb\" target=\"_parent\"><img src=\"https://colab.research.google.com/assets/colab-badge.svg\" alt=\"Open In Colab\"/></a>"
      ]
    },
    {
      "cell_type": "code",
      "metadata": {
        "id": "RA5xnKo5dv0y",
        "colab_type": "code",
        "outputId": "9b238175-db8a-4842-e19a-213bdbea4ea2",
        "colab": {
          "base_uri": "https://localhost:8080/",
          "height": 1000
        }
      },
      "source": [
        "!pip install pandas\n",
        "!pip install tensorflow\n",
        "!pip install tensorflow-gpu"
      ],
      "execution_count": 0,
      "outputs": [
        {
          "output_type": "stream",
          "text": [
            "Requirement already satisfied: pandas in /usr/local/lib/python3.6/dist-packages (1.0.3)\n",
            "Requirement already satisfied: python-dateutil>=2.6.1 in /usr/local/lib/python3.6/dist-packages (from pandas) (2.8.1)\n",
            "Requirement already satisfied: pytz>=2017.2 in /usr/local/lib/python3.6/dist-packages (from pandas) (2018.9)\n",
            "Requirement already satisfied: numpy>=1.13.3 in /usr/local/lib/python3.6/dist-packages (from pandas) (1.18.4)\n",
            "Requirement already satisfied: six>=1.5 in /usr/local/lib/python3.6/dist-packages (from python-dateutil>=2.6.1->pandas) (1.12.0)\n",
            "Requirement already satisfied: tensorflow in /usr/local/lib/python3.6/dist-packages (2.2.0)\n",
            "Requirement already satisfied: tensorflow-estimator<2.3.0,>=2.2.0 in /usr/local/lib/python3.6/dist-packages (from tensorflow) (2.2.0)\n",
            "Requirement already satisfied: six>=1.12.0 in /usr/local/lib/python3.6/dist-packages (from tensorflow) (1.12.0)\n",
            "Requirement already satisfied: astunparse==1.6.3 in /usr/local/lib/python3.6/dist-packages (from tensorflow) (1.6.3)\n",
            "Requirement already satisfied: scipy==1.4.1; python_version >= \"3\" in /usr/local/lib/python3.6/dist-packages (from tensorflow) (1.4.1)\n",
            "Requirement already satisfied: wrapt>=1.11.1 in /usr/local/lib/python3.6/dist-packages (from tensorflow) (1.12.1)\n",
            "Requirement already satisfied: wheel>=0.26; python_version >= \"3\" in /usr/local/lib/python3.6/dist-packages (from tensorflow) (0.34.2)\n",
            "Requirement already satisfied: absl-py>=0.7.0 in /usr/local/lib/python3.6/dist-packages (from tensorflow) (0.9.0)\n",
            "Requirement already satisfied: keras-preprocessing>=1.1.0 in /usr/local/lib/python3.6/dist-packages (from tensorflow) (1.1.0)\n",
            "Requirement already satisfied: protobuf>=3.8.0 in /usr/local/lib/python3.6/dist-packages (from tensorflow) (3.10.0)\n",
            "Requirement already satisfied: google-pasta>=0.1.8 in /usr/local/lib/python3.6/dist-packages (from tensorflow) (0.2.0)\n",
            "Requirement already satisfied: tensorboard<2.3.0,>=2.2.0 in /usr/local/lib/python3.6/dist-packages (from tensorflow) (2.2.1)\n",
            "Requirement already satisfied: h5py<2.11.0,>=2.10.0 in /usr/local/lib/python3.6/dist-packages (from tensorflow) (2.10.0)\n",
            "Requirement already satisfied: termcolor>=1.1.0 in /usr/local/lib/python3.6/dist-packages (from tensorflow) (1.1.0)\n",
            "Requirement already satisfied: grpcio>=1.8.6 in /usr/local/lib/python3.6/dist-packages (from tensorflow) (1.28.1)\n",
            "Requirement already satisfied: opt-einsum>=2.3.2 in /usr/local/lib/python3.6/dist-packages (from tensorflow) (3.2.1)\n",
            "Requirement already satisfied: numpy<2.0,>=1.16.0 in /usr/local/lib/python3.6/dist-packages (from tensorflow) (1.18.4)\n",
            "Requirement already satisfied: gast==0.3.3 in /usr/local/lib/python3.6/dist-packages (from tensorflow) (0.3.3)\n",
            "Requirement already satisfied: setuptools in /usr/local/lib/python3.6/dist-packages (from protobuf>=3.8.0->tensorflow) (46.1.3)\n",
            "Requirement already satisfied: google-auth<2,>=1.6.3 in /usr/local/lib/python3.6/dist-packages (from tensorboard<2.3.0,>=2.2.0->tensorflow) (1.7.2)\n",
            "Requirement already satisfied: tensorboard-plugin-wit>=1.6.0 in /usr/local/lib/python3.6/dist-packages (from tensorboard<2.3.0,>=2.2.0->tensorflow) (1.6.0.post3)\n",
            "Requirement already satisfied: markdown>=2.6.8 in /usr/local/lib/python3.6/dist-packages (from tensorboard<2.3.0,>=2.2.0->tensorflow) (3.2.1)\n",
            "Requirement already satisfied: google-auth-oauthlib<0.5,>=0.4.1 in /usr/local/lib/python3.6/dist-packages (from tensorboard<2.3.0,>=2.2.0->tensorflow) (0.4.1)\n",
            "Requirement already satisfied: requests<3,>=2.21.0 in /usr/local/lib/python3.6/dist-packages (from tensorboard<2.3.0,>=2.2.0->tensorflow) (2.23.0)\n",
            "Requirement already satisfied: werkzeug>=0.11.15 in /usr/local/lib/python3.6/dist-packages (from tensorboard<2.3.0,>=2.2.0->tensorflow) (1.0.1)\n",
            "Requirement already satisfied: pyasn1-modules>=0.2.1 in /usr/local/lib/python3.6/dist-packages (from google-auth<2,>=1.6.3->tensorboard<2.3.0,>=2.2.0->tensorflow) (0.2.8)\n",
            "Requirement already satisfied: cachetools<3.2,>=2.0.0 in /usr/local/lib/python3.6/dist-packages (from google-auth<2,>=1.6.3->tensorboard<2.3.0,>=2.2.0->tensorflow) (3.1.1)\n",
            "Requirement already satisfied: rsa<4.1,>=3.1.4 in /usr/local/lib/python3.6/dist-packages (from google-auth<2,>=1.6.3->tensorboard<2.3.0,>=2.2.0->tensorflow) (4.0)\n",
            "Requirement already satisfied: requests-oauthlib>=0.7.0 in /usr/local/lib/python3.6/dist-packages (from google-auth-oauthlib<0.5,>=0.4.1->tensorboard<2.3.0,>=2.2.0->tensorflow) (1.3.0)\n",
            "Requirement already satisfied: chardet<4,>=3.0.2 in /usr/local/lib/python3.6/dist-packages (from requests<3,>=2.21.0->tensorboard<2.3.0,>=2.2.0->tensorflow) (3.0.4)\n",
            "Requirement already satisfied: idna<3,>=2.5 in /usr/local/lib/python3.6/dist-packages (from requests<3,>=2.21.0->tensorboard<2.3.0,>=2.2.0->tensorflow) (2.9)\n",
            "Requirement already satisfied: urllib3!=1.25.0,!=1.25.1,<1.26,>=1.21.1 in /usr/local/lib/python3.6/dist-packages (from requests<3,>=2.21.0->tensorboard<2.3.0,>=2.2.0->tensorflow) (1.24.3)\n",
            "Requirement already satisfied: certifi>=2017.4.17 in /usr/local/lib/python3.6/dist-packages (from requests<3,>=2.21.0->tensorboard<2.3.0,>=2.2.0->tensorflow) (2020.4.5.1)\n",
            "Requirement already satisfied: pyasn1<0.5.0,>=0.4.6 in /usr/local/lib/python3.6/dist-packages (from pyasn1-modules>=0.2.1->google-auth<2,>=1.6.3->tensorboard<2.3.0,>=2.2.0->tensorflow) (0.4.8)\n",
            "Requirement already satisfied: oauthlib>=3.0.0 in /usr/local/lib/python3.6/dist-packages (from requests-oauthlib>=0.7.0->google-auth-oauthlib<0.5,>=0.4.1->tensorboard<2.3.0,>=2.2.0->tensorflow) (3.1.0)\n",
            "Collecting tensorflow-gpu\n",
            "\u001b[?25l  Downloading https://files.pythonhosted.org/packages/31/bf/c28971266ca854a64f4b26f07c4112ddd61f30b4d1f18108b954a746f8ea/tensorflow_gpu-2.2.0-cp36-cp36m-manylinux2010_x86_64.whl (516.2MB)\n",
            "\u001b[K     |████████████████████████████████| 516.2MB 28kB/s \n",
            "\u001b[?25hRequirement already satisfied: numpy<2.0,>=1.16.0 in /usr/local/lib/python3.6/dist-packages (from tensorflow-gpu) (1.18.4)\n",
            "Requirement already satisfied: opt-einsum>=2.3.2 in /usr/local/lib/python3.6/dist-packages (from tensorflow-gpu) (3.2.1)\n",
            "Requirement already satisfied: protobuf>=3.8.0 in /usr/local/lib/python3.6/dist-packages (from tensorflow-gpu) (3.10.0)\n",
            "Requirement already satisfied: termcolor>=1.1.0 in /usr/local/lib/python3.6/dist-packages (from tensorflow-gpu) (1.1.0)\n",
            "Requirement already satisfied: grpcio>=1.8.6 in /usr/local/lib/python3.6/dist-packages (from tensorflow-gpu) (1.28.1)\n",
            "Requirement already satisfied: absl-py>=0.7.0 in /usr/local/lib/python3.6/dist-packages (from tensorflow-gpu) (0.9.0)\n",
            "Requirement already satisfied: h5py<2.11.0,>=2.10.0 in /usr/local/lib/python3.6/dist-packages (from tensorflow-gpu) (2.10.0)\n",
            "Requirement already satisfied: gast==0.3.3 in /usr/local/lib/python3.6/dist-packages (from tensorflow-gpu) (0.3.3)\n",
            "Requirement already satisfied: tensorflow-estimator<2.3.0,>=2.2.0 in /usr/local/lib/python3.6/dist-packages (from tensorflow-gpu) (2.2.0)\n",
            "Requirement already satisfied: six>=1.12.0 in /usr/local/lib/python3.6/dist-packages (from tensorflow-gpu) (1.12.0)\n",
            "Requirement already satisfied: keras-preprocessing>=1.1.0 in /usr/local/lib/python3.6/dist-packages (from tensorflow-gpu) (1.1.0)\n",
            "Requirement already satisfied: astunparse==1.6.3 in /usr/local/lib/python3.6/dist-packages (from tensorflow-gpu) (1.6.3)\n",
            "Requirement already satisfied: tensorboard<2.3.0,>=2.2.0 in /usr/local/lib/python3.6/dist-packages (from tensorflow-gpu) (2.2.1)\n",
            "Requirement already satisfied: google-pasta>=0.1.8 in /usr/local/lib/python3.6/dist-packages (from tensorflow-gpu) (0.2.0)\n",
            "Requirement already satisfied: scipy==1.4.1; python_version >= \"3\" in /usr/local/lib/python3.6/dist-packages (from tensorflow-gpu) (1.4.1)\n",
            "Requirement already satisfied: wrapt>=1.11.1 in /usr/local/lib/python3.6/dist-packages (from tensorflow-gpu) (1.12.1)\n",
            "Requirement already satisfied: wheel>=0.26; python_version >= \"3\" in /usr/local/lib/python3.6/dist-packages (from tensorflow-gpu) (0.34.2)\n",
            "Requirement already satisfied: setuptools in /usr/local/lib/python3.6/dist-packages (from protobuf>=3.8.0->tensorflow-gpu) (46.1.3)\n",
            "Requirement already satisfied: requests<3,>=2.21.0 in /usr/local/lib/python3.6/dist-packages (from tensorboard<2.3.0,>=2.2.0->tensorflow-gpu) (2.23.0)\n",
            "Requirement already satisfied: google-auth<2,>=1.6.3 in /usr/local/lib/python3.6/dist-packages (from tensorboard<2.3.0,>=2.2.0->tensorflow-gpu) (1.7.2)\n",
            "Requirement already satisfied: google-auth-oauthlib<0.5,>=0.4.1 in /usr/local/lib/python3.6/dist-packages (from tensorboard<2.3.0,>=2.2.0->tensorflow-gpu) (0.4.1)\n",
            "Requirement already satisfied: tensorboard-plugin-wit>=1.6.0 in /usr/local/lib/python3.6/dist-packages (from tensorboard<2.3.0,>=2.2.0->tensorflow-gpu) (1.6.0.post3)\n",
            "Requirement already satisfied: werkzeug>=0.11.15 in /usr/local/lib/python3.6/dist-packages (from tensorboard<2.3.0,>=2.2.0->tensorflow-gpu) (1.0.1)\n",
            "Requirement already satisfied: markdown>=2.6.8 in /usr/local/lib/python3.6/dist-packages (from tensorboard<2.3.0,>=2.2.0->tensorflow-gpu) (3.2.1)\n",
            "Requirement already satisfied: urllib3!=1.25.0,!=1.25.1,<1.26,>=1.21.1 in /usr/local/lib/python3.6/dist-packages (from requests<3,>=2.21.0->tensorboard<2.3.0,>=2.2.0->tensorflow-gpu) (1.24.3)\n",
            "Requirement already satisfied: certifi>=2017.4.17 in /usr/local/lib/python3.6/dist-packages (from requests<3,>=2.21.0->tensorboard<2.3.0,>=2.2.0->tensorflow-gpu) (2020.4.5.1)\n",
            "Requirement already satisfied: idna<3,>=2.5 in /usr/local/lib/python3.6/dist-packages (from requests<3,>=2.21.0->tensorboard<2.3.0,>=2.2.0->tensorflow-gpu) (2.9)\n",
            "Requirement already satisfied: chardet<4,>=3.0.2 in /usr/local/lib/python3.6/dist-packages (from requests<3,>=2.21.0->tensorboard<2.3.0,>=2.2.0->tensorflow-gpu) (3.0.4)\n",
            "Requirement already satisfied: rsa<4.1,>=3.1.4 in /usr/local/lib/python3.6/dist-packages (from google-auth<2,>=1.6.3->tensorboard<2.3.0,>=2.2.0->tensorflow-gpu) (4.0)\n",
            "Requirement already satisfied: pyasn1-modules>=0.2.1 in /usr/local/lib/python3.6/dist-packages (from google-auth<2,>=1.6.3->tensorboard<2.3.0,>=2.2.0->tensorflow-gpu) (0.2.8)\n",
            "Requirement already satisfied: cachetools<3.2,>=2.0.0 in /usr/local/lib/python3.6/dist-packages (from google-auth<2,>=1.6.3->tensorboard<2.3.0,>=2.2.0->tensorflow-gpu) (3.1.1)\n",
            "Requirement already satisfied: requests-oauthlib>=0.7.0 in /usr/local/lib/python3.6/dist-packages (from google-auth-oauthlib<0.5,>=0.4.1->tensorboard<2.3.0,>=2.2.0->tensorflow-gpu) (1.3.0)\n",
            "Requirement already satisfied: pyasn1>=0.1.3 in /usr/local/lib/python3.6/dist-packages (from rsa<4.1,>=3.1.4->google-auth<2,>=1.6.3->tensorboard<2.3.0,>=2.2.0->tensorflow-gpu) (0.4.8)\n",
            "Requirement already satisfied: oauthlib>=3.0.0 in /usr/local/lib/python3.6/dist-packages (from requests-oauthlib>=0.7.0->google-auth-oauthlib<0.5,>=0.4.1->tensorboard<2.3.0,>=2.2.0->tensorflow-gpu) (3.1.0)\n",
            "Installing collected packages: tensorflow-gpu\n",
            "Successfully installed tensorflow-gpu-2.2.0\n"
          ],
          "name": "stdout"
        }
      ]
    },
    {
      "cell_type": "code",
      "metadata": {
        "id": "aAhjCUVLCg_v",
        "colab_type": "code",
        "outputId": "4846eec3-2a32-4570-a626-99e77fa2c11a",
        "colab": {
          "base_uri": "https://localhost:8080/",
          "height": 660
        }
      },
      "source": [
        "pip install --upgrade tensorflow-gpu"
      ],
      "execution_count": 0,
      "outputs": [
        {
          "output_type": "stream",
          "text": [
            "Requirement already up-to-date: tensorflow-gpu in /usr/local/lib/python3.6/dist-packages (2.2.0)\n",
            "Requirement already satisfied, skipping upgrade: grpcio>=1.8.6 in /usr/local/lib/python3.6/dist-packages (from tensorflow-gpu) (1.28.1)\n",
            "Requirement already satisfied, skipping upgrade: gast==0.3.3 in /usr/local/lib/python3.6/dist-packages (from tensorflow-gpu) (0.3.3)\n",
            "Requirement already satisfied, skipping upgrade: astunparse==1.6.3 in /usr/local/lib/python3.6/dist-packages (from tensorflow-gpu) (1.6.3)\n",
            "Requirement already satisfied, skipping upgrade: h5py<2.11.0,>=2.10.0 in /usr/local/lib/python3.6/dist-packages (from tensorflow-gpu) (2.10.0)\n",
            "Requirement already satisfied, skipping upgrade: tensorboard<2.3.0,>=2.2.0 in /usr/local/lib/python3.6/dist-packages (from tensorflow-gpu) (2.2.1)\n",
            "Requirement already satisfied, skipping upgrade: termcolor>=1.1.0 in /usr/local/lib/python3.6/dist-packages (from tensorflow-gpu) (1.1.0)\n",
            "Requirement already satisfied, skipping upgrade: wrapt>=1.11.1 in /usr/local/lib/python3.6/dist-packages (from tensorflow-gpu) (1.12.1)\n",
            "Requirement already satisfied, skipping upgrade: absl-py>=0.7.0 in /usr/local/lib/python3.6/dist-packages (from tensorflow-gpu) (0.9.0)\n",
            "Requirement already satisfied, skipping upgrade: keras-preprocessing>=1.1.0 in /usr/local/lib/python3.6/dist-packages (from tensorflow-gpu) (1.1.0)\n",
            "Requirement already satisfied, skipping upgrade: tensorflow-estimator<2.3.0,>=2.2.0 in /usr/local/lib/python3.6/dist-packages (from tensorflow-gpu) (2.2.0)\n",
            "Requirement already satisfied, skipping upgrade: six>=1.12.0 in /usr/local/lib/python3.6/dist-packages (from tensorflow-gpu) (1.12.0)\n",
            "Requirement already satisfied, skipping upgrade: wheel>=0.26; python_version >= \"3\" in /usr/local/lib/python3.6/dist-packages (from tensorflow-gpu) (0.34.2)\n",
            "Requirement already satisfied, skipping upgrade: scipy==1.4.1; python_version >= \"3\" in /usr/local/lib/python3.6/dist-packages (from tensorflow-gpu) (1.4.1)\n",
            "Requirement already satisfied, skipping upgrade: protobuf>=3.8.0 in /usr/local/lib/python3.6/dist-packages (from tensorflow-gpu) (3.10.0)\n",
            "Requirement already satisfied, skipping upgrade: google-pasta>=0.1.8 in /usr/local/lib/python3.6/dist-packages (from tensorflow-gpu) (0.2.0)\n",
            "Requirement already satisfied, skipping upgrade: numpy<2.0,>=1.16.0 in /usr/local/lib/python3.6/dist-packages (from tensorflow-gpu) (1.18.4)\n",
            "Requirement already satisfied, skipping upgrade: opt-einsum>=2.3.2 in /usr/local/lib/python3.6/dist-packages (from tensorflow-gpu) (3.2.1)\n",
            "Requirement already satisfied, skipping upgrade: google-auth<2,>=1.6.3 in /usr/local/lib/python3.6/dist-packages (from tensorboard<2.3.0,>=2.2.0->tensorflow-gpu) (1.7.2)\n",
            "Requirement already satisfied, skipping upgrade: setuptools>=41.0.0 in /usr/local/lib/python3.6/dist-packages (from tensorboard<2.3.0,>=2.2.0->tensorflow-gpu) (46.1.3)\n",
            "Requirement already satisfied, skipping upgrade: tensorboard-plugin-wit>=1.6.0 in /usr/local/lib/python3.6/dist-packages (from tensorboard<2.3.0,>=2.2.0->tensorflow-gpu) (1.6.0.post3)\n",
            "Requirement already satisfied, skipping upgrade: werkzeug>=0.11.15 in /usr/local/lib/python3.6/dist-packages (from tensorboard<2.3.0,>=2.2.0->tensorflow-gpu) (1.0.1)\n",
            "Requirement already satisfied, skipping upgrade: google-auth-oauthlib<0.5,>=0.4.1 in /usr/local/lib/python3.6/dist-packages (from tensorboard<2.3.0,>=2.2.0->tensorflow-gpu) (0.4.1)\n",
            "Requirement already satisfied, skipping upgrade: markdown>=2.6.8 in /usr/local/lib/python3.6/dist-packages (from tensorboard<2.3.0,>=2.2.0->tensorflow-gpu) (3.2.1)\n",
            "Requirement already satisfied, skipping upgrade: requests<3,>=2.21.0 in /usr/local/lib/python3.6/dist-packages (from tensorboard<2.3.0,>=2.2.0->tensorflow-gpu) (2.23.0)\n",
            "Requirement already satisfied, skipping upgrade: cachetools<3.2,>=2.0.0 in /usr/local/lib/python3.6/dist-packages (from google-auth<2,>=1.6.3->tensorboard<2.3.0,>=2.2.0->tensorflow-gpu) (3.1.1)\n",
            "Requirement already satisfied, skipping upgrade: rsa<4.1,>=3.1.4 in /usr/local/lib/python3.6/dist-packages (from google-auth<2,>=1.6.3->tensorboard<2.3.0,>=2.2.0->tensorflow-gpu) (4.0)\n",
            "Requirement already satisfied, skipping upgrade: pyasn1-modules>=0.2.1 in /usr/local/lib/python3.6/dist-packages (from google-auth<2,>=1.6.3->tensorboard<2.3.0,>=2.2.0->tensorflow-gpu) (0.2.8)\n",
            "Requirement already satisfied, skipping upgrade: requests-oauthlib>=0.7.0 in /usr/local/lib/python3.6/dist-packages (from google-auth-oauthlib<0.5,>=0.4.1->tensorboard<2.3.0,>=2.2.0->tensorflow-gpu) (1.3.0)\n",
            "Requirement already satisfied, skipping upgrade: idna<3,>=2.5 in /usr/local/lib/python3.6/dist-packages (from requests<3,>=2.21.0->tensorboard<2.3.0,>=2.2.0->tensorflow-gpu) (2.9)\n",
            "Requirement already satisfied, skipping upgrade: chardet<4,>=3.0.2 in /usr/local/lib/python3.6/dist-packages (from requests<3,>=2.21.0->tensorboard<2.3.0,>=2.2.0->tensorflow-gpu) (3.0.4)\n",
            "Requirement already satisfied, skipping upgrade: urllib3!=1.25.0,!=1.25.1,<1.26,>=1.21.1 in /usr/local/lib/python3.6/dist-packages (from requests<3,>=2.21.0->tensorboard<2.3.0,>=2.2.0->tensorflow-gpu) (1.24.3)\n",
            "Requirement already satisfied, skipping upgrade: certifi>=2017.4.17 in /usr/local/lib/python3.6/dist-packages (from requests<3,>=2.21.0->tensorboard<2.3.0,>=2.2.0->tensorflow-gpu) (2020.4.5.1)\n",
            "Requirement already satisfied, skipping upgrade: pyasn1>=0.1.3 in /usr/local/lib/python3.6/dist-packages (from rsa<4.1,>=3.1.4->google-auth<2,>=1.6.3->tensorboard<2.3.0,>=2.2.0->tensorflow-gpu) (0.4.8)\n",
            "Requirement already satisfied, skipping upgrade: oauthlib>=3.0.0 in /usr/local/lib/python3.6/dist-packages (from requests-oauthlib>=0.7.0->google-auth-oauthlib<0.5,>=0.4.1->tensorboard<2.3.0,>=2.2.0->tensorflow-gpu) (3.1.0)\n"
          ],
          "name": "stdout"
        }
      ]
    },
    {
      "cell_type": "code",
      "metadata": {
        "id": "JI4WocjUdcHG",
        "colab_type": "code",
        "outputId": "9e60e6bc-7a38-40ee-ec77-1695f72c1135",
        "colab": {
          "base_uri": "https://localhost:8080/",
          "height": 147
        }
      },
      "source": [
        "import tensorflow\n",
        "import tensorflow.keras as keras\n",
        "\n",
        "from keras.models import Sequential\n",
        "from keras.layers import LSTM\n",
        "from keras.layers import Dense, Activation, Dropout\n",
        "from keras.layers import BatchNormalization\n",
        "from keras.metrics import BinaryAccuracy\n",
        "from keras import optimizers\n",
        "\n",
        "\n",
        "import pandas\n",
        "import matplotlib.pyplot as plt\n",
        "from google.colab import drive\n",
        "from os.path import join\n",
        "import numpy\n",
        "\n",
        "ROOT = '/content/drive'\n",
        "drive.mount(ROOT)\n",
        "HOME = join(ROOT,'My Drive')\n",
        "COLAB_DIR = join(HOME, 'Colab Notebooks')\n",
        "data = pandas.read_csv(join(COLAB_DIR, 'data.csv'), encoding='utf-16')"
      ],
      "execution_count": 0,
      "outputs": [
        {
          "output_type": "stream",
          "text": [
            "Using TensorFlow backend.\n"
          ],
          "name": "stderr"
        },
        {
          "output_type": "stream",
          "text": [
            "Go to this URL in a browser: https://accounts.google.com/o/oauth2/auth?client_id=947318989803-6bn6qk8qdgf4n4g3pfee6491hc0brc4i.apps.googleusercontent.com&redirect_uri=urn%3aietf%3awg%3aoauth%3a2.0%3aoob&response_type=code&scope=email%20https%3a%2f%2fwww.googleapis.com%2fauth%2fdocs.test%20https%3a%2f%2fwww.googleapis.com%2fauth%2fdrive%20https%3a%2f%2fwww.googleapis.com%2fauth%2fdrive.photos.readonly%20https%3a%2f%2fwww.googleapis.com%2fauth%2fpeopleapi.readonly\n",
            "\n",
            "Enter your authorization code:\n",
            "··········\n",
            "Mounted at /content/drive\n"
          ],
          "name": "stdout"
        }
      ]
    },
    {
      "cell_type": "code",
      "metadata": {
        "id": "S2Sg8tkYdxxn",
        "colab_type": "code",
        "colab": {}
      },
      "source": [
        "data = data.drop(['Unnamed: 0', 'VAL', 'NUM_OF_TRANSACTIONS','CLOSE_ONE_DAY_BEFORE'], axis=1).rename(columns={'DTYYYYMMDD': 'DATE'})\n",
        "data['DATE'] = pandas.to_datetime(data['DATE'],format='%Y%m%d')"
      ],
      "execution_count": 0,
      "outputs": []
    },
    {
      "cell_type": "code",
      "metadata": {
        "id": "y9Kqk0OWSCUc",
        "colab_type": "code",
        "outputId": "f7731177-1a6b-45ac-92cd-370a740b5b21",
        "colab": {
          "base_uri": "https://localhost:8080/",
          "height": 363
        }
      },
      "source": [
        "labels = pandas.DataFrame()\n",
        "labels['CLASS'] = numpy.where(data['CLOSE'] > data['CLOSE'].shift(1), 1.0, 0.0)\n",
        "labels['DATE'] = data['DATE'].copy()\n",
        "labels['TICKER'] = data['TICKER'].copy()\n",
        "labels.head(10)"
      ],
      "execution_count": 0,
      "outputs": [
        {
          "output_type": "execute_result",
          "data": {
            "text/html": [
              "<div>\n",
              "<style scoped>\n",
              "    .dataframe tbody tr th:only-of-type {\n",
              "        vertical-align: middle;\n",
              "    }\n",
              "\n",
              "    .dataframe tbody tr th {\n",
              "        vertical-align: top;\n",
              "    }\n",
              "\n",
              "    .dataframe thead th {\n",
              "        text-align: right;\n",
              "    }\n",
              "</style>\n",
              "<table border=\"1\" class=\"dataframe\">\n",
              "  <thead>\n",
              "    <tr style=\"text-align: right;\">\n",
              "      <th></th>\n",
              "      <th>CLASS</th>\n",
              "      <th>DATE</th>\n",
              "      <th>TICKER</th>\n",
              "    </tr>\n",
              "  </thead>\n",
              "  <tbody>\n",
              "    <tr>\n",
              "      <th>0</th>\n",
              "      <td>0.0</td>\n",
              "      <td>2019-11-20</td>\n",
              "      <td>مظنه</td>\n",
              "    </tr>\n",
              "    <tr>\n",
              "      <th>1</th>\n",
              "      <td>0.0</td>\n",
              "      <td>2019-11-23</td>\n",
              "      <td>مظنه</td>\n",
              "    </tr>\n",
              "    <tr>\n",
              "      <th>2</th>\n",
              "      <td>0.0</td>\n",
              "      <td>2019-11-24</td>\n",
              "      <td>مظنه</td>\n",
              "    </tr>\n",
              "    <tr>\n",
              "      <th>3</th>\n",
              "      <td>0.0</td>\n",
              "      <td>2019-11-25</td>\n",
              "      <td>مظنه</td>\n",
              "    </tr>\n",
              "    <tr>\n",
              "      <th>4</th>\n",
              "      <td>0.0</td>\n",
              "      <td>2019-11-26</td>\n",
              "      <td>مظنه</td>\n",
              "    </tr>\n",
              "    <tr>\n",
              "      <th>5</th>\n",
              "      <td>0.0</td>\n",
              "      <td>2019-11-27</td>\n",
              "      <td>مظنه</td>\n",
              "    </tr>\n",
              "    <tr>\n",
              "      <th>6</th>\n",
              "      <td>0.0</td>\n",
              "      <td>2019-11-30</td>\n",
              "      <td>مظنه</td>\n",
              "    </tr>\n",
              "    <tr>\n",
              "      <th>7</th>\n",
              "      <td>0.0</td>\n",
              "      <td>2019-12-01</td>\n",
              "      <td>مظنه</td>\n",
              "    </tr>\n",
              "    <tr>\n",
              "      <th>8</th>\n",
              "      <td>0.0</td>\n",
              "      <td>2019-12-02</td>\n",
              "      <td>مظنه</td>\n",
              "    </tr>\n",
              "    <tr>\n",
              "      <th>9</th>\n",
              "      <td>0.0</td>\n",
              "      <td>2019-12-03</td>\n",
              "      <td>مظنه</td>\n",
              "    </tr>\n",
              "  </tbody>\n",
              "</table>\n",
              "</div>"
            ],
            "text/plain": [
              "   CLASS       DATE TICKER\n",
              "0    0.0 2019-11-20   مظنه\n",
              "1    0.0 2019-11-23   مظنه\n",
              "2    0.0 2019-11-24   مظنه\n",
              "3    0.0 2019-11-25   مظنه\n",
              "4    0.0 2019-11-26   مظنه\n",
              "5    0.0 2019-11-27   مظنه\n",
              "6    0.0 2019-11-30   مظنه\n",
              "7    0.0 2019-12-01   مظنه\n",
              "8    0.0 2019-12-02   مظنه\n",
              "9    0.0 2019-12-03   مظنه"
            ]
          },
          "metadata": {
            "tags": []
          },
          "execution_count": 5
        }
      ]
    },
    {
      "cell_type": "markdown",
      "metadata": {
        "id": "DIum7gnaTg61",
        "colab_type": "text"
      },
      "source": [
        "Let's assert if we are using GPU."
      ]
    },
    {
      "cell_type": "code",
      "metadata": {
        "id": "pkguLUIJTJFH",
        "colab_type": "code",
        "outputId": "ac5d59b3-03c1-4456-b052-1a50aac73504",
        "colab": {
          "base_uri": "https://localhost:8080/",
          "height": 35
        }
      },
      "source": [
        "tensorflow.config.list_physical_devices('GPU')"
      ],
      "execution_count": 0,
      "outputs": [
        {
          "output_type": "execute_result",
          "data": {
            "text/plain": [
              "[PhysicalDevice(name='/physical_device:GPU:0', device_type='GPU')]"
            ]
          },
          "metadata": {
            "tags": []
          },
          "execution_count": 6
        }
      ]
    },
    {
      "cell_type": "markdown",
      "metadata": {
        "id": "WxL_xMfUxJ9Y",
        "colab_type": "text"
      },
      "source": [
        "## **Visualization Task**"
      ]
    },
    {
      "cell_type": "markdown",
      "metadata": {
        "id": "rQNiGcVJTlwl",
        "colab_type": "text"
      },
      "source": [
        "**Let's do some visualizations first to investigate data set we are working with**"
      ]
    },
    {
      "cell_type": "code",
      "metadata": {
        "id": "54OVoJw4jcRs",
        "colab_type": "code",
        "outputId": "e2287092-1c5b-43df-af85-7a276367f161",
        "colab": {
          "base_uri": "https://localhost:8080/",
          "height": 206
        }
      },
      "source": [
        "mean_vol_per_ticker = data.groupby('TICKER')['VOL'].agg(numpy.mean).reset_index().sort_values('VOL', ascending=False)\n",
        "mean_vol_per_ticker.head()"
      ],
      "execution_count": 0,
      "outputs": [
        {
          "output_type": "execute_result",
          "data": {
            "text/html": [
              "<div>\n",
              "<style scoped>\n",
              "    .dataframe tbody tr th:only-of-type {\n",
              "        vertical-align: middle;\n",
              "    }\n",
              "\n",
              "    .dataframe tbody tr th {\n",
              "        vertical-align: top;\n",
              "    }\n",
              "\n",
              "    .dataframe thead th {\n",
              "        text-align: right;\n",
              "    }\n",
              "</style>\n",
              "<table border=\"1\" class=\"dataframe\">\n",
              "  <thead>\n",
              "    <tr style=\"text-align: right;\">\n",
              "      <th></th>\n",
              "      <th>TICKER</th>\n",
              "      <th>VOL</th>\n",
              "    </tr>\n",
              "  </thead>\n",
              "  <tbody>\n",
              "    <tr>\n",
              "      <th>894</th>\n",
              "      <td>شاخص_قيمت(هم_وزن6)</td>\n",
              "      <td>1.560700e+09</td>\n",
              "    </tr>\n",
              "    <tr>\n",
              "      <th>895</th>\n",
              "      <td>شاخص_قيمت6</td>\n",
              "      <td>1.559693e+09</td>\n",
              "    </tr>\n",
              "    <tr>\n",
              "      <th>898</th>\n",
              "      <td>شاخص_كل_(هم_وزن)6</td>\n",
              "      <td>1.559693e+09</td>\n",
              "    </tr>\n",
              "    <tr>\n",
              "      <th>889</th>\n",
              "      <td>شاخص_آزاد_شناور6</td>\n",
              "      <td>9.130124e+08</td>\n",
              "    </tr>\n",
              "    <tr>\n",
              "      <th>897</th>\n",
              "      <td>شاخص_كل6</td>\n",
              "      <td>8.711138e+08</td>\n",
              "    </tr>\n",
              "  </tbody>\n",
              "</table>\n",
              "</div>"
            ],
            "text/plain": [
              "                 TICKER           VOL\n",
              "894  شاخص_قيمت(هم_وزن6)  1.560700e+09\n",
              "895          شاخص_قيمت6  1.559693e+09\n",
              "898   شاخص_كل_(هم_وزن)6  1.559693e+09\n",
              "889    شاخص_آزاد_شناور6  9.130124e+08\n",
              "897            شاخص_كل6  8.711138e+08"
            ]
          },
          "metadata": {
            "tags": []
          },
          "execution_count": 7
        }
      ]
    },
    {
      "cell_type": "code",
      "metadata": {
        "id": "Sk9OF8SHtiH9",
        "colab_type": "code",
        "outputId": "455e0647-7825-40d2-9ddb-44c4a68f70ee",
        "colab": {
          "base_uri": "https://localhost:8080/",
          "height": 354
        }
      },
      "source": [
        " five_first_stocks_with_mean_vol = mean_vol_per_ticker.head()\n",
        " index = numpy.arange(len(five_first_stocks_with_mean_vol['TICKER']))\n",
        " plt.bar(index, five_first_stocks_with_mean_vol['VOL'])\n",
        " plt.xlabel('stock', fontsize=10)\n",
        " plt.ylabel('mean vol', fontsize=10)\n",
        " plt.xticks(index, five_first_stocks_with_mean_vol['TICKER'], fontsize=10, rotation=30)\n",
        " plt.title('mean volume in 2001-2020')\n",
        " plt.show()"
      ],
      "execution_count": 0,
      "outputs": [
        {
          "output_type": "display_data",
          "data": {
            "image/png": "[encoded data removed]",
            "text/plain": [
              "<Figure size 432x288 with 1 Axes>"
            ]
          },
          "metadata": {
            "tags": [],
            "needs_background": "light"
          }
        }
      ]
    },
    {
      "cell_type": "code",
      "metadata": {
        "id": "xG-cygZvxfUo",
        "colab_type": "code",
        "outputId": "ad4a4564-f381-4dda-f6f8-ba2625193f60",
        "colab": {
          "base_uri": "https://localhost:8080/",
          "height": 206
        }
      },
      "source": [
        "data_for_ticker_with_max_mean_vol = data[ data['TICKER'] == mean_vol_per_ticker.head().iloc[0]['TICKER'] ]\n",
        "data_for_ticker_with_max_mean_vol.head()"
      ],
      "execution_count": 0,
      "outputs": [
        {
          "output_type": "execute_result",
          "data": {
            "text/html": [
              "<div>\n",
              "<style scoped>\n",
              "    .dataframe tbody tr th:only-of-type {\n",
              "        vertical-align: middle;\n",
              "    }\n",
              "\n",
              "    .dataframe tbody tr th {\n",
              "        vertical-align: top;\n",
              "    }\n",
              "\n",
              "    .dataframe thead th {\n",
              "        text-align: right;\n",
              "    }\n",
              "</style>\n",
              "<table border=\"1\" class=\"dataframe\">\n",
              "  <thead>\n",
              "    <tr style=\"text-align: right;\">\n",
              "      <th></th>\n",
              "      <th>TICKER</th>\n",
              "      <th>DATE</th>\n",
              "      <th>OPEN</th>\n",
              "      <th>HIGH</th>\n",
              "      <th>LOW</th>\n",
              "      <th>CLOSE</th>\n",
              "      <th>VOL</th>\n",
              "    </tr>\n",
              "  </thead>\n",
              "  <tbody>\n",
              "    <tr>\n",
              "      <th>3004878</th>\n",
              "      <td>شاخص_قيمت(هم_وزن6)</td>\n",
              "      <td>2015-02-24</td>\n",
              "      <td>9198.4</td>\n",
              "      <td>9181.8</td>\n",
              "      <td>9181.8</td>\n",
              "      <td>9181.8</td>\n",
              "      <td>278521094</td>\n",
              "    </tr>\n",
              "    <tr>\n",
              "      <th>3004879</th>\n",
              "      <td>شاخص_قيمت(هم_وزن6)</td>\n",
              "      <td>2015-02-25</td>\n",
              "      <td>9183.3</td>\n",
              "      <td>9109.1</td>\n",
              "      <td>9109.2</td>\n",
              "      <td>9109.1</td>\n",
              "      <td>271188153</td>\n",
              "    </tr>\n",
              "    <tr>\n",
              "      <th>3004880</th>\n",
              "      <td>شاخص_قيمت(هم_وزن6)</td>\n",
              "      <td>2015-02-28</td>\n",
              "      <td>9111.9</td>\n",
              "      <td>9090.0</td>\n",
              "      <td>9090.0</td>\n",
              "      <td>9090.0</td>\n",
              "      <td>257849083</td>\n",
              "    </tr>\n",
              "    <tr>\n",
              "      <th>3004881</th>\n",
              "      <td>شاخص_قيمت(هم_وزن6)</td>\n",
              "      <td>2015-03-01</td>\n",
              "      <td>9014.4</td>\n",
              "      <td>9030.4</td>\n",
              "      <td>9009.0</td>\n",
              "      <td>9030.4</td>\n",
              "      <td>475683577</td>\n",
              "    </tr>\n",
              "    <tr>\n",
              "      <th>3004882</th>\n",
              "      <td>شاخص_قيمت(هم_وزن6)</td>\n",
              "      <td>2015-03-02</td>\n",
              "      <td>9034.4</td>\n",
              "      <td>9043.5</td>\n",
              "      <td>9034.4</td>\n",
              "      <td>9043.5</td>\n",
              "      <td>717632564</td>\n",
              "    </tr>\n",
              "  </tbody>\n",
              "</table>\n",
              "</div>"
            ],
            "text/plain": [
              "                     TICKER       DATE    OPEN  ...     LOW   CLOSE        VOL\n",
              "3004878  شاخص_قيمت(هم_وزن6) 2015-02-24  9198.4  ...  9181.8  9181.8  278521094\n",
              "3004879  شاخص_قيمت(هم_وزن6) 2015-02-25  9183.3  ...  9109.2  9109.1  271188153\n",
              "3004880  شاخص_قيمت(هم_وزن6) 2015-02-28  9111.9  ...  9090.0  9090.0  257849083\n",
              "3004881  شاخص_قيمت(هم_وزن6) 2015-03-01  9014.4  ...  9009.0  9030.4  475683577\n",
              "3004882  شاخص_قيمت(هم_وزن6) 2015-03-02  9034.4  ...  9034.4  9043.5  717632564\n",
              "\n",
              "[5 rows x 7 columns]"
            ]
          },
          "metadata": {
            "tags": []
          },
          "execution_count": 9
        }
      ]
    },
    {
      "cell_type": "code",
      "metadata": {
        "id": "QWjZVmwA2XWB",
        "colab_type": "code",
        "outputId": "e5b49121-ee30-43da-def6-e4e1387e9252",
        "colab": {
          "base_uri": "https://localhost:8080/",
          "height": 885
        }
      },
      "source": [
        "import matplotlib.dates as mdates\n",
        "\n",
        "fig, axs = plt.subplots(2, 1, sharex=True, figsize=(12,12))\n",
        "fig.tight_layout()\n",
        "\n",
        "ax1 = axs[0]\n",
        "ax2 = axs[1]\n",
        "starting_date = str(data_for_ticker_with_max_mean_vol['DATE'].iloc[0])\n",
        "ending_date = str(data_for_ticker_with_max_mean_vol['DATE'].iloc[len(data_for_ticker_with_max_mean_vol) - 1])\n",
        "\n",
        "years = mdates.YearLocator()   # every year\n",
        "months = mdates.MonthLocator()  # every month\n",
        "years_fmt = mdates.DateFormatter('%Y')\n",
        "\n",
        "ax1.xaxis.set_major_locator(years)\n",
        "ax1.xaxis.set_major_formatter(years_fmt)\n",
        "ax1.xaxis.set_minor_locator(months)\n",
        "\n",
        "\n",
        "ax1.plot(data_for_ticker_with_max_mean_vol['DATE'], data_for_ticker_with_max_mean_vol['CLOSE'])\n",
        "ax1.set(ylabel='closing price (in tomans)')\n",
        "ax1.set_title('closing price of stock ' + data_for_ticker_with_max_mean_vol['TICKER'].iloc[0][::-1] + \n",
        "          ' from ' + starting_date + ' to ' + ending_date)\n",
        "ax2.plot(data_for_ticker_with_max_mean_vol['DATE'], data_for_ticker_with_max_mean_vol['VOL'])\n",
        "ax2.set(ylabel='daily volume (in share)')\n",
        "ax2.set_title('daily trading volume of stock ' + data_for_ticker_with_max_mean_vol['TICKER'].iloc[0][::-1] + \n",
        "          ' from ' + starting_date + ' to ' + ending_date)\n",
        "\n",
        "ax1.grid(True)\n",
        "ax2.grid(True)\n",
        "\n",
        "ax1.format_xdata = mdates.DateFormatter('%Y-%m-%d')\n",
        "ax1.format_ydata = lambda x: '$%1.2f' % x  # format the price.\n",
        "\n",
        "plt.show()"
      ],
      "execution_count": 0,
      "outputs": [
        {
          "output_type": "display_data",
          "data": {
            "image/png": "[encoded data removed]",
            "text/plain": [
              "<Figure size 864x864 with 2 Axes>"
            ]
          },
          "metadata": {
            "tags": [],
            "needs_background": "light"
          }
        }
      ]
    },
    {
      "cell_type": "code",
      "metadata": {
        "id": "a8vM2kzK3vQK",
        "colab_type": "code",
        "outputId": "f77857e9-61a0-4c08-83ca-aeec0c797b76",
        "colab": {
          "base_uri": "https://localhost:8080/",
          "height": 394
        }
      },
      "source": [
        "ten_stocks_with_max_trading_days = data.groupby('TICKER').agg({'DATE': ['min', 'max', 'count'], 'VOL': ['mean']}).reset_index().sort_values(('DATE', 'count'), ascending=False).head(10)\n",
        "stock_with_max_trading_days = ten_stocks_with_max_trading_days['TICKER'].iloc[0]\n",
        "ten_stocks_with_max_trading_days.head(10)"
      ],
      "execution_count": 0,
      "outputs": [
        {
          "output_type": "execute_result",
          "data": {
            "text/html": [
              "<div>\n",
              "<style scoped>\n",
              "    .dataframe tbody tr th:only-of-type {\n",
              "        vertical-align: middle;\n",
              "    }\n",
              "\n",
              "    .dataframe tbody tr th {\n",
              "        vertical-align: top;\n",
              "    }\n",
              "\n",
              "    .dataframe thead tr th {\n",
              "        text-align: left;\n",
              "    }\n",
              "</style>\n",
              "<table border=\"1\" class=\"dataframe\">\n",
              "  <thead>\n",
              "    <tr>\n",
              "      <th></th>\n",
              "      <th>TICKER</th>\n",
              "      <th colspan=\"3\" halign=\"left\">DATE</th>\n",
              "      <th>VOL</th>\n",
              "    </tr>\n",
              "    <tr>\n",
              "      <th></th>\n",
              "      <th></th>\n",
              "      <th>min</th>\n",
              "      <th>max</th>\n",
              "      <th>count</th>\n",
              "      <th>mean</th>\n",
              "    </tr>\n",
              "  </thead>\n",
              "  <tbody>\n",
              "    <tr>\n",
              "      <th>1616</th>\n",
              "      <td>وپترو</td>\n",
              "      <td>2001-03-25</td>\n",
              "      <td>2020-04-13</td>\n",
              "      <td>4366</td>\n",
              "      <td>2.323352e+06</td>\n",
              "    </tr>\n",
              "    <tr>\n",
              "      <th>1522</th>\n",
              "      <td>وساخت</td>\n",
              "      <td>2001-03-25</td>\n",
              "      <td>2020-04-13</td>\n",
              "      <td>4356</td>\n",
              "      <td>1.464725e+06</td>\n",
              "    </tr>\n",
              "    <tr>\n",
              "      <th>56</th>\n",
              "      <td>آريان</td>\n",
              "      <td>2010-10-06</td>\n",
              "      <td>2020-04-13</td>\n",
              "      <td>4347</td>\n",
              "      <td>2.723661e+06</td>\n",
              "    </tr>\n",
              "    <tr>\n",
              "      <th>624</th>\n",
              "      <td>خودرو</td>\n",
              "      <td>2001-03-25</td>\n",
              "      <td>2020-04-13</td>\n",
              "      <td>4340</td>\n",
              "      <td>1.123416e+07</td>\n",
              "    </tr>\n",
              "    <tr>\n",
              "      <th>1539</th>\n",
              "      <td>وسپه</td>\n",
              "      <td>2001-03-27</td>\n",
              "      <td>2020-04-13</td>\n",
              "      <td>4323</td>\n",
              "      <td>2.620691e+06</td>\n",
              "    </tr>\n",
              "    <tr>\n",
              "      <th>753</th>\n",
              "      <td>زنجان</td>\n",
              "      <td>2011-01-05</td>\n",
              "      <td>2020-04-13</td>\n",
              "      <td>4318</td>\n",
              "      <td>9.637195e+05</td>\n",
              "    </tr>\n",
              "    <tr>\n",
              "      <th>567</th>\n",
              "      <td>خبهمن</td>\n",
              "      <td>2001-04-07</td>\n",
              "      <td>2020-04-13</td>\n",
              "      <td>4315</td>\n",
              "      <td>6.061205e+06</td>\n",
              "    </tr>\n",
              "    <tr>\n",
              "      <th>1603</th>\n",
              "      <td>ونيكي</td>\n",
              "      <td>2001-04-07</td>\n",
              "      <td>2020-04-13</td>\n",
              "      <td>4302</td>\n",
              "      <td>1.712802e+06</td>\n",
              "    </tr>\n",
              "    <tr>\n",
              "      <th>900</th>\n",
              "      <td>شاراك</td>\n",
              "      <td>2001-03-27</td>\n",
              "      <td>2020-04-13</td>\n",
              "      <td>4298</td>\n",
              "      <td>2.342162e+06</td>\n",
              "    </tr>\n",
              "    <tr>\n",
              "      <th>1474</th>\n",
              "      <td>وبشهر</td>\n",
              "      <td>2001-03-25</td>\n",
              "      <td>2020-04-13</td>\n",
              "      <td>4291</td>\n",
              "      <td>2.265908e+06</td>\n",
              "    </tr>\n",
              "  </tbody>\n",
              "</table>\n",
              "</div>"
            ],
            "text/plain": [
              "     TICKER       DATE                            VOL\n",
              "                   min        max count          mean\n",
              "1616  وپترو 2001-03-25 2020-04-13  4366  2.323352e+06\n",
              "1522  وساخت 2001-03-25 2020-04-13  4356  1.464725e+06\n",
              "56    آريان 2010-10-06 2020-04-13  4347  2.723661e+06\n",
              "624   خودرو 2001-03-25 2020-04-13  4340  1.123416e+07\n",
              "1539   وسپه 2001-03-27 2020-04-13  4323  2.620691e+06\n",
              "753   زنجان 2011-01-05 2020-04-13  4318  9.637195e+05\n",
              "567   خبهمن 2001-04-07 2020-04-13  4315  6.061205e+06\n",
              "1603  ونيكي 2001-04-07 2020-04-13  4302  1.712802e+06\n",
              "900   شاراك 2001-03-27 2020-04-13  4298  2.342162e+06\n",
              "1474  وبشهر 2001-03-25 2020-04-13  4291  2.265908e+06"
            ]
          },
          "metadata": {
            "tags": []
          },
          "execution_count": 11
        }
      ]
    },
    {
      "cell_type": "markdown",
      "metadata": {
        "id": "BqoDpL0ExZMR",
        "colab_type": "text"
      },
      "source": [
        "## **Training Phase on the stock with max trading days**"
      ]
    },
    {
      "cell_type": "markdown",
      "metadata": {
        "id": "9ai4mNrBT2q5",
        "colab_type": "text"
      },
      "source": [
        "**Now it is time to start training our model**"
      ]
    },
    {
      "cell_type": "markdown",
      "metadata": {
        "id": "1zQLSFywTUoc",
        "colab_type": "text"
      },
      "source": [
        "We use adam optimizer throughout this experiment."
      ]
    },
    {
      "cell_type": "code",
      "metadata": {
        "id": "8mdOtWOmTQ-a",
        "colab_type": "code",
        "colab": {}
      },
      "source": [
        "optimizer = optimizers.Adam(learning_rate=0.001)"
      ],
      "execution_count": 0,
      "outputs": []
    },
    {
      "cell_type": "code",
      "metadata": {
        "id": "ERoZJ9C4NsB1",
        "colab_type": "code",
        "colab": {}
      },
      "source": [
        "from numpy.random import uniform\n",
        "\n",
        "window_in_days = 10\n",
        "\n",
        "class MyNormalizer:\n",
        "  def __init__():\n",
        "    self.max = 0\n",
        "    self.min = 0\n",
        "\n",
        "  def fit(data):\n",
        "    self.max = data.max()\n",
        "    self.min = data.min()\n",
        "  \n",
        "  def transform(data):\n",
        "    return (data - self.min) / (self.max - self.min)\n",
        "\n",
        "\n",
        "def align_data(x, y, window_size=10, batch_size=32):\n",
        "  rows_to_insert_to_x = pandas.Dataframe(numpy.zeros((window_size+(batch_size - len(x) % batch_size),len(x.columns))))\n",
        "  rows_to_insert_to_y = pandas.Dataframe(numpy.zeros((window_size+(batch_size - len(x) % batch_size), len(y.columns))))\n",
        "\n",
        "  return pandas.concat([rows_to_insert_to_x, x], ignore_index=True), pandas.concat([rows_to_insert_to_y, y], ignore_index=True)\n",
        "  \n",
        "\n",
        "def split_data_to_train_test(original_dataset, labels, stock, training_start, training_end, testing_start, testing_end, test_required=True):\n",
        "  data_related_to_stock = original_dataset[ original_dataset['TICKER'] == stock ].drop('TICKER', axis=1)\n",
        "  labels_related_to_stock = labels[ labels['TICKER'] == stock ].drop('TICKER', axis=1)\n",
        "\n",
        " \n",
        "  training_period_mask = (data_related_to_stock['DATE'] >= training_start) & (data_related_to_stock['DATE'] <= training_end ) \n",
        "  training_period = data_related_to_stock.loc[training_period_mask].drop('DATE', axis=1)\n",
        "  training_period_labels = labels_related_to_stock.loc[training_period_mask].drop('DATE', axis=1)\n",
        "\n",
        "  train_split, validation_split = numpy.split(training_period, [int( (1 - validation_split) * len(training_period))])\n",
        "  train_labels_split, validation_labels_split = numpy.split(training_period_labels, [int( (1 - validation_split) * len(training_period_labels))])\n",
        "\n",
        "  if test_required:\n",
        "    testing_period_mask = (data_related_to_stock['DATE'] >= testing_start) & (data_related_to_stock['DATE'] <= testing_end )\n",
        "    testing_period = data_related_to_stock.loc[testing_period_mask].drop('DATE', axis=1)\n",
        "    testing_period_labels = labels_related_to_stock.loc[testing_period_mask].drop('DATE', axis=1)\n",
        "\n",
        "  return train_split, train_labels_split, validation_split, validation_labels_split , testing_period, testing_period_labels\n",
        "\n",
        "\n",
        "def normalize_dataframe_with_max_min(dataframe, train_max, train_min):\n",
        "    normalized_df=(dataframe - train_min)/(train_max - train_min)\n",
        "    return normalized_df\n",
        "\n",
        "\n",
        "def generate_datasets_for_model(original_dataset, labels, stock, training_start, training_end, \\\n",
        "                                testing_start, testing_end, window_in_days=10, batch_size=32, validation_split=0.2, test_required=True):\n",
        "  \n",
        "  normalizer = MyNormalizer()\n",
        "\n",
        "  training_period, training_period_labels, validation_period, validation_period_labels, testing_period, \\\n",
        "        testing_period_labels = split_data_to_train_test(original_dataset, labels, stock, training_start, training_end, testing_start, testing_end, test_required=True)\n",
        "\n",
        "  training_period, training_period_labels = align_data(training_periods, training_labels)\n",
        "  if validation_split != 0.0:\n",
        "    validation_period, validation_period_labels = align_data(validation_periods, validation_labels)\n",
        "  if test_required:\n",
        "    testing_period, testing_period_labels = align_data(testing_periods, testing_labels)                                                                                               \n",
        "\n",
        "  normalizer.fit(training_period)\n",
        "  training_period = normalizer.transform(training_period)\n",
        "\n",
        "  training_data = []\n",
        "  training_labels = []\n",
        "\n",
        "  for j in range(window_in_days, len(training_period)):\n",
        "    training_data.append(numpy.array(training_period[ j - window_in_days : j ].copy()))\n",
        "    training_labels.append(numpy.array(training_period_labels.iloc[j]))\n",
        "\n",
        "  training_data = numpy.array(training_data)\n",
        "  training_labels = numpy.array(training_labels)\n",
        "\n",
        "\n",
        "  validation_data = []\n",
        "  validation_labels = []\n",
        "\n",
        "  if validation_split != 0.0:\n",
        "    validation_period = normalizer.transform(validation_period)\n",
        "    for j in range(window_in_days, len(validation_period)):\n",
        "      validation_data.append(numpy.array(validation_period[ j - window_in_days : j ].copy()))\n",
        "      validation_labels.append(numpy.array(validation_period_labels.iloc[j]))\n",
        "\n",
        "  validation_data = numpy.array(validation_data)\n",
        "  validation_labels = numpy.array(validation_labels)\n",
        "\n",
        "\n",
        "  testing_data = []\n",
        "  testing_labels = []\n",
        "\n",
        "  if test_required:\n",
        "    testing_period = normalizer.transform(testing_period)\n",
        "    for j in range(window_in_days, len(testing_period)):\n",
        "      testing_data.append(numpy.array(testing_period[ j - window_in_days : j ].copy()))\n",
        "      testing_labels.append(numpy.array(testing_period_labels.iloc[j]))\n",
        "\n",
        "  testing_data = numpy.array(testing_data)\n",
        "  testing_labels = numpy.array(testing_labels)\n",
        "\n",
        "\n",
        "  return training_data, training_labels, validation_data, validation_labels, testing_data, testing_labels\n",
        "\n"
      ],
      "execution_count": 0,
      "outputs": []
    },
    {
      "cell_type": "code",
      "metadata": {
        "id": "Q95qXeQbgdxc",
        "colab_type": "code",
        "colab": {}
      },
      "source": [
        "training_start = pandas.to_datetime('20010101', format='%Y%m%d', errors='ignore')\n",
        "training_end = pandas.to_datetime('20170919', format='%Y%m%d', errors='ignore')\n",
        "testing_start = pandas.to_datetime('20180101', format='%Y%m%d', errors='ignore')\n",
        "testing_end = pandas.to_datetime('20180719', format='%Y%m%d', errors='ignore')"
      ],
      "execution_count": 0,
      "outputs": []
    },
    {
      "cell_type": "code",
      "metadata": {
        "id": "QSCBRXdtsYsX",
        "colab_type": "code",
        "colab": {}
      },
      "source": [
        "\n",
        "def build_model(input_shape, optimizer='adam', layers=None, loss='binary_crossentropy'):\n",
        "  if layers is None:\n",
        "    model = Sequential()\n",
        "    model.add(LSTM(64, input_shape=(input_shape[1], input_shape[2])))\n",
        "    model.add(Dense(32))\n",
        "    model.add(Dropout(0.1))\n",
        "    model.add(Dense(16))\n",
        "    model.add(BatchNormalization())\n",
        "    model.add(Dense(4))\n",
        "    model.add(Dense(1))\n",
        "    model.add(Activation('sigmoid'))\n",
        "\n",
        "  else:\n",
        "    model = Sequential(layers)\n",
        "  \n",
        "  model.compile(loss='binary_crossentropy', optimizer=optimizer, metrics=[BinaryAccuracy()])\n",
        "\n",
        "\n",
        "  return model\n"
      ],
      "execution_count": 0,
      "outputs": []
    },
    {
      "cell_type": "markdown",
      "metadata": {
        "id": "Ojs5GVNu0j2P",
        "colab_type": "text"
      },
      "source": [
        "**First of all, we train the model with training set and testing set containing information in the range indicated periods in the code. we first set the window length to 10 days.**"
      ]
    },
    {
      "cell_type": "code",
      "metadata": {
        "id": "KGODo7DUh0oq",
        "colab_type": "code",
        "outputId": "6d9605f5-8f23-481e-e481-ce599e1941d2",
        "colab": {
          "base_uri": "https://localhost:8080/",
          "height": 458
        }
      },
      "source": [
        "training_data, training_labels, testing_data, testing_labels = \\\n",
        "      generate_datasets_for_model(data, labels, stock_with_max_trading_days, training_start, training_end, testing_start, testing_end)\n",
        "\n",
        "model = build_model(training_data.shape, optimizer)\n",
        "model.summary()"
      ],
      "execution_count": 0,
      "outputs": [
        {
          "output_type": "stream",
          "text": [
            "Model: \"sequential_1\"\n",
            "_________________________________________________________________\n",
            "Layer (type)                 Output Shape              Param #   \n",
            "=================================================================\n",
            "lstm_1 (LSTM)                (None, 64)                17920     \n",
            "_________________________________________________________________\n",
            "dense_1 (Dense)              (None, 32)                2080      \n",
            "_________________________________________________________________\n",
            "dropout_1 (Dropout)          (None, 32)                0         \n",
            "_________________________________________________________________\n",
            "dense_2 (Dense)              (None, 16)                528       \n",
            "_________________________________________________________________\n",
            "batch_normalization_1 (Batch (None, 16)                64        \n",
            "_________________________________________________________________\n",
            "dense_3 (Dense)              (None, 4)                 68        \n",
            "_________________________________________________________________\n",
            "dense_4 (Dense)              (None, 1)                 5         \n",
            "_________________________________________________________________\n",
            "activation_1 (Activation)    (None, 1)                 0         \n",
            "=================================================================\n",
            "Total params: 20,665\n",
            "Trainable params: 20,633\n",
            "Non-trainable params: 32\n",
            "_________________________________________________________________\n"
          ],
          "name": "stdout"
        }
      ]
    },
    {
      "cell_type": "code",
      "metadata": {
        "id": "Gsbik3-4uCcf",
        "colab_type": "code",
        "outputId": "fd942155-df95-4a2c-90e4-c7591d804988",
        "colab": {
          "base_uri": "https://localhost:8080/",
          "height": 529
        }
      },
      "source": [
        "history = model.fit(training_data, training_labels,\n",
        "                    batch_size=32,\n",
        "                    epochs=200,\n",
        "                    shuffle=False,\n",
        "                    validation_split=0.2)"
      ],
      "execution_count": 0,
      "outputs": [
        {
          "output_type": "stream",
          "text": [
            "Train on 2990 samples, validate on 748 samples\n",
            "Epoch 1/200\n",
            "2990/2990 [==============================] - 4s 1ms/step - loss: 0.6900 - binary_accuracy: 0.5769 - val_loss: 0.6698 - val_binary_accuracy: 0.6096\n",
            "Epoch 2/200\n",
            "2990/2990 [==============================] - 3s 862us/step - loss: 0.6749 - binary_accuracy: 0.6054 - val_loss: 0.6688 - val_binary_accuracy: 0.6096\n",
            "Epoch 3/200\n",
            "2990/2990 [==============================] - 3s 868us/step - loss: 0.6689 - binary_accuracy: 0.6087 - val_loss: 0.6677 - val_binary_accuracy: 0.6096\n",
            "Epoch 4/200\n",
            "2848/2990 [===========================>..] - ETA: 0s - loss: 0.6644 - binary_accuracy: 0.6148"
          ],
          "name": "stdout"
        },
        {
          "output_type": "error",
          "ename": "KeyboardInterrupt",
          "evalue": "ignored",
          "traceback": [
            "\u001b[0;31m---------------------------------------------------------------------------\u001b[0m",
            "\u001b[0;31mKeyboardInterrupt\u001b[0m                         Traceback (most recent call last)",
            "\u001b[0;32m<ipython-input-17-ee78530eb47a>\u001b[0m in \u001b[0;36m<module>\u001b[0;34m()\u001b[0m\n\u001b[1;32m      3\u001b[0m                     \u001b[0mepochs\u001b[0m\u001b[0;34m=\u001b[0m\u001b[0;36m200\u001b[0m\u001b[0;34m,\u001b[0m\u001b[0;34m\u001b[0m\u001b[0;34m\u001b[0m\u001b[0m\n\u001b[1;32m      4\u001b[0m                     \u001b[0mshuffle\u001b[0m\u001b[0;34m=\u001b[0m\u001b[0;32mFalse\u001b[0m\u001b[0;34m,\u001b[0m\u001b[0;34m\u001b[0m\u001b[0;34m\u001b[0m\u001b[0m\n\u001b[0;32m----> 5\u001b[0;31m                     validation_split=0.2)\n\u001b[0m",
            "\u001b[0;32m/usr/local/lib/python3.6/dist-packages/keras/engine/training.py\u001b[0m in \u001b[0;36mfit\u001b[0;34m(self, x, y, batch_size, epochs, verbose, callbacks, validation_split, validation_data, shuffle, class_weight, sample_weight, initial_epoch, steps_per_epoch, validation_steps, validation_freq, max_queue_size, workers, use_multiprocessing, **kwargs)\u001b[0m\n\u001b[1;32m   1237\u001b[0m                                         \u001b[0msteps_per_epoch\u001b[0m\u001b[0;34m=\u001b[0m\u001b[0msteps_per_epoch\u001b[0m\u001b[0;34m,\u001b[0m\u001b[0;34m\u001b[0m\u001b[0;34m\u001b[0m\u001b[0m\n\u001b[1;32m   1238\u001b[0m                                         \u001b[0mvalidation_steps\u001b[0m\u001b[0;34m=\u001b[0m\u001b[0mvalidation_steps\u001b[0m\u001b[0;34m,\u001b[0m\u001b[0;34m\u001b[0m\u001b[0;34m\u001b[0m\u001b[0m\n\u001b[0;32m-> 1239\u001b[0;31m                                         validation_freq=validation_freq)\n\u001b[0m\u001b[1;32m   1240\u001b[0m \u001b[0;34m\u001b[0m\u001b[0m\n\u001b[1;32m   1241\u001b[0m     def evaluate(self,\n",
            "\u001b[0;32m/usr/local/lib/python3.6/dist-packages/keras/engine/training_arrays.py\u001b[0m in \u001b[0;36mfit_loop\u001b[0;34m(model, fit_function, fit_inputs, out_labels, batch_size, epochs, verbose, callbacks, val_function, val_inputs, shuffle, initial_epoch, steps_per_epoch, validation_steps, validation_freq)\u001b[0m\n\u001b[1;32m    194\u001b[0m                     \u001b[0mins_batch\u001b[0m\u001b[0;34m[\u001b[0m\u001b[0mi\u001b[0m\u001b[0;34m]\u001b[0m \u001b[0;34m=\u001b[0m \u001b[0mins_batch\u001b[0m\u001b[0;34m[\u001b[0m\u001b[0mi\u001b[0m\u001b[0;34m]\u001b[0m\u001b[0;34m.\u001b[0m\u001b[0mtoarray\u001b[0m\u001b[0;34m(\u001b[0m\u001b[0;34m)\u001b[0m\u001b[0;34m\u001b[0m\u001b[0;34m\u001b[0m\u001b[0m\n\u001b[1;32m    195\u001b[0m \u001b[0;34m\u001b[0m\u001b[0m\n\u001b[0;32m--> 196\u001b[0;31m                 \u001b[0mouts\u001b[0m \u001b[0;34m=\u001b[0m \u001b[0mfit_function\u001b[0m\u001b[0;34m(\u001b[0m\u001b[0mins_batch\u001b[0m\u001b[0;34m)\u001b[0m\u001b[0;34m\u001b[0m\u001b[0;34m\u001b[0m\u001b[0m\n\u001b[0m\u001b[1;32m    197\u001b[0m                 \u001b[0mouts\u001b[0m \u001b[0;34m=\u001b[0m \u001b[0mto_list\u001b[0m\u001b[0;34m(\u001b[0m\u001b[0mouts\u001b[0m\u001b[0;34m)\u001b[0m\u001b[0;34m\u001b[0m\u001b[0;34m\u001b[0m\u001b[0m\n\u001b[1;32m    198\u001b[0m                 \u001b[0;32mfor\u001b[0m \u001b[0ml\u001b[0m\u001b[0;34m,\u001b[0m \u001b[0mo\u001b[0m \u001b[0;32min\u001b[0m \u001b[0mzip\u001b[0m\u001b[0;34m(\u001b[0m\u001b[0mout_labels\u001b[0m\u001b[0;34m,\u001b[0m \u001b[0mouts\u001b[0m\u001b[0;34m)\u001b[0m\u001b[0;34m:\u001b[0m\u001b[0;34m\u001b[0m\u001b[0;34m\u001b[0m\u001b[0m\n",
            "\u001b[0;32m/usr/local/lib/python3.6/dist-packages/tensorflow/python/keras/backend.py\u001b[0m in \u001b[0;36m__call__\u001b[0;34m(self, inputs)\u001b[0m\n\u001b[1;32m   3790\u001b[0m         \u001b[0mvalue\u001b[0m \u001b[0;34m=\u001b[0m \u001b[0mmath_ops\u001b[0m\u001b[0;34m.\u001b[0m\u001b[0mcast\u001b[0m\u001b[0;34m(\u001b[0m\u001b[0mvalue\u001b[0m\u001b[0;34m,\u001b[0m \u001b[0mtensor\u001b[0m\u001b[0;34m.\u001b[0m\u001b[0mdtype\u001b[0m\u001b[0;34m)\u001b[0m\u001b[0;34m\u001b[0m\u001b[0;34m\u001b[0m\u001b[0m\n\u001b[1;32m   3791\u001b[0m       \u001b[0mconverted_inputs\u001b[0m\u001b[0;34m.\u001b[0m\u001b[0mappend\u001b[0m\u001b[0;34m(\u001b[0m\u001b[0mvalue\u001b[0m\u001b[0;34m)\u001b[0m\u001b[0;34m\u001b[0m\u001b[0;34m\u001b[0m\u001b[0m\n\u001b[0;32m-> 3792\u001b[0;31m     \u001b[0moutputs\u001b[0m \u001b[0;34m=\u001b[0m \u001b[0mself\u001b[0m\u001b[0;34m.\u001b[0m\u001b[0m_graph_fn\u001b[0m\u001b[0;34m(\u001b[0m\u001b[0;34m*\u001b[0m\u001b[0mconverted_inputs\u001b[0m\u001b[0;34m)\u001b[0m\u001b[0;34m\u001b[0m\u001b[0;34m\u001b[0m\u001b[0m\n\u001b[0m\u001b[1;32m   3793\u001b[0m \u001b[0;34m\u001b[0m\u001b[0m\n\u001b[1;32m   3794\u001b[0m     \u001b[0;31m# EagerTensor.numpy() will often make a copy to ensure memory safety.\u001b[0m\u001b[0;34m\u001b[0m\u001b[0;34m\u001b[0m\u001b[0;34m\u001b[0m\u001b[0m\n",
            "\u001b[0;32m/usr/local/lib/python3.6/dist-packages/tensorflow/python/eager/function.py\u001b[0m in \u001b[0;36m__call__\u001b[0;34m(self, *args, **kwargs)\u001b[0m\n\u001b[1;32m   1603\u001b[0m       \u001b[0mTypeError\u001b[0m\u001b[0;34m:\u001b[0m \u001b[0mFor\u001b[0m \u001b[0minvalid\u001b[0m \u001b[0mpositional\u001b[0m\u001b[0;34m/\u001b[0m\u001b[0mkeyword\u001b[0m \u001b[0margument\u001b[0m \u001b[0mcombinations\u001b[0m\u001b[0;34m.\u001b[0m\u001b[0;34m\u001b[0m\u001b[0;34m\u001b[0m\u001b[0m\n\u001b[1;32m   1604\u001b[0m     \"\"\"\n\u001b[0;32m-> 1605\u001b[0;31m     \u001b[0;32mreturn\u001b[0m \u001b[0mself\u001b[0m\u001b[0;34m.\u001b[0m\u001b[0m_call_impl\u001b[0m\u001b[0;34m(\u001b[0m\u001b[0margs\u001b[0m\u001b[0;34m,\u001b[0m \u001b[0mkwargs\u001b[0m\u001b[0;34m)\u001b[0m\u001b[0;34m\u001b[0m\u001b[0;34m\u001b[0m\u001b[0m\n\u001b[0m\u001b[1;32m   1606\u001b[0m \u001b[0;34m\u001b[0m\u001b[0m\n\u001b[1;32m   1607\u001b[0m   \u001b[0;32mdef\u001b[0m \u001b[0m_call_impl\u001b[0m\u001b[0;34m(\u001b[0m\u001b[0mself\u001b[0m\u001b[0;34m,\u001b[0m \u001b[0margs\u001b[0m\u001b[0;34m,\u001b[0m \u001b[0mkwargs\u001b[0m\u001b[0;34m,\u001b[0m \u001b[0mcancellation_manager\u001b[0m\u001b[0;34m=\u001b[0m\u001b[0;32mNone\u001b[0m\u001b[0;34m)\u001b[0m\u001b[0;34m:\u001b[0m\u001b[0;34m\u001b[0m\u001b[0;34m\u001b[0m\u001b[0m\n",
            "\u001b[0;32m/usr/local/lib/python3.6/dist-packages/tensorflow/python/eager/function.py\u001b[0m in \u001b[0;36m_call_impl\u001b[0;34m(self, args, kwargs, cancellation_manager)\u001b[0m\n\u001b[1;32m   1643\u001b[0m       raise TypeError(\"Keyword arguments {} unknown. Expected {}.\".format(\n\u001b[1;32m   1644\u001b[0m           list(kwargs.keys()), list(self._arg_keywords)))\n\u001b[0;32m-> 1645\u001b[0;31m     \u001b[0;32mreturn\u001b[0m \u001b[0mself\u001b[0m\u001b[0;34m.\u001b[0m\u001b[0m_call_flat\u001b[0m\u001b[0;34m(\u001b[0m\u001b[0margs\u001b[0m\u001b[0;34m,\u001b[0m \u001b[0mself\u001b[0m\u001b[0;34m.\u001b[0m\u001b[0mcaptured_inputs\u001b[0m\u001b[0;34m,\u001b[0m \u001b[0mcancellation_manager\u001b[0m\u001b[0;34m)\u001b[0m\u001b[0;34m\u001b[0m\u001b[0;34m\u001b[0m\u001b[0m\n\u001b[0m\u001b[1;32m   1646\u001b[0m \u001b[0;34m\u001b[0m\u001b[0m\n\u001b[1;32m   1647\u001b[0m   \u001b[0;32mdef\u001b[0m \u001b[0m_filtered_call\u001b[0m\u001b[0;34m(\u001b[0m\u001b[0mself\u001b[0m\u001b[0;34m,\u001b[0m \u001b[0margs\u001b[0m\u001b[0;34m,\u001b[0m \u001b[0mkwargs\u001b[0m\u001b[0;34m)\u001b[0m\u001b[0;34m:\u001b[0m\u001b[0;34m\u001b[0m\u001b[0;34m\u001b[0m\u001b[0m\n",
            "\u001b[0;32m/usr/local/lib/python3.6/dist-packages/tensorflow/python/eager/function.py\u001b[0m in \u001b[0;36m_call_flat\u001b[0;34m(self, args, captured_inputs, cancellation_manager)\u001b[0m\n\u001b[1;32m   1744\u001b[0m       \u001b[0;31m# No tape is watching; skip to running the function.\u001b[0m\u001b[0;34m\u001b[0m\u001b[0;34m\u001b[0m\u001b[0;34m\u001b[0m\u001b[0m\n\u001b[1;32m   1745\u001b[0m       return self._build_call_outputs(self._inference_function.call(\n\u001b[0;32m-> 1746\u001b[0;31m           ctx, args, cancellation_manager=cancellation_manager))\n\u001b[0m\u001b[1;32m   1747\u001b[0m     forward_backward = self._select_forward_and_backward_functions(\n\u001b[1;32m   1748\u001b[0m         \u001b[0margs\u001b[0m\u001b[0;34m,\u001b[0m\u001b[0;34m\u001b[0m\u001b[0;34m\u001b[0m\u001b[0m\n",
            "\u001b[0;32m/usr/local/lib/python3.6/dist-packages/tensorflow/python/eager/function.py\u001b[0m in \u001b[0;36mcall\u001b[0;34m(self, ctx, args, cancellation_manager)\u001b[0m\n\u001b[1;32m    596\u001b[0m               \u001b[0minputs\u001b[0m\u001b[0;34m=\u001b[0m\u001b[0margs\u001b[0m\u001b[0;34m,\u001b[0m\u001b[0;34m\u001b[0m\u001b[0;34m\u001b[0m\u001b[0m\n\u001b[1;32m    597\u001b[0m               \u001b[0mattrs\u001b[0m\u001b[0;34m=\u001b[0m\u001b[0mattrs\u001b[0m\u001b[0;34m,\u001b[0m\u001b[0;34m\u001b[0m\u001b[0;34m\u001b[0m\u001b[0m\n\u001b[0;32m--> 598\u001b[0;31m               ctx=ctx)\n\u001b[0m\u001b[1;32m    599\u001b[0m         \u001b[0;32melse\u001b[0m\u001b[0;34m:\u001b[0m\u001b[0;34m\u001b[0m\u001b[0;34m\u001b[0m\u001b[0m\n\u001b[1;32m    600\u001b[0m           outputs = execute.execute_with_cancellation(\n",
            "\u001b[0;32m/usr/local/lib/python3.6/dist-packages/tensorflow/python/eager/execute.py\u001b[0m in \u001b[0;36mquick_execute\u001b[0;34m(op_name, num_outputs, inputs, attrs, ctx, name)\u001b[0m\n\u001b[1;32m     58\u001b[0m     \u001b[0mctx\u001b[0m\u001b[0;34m.\u001b[0m\u001b[0mensure_initialized\u001b[0m\u001b[0;34m(\u001b[0m\u001b[0;34m)\u001b[0m\u001b[0;34m\u001b[0m\u001b[0;34m\u001b[0m\u001b[0m\n\u001b[1;32m     59\u001b[0m     tensors = pywrap_tfe.TFE_Py_Execute(ctx._handle, device_name, op_name,\n\u001b[0;32m---> 60\u001b[0;31m                                         inputs, attrs, num_outputs)\n\u001b[0m\u001b[1;32m     61\u001b[0m   \u001b[0;32mexcept\u001b[0m \u001b[0mcore\u001b[0m\u001b[0;34m.\u001b[0m\u001b[0m_NotOkStatusException\u001b[0m \u001b[0;32mas\u001b[0m \u001b[0me\u001b[0m\u001b[0;34m:\u001b[0m\u001b[0;34m\u001b[0m\u001b[0;34m\u001b[0m\u001b[0m\n\u001b[1;32m     62\u001b[0m     \u001b[0;32mif\u001b[0m \u001b[0mname\u001b[0m \u001b[0;32mis\u001b[0m \u001b[0;32mnot\u001b[0m \u001b[0;32mNone\u001b[0m\u001b[0;34m:\u001b[0m\u001b[0;34m\u001b[0m\u001b[0;34m\u001b[0m\u001b[0m\n",
            "\u001b[0;31mKeyboardInterrupt\u001b[0m: "
          ]
        }
      ]
    },
    {
      "cell_type": "code",
      "metadata": {
        "id": "ENuq6l5k2JQb",
        "colab_type": "code",
        "colab": {}
      },
      "source": [
        "plt.plot(history.history['binary_accuracy'])\n",
        "plt.plot(history.history['val_binary_accuracy'])\n",
        "plt.title('model accuracy with window length 10')\n",
        "plt.ylabel('accuracy')\n",
        "plt.xlabel('epoch')\n",
        "plt.legend(['train', 'val'], loc='upper left')\n",
        "plt.show()"
      ],
      "execution_count": 0,
      "outputs": []
    },
    {
      "cell_type": "code",
      "metadata": {
        "id": "IkP8UGQN2OXp",
        "colab_type": "code",
        "colab": {}
      },
      "source": [
        "plt.plot(history.history['loss'])\n",
        "plt.plot(history.history['val_loss'])\n",
        "plt.title('model loss with window length 10')\n",
        "plt.ylabel('loss')\n",
        "plt.xlabel('epoch')\n",
        "plt.legend(['train', 'val'], loc='upper left')\n",
        "plt.show()"
      ],
      "execution_count": 0,
      "outputs": []
    },
    {
      "cell_type": "code",
      "metadata": {
        "id": "_Kckd-4U3ARe",
        "colab_type": "code",
        "colab": {}
      },
      "source": [
        "results = model.evaluate(testing_data, testing_labels)\n",
        "print('for window length 10 we have: test loss, test acc:', results)"
      ],
      "execution_count": 0,
      "outputs": []
    },
    {
      "cell_type": "markdown",
      "metadata": {
        "id": "h_KdDQmtXoxo",
        "colab_type": "text"
      },
      "source": [
        "**Next, we train the model with window size 20 to see how the increase of window size affects the test accuracy**"
      ]
    },
    {
      "cell_type": "code",
      "metadata": {
        "id": "-DhfQNH73Pbt",
        "colab_type": "code",
        "colab": {}
      },
      "source": [
        "training_data, training_labels, testing_data, testing_labels = \\\n",
        "      generate_datasets_for_model(data, labels, stock_with_max_trading_days, training_start, training_end, testing_start, testing_end, window_in_days=20)\n",
        "\n",
        "model = build_model(training_data.shape, optimizer)\n",
        "\n",
        "model.summary()"
      ],
      "execution_count": 0,
      "outputs": []
    },
    {
      "cell_type": "code",
      "metadata": {
        "id": "0WtSPqfSJwbu",
        "colab_type": "code",
        "colab": {}
      },
      "source": [
        "history = model.fit(training_data, training_labels,\n",
        "                    batch_size=32,\n",
        "                    epochs=200,\n",
        "                    shuffle=False,\n",
        "                    validation_split=0.2)"
      ],
      "execution_count": 0,
      "outputs": []
    },
    {
      "cell_type": "code",
      "metadata": {
        "id": "M3Idp4YgKM3x",
        "colab_type": "code",
        "colab": {}
      },
      "source": [
        "plt.plot(history.history['binary_accuracy'])\n",
        "plt.plot(history.history['val_binary_accuracy'])\n",
        "plt.title('model accuracy with window length 20')\n",
        "plt.ylabel('accuracy')\n",
        "plt.xlabel('epoch')\n",
        "plt.legend(['train', 'val'], loc='upper left')\n",
        "plt.show()"
      ],
      "execution_count": 0,
      "outputs": []
    },
    {
      "cell_type": "code",
      "metadata": {
        "id": "2lUtUpsjMOBN",
        "colab_type": "code",
        "colab": {}
      },
      "source": [
        "plt.plot(history.history['loss'])\n",
        "plt.plot(history.history['val_loss'])\n",
        "plt.title('model loss with window length 20')\n",
        "plt.ylabel('loss')\n",
        "plt.xlabel('epoch')\n",
        "plt.legend(['train', 'val'], loc='upper left')\n",
        "plt.show()"
      ],
      "execution_count": 0,
      "outputs": []
    },
    {
      "cell_type": "code",
      "metadata": {
        "id": "C-H0WT6AMTVZ",
        "colab_type": "code",
        "colab": {}
      },
      "source": [
        "results = model.evaluate(testing_data, testing_labels)\n",
        "print('for window length 20 we have: test loss, test acc:', results)"
      ],
      "execution_count": 0,
      "outputs": []
    },
    {
      "cell_type": "markdown",
      "metadata": {
        "id": "L8KtRk_5NjqO",
        "colab_type": "text"
      },
      "source": [
        "**And finally, we set the window length to 30 days.**"
      ]
    },
    {
      "cell_type": "code",
      "metadata": {
        "id": "UNKQoqqjN3nB",
        "colab_type": "code",
        "colab": {}
      },
      "source": [
        "training_data, training_labels, testing_data, testing_labels = \\\n",
        "      generate_datasets_for_model(data, labels, stock_with_max_trading_days, training_start, training_end, testing_start, testing_end, window_in_days=30)\n",
        "\n",
        "model = build_model(training_data.shape, optimizer)\n",
        "\n",
        "model.summary()"
      ],
      "execution_count": 0,
      "outputs": []
    },
    {
      "cell_type": "code",
      "metadata": {
        "id": "QZ255yb2OZSD",
        "colab_type": "code",
        "colab": {}
      },
      "source": [
        "history = model.fit(training_data, training_labels,\n",
        "                    batch_size=32,\n",
        "                    epochs=200,\n",
        "                    shuffle=False,\n",
        "                    validation_split=0.2)"
      ],
      "execution_count": 0,
      "outputs": []
    },
    {
      "cell_type": "code",
      "metadata": {
        "id": "tYz2IwWnPBTp",
        "colab_type": "code",
        "colab": {}
      },
      "source": [
        "plt.plot(history.history['binary_accuracy'])\n",
        "plt.plot(history.history['val_binary_accuracy'])\n",
        "plt.title('model accuracy with window length 30')\n",
        "plt.ylabel('accuracy')\n",
        "plt.xlabel('epoch')\n",
        "plt.legend(['train', 'val'], loc='upper left')\n",
        "plt.show()"
      ],
      "execution_count": 0,
      "outputs": []
    },
    {
      "cell_type": "code",
      "metadata": {
        "id": "YYpWDrVZRmyn",
        "colab_type": "code",
        "colab": {}
      },
      "source": [
        "plt.plot(history.history['loss'])\n",
        "plt.plot(history.history['val_loss'])\n",
        "plt.title('model loss with window length 30')\n",
        "plt.ylabel('loss')\n",
        "plt.xlabel('epoch')\n",
        "plt.legend(['train', 'val'], loc='upper left')\n",
        "plt.show()"
      ],
      "execution_count": 0,
      "outputs": []
    },
    {
      "cell_type": "code",
      "metadata": {
        "id": "Jpvbfg8aRsYA",
        "colab_type": "code",
        "colab": {}
      },
      "source": [
        "results = model.evaluate(testing_data, testing_labels)\n",
        "print('for window length 30 we have: test loss, test acc:', results)"
      ],
      "execution_count": 0,
      "outputs": []
    },
    {
      "cell_type": "markdown",
      "metadata": {
        "id": "SWWAOoye62qC",
        "colab_type": "text"
      },
      "source": [
        "**Now, Let's train the model with window size of 10 again, but increase the number of epochs to 1000**"
      ]
    },
    {
      "cell_type": "code",
      "metadata": {
        "id": "Qc5XAwuN7DEH",
        "colab_type": "code",
        "colab": {}
      },
      "source": [
        "training_data, training_labels, testing_data, testing_labels = \\\n",
        "      generate_datasets_for_model(data, labels, stock_with_max_trading_days, training_start, training_end, testing_start, testing_end)\n",
        "\n",
        "model = build_model(training_data.shape, optimizer)\n",
        "model.summary()"
      ],
      "execution_count": 0,
      "outputs": []
    },
    {
      "cell_type": "code",
      "metadata": {
        "id": "GG4DZfQG7Kd_",
        "colab_type": "code",
        "colab": {}
      },
      "source": [
        "history = model.fit(training_data, training_labels,\n",
        "                    batch_size=32,\n",
        "                    epochs=1000,\n",
        "                    shuffle=False,\n",
        "                    validation_split=0.2)"
      ],
      "execution_count": 0,
      "outputs": []
    },
    {
      "cell_type": "code",
      "metadata": {
        "id": "5AJhKcK_7N5G",
        "colab_type": "code",
        "colab": {}
      },
      "source": [
        "plt.plot(history.history['binary_accuracy'])\n",
        "plt.plot(history.history['val_binary_accuracy'])\n",
        "plt.title('model accuracy with window length 10')\n",
        "plt.ylabel('accuracy')\n",
        "plt.xlabel('epoch')\n",
        "plt.legend(['train', 'val'], loc='upper left')\n",
        "plt.show()"
      ],
      "execution_count": 0,
      "outputs": []
    },
    {
      "cell_type": "code",
      "metadata": {
        "id": "ls7rjK6NBGli",
        "colab_type": "code",
        "colab": {}
      },
      "source": [
        "plt.plot(history.history['loss'])\n",
        "plt.plot(history.history['val_loss'])\n",
        "plt.title('model loss with window length 10')\n",
        "plt.ylabel('loss')\n",
        "plt.xlabel('epoch')\n",
        "plt.legend(['train', 'val'], loc='upper left')\n",
        "plt.show()"
      ],
      "execution_count": 0,
      "outputs": []
    },
    {
      "cell_type": "code",
      "metadata": {
        "id": "Av5Qa-NaBNNA",
        "colab_type": "code",
        "colab": {}
      },
      "source": [
        "results = model.evaluate(testing_data, testing_labels)\n",
        "print('for window length 10 we have: test loss, test acc:', results)"
      ],
      "execution_count": 0,
      "outputs": []
    },
    {
      "cell_type": "markdown",
      "metadata": {
        "id": "9uTwhK3UFcHD",
        "colab_type": "text"
      },
      "source": [
        "**Now let's remove dropout layer and repeat the experiment with window length of 10**"
      ]
    },
    {
      "cell_type": "markdown",
      "metadata": {
        "id": "ob1COi88HqFe",
        "colab_type": "text"
      },
      "source": [
        "First of all, let's set number of epochs to 200"
      ]
    },
    {
      "cell_type": "code",
      "metadata": {
        "id": "M5bbqNFXLUtX",
        "colab_type": "code",
        "colab": {}
      },
      "source": [
        "training_data, training_labels, testing_data, testing_labels = \\\n",
        "      generate_datasets_for_model(data, labels, stock_with_max_trading_days, training_start, training_end, testing_start, testing_end)"
      ],
      "execution_count": 0,
      "outputs": []
    },
    {
      "cell_type": "code",
      "metadata": {
        "id": "2kZw7VUtLTPT",
        "colab_type": "code",
        "colab": {}
      },
      "source": [
        "\n",
        "layers = [\n",
        "          LSTM(64, input_shape=(training_data.shape[1], training_data.shape[2])),\n",
        "          Dense(32),\n",
        "          Dense(16),\n",
        "          BatchNormalization(),\n",
        "          Dense(4),\n",
        "          Dense(1),\n",
        "          Activation('sigmoid')\n",
        "         ]"
      ],
      "execution_count": 0,
      "outputs": []
    },
    {
      "cell_type": "code",
      "metadata": {
        "id": "V54ZVa7kGr4m",
        "colab_type": "code",
        "colab": {}
      },
      "source": [
        "model = build_model(training_data.shape, optimizer, layers)\n",
        "model.summary()"
      ],
      "execution_count": 0,
      "outputs": []
    },
    {
      "cell_type": "code",
      "metadata": {
        "id": "6nXwB6uaHb4p",
        "colab_type": "code",
        "colab": {}
      },
      "source": [
        "history = model.fit(training_data, training_labels,\n",
        "                    batch_size=32,\n",
        "                    epochs=200,\n",
        "                    shuffle=False,\n",
        "                    validation_split=0.2)"
      ],
      "execution_count": 0,
      "outputs": []
    },
    {
      "cell_type": "code",
      "metadata": {
        "id": "4ffPNgEpH0Uc",
        "colab_type": "code",
        "colab": {}
      },
      "source": [
        "plt.plot(history.history['binary_accuracy'])\n",
        "plt.plot(history.history['val_binary_accuracy'])\n",
        "plt.title('model accuracy with window length 10')\n",
        "plt.ylabel('accuracy')\n",
        "plt.xlabel('epoch')\n",
        "plt.legend(['train', 'val'], loc='upper left')\n",
        "plt.show()"
      ],
      "execution_count": 0,
      "outputs": []
    },
    {
      "cell_type": "code",
      "metadata": {
        "id": "MnH2L1xkJGdY",
        "colab_type": "code",
        "colab": {}
      },
      "source": [
        "plt.plot(history.history['loss'])\n",
        "plt.plot(history.history['val_loss'])\n",
        "plt.title('model loss with window length 10')\n",
        "plt.ylabel('loss')\n",
        "plt.xlabel('epoch')\n",
        "plt.legend(['train', 'val'], loc='upper left')\n",
        "plt.show()"
      ],
      "execution_count": 0,
      "outputs": []
    },
    {
      "cell_type": "code",
      "metadata": {
        "id": "vUs3uDQcJMH5",
        "colab_type": "code",
        "colab": {}
      },
      "source": [
        "results = model.evaluate(testing_data, testing_labels)\n",
        "print('for window length 10 we have: test loss, test acc:', results)"
      ],
      "execution_count": 0,
      "outputs": []
    },
    {
      "cell_type": "markdown",
      "metadata": {
        "id": "dv0TLYbGK_pd",
        "colab_type": "text"
      },
      "source": [
        "Now, let's set number of epochs to 1000"
      ]
    },
    {
      "cell_type": "code",
      "metadata": {
        "id": "LUAzAulbLC1s",
        "colab_type": "code",
        "colab": {}
      },
      "source": [
        "training_data, training_labels, testing_data, testing_labels = \\\n",
        "      generate_datasets_for_model(data, labels, stock_with_max_trading_days, training_start, training_end, testing_start, testing_end)\n",
        "\n",
        "model = build_model(training_data.shape, optimizer, layers)\n",
        "model.summary()"
      ],
      "execution_count": 0,
      "outputs": []
    },
    {
      "cell_type": "code",
      "metadata": {
        "id": "kTj2QxtGLjCF",
        "colab_type": "code",
        "colab": {}
      },
      "source": [
        "history = model.fit(training_data, training_labels,\n",
        "                    batch_size=32,\n",
        "                    epochs=1000,\n",
        "                    shuffle=False,\n",
        "                    validation_split=0.2)"
      ],
      "execution_count": 0,
      "outputs": []
    },
    {
      "cell_type": "code",
      "metadata": {
        "id": "3rA6YSV_NU63",
        "colab_type": "code",
        "colab": {}
      },
      "source": [
        "plt.plot(history.history['binary_accuracy'])\n",
        "plt.plot(history.history['val_binary_accuracy'])\n",
        "plt.title('model accuracy with window length 10')\n",
        "plt.ylabel('accuracy')\n",
        "plt.xlabel('epoch')\n",
        "plt.legend(['train', 'val'], loc='upper left')\n",
        "plt.show()"
      ],
      "execution_count": 0,
      "outputs": []
    },
    {
      "cell_type": "code",
      "metadata": {
        "id": "rhS92oxoTXHP",
        "colab_type": "code",
        "colab": {}
      },
      "source": [
        "plt.plot(history.history['loss'])\n",
        "plt.plot(history.history['val_loss'])\n",
        "plt.title('model loss with window length 10')\n",
        "plt.ylabel('loss')\n",
        "plt.xlabel('epoch')\n",
        "plt.legend(['train', 'val'], loc='upper left')\n",
        "plt.show()"
      ],
      "execution_count": 0,
      "outputs": []
    },
    {
      "cell_type": "code",
      "metadata": {
        "id": "0uzXd8WETaDt",
        "colab_type": "code",
        "colab": {}
      },
      "source": [
        "results = model.evaluate(testing_data, testing_labels)\n",
        "print('for window length 10 we have: test loss, test acc:', results)"
      ],
      "execution_count": 0,
      "outputs": []
    },
    {
      "cell_type": "markdown",
      "metadata": {
        "id": "WX5M4QyKjdYv",
        "colab_type": "text"
      },
      "source": [
        "**Now, Let's train the model on the whole dataset with no test data, also with window length of 10**"
      ]
    },
    {
      "cell_type": "code",
      "metadata": {
        "id": "yCieIcoInwBy",
        "colab_type": "code",
        "colab": {}
      },
      "source": [
        "_training_end = pandas.to_datetime('20200501', format='%Y%m%d', errors='ignore')\n",
        "\n",
        "training_data, training_labels, testing_data, testing_labels = \\\n",
        "      generate_datasets_for_model(data, labels, stock_with_max_trading_days, training_start, _training_end, test_required=False)\n",
        "\n",
        "model = build_model(training_data.shape, optimizer)\n",
        "model.summary()"
      ],
      "execution_count": 0,
      "outputs": []
    },
    {
      "cell_type": "code",
      "metadata": {
        "id": "pahvW_vWoBn0",
        "colab_type": "code",
        "colab": {}
      },
      "source": [
        "history = model.fit(training_data, training_labels,\n",
        "                    batch_size=32,\n",
        "                    epochs=1200,\n",
        "                    shuffle=False\n",
        "                    )"
      ],
      "execution_count": 0,
      "outputs": []
    },
    {
      "cell_type": "markdown",
      "metadata": {
        "id": "u2QZS72s1g2z",
        "colab_type": "text"
      },
      "source": [
        "Let's save the achieved model for further use."
      ]
    },
    {
      "cell_type": "code",
      "metadata": {
        "id": "WjPa3qWD1qTe",
        "colab_type": "code",
        "colab": {}
      },
      "source": [
        "model.save(join(COLAB_DIR,'model.h5'))"
      ],
      "execution_count": 0,
      "outputs": []
    },
    {
      "cell_type": "markdown",
      "metadata": {
        "id": "i4H_9YbwxqTA",
        "colab_type": "text"
      },
      "source": [
        "## **Transfer Learning**"
      ]
    },
    {
      "cell_type": "markdown",
      "metadata": {
        "id": "G6ROLUcqO5db",
        "colab_type": "text"
      },
      "source": [
        "In this section, we load the pre-trained model and then do partial tuning with training it on the stock with second max trading days. Then, we test it to get accuracy of the model"
      ]
    },
    {
      "cell_type": "code",
      "metadata": {
        "id": "9YRfWrlrLTBK",
        "colab_type": "code",
        "colab": {}
      },
      "source": [
        "stock_with_second_max_trading_days = ten_stocks_with_max_trading_days['TICKER'].iloc[1]"
      ],
      "execution_count": 0,
      "outputs": []
    },
    {
      "cell_type": "code",
      "metadata": {
        "id": "Ljyp-X38Ozqy",
        "colab_type": "code",
        "colab": {}
      },
      "source": [
        "train_start = pandas.to_datetime('20100101', format='%Y%m%d', errors='ignore')\n",
        "train_end = pandas.to_datetime('20160719', format='%Y%m%d', errors='ignore')\n",
        "test_start = pandas.to_datetime('20170101', format='%Y%m%d', errors='ignore')\n",
        "test_end = pandas.to_datetime('20180101', format='%Y%m%d', errors='ignore')"
      ],
      "execution_count": 0,
      "outputs": []
    },
    {
      "cell_type": "markdown",
      "metadata": {
        "id": "fWk7fDmXTALK",
        "colab_type": "text"
      },
      "source": [
        "Next, we load the pretrained model"
      ]
    },
    {
      "cell_type": "code",
      "metadata": {
        "id": "wkVLs-J0TEN7",
        "colab_type": "code",
        "colab": {}
      },
      "source": [
        "from keras.models import load_model\n",
        "\n",
        "training_data, training_labels, testing_data, testing_labels = \\\n",
        "      generate_datasets_for_model(data, labels, stock_with_second_max_trading_days, train_start, train_end, test_start, test_end)\n",
        "\n",
        "base_model = build_model(training_data.shape, optimizer)\n",
        "base_model.load_weights(join(COLAB_DIR,'model.h5'))\n",
        "base_model.summary()"
      ],
      "execution_count": 0,
      "outputs": []
    },
    {
      "cell_type": "code",
      "metadata": {
        "id": "UlIHnsZPTdAz",
        "colab_type": "code",
        "colab": {}
      },
      "source": [
        "history = base_model.fit(training_data, training_labels,\n",
        "                    batch_size=32,\n",
        "                    epochs=200,\n",
        "                    shuffle=False,\n",
        "                    validation_split=0.2)"
      ],
      "execution_count": 0,
      "outputs": []
    },
    {
      "cell_type": "code",
      "metadata": {
        "id": "mHc_GIFAb_1e",
        "colab_type": "code",
        "colab": {}
      },
      "source": [
        "plt.plot(history.history['binary_accuracy'])\n",
        "plt.plot(history.history['val_binary_accuracy'])\n",
        "plt.title('model accuracy with window length 10')\n",
        "plt.ylabel('accuracy')\n",
        "plt.xlabel('epoch')\n",
        "plt.legend(['train', 'val'], loc='upper left')\n",
        "plt.show()"
      ],
      "execution_count": 0,
      "outputs": []
    },
    {
      "cell_type": "code",
      "metadata": {
        "id": "OwPrcDDBcnMm",
        "colab_type": "code",
        "colab": {}
      },
      "source": [
        "plt.plot(history.history['loss'])\n",
        "plt.plot(history.history['val_loss'])\n",
        "plt.title('model loss with window length 10')\n",
        "plt.ylabel('loss')\n",
        "plt.xlabel('epoch')\n",
        "plt.legend(['train', 'val'], loc='upper left')\n",
        "plt.show()"
      ],
      "execution_count": 0,
      "outputs": []
    },
    {
      "cell_type": "code",
      "metadata": {
        "id": "g6RntZgzcqh8",
        "colab_type": "code",
        "colab": {}
      },
      "source": [
        "results = base_model.evaluate(testing_data, testing_labels)\n",
        "print('for window length 10 we have: test loss, test acc:', results)"
      ],
      "execution_count": 0,
      "outputs": []
    },
    {
      "cell_type": "markdown",
      "metadata": {
        "id": "LZOztlz66fOv",
        "colab_type": "text"
      },
      "source": [
        "## **Stateful LSTM**"
      ]
    },
    {
      "cell_type": "markdown",
      "metadata": {
        "id": "DI9FCm-e6l-O",
        "colab_type": "text"
      },
      "source": [
        "Until now, we have considered our model as a stateless model. However, that is not the case. One should realize that stateless models reset their state at the end of each batch and that is not desirable in sequence modeling. Thus, let's set the stateful flag in our model."
      ]
    },
    {
      "cell_type": "markdown",
      "metadata": {
        "id": "BfcDmLJT7pk9",
        "colab_type": "text"
      },
      "source": [
        "Now, let's generate the dataset and the model. All the parameters are initialized with their default value throughout this documentation. the window size is still 10."
      ]
    },
    {
      "cell_type": "code",
      "metadata": {
        "id": "NRS8hbnY70d7",
        "colab_type": "code",
        "outputId": "73c53675-9251-4d1d-e3f0-1663084957af",
        "colab": {
          "base_uri": "https://localhost:8080/",
          "height": 421
        }
      },
      "source": [
        "training_start = pandas.to_datetime('20010101', format='%Y%m%d', errors='ignore')\n",
        "training_end = pandas.to_datetime('20170919', format='%Y%m%d', errors='ignore')\n",
        "testing_start = pandas.to_datetime('20180101', format='%Y%m%d', errors='ignore')\n",
        "testing_end = pandas.to_datetime('20180719', format='%Y%m%d', errors='ignore')\n",
        "\n",
        "training_data, training_labels, testing_data, testing_labels = \\\n",
        "      generate_datasets_for_model(data, labels, stock_with_max_trading_days, training_start, training_end, testing_start, testing_end, validation_split=0.0)\n",
        "\n",
        "\n",
        "layers = [\n",
        "          # input_shape : batch_size, time_step, #features\n",
        "          LSTM(64, batch_input_shape=(32,training_data.shape[1], training_data.shape[2]), stateful=True ),\n",
        "          Dense(32),\n",
        "          Dense(16),\n",
        "          BatchNormalization(),\n",
        "          Dense(4),\n",
        "          Dense(1),\n",
        "          Activation('sigmoid')\n",
        "         ]\n",
        "\n",
        "model = build_model(training_data.shape, optimizer, layers)\n",
        "model.summary()"
      ],
      "execution_count": 0,
      "outputs": [
        {
          "output_type": "stream",
          "text": [
            "Model: \"sequential_2\"\n",
            "_________________________________________________________________\n",
            "Layer (type)                 Output Shape              Param #   \n",
            "=================================================================\n",
            "lstm_2 (LSTM)                (32, 64)                  17920     \n",
            "_________________________________________________________________\n",
            "dense_5 (Dense)              (32, 32)                  2080      \n",
            "_________________________________________________________________\n",
            "dense_6 (Dense)              (32, 16)                  528       \n",
            "_________________________________________________________________\n",
            "batch_normalization_2 (Batch (32, 16)                  64        \n",
            "_________________________________________________________________\n",
            "dense_7 (Dense)              (32, 4)                   68        \n",
            "_________________________________________________________________\n",
            "dense_8 (Dense)              (32, 1)                   5         \n",
            "_________________________________________________________________\n",
            "activation_2 (Activation)    (32, 1)                   0         \n",
            "=================================================================\n",
            "Total params: 20,665\n",
            "Trainable params: 20,633\n",
            "Non-trainable params: 32\n",
            "_________________________________________________________________\n"
          ],
          "name": "stdout"
        }
      ]
    },
    {
      "cell_type": "code",
      "metadata": {
        "id": "qZpmTAQumcdN",
        "colab_type": "code",
        "outputId": "9887e387-7012-49e9-f2e2-3c3ebab7e09b",
        "colab": {
          "base_uri": "https://localhost:8080/",
          "height": 400
        }
      },
      "source": [
        "epochs = 200\n",
        "\n",
        "for i in range(epochs):\n",
        "    print('Epoch', i + 1, '/', epochs)\n",
        "    model.fit(training_data,\n",
        "                       training_labels,\n",
        "                       batch_size=32,\n",
        "                       epochs=1,\n",
        "                       shuffle=False)\n",
        "    model.reset_states()"
      ],
      "execution_count": 0,
      "outputs": [
        {
          "output_type": "stream",
          "text": [
            "Epoch 1 / 200\n"
          ],
          "name": "stdout"
        },
        {
          "output_type": "error",
          "ename": "ValueError",
          "evalue": "ignored",
          "traceback": [
            "\u001b[0;31m---------------------------------------------------------------------------\u001b[0m",
            "\u001b[0;31mValueError\u001b[0m                                Traceback (most recent call last)",
            "\u001b[0;32m<ipython-input-20-1607796658cb>\u001b[0m in \u001b[0;36m<module>\u001b[0;34m()\u001b[0m\n\u001b[1;32m      7\u001b[0m                        \u001b[0mbatch_size\u001b[0m\u001b[0;34m=\u001b[0m\u001b[0;36m32\u001b[0m\u001b[0;34m,\u001b[0m\u001b[0;34m\u001b[0m\u001b[0;34m\u001b[0m\u001b[0m\n\u001b[1;32m      8\u001b[0m                        \u001b[0mepochs\u001b[0m\u001b[0;34m=\u001b[0m\u001b[0;36m1\u001b[0m\u001b[0;34m,\u001b[0m\u001b[0;34m\u001b[0m\u001b[0;34m\u001b[0m\u001b[0m\n\u001b[0;32m----> 9\u001b[0;31m                        shuffle=False)\n\u001b[0m\u001b[1;32m     10\u001b[0m     \u001b[0mmodel\u001b[0m\u001b[0;34m.\u001b[0m\u001b[0mreset_states\u001b[0m\u001b[0;34m(\u001b[0m\u001b[0;34m)\u001b[0m\u001b[0;34m\u001b[0m\u001b[0;34m\u001b[0m\u001b[0m\n",
            "\u001b[0;32m/usr/local/lib/python3.6/dist-packages/keras/engine/training.py\u001b[0m in \u001b[0;36mfit\u001b[0;34m(self, x, y, batch_size, epochs, verbose, callbacks, validation_split, validation_data, shuffle, class_weight, sample_weight, initial_epoch, steps_per_epoch, validation_steps, validation_freq, max_queue_size, workers, use_multiprocessing, **kwargs)\u001b[0m\n\u001b[1;32m   1152\u001b[0m             \u001b[0msample_weight\u001b[0m\u001b[0;34m=\u001b[0m\u001b[0msample_weight\u001b[0m\u001b[0;34m,\u001b[0m\u001b[0;34m\u001b[0m\u001b[0;34m\u001b[0m\u001b[0m\n\u001b[1;32m   1153\u001b[0m             \u001b[0mclass_weight\u001b[0m\u001b[0;34m=\u001b[0m\u001b[0mclass_weight\u001b[0m\u001b[0;34m,\u001b[0m\u001b[0;34m\u001b[0m\u001b[0;34m\u001b[0m\u001b[0m\n\u001b[0;32m-> 1154\u001b[0;31m             batch_size=batch_size)\n\u001b[0m\u001b[1;32m   1155\u001b[0m \u001b[0;34m\u001b[0m\u001b[0m\n\u001b[1;32m   1156\u001b[0m         \u001b[0;31m# Prepare validation data.\u001b[0m\u001b[0;34m\u001b[0m\u001b[0;34m\u001b[0m\u001b[0;34m\u001b[0m\u001b[0m\n",
            "\u001b[0;32m/usr/local/lib/python3.6/dist-packages/keras/engine/training.py\u001b[0m in \u001b[0;36m_standardize_user_data\u001b[0;34m(self, x, y, sample_weight, class_weight, check_array_lengths, batch_size)\u001b[0m\n\u001b[1;32m    653\u001b[0m                                  \u001b[0;34m'a number of samples that can be '\u001b[0m\u001b[0;34m\u001b[0m\u001b[0;34m\u001b[0m\u001b[0m\n\u001b[1;32m    654\u001b[0m                                  \u001b[0;34m'divided by the batch size. Found: '\u001b[0m \u001b[0;34m+\u001b[0m\u001b[0;34m\u001b[0m\u001b[0;34m\u001b[0m\u001b[0m\n\u001b[0;32m--> 655\u001b[0;31m                                  str(x[0].shape[0]) + ' samples')\n\u001b[0m\u001b[1;32m    656\u001b[0m         \u001b[0;32mreturn\u001b[0m \u001b[0mx\u001b[0m\u001b[0;34m,\u001b[0m \u001b[0my\u001b[0m\u001b[0;34m,\u001b[0m \u001b[0msample_weights\u001b[0m\u001b[0;34m\u001b[0m\u001b[0;34m\u001b[0m\u001b[0m\n\u001b[1;32m    657\u001b[0m \u001b[0;34m\u001b[0m\u001b[0m\n",
            "\u001b[0;31mValueError\u001b[0m: In a stateful network, you should only pass inputs with a number of samples that can be divided by the batch size. Found: 3738 samples"
          ]
        }
      ]
    },
    {
      "cell_type": "code",
      "metadata": {
        "id": "3KbJbD4hnfpm",
        "colab_type": "code",
        "colab": {}
      },
      "source": [
        ""
      ],
      "execution_count": 0,
      "outputs": []
    }
  ]
}