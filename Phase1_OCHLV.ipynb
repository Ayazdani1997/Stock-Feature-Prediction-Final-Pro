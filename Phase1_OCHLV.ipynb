{
  "nbformat": 4,
  "nbformat_minor": 0,
  "metadata": {
    "colab": {
      "name": "Phase1 OCHLV.ipynb",
      "provenance": [],
      "collapsed_sections": [],
      "authorship_tag": "ABX9TyPBpKaDnnp0gYlxLNawLbgy",
      "include_colab_link": true
    },
    "kernelspec": {
      "name": "python3",
      "display_name": "Python 3"
    },
    "accelerator": "GPU"
  },
  "cells": [
    {
      "cell_type": "markdown",
      "metadata": {
        "id": "view-in-github",
        "colab_type": "text"
      },
      "source": [
        "<a href=\"https://colab.research.google.com/github/Ayazdani1997/stock-feature-prediction-final-pro/blob/master/Phase1_OCHLV.ipynb\" target=\"_parent\"><img src=\"https://colab.research.google.com/assets/colab-badge.svg\" alt=\"Open In Colab\"/></a>"
      ]
    },
    {
      "cell_type": "code",
      "metadata": {
        "id": "RA5xnKo5dv0y",
        "colab_type": "code",
        "colab": {
          "base_uri": "https://localhost:8080/",
          "height": 109
        },
        "outputId": "27a885c6-9ab8-4703-8415-40994eb62e8c"
      },
      "source": [
        "!pip install pandas"
      ],
      "execution_count": 1,
      "outputs": [
        {
          "output_type": "stream",
          "text": [
            "Requirement already satisfied: pandas in /usr/local/lib/python3.6/dist-packages (1.0.3)\n",
            "Requirement already satisfied: pytz>=2017.2 in /usr/local/lib/python3.6/dist-packages (from pandas) (2018.9)\n",
            "Requirement already satisfied: python-dateutil>=2.6.1 in /usr/local/lib/python3.6/dist-packages (from pandas) (2.8.1)\n",
            "Requirement already satisfied: numpy>=1.13.3 in /usr/local/lib/python3.6/dist-packages (from pandas) (1.18.2)\n",
            "Requirement already satisfied: six>=1.5 in /usr/local/lib/python3.6/dist-packages (from python-dateutil>=2.6.1->pandas) (1.12.0)\n"
          ],
          "name": "stdout"
        }
      ]
    },
    {
      "cell_type": "code",
      "metadata": {
        "id": "JI4WocjUdcHG",
        "colab_type": "code",
        "colab": {
          "base_uri": "https://localhost:8080/",
          "height": 35
        },
        "outputId": "4fdc705d-ae5f-49cb-8e6b-b7499e814619"
      },
      "source": [
        "import pandas\n",
        "import matplotlib.pyplot as plt\n",
        "from google.colab import drive\n",
        "from os.path import join\n",
        "import numpy\n",
        "\n",
        "ROOT = '/content/drive'\n",
        "drive.mount(ROOT)\n",
        "HOME = join(ROOT,'My Drive')\n",
        "COLAB_DIR = join(HOME, 'Colab Notebooks')\n",
        "data = pandas.read_csv(join(COLAB_DIR, 'data.csv'), encoding='utf-16')"
      ],
      "execution_count": 13,
      "outputs": [
        {
          "output_type": "stream",
          "text": [
            "Drive already mounted at /content/drive; to attempt to forcibly remount, call drive.mount(\"/content/drive\", force_remount=True).\n"
          ],
          "name": "stdout"
        }
      ]
    },
    {
      "cell_type": "code",
      "metadata": {
        "id": "S2Sg8tkYdxxn",
        "colab_type": "code",
        "colab": {
          "base_uri": "https://localhost:8080/",
          "height": 206
        },
        "outputId": "ffdb6454-807e-41c5-ed04-62974e6c46ea"
      },
      "source": [
        "data = data.drop('Unnamed: 0', axis=1)\n",
        "data.head()"
      ],
      "execution_count": 63,
      "outputs": [
        {
          "output_type": "execute_result",
          "data": {
            "text/html": [
              "<div>\n",
              "<style scoped>\n",
              "    .dataframe tbody tr th:only-of-type {\n",
              "        vertical-align: middle;\n",
              "    }\n",
              "\n",
              "    .dataframe tbody tr th {\n",
              "        vertical-align: top;\n",
              "    }\n",
              "\n",
              "    .dataframe thead th {\n",
              "        text-align: right;\n",
              "    }\n",
              "</style>\n",
              "<table border=\"1\" class=\"dataframe\">\n",
              "  <thead>\n",
              "    <tr style=\"text-align: right;\">\n",
              "      <th></th>\n",
              "      <th>TICKER</th>\n",
              "      <th>DTYYYYMMDD</th>\n",
              "      <th>OPEN</th>\n",
              "      <th>HIGH</th>\n",
              "      <th>LOW</th>\n",
              "      <th>CLOSE</th>\n",
              "      <th>VOL</th>\n",
              "      <th>VAL</th>\n",
              "      <th>NUM_OF_TRANSACTIONS</th>\n",
              "      <th>CLOSE_ONE_DAY_BEFORE</th>\n",
              "    </tr>\n",
              "  </thead>\n",
              "  <tbody>\n",
              "    <tr>\n",
              "      <th>0</th>\n",
              "      <td>مظنه</td>\n",
              "      <td>20191120</td>\n",
              "      <td>0.0</td>\n",
              "      <td>1000000.0</td>\n",
              "      <td>0.0</td>\n",
              "      <td>1000000.0</td>\n",
              "      <td>0</td>\n",
              "      <td>0.0</td>\n",
              "      <td>0</td>\n",
              "      <td>1000000.0</td>\n",
              "    </tr>\n",
              "    <tr>\n",
              "      <th>1</th>\n",
              "      <td>مظنه</td>\n",
              "      <td>20191123</td>\n",
              "      <td>0.0</td>\n",
              "      <td>1000000.0</td>\n",
              "      <td>0.0</td>\n",
              "      <td>1000000.0</td>\n",
              "      <td>0</td>\n",
              "      <td>0.0</td>\n",
              "      <td>0</td>\n",
              "      <td>1000000.0</td>\n",
              "    </tr>\n",
              "    <tr>\n",
              "      <th>2</th>\n",
              "      <td>مظنه</td>\n",
              "      <td>20191124</td>\n",
              "      <td>0.0</td>\n",
              "      <td>1000000.0</td>\n",
              "      <td>0.0</td>\n",
              "      <td>1000000.0</td>\n",
              "      <td>0</td>\n",
              "      <td>0.0</td>\n",
              "      <td>0</td>\n",
              "      <td>1000000.0</td>\n",
              "    </tr>\n",
              "    <tr>\n",
              "      <th>3</th>\n",
              "      <td>مظنه</td>\n",
              "      <td>20191125</td>\n",
              "      <td>0.0</td>\n",
              "      <td>1000000.0</td>\n",
              "      <td>0.0</td>\n",
              "      <td>1000000.0</td>\n",
              "      <td>0</td>\n",
              "      <td>0.0</td>\n",
              "      <td>0</td>\n",
              "      <td>1000000.0</td>\n",
              "    </tr>\n",
              "    <tr>\n",
              "      <th>4</th>\n",
              "      <td>مظنه</td>\n",
              "      <td>20191126</td>\n",
              "      <td>0.0</td>\n",
              "      <td>1000000.0</td>\n",
              "      <td>0.0</td>\n",
              "      <td>1000000.0</td>\n",
              "      <td>0</td>\n",
              "      <td>0.0</td>\n",
              "      <td>0</td>\n",
              "      <td>1000000.0</td>\n",
              "    </tr>\n",
              "  </tbody>\n",
              "</table>\n",
              "</div>"
            ],
            "text/plain": [
              "  TICKER  DTYYYYMMDD  OPEN  ...  VAL  NUM_OF_TRANSACTIONS  CLOSE_ONE_DAY_BEFORE\n",
              "0   مظنه    20191120   0.0  ...  0.0                    0             1000000.0\n",
              "1   مظنه    20191123   0.0  ...  0.0                    0             1000000.0\n",
              "2   مظنه    20191124   0.0  ...  0.0                    0             1000000.0\n",
              "3   مظنه    20191125   0.0  ...  0.0                    0             1000000.0\n",
              "4   مظنه    20191126   0.0  ...  0.0                    0             1000000.0\n",
              "\n",
              "[5 rows x 10 columns]"
            ]
          },
          "metadata": {
            "tags": []
          },
          "execution_count": 63
        }
      ]
    },
    {
      "cell_type": "code",
      "metadata": {
        "id": "54OVoJw4jcRs",
        "colab_type": "code",
        "colab": {}
      },
      "source": [
        "mean_vol_per_ticker = data.groupby('TICKER')['VOL'].agg(numpy.mean).reset_index().sort_values('VOL', ascending=False)"
      ],
      "execution_count": 0,
      "outputs": []
    },
    {
      "cell_type": "code",
      "metadata": {
        "id": "WbdnYf-Cvipx",
        "colab_type": "code",
        "colab": {
          "base_uri": "https://localhost:8080/",
          "height": 35
        },
        "outputId": "4470cf5c-8f20-40e8-9fe5-861c7bb4a7df"
      },
      "source": [
        "len(mean_vol_per_ticker[ mean_vol_per_ticker['VOL'] != 0 ])"
      ],
      "execution_count": 71,
      "outputs": [
        {
          "output_type": "execute_result",
          "data": {
            "text/plain": [
              "1422"
            ]
          },
          "metadata": {
            "tags": []
          },
          "execution_count": 71
        }
      ]
    },
    {
      "cell_type": "code",
      "metadata": {
        "id": "Sk9OF8SHtiH9",
        "colab_type": "code",
        "colab": {
          "base_uri": "https://localhost:8080/",
          "height": 354
        },
        "outputId": "45e896b1-988d-4a0f-8803-ac6b0677f423"
      },
      "source": [
        " five_first_stocks_with_mean_vol = mean_vol_per_ticker.head()\n",
        " index = numpy.arange(len(five_first_stocks_with_mean_vol['TICKER']))\n",
        " plt.bar(index, five_first_stocks_with_mean_vol['VOL'])\n",
        " plt.xlabel('stock', fontsize=10)\n",
        " plt.ylabel('mean vol', fontsize=10)\n",
        " plt.xticks(index, five_first_stocks_with_mean_vol['TICKER'], fontsize=10, rotation=30)\n",
        " plt.title('mean volume in 2001-2020')\n",
        " plt.show()"
      ],
      "execution_count": 73,
      "outputs": [
        {
          "output_type": "display_data",
          "data": {
            "image/png": "[encoded data removed]",
            "text/plain": [
              "<Figure size 432x288 with 1 Axes>"
            ]
          },
          "metadata": {
            "tags": [],
            "needs_background": "light"
          }
        }
      ]
    },
    {
      "cell_type": "code",
      "metadata": {
        "id": "xG-cygZvxfUo",
        "colab_type": "code",
        "colab": {
          "base_uri": "https://localhost:8080/",
          "height": 206
        },
        "outputId": "c04a71f7-8c0a-4fb7-da80-843cb7b24bec"
      },
      "source": [
        "data_for_ticker_with_max_mean_vol = data[ data['TICKER'] == mean_vol_per_ticker.head().iloc[0]['TICKER'] ]\n",
        "data_for_ticker_with_max_mean_vol.head()"
      ],
      "execution_count": 81,
      "outputs": [
        {
          "output_type": "execute_result",
          "data": {
            "text/html": [
              "<div>\n",
              "<style scoped>\n",
              "    .dataframe tbody tr th:only-of-type {\n",
              "        vertical-align: middle;\n",
              "    }\n",
              "\n",
              "    .dataframe tbody tr th {\n",
              "        vertical-align: top;\n",
              "    }\n",
              "\n",
              "    .dataframe thead th {\n",
              "        text-align: right;\n",
              "    }\n",
              "</style>\n",
              "<table border=\"1\" class=\"dataframe\">\n",
              "  <thead>\n",
              "    <tr style=\"text-align: right;\">\n",
              "      <th></th>\n",
              "      <th>TICKER</th>\n",
              "      <th>DTYYYYMMDD</th>\n",
              "      <th>OPEN</th>\n",
              "      <th>HIGH</th>\n",
              "      <th>LOW</th>\n",
              "      <th>CLOSE</th>\n",
              "      <th>VOL</th>\n",
              "      <th>VAL</th>\n",
              "      <th>NUM_OF_TRANSACTIONS</th>\n",
              "      <th>CLOSE_ONE_DAY_BEFORE</th>\n",
              "    </tr>\n",
              "  </thead>\n",
              "  <tbody>\n",
              "    <tr>\n",
              "      <th>3004878</th>\n",
              "      <td>شاخص_قيمت(هم_وزن6)</td>\n",
              "      <td>20150224</td>\n",
              "      <td>9198.4</td>\n",
              "      <td>9181.8</td>\n",
              "      <td>9181.8</td>\n",
              "      <td>9181.8</td>\n",
              "      <td>278521094</td>\n",
              "      <td>6.199195e+11</td>\n",
              "      <td>31899</td>\n",
              "      <td>592.6</td>\n",
              "    </tr>\n",
              "    <tr>\n",
              "      <th>3004879</th>\n",
              "      <td>شاخص_قيمت(هم_وزن6)</td>\n",
              "      <td>20150225</td>\n",
              "      <td>9183.3</td>\n",
              "      <td>9109.1</td>\n",
              "      <td>9109.2</td>\n",
              "      <td>9109.1</td>\n",
              "      <td>271188153</td>\n",
              "      <td>5.908300e+11</td>\n",
              "      <td>28391</td>\n",
              "      <td>21957.9</td>\n",
              "    </tr>\n",
              "    <tr>\n",
              "      <th>3004880</th>\n",
              "      <td>شاخص_قيمت(هم_وزن6)</td>\n",
              "      <td>20150228</td>\n",
              "      <td>9111.9</td>\n",
              "      <td>9090.0</td>\n",
              "      <td>9090.0</td>\n",
              "      <td>9090.0</td>\n",
              "      <td>257849083</td>\n",
              "      <td>4.914391e+11</td>\n",
              "      <td>23864</td>\n",
              "      <td>590.0</td>\n",
              "    </tr>\n",
              "    <tr>\n",
              "      <th>3004881</th>\n",
              "      <td>شاخص_قيمت(هم_وزن6)</td>\n",
              "      <td>20150301</td>\n",
              "      <td>9014.4</td>\n",
              "      <td>9030.4</td>\n",
              "      <td>9009.0</td>\n",
              "      <td>9030.4</td>\n",
              "      <td>475683577</td>\n",
              "      <td>1.030119e+12</td>\n",
              "      <td>37612</td>\n",
              "      <td>21635.1</td>\n",
              "    </tr>\n",
              "    <tr>\n",
              "      <th>3004882</th>\n",
              "      <td>شاخص_قيمت(هم_وزن6)</td>\n",
              "      <td>20150302</td>\n",
              "      <td>9034.4</td>\n",
              "      <td>9043.5</td>\n",
              "      <td>9034.4</td>\n",
              "      <td>9043.5</td>\n",
              "      <td>717632564</td>\n",
              "      <td>9.735307e+11</td>\n",
              "      <td>39724</td>\n",
              "      <td>588.2</td>\n",
              "    </tr>\n",
              "  </tbody>\n",
              "</table>\n",
              "</div>"
            ],
            "text/plain": [
              "                     TICKER  ...  CLOSE_ONE_DAY_BEFORE\n",
              "3004878  شاخص_قيمت(هم_وزن6)  ...                 592.6\n",
              "3004879  شاخص_قيمت(هم_وزن6)  ...               21957.9\n",
              "3004880  شاخص_قيمت(هم_وزن6)  ...                 590.0\n",
              "3004881  شاخص_قيمت(هم_وزن6)  ...               21635.1\n",
              "3004882  شاخص_قيمت(هم_وزن6)  ...                 588.2\n",
              "\n",
              "[5 rows x 10 columns]"
            ]
          },
          "metadata": {
            "tags": []
          },
          "execution_count": 81
        }
      ]
    },
    {
      "cell_type": "code",
      "metadata": {
        "id": "QWjZVmwA2XWB",
        "colab_type": "code",
        "colab": {
          "base_uri": "https://localhost:8080/",
          "height": 294
        },
        "outputId": "56222ea8-a8d7-464e-9aa7-375bd4016459"
      },
      "source": [
        "plt.plot(data_for_ticker_with_max_mean_vol['CLOSE'])\n",
        "plt.ylabel('closing price')\n",
        "plt.title('closing price of stock ' + data_for_ticker_with_max_mean_vol['TICKER'].iloc[0] + ' in 2015-2020')\n",
        "plt.show()"
      ],
      "execution_count": 95,
      "outputs": [
        {
          "output_type": "display_data",
          "data": {
            "image/png": "[encoded data removed]",
            "text/plain": [
              "<Figure size 432x288 with 1 Axes>"
            ]
          },
          "metadata": {
            "tags": [],
            "needs_background": "light"
          }
        }
      ]
    },
    {
      "cell_type": "code",
      "metadata": {
        "id": "a8vM2kzK3vQK",
        "colab_type": "code",
        "colab": {}
      },
      "source": [
        ""
      ],
      "execution_count": 0,
      "outputs": []
    }
  ]
}