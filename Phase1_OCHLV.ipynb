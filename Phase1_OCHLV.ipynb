{
  "nbformat": 4,
  "nbformat_minor": 0,
  "metadata": {
    "colab": {
      "name": "Phase1 OCHLV.ipynb",
      "provenance": [],
      "collapsed_sections": [],
      "authorship_tag": "ABX9TyP7fj9BvRIOf1zDXbIF1u1t",
      "include_colab_link": true
    },
    "kernelspec": {
      "name": "python3",
      "display_name": "Python 3"
    },
    "accelerator": "GPU"
  },
  "cells": [
    {
      "cell_type": "markdown",
      "metadata": {
        "id": "view-in-github",
        "colab_type": "text"
      },
      "source": [
        "<a href=\"https://colab.research.google.com/github/Ayazdani1997/stock-feature-prediction-final-pro/blob/master/Phase1_OCHLV.ipynb\" target=\"_parent\"><img src=\"https://colab.research.google.com/assets/colab-badge.svg\" alt=\"Open In Colab\"/></a>"
      ]
    },
    {
      "cell_type": "code",
      "metadata": {
        "id": "RA5xnKo5dv0y",
        "colab_type": "code",
        "outputId": "8fe52667-025e-4ef3-866a-5326c831c9fc",
        "colab": {
          "base_uri": "https://localhost:8080/",
          "height": 109
        }
      },
      "source": [
        "!pip install pandas"
      ],
      "execution_count": 0,
      "outputs": [
        {
          "output_type": "stream",
          "text": [
            "Requirement already satisfied: pandas in /usr/local/lib/python3.6/dist-packages (1.0.3)\n",
            "Requirement already satisfied: numpy>=1.13.3 in /usr/local/lib/python3.6/dist-packages (from pandas) (1.18.2)\n",
            "Requirement already satisfied: pytz>=2017.2 in /usr/local/lib/python3.6/dist-packages (from pandas) (2018.9)\n",
            "Requirement already satisfied: python-dateutil>=2.6.1 in /usr/local/lib/python3.6/dist-packages (from pandas) (2.8.1)\n",
            "Requirement already satisfied: six>=1.5 in /usr/local/lib/python3.6/dist-packages (from python-dateutil>=2.6.1->pandas) (1.12.0)\n"
          ],
          "name": "stdout"
        }
      ]
    },
    {
      "cell_type": "code",
      "metadata": {
        "id": "JI4WocjUdcHG",
        "colab_type": "code",
        "outputId": "5fbdcb43-b264-48d0-b418-23a5a89d1af0",
        "colab": {
          "base_uri": "https://localhost:8080/",
          "height": 129
        }
      },
      "source": [
        "import pandas\n",
        "import matplotlib.pyplot as plt\n",
        "from google.colab import drive\n",
        "from os.path import join\n",
        "import numpy\n",
        "\n",
        "ROOT = '/content/drive'\n",
        "drive.mount(ROOT)\n",
        "HOME = join(ROOT,'My Drive')\n",
        "COLAB_DIR = join(HOME, 'Colab Notebooks')\n",
        "data = pandas.read_csv(join(COLAB_DIR, 'data.csv'), encoding='utf-16')"
      ],
      "execution_count": 0,
      "outputs": [
        {
          "output_type": "stream",
          "text": [
            "Go to this URL in a browser: https://accounts.google.com/o/oauth2/auth?client_id=947318989803-6bn6qk8qdgf4n4g3pfee6491hc0brc4i.apps.googleusercontent.com&redirect_uri=urn%3aietf%3awg%3aoauth%3a2.0%3aoob&response_type=code&scope=email%20https%3a%2f%2fwww.googleapis.com%2fauth%2fdocs.test%20https%3a%2f%2fwww.googleapis.com%2fauth%2fdrive%20https%3a%2f%2fwww.googleapis.com%2fauth%2fdrive.photos.readonly%20https%3a%2f%2fwww.googleapis.com%2fauth%2fpeopleapi.readonly\n",
            "\n",
            "Enter your authorization code:\n",
            "··········\n",
            "Mounted at /content/drive\n"
          ],
          "name": "stdout"
        }
      ]
    },
    {
      "cell_type": "code",
      "metadata": {
        "id": "S2Sg8tkYdxxn",
        "colab_type": "code",
        "outputId": "4d46b582-6a7c-4874-bd52-74ab5226f384",
        "colab": {
          "base_uri": "https://localhost:8080/",
          "height": 206
        }
      },
      "source": [
        "data = data.drop('Unnamed: 0', axis=1)\n",
        "data.head()"
      ],
      "execution_count": 0,
      "outputs": [
        {
          "output_type": "execute_result",
          "data": {
            "text/html": [
              "<div>\n",
              "<style scoped>\n",
              "    .dataframe tbody tr th:only-of-type {\n",
              "        vertical-align: middle;\n",
              "    }\n",
              "\n",
              "    .dataframe tbody tr th {\n",
              "        vertical-align: top;\n",
              "    }\n",
              "\n",
              "    .dataframe thead th {\n",
              "        text-align: right;\n",
              "    }\n",
              "</style>\n",
              "<table border=\"1\" class=\"dataframe\">\n",
              "  <thead>\n",
              "    <tr style=\"text-align: right;\">\n",
              "      <th></th>\n",
              "      <th>TICKER</th>\n",
              "      <th>DTYYYYMMDD</th>\n",
              "      <th>OPEN</th>\n",
              "      <th>HIGH</th>\n",
              "      <th>LOW</th>\n",
              "      <th>CLOSE</th>\n",
              "      <th>VOL</th>\n",
              "      <th>VAL</th>\n",
              "      <th>NUM_OF_TRANSACTIONS</th>\n",
              "      <th>CLOSE_ONE_DAY_BEFORE</th>\n",
              "    </tr>\n",
              "  </thead>\n",
              "  <tbody>\n",
              "    <tr>\n",
              "      <th>0</th>\n",
              "      <td>مظنه</td>\n",
              "      <td>20191120</td>\n",
              "      <td>0.0</td>\n",
              "      <td>1000000.0</td>\n",
              "      <td>0.0</td>\n",
              "      <td>1000000.0</td>\n",
              "      <td>0</td>\n",
              "      <td>0.0</td>\n",
              "      <td>0</td>\n",
              "      <td>1000000.0</td>\n",
              "    </tr>\n",
              "    <tr>\n",
              "      <th>1</th>\n",
              "      <td>مظنه</td>\n",
              "      <td>20191123</td>\n",
              "      <td>0.0</td>\n",
              "      <td>1000000.0</td>\n",
              "      <td>0.0</td>\n",
              "      <td>1000000.0</td>\n",
              "      <td>0</td>\n",
              "      <td>0.0</td>\n",
              "      <td>0</td>\n",
              "      <td>1000000.0</td>\n",
              "    </tr>\n",
              "    <tr>\n",
              "      <th>2</th>\n",
              "      <td>مظنه</td>\n",
              "      <td>20191124</td>\n",
              "      <td>0.0</td>\n",
              "      <td>1000000.0</td>\n",
              "      <td>0.0</td>\n",
              "      <td>1000000.0</td>\n",
              "      <td>0</td>\n",
              "      <td>0.0</td>\n",
              "      <td>0</td>\n",
              "      <td>1000000.0</td>\n",
              "    </tr>\n",
              "    <tr>\n",
              "      <th>3</th>\n",
              "      <td>مظنه</td>\n",
              "      <td>20191125</td>\n",
              "      <td>0.0</td>\n",
              "      <td>1000000.0</td>\n",
              "      <td>0.0</td>\n",
              "      <td>1000000.0</td>\n",
              "      <td>0</td>\n",
              "      <td>0.0</td>\n",
              "      <td>0</td>\n",
              "      <td>1000000.0</td>\n",
              "    </tr>\n",
              "    <tr>\n",
              "      <th>4</th>\n",
              "      <td>مظنه</td>\n",
              "      <td>20191126</td>\n",
              "      <td>0.0</td>\n",
              "      <td>1000000.0</td>\n",
              "      <td>0.0</td>\n",
              "      <td>1000000.0</td>\n",
              "      <td>0</td>\n",
              "      <td>0.0</td>\n",
              "      <td>0</td>\n",
              "      <td>1000000.0</td>\n",
              "    </tr>\n",
              "  </tbody>\n",
              "</table>\n",
              "</div>"
            ],
            "text/plain": [
              "  TICKER  DTYYYYMMDD  OPEN  ...  VAL  NUM_OF_TRANSACTIONS  CLOSE_ONE_DAY_BEFORE\n",
              "0   مظنه    20191120   0.0  ...  0.0                    0             1000000.0\n",
              "1   مظنه    20191123   0.0  ...  0.0                    0             1000000.0\n",
              "2   مظنه    20191124   0.0  ...  0.0                    0             1000000.0\n",
              "3   مظنه    20191125   0.0  ...  0.0                    0             1000000.0\n",
              "4   مظنه    20191126   0.0  ...  0.0                    0             1000000.0\n",
              "\n",
              "[5 rows x 10 columns]"
            ]
          },
          "metadata": {
            "tags": []
          },
          "execution_count": 3
        }
      ]
    },
    {
      "cell_type": "code",
      "metadata": {
        "id": "54OVoJw4jcRs",
        "colab_type": "code",
        "outputId": "335f49fa-ef53-4555-b814-b6e4e8893711",
        "colab": {
          "base_uri": "https://localhost:8080/",
          "height": 206
        }
      },
      "source": [
        "mean_vol_per_ticker = data.groupby('TICKER')['VOL'].agg(numpy.mean).reset_index().sort_values('VOL', ascending=False)\n",
        "mean_vol_per_ticker.head()"
      ],
      "execution_count": 0,
      "outputs": [
        {
          "output_type": "execute_result",
          "data": {
            "text/html": [
              "<div>\n",
              "<style scoped>\n",
              "    .dataframe tbody tr th:only-of-type {\n",
              "        vertical-align: middle;\n",
              "    }\n",
              "\n",
              "    .dataframe tbody tr th {\n",
              "        vertical-align: top;\n",
              "    }\n",
              "\n",
              "    .dataframe thead th {\n",
              "        text-align: right;\n",
              "    }\n",
              "</style>\n",
              "<table border=\"1\" class=\"dataframe\">\n",
              "  <thead>\n",
              "    <tr style=\"text-align: right;\">\n",
              "      <th></th>\n",
              "      <th>TICKER</th>\n",
              "      <th>VOL</th>\n",
              "    </tr>\n",
              "  </thead>\n",
              "  <tbody>\n",
              "    <tr>\n",
              "      <th>894</th>\n",
              "      <td>شاخص_قيمت(هم_وزن6)</td>\n",
              "      <td>1.560700e+09</td>\n",
              "    </tr>\n",
              "    <tr>\n",
              "      <th>895</th>\n",
              "      <td>شاخص_قيمت6</td>\n",
              "      <td>1.559693e+09</td>\n",
              "    </tr>\n",
              "    <tr>\n",
              "      <th>898</th>\n",
              "      <td>شاخص_كل_(هم_وزن)6</td>\n",
              "      <td>1.559693e+09</td>\n",
              "    </tr>\n",
              "    <tr>\n",
              "      <th>889</th>\n",
              "      <td>شاخص_آزاد_شناور6</td>\n",
              "      <td>9.130124e+08</td>\n",
              "    </tr>\n",
              "    <tr>\n",
              "      <th>897</th>\n",
              "      <td>شاخص_كل6</td>\n",
              "      <td>8.711138e+08</td>\n",
              "    </tr>\n",
              "  </tbody>\n",
              "</table>\n",
              "</div>"
            ],
            "text/plain": [
              "                 TICKER           VOL\n",
              "894  شاخص_قيمت(هم_وزن6)  1.560700e+09\n",
              "895          شاخص_قيمت6  1.559693e+09\n",
              "898   شاخص_كل_(هم_وزن)6  1.559693e+09\n",
              "889    شاخص_آزاد_شناور6  9.130124e+08\n",
              "897            شاخص_كل6  8.711138e+08"
            ]
          },
          "metadata": {
            "tags": []
          },
          "execution_count": 4
        }
      ]
    },
    {
      "cell_type": "code",
      "metadata": {
        "id": "WbdnYf-Cvipx",
        "colab_type": "code",
        "outputId": "d64acff1-fbc3-4491-e8c9-c25a4891b1b9",
        "colab": {
          "base_uri": "https://localhost:8080/",
          "height": 35
        }
      },
      "source": [
        "len(mean_vol_per_ticker[ mean_vol_per_ticker['VOL'] != 0 ])"
      ],
      "execution_count": 0,
      "outputs": [
        {
          "output_type": "execute_result",
          "data": {
            "text/plain": [
              "1422"
            ]
          },
          "metadata": {
            "tags": []
          },
          "execution_count": 5
        }
      ]
    },
    {
      "cell_type": "code",
      "metadata": {
        "id": "Sk9OF8SHtiH9",
        "colab_type": "code",
        "outputId": "3c6f4166-f937-4b11-b0a5-02774406d249",
        "colab": {
          "base_uri": "https://localhost:8080/",
          "height": 354
        }
      },
      "source": [
        " five_first_stocks_with_mean_vol = mean_vol_per_ticker.head()\n",
        " index = numpy.arange(len(five_first_stocks_with_mean_vol['TICKER']))\n",
        " plt.bar(index, five_first_stocks_with_mean_vol['VOL'])\n",
        " plt.xlabel('stock', fontsize=10)\n",
        " plt.ylabel('mean vol', fontsize=10)\n",
        " plt.xticks(index, five_first_stocks_with_mean_vol['TICKER'], fontsize=10, rotation=30)\n",
        " plt.title('mean volume in 2001-2020')\n",
        " plt.show()"
      ],
      "execution_count": 0,
      "outputs": [
        {
          "output_type": "display_data",
          "data": {
            "image/png": "[encoded data removed]",
            "text/plain": [
              "<Figure size 432x288 with 1 Axes>"
            ]
          },
          "metadata": {
            "tags": [],
            "needs_background": "light"
          }
        }
      ]
    },
    {
      "cell_type": "code",
      "metadata": {
        "id": "xG-cygZvxfUo",
        "colab_type": "code",
        "outputId": "390a0c45-2eec-4bc9-c435-080be97152d5",
        "colab": {
          "base_uri": "https://localhost:8080/",
          "height": 206
        }
      },
      "source": [
        "data_for_ticker_with_max_mean_vol = data[ data['TICKER'] == mean_vol_per_ticker.head().iloc[0]['TICKER'] ]\n",
        "data_for_ticker_with_max_mean_vol.head()"
      ],
      "execution_count": 0,
      "outputs": [
        {
          "output_type": "execute_result",
          "data": {
            "text/html": [
              "<div>\n",
              "<style scoped>\n",
              "    .dataframe tbody tr th:only-of-type {\n",
              "        vertical-align: middle;\n",
              "    }\n",
              "\n",
              "    .dataframe tbody tr th {\n",
              "        vertical-align: top;\n",
              "    }\n",
              "\n",
              "    .dataframe thead th {\n",
              "        text-align: right;\n",
              "    }\n",
              "</style>\n",
              "<table border=\"1\" class=\"dataframe\">\n",
              "  <thead>\n",
              "    <tr style=\"text-align: right;\">\n",
              "      <th></th>\n",
              "      <th>TICKER</th>\n",
              "      <th>DTYYYYMMDD</th>\n",
              "      <th>OPEN</th>\n",
              "      <th>HIGH</th>\n",
              "      <th>LOW</th>\n",
              "      <th>CLOSE</th>\n",
              "      <th>VOL</th>\n",
              "      <th>VAL</th>\n",
              "      <th>NUM_OF_TRANSACTIONS</th>\n",
              "      <th>CLOSE_ONE_DAY_BEFORE</th>\n",
              "    </tr>\n",
              "  </thead>\n",
              "  <tbody>\n",
              "    <tr>\n",
              "      <th>3004878</th>\n",
              "      <td>شاخص_قيمت(هم_وزن6)</td>\n",
              "      <td>20150224</td>\n",
              "      <td>9198.4</td>\n",
              "      <td>9181.8</td>\n",
              "      <td>9181.8</td>\n",
              "      <td>9181.8</td>\n",
              "      <td>278521094</td>\n",
              "      <td>6.199195e+11</td>\n",
              "      <td>31899</td>\n",
              "      <td>592.6</td>\n",
              "    </tr>\n",
              "    <tr>\n",
              "      <th>3004879</th>\n",
              "      <td>شاخص_قيمت(هم_وزن6)</td>\n",
              "      <td>20150225</td>\n",
              "      <td>9183.3</td>\n",
              "      <td>9109.1</td>\n",
              "      <td>9109.2</td>\n",
              "      <td>9109.1</td>\n",
              "      <td>271188153</td>\n",
              "      <td>5.908300e+11</td>\n",
              "      <td>28391</td>\n",
              "      <td>21957.9</td>\n",
              "    </tr>\n",
              "    <tr>\n",
              "      <th>3004880</th>\n",
              "      <td>شاخص_قيمت(هم_وزن6)</td>\n",
              "      <td>20150228</td>\n",
              "      <td>9111.9</td>\n",
              "      <td>9090.0</td>\n",
              "      <td>9090.0</td>\n",
              "      <td>9090.0</td>\n",
              "      <td>257849083</td>\n",
              "      <td>4.914391e+11</td>\n",
              "      <td>23864</td>\n",
              "      <td>590.0</td>\n",
              "    </tr>\n",
              "    <tr>\n",
              "      <th>3004881</th>\n",
              "      <td>شاخص_قيمت(هم_وزن6)</td>\n",
              "      <td>20150301</td>\n",
              "      <td>9014.4</td>\n",
              "      <td>9030.4</td>\n",
              "      <td>9009.0</td>\n",
              "      <td>9030.4</td>\n",
              "      <td>475683577</td>\n",
              "      <td>1.030119e+12</td>\n",
              "      <td>37612</td>\n",
              "      <td>21635.1</td>\n",
              "    </tr>\n",
              "    <tr>\n",
              "      <th>3004882</th>\n",
              "      <td>شاخص_قيمت(هم_وزن6)</td>\n",
              "      <td>20150302</td>\n",
              "      <td>9034.4</td>\n",
              "      <td>9043.5</td>\n",
              "      <td>9034.4</td>\n",
              "      <td>9043.5</td>\n",
              "      <td>717632564</td>\n",
              "      <td>9.735307e+11</td>\n",
              "      <td>39724</td>\n",
              "      <td>588.2</td>\n",
              "    </tr>\n",
              "  </tbody>\n",
              "</table>\n",
              "</div>"
            ],
            "text/plain": [
              "                     TICKER  ...  CLOSE_ONE_DAY_BEFORE\n",
              "3004878  شاخص_قيمت(هم_وزن6)  ...                 592.6\n",
              "3004879  شاخص_قيمت(هم_وزن6)  ...               21957.9\n",
              "3004880  شاخص_قيمت(هم_وزن6)  ...                 590.0\n",
              "3004881  شاخص_قيمت(هم_وزن6)  ...               21635.1\n",
              "3004882  شاخص_قيمت(هم_وزن6)  ...                 588.2\n",
              "\n",
              "[5 rows x 10 columns]"
            ]
          },
          "metadata": {
            "tags": []
          },
          "execution_count": 7
        }
      ]
    },
    {
      "cell_type": "code",
      "metadata": {
        "id": "QWjZVmwA2XWB",
        "colab_type": "code",
        "outputId": "d34ea902-fd41-45df-d97d-74f7d682dbaf",
        "colab": {
          "base_uri": "https://localhost:8080/",
          "height": 268
        }
      },
      "source": [
        "plt.plot(data_for_ticker_with_max_mean_vol['CLOSE'])\n",
        "plt.ylabel('closing price (in tomans)')\n",
        "plt.title('closing price of stock ' + data_for_ticker_with_max_mean_vol['TICKER'].iloc[0][::-1] + \n",
        "          ' from ' + str(data_for_ticker_with_max_mean_vol['DTYYYYMMDD'].iloc[0]) + ' to ' + str(data_for_ticker_with_max_mean_vol['DTYYYYMMDD'].iloc[len(data_for_ticker_with_max_mean_vol) - 1]))\n",
        "plt.xticks([], labels=\" \")\n",
        "plt.show()"
      ],
      "execution_count": 0,
      "outputs": [
        {
          "output_type": "display_data",
          "data": {
            "image/png": "[encoded data removed]",
            "text/plain": [
              "<Figure size 432x288 with 1 Axes>"
            ]
          },
          "metadata": {
            "tags": [],
            "needs_background": "light"
          }
        }
      ]
    },
    {
      "cell_type": "code",
      "metadata": {
        "id": "a8vM2kzK3vQK",
        "colab_type": "code",
        "outputId": "729d5181-a609-4641-9413-5a0668370e99",
        "colab": {
          "base_uri": "https://localhost:8080/",
          "height": 394
        }
      },
      "source": [
        "data.groupby('TICKER').agg({'DTYYYYMMDD': ['min', 'max', 'count'], 'VOL': ['mean']}).reset_index().sort_values(('DTYYYYMMDD', 'count'), ascending=False).head(10)"
      ],
      "execution_count": 0,
      "outputs": [
        {
          "output_type": "execute_result",
          "data": {
            "text/html": [
              "<div>\n",
              "<style scoped>\n",
              "    .dataframe tbody tr th:only-of-type {\n",
              "        vertical-align: middle;\n",
              "    }\n",
              "\n",
              "    .dataframe tbody tr th {\n",
              "        vertical-align: top;\n",
              "    }\n",
              "\n",
              "    .dataframe thead tr th {\n",
              "        text-align: left;\n",
              "    }\n",
              "</style>\n",
              "<table border=\"1\" class=\"dataframe\">\n",
              "  <thead>\n",
              "    <tr>\n",
              "      <th></th>\n",
              "      <th>TICKER</th>\n",
              "      <th colspan=\"3\" halign=\"left\">DTYYYYMMDD</th>\n",
              "      <th>VOL</th>\n",
              "    </tr>\n",
              "    <tr>\n",
              "      <th></th>\n",
              "      <th></th>\n",
              "      <th>min</th>\n",
              "      <th>max</th>\n",
              "      <th>count</th>\n",
              "      <th>mean</th>\n",
              "    </tr>\n",
              "  </thead>\n",
              "  <tbody>\n",
              "    <tr>\n",
              "      <th>1616</th>\n",
              "      <td>وپترو</td>\n",
              "      <td>20010325</td>\n",
              "      <td>20200413</td>\n",
              "      <td>4366</td>\n",
              "      <td>2.323352e+06</td>\n",
              "    </tr>\n",
              "    <tr>\n",
              "      <th>1522</th>\n",
              "      <td>وساخت</td>\n",
              "      <td>20010325</td>\n",
              "      <td>20200413</td>\n",
              "      <td>4356</td>\n",
              "      <td>1.464725e+06</td>\n",
              "    </tr>\n",
              "    <tr>\n",
              "      <th>56</th>\n",
              "      <td>آريان</td>\n",
              "      <td>20101006</td>\n",
              "      <td>20200413</td>\n",
              "      <td>4347</td>\n",
              "      <td>2.723661e+06</td>\n",
              "    </tr>\n",
              "    <tr>\n",
              "      <th>624</th>\n",
              "      <td>خودرو</td>\n",
              "      <td>20010325</td>\n",
              "      <td>20200413</td>\n",
              "      <td>4340</td>\n",
              "      <td>1.123416e+07</td>\n",
              "    </tr>\n",
              "    <tr>\n",
              "      <th>1539</th>\n",
              "      <td>وسپه</td>\n",
              "      <td>20010327</td>\n",
              "      <td>20200413</td>\n",
              "      <td>4323</td>\n",
              "      <td>2.620691e+06</td>\n",
              "    </tr>\n",
              "    <tr>\n",
              "      <th>753</th>\n",
              "      <td>زنجان</td>\n",
              "      <td>20110105</td>\n",
              "      <td>20200413</td>\n",
              "      <td>4318</td>\n",
              "      <td>9.637195e+05</td>\n",
              "    </tr>\n",
              "    <tr>\n",
              "      <th>567</th>\n",
              "      <td>خبهمن</td>\n",
              "      <td>20010407</td>\n",
              "      <td>20200413</td>\n",
              "      <td>4315</td>\n",
              "      <td>6.061205e+06</td>\n",
              "    </tr>\n",
              "    <tr>\n",
              "      <th>1603</th>\n",
              "      <td>ونيكي</td>\n",
              "      <td>20010407</td>\n",
              "      <td>20200413</td>\n",
              "      <td>4302</td>\n",
              "      <td>1.712802e+06</td>\n",
              "    </tr>\n",
              "    <tr>\n",
              "      <th>900</th>\n",
              "      <td>شاراك</td>\n",
              "      <td>20010327</td>\n",
              "      <td>20200413</td>\n",
              "      <td>4298</td>\n",
              "      <td>2.342162e+06</td>\n",
              "    </tr>\n",
              "    <tr>\n",
              "      <th>1474</th>\n",
              "      <td>وبشهر</td>\n",
              "      <td>20010325</td>\n",
              "      <td>20200413</td>\n",
              "      <td>4291</td>\n",
              "      <td>2.265908e+06</td>\n",
              "    </tr>\n",
              "  </tbody>\n",
              "</table>\n",
              "</div>"
            ],
            "text/plain": [
              "     TICKER DTYYYYMMDD                           VOL\n",
              "                   min       max count          mean\n",
              "1616  وپترو   20010325  20200413  4366  2.323352e+06\n",
              "1522  وساخت   20010325  20200413  4356  1.464725e+06\n",
              "56    آريان   20101006  20200413  4347  2.723661e+06\n",
              "624   خودرو   20010325  20200413  4340  1.123416e+07\n",
              "1539   وسپه   20010327  20200413  4323  2.620691e+06\n",
              "753   زنجان   20110105  20200413  4318  9.637195e+05\n",
              "567   خبهمن   20010407  20200413  4315  6.061205e+06\n",
              "1603  ونيكي   20010407  20200413  4302  1.712802e+06\n",
              "900   شاراك   20010327  20200413  4298  2.342162e+06\n",
              "1474  وبشهر   20010325  20200413  4291  2.265908e+06"
            ]
          },
          "metadata": {
            "tags": []
          },
          "execution_count": 9
        }
      ]
    },
    {
      "cell_type": "code",
      "metadata": {
        "id": "hFqjcx9x0OKY",
        "colab_type": "code",
        "colab": {}
      },
      "source": [
        ""
      ],
      "execution_count": 0,
      "outputs": []
    }
  ]
}