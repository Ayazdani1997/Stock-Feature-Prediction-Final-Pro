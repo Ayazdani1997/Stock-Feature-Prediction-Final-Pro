{
  "nbformat": 4,
  "nbformat_minor": 0,
  "metadata": {
    "colab": {
      "name": "Phase1 OCHLV.ipynb",
      "provenance": [],
      "collapsed_sections": [],
      "machine_shape": "hm",
      "authorship_tag": "ABX9TyP39LvAf8txUok7fpOXYY6Y",
      "include_colab_link": true
    },
    "kernelspec": {
      "name": "python3",
      "display_name": "Python 3"
    },
    "accelerator": "GPU"
  },
  "cells": [
    {
      "cell_type": "markdown",
      "metadata": {
        "id": "view-in-github",
        "colab_type": "text"
      },
      "source": [
        "<a href=\"https://colab.research.google.com/github/Ayazdani1997/stock-feature-prediction-final-pro/blob/master/Phase1_OCHLV.ipynb\" target=\"_parent\"><img src=\"https://colab.research.google.com/assets/colab-badge.svg\" alt=\"Open In Colab\"/></a>"
      ]
    },
    {
      "cell_type": "code",
      "metadata": {
        "id": "RA5xnKo5dv0y",
        "colab_type": "code",
        "outputId": "79e09a33-6bfa-4860-c703-a2d89755d841",
        "colab": {
          "base_uri": "https://localhost:8080/",
          "height": 1000
        }
      },
      "source": [
        "!pip install pandas\n",
        "!pip install tensorflow\n",
        "!pip install tensorflow-gpu"
      ],
      "execution_count": 1,
      "outputs": [
        {
          "output_type": "stream",
          "text": [
            "Requirement already satisfied: pandas in /usr/local/lib/python3.6/dist-packages (1.0.3)\n",
            "Requirement already satisfied: python-dateutil>=2.6.1 in /usr/local/lib/python3.6/dist-packages (from pandas) (2.8.1)\n",
            "Requirement already satisfied: pytz>=2017.2 in /usr/local/lib/python3.6/dist-packages (from pandas) (2018.9)\n",
            "Requirement already satisfied: numpy>=1.13.3 in /usr/local/lib/python3.6/dist-packages (from pandas) (1.18.4)\n",
            "Requirement already satisfied: six>=1.5 in /usr/local/lib/python3.6/dist-packages (from python-dateutil>=2.6.1->pandas) (1.12.0)\n",
            "Requirement already satisfied: tensorflow in /usr/local/lib/python3.6/dist-packages (2.2.0)\n",
            "Requirement already satisfied: astunparse==1.6.3 in /usr/local/lib/python3.6/dist-packages (from tensorflow) (1.6.3)\n",
            "Requirement already satisfied: absl-py>=0.7.0 in /usr/local/lib/python3.6/dist-packages (from tensorflow) (0.9.0)\n",
            "Requirement already satisfied: protobuf>=3.8.0 in /usr/local/lib/python3.6/dist-packages (from tensorflow) (3.10.0)\n",
            "Requirement already satisfied: grpcio>=1.8.6 in /usr/local/lib/python3.6/dist-packages (from tensorflow) (1.28.1)\n",
            "Requirement already satisfied: wheel>=0.26; python_version >= \"3\" in /usr/local/lib/python3.6/dist-packages (from tensorflow) (0.34.2)\n",
            "Requirement already satisfied: wrapt>=1.11.1 in /usr/local/lib/python3.6/dist-packages (from tensorflow) (1.12.1)\n",
            "Requirement already satisfied: google-pasta>=0.1.8 in /usr/local/lib/python3.6/dist-packages (from tensorflow) (0.2.0)\n",
            "Requirement already satisfied: gast==0.3.3 in /usr/local/lib/python3.6/dist-packages (from tensorflow) (0.3.3)\n",
            "Requirement already satisfied: tensorflow-estimator<2.3.0,>=2.2.0 in /usr/local/lib/python3.6/dist-packages (from tensorflow) (2.2.0)\n",
            "Requirement already satisfied: termcolor>=1.1.0 in /usr/local/lib/python3.6/dist-packages (from tensorflow) (1.1.0)\n",
            "Requirement already satisfied: h5py<2.11.0,>=2.10.0 in /usr/local/lib/python3.6/dist-packages (from tensorflow) (2.10.0)\n",
            "Requirement already satisfied: scipy==1.4.1; python_version >= \"3\" in /usr/local/lib/python3.6/dist-packages (from tensorflow) (1.4.1)\n",
            "Requirement already satisfied: opt-einsum>=2.3.2 in /usr/local/lib/python3.6/dist-packages (from tensorflow) (3.2.1)\n",
            "Requirement already satisfied: six>=1.12.0 in /usr/local/lib/python3.6/dist-packages (from tensorflow) (1.12.0)\n",
            "Requirement already satisfied: numpy<2.0,>=1.16.0 in /usr/local/lib/python3.6/dist-packages (from tensorflow) (1.18.4)\n",
            "Requirement already satisfied: tensorboard<2.3.0,>=2.2.0 in /usr/local/lib/python3.6/dist-packages (from tensorflow) (2.2.1)\n",
            "Requirement already satisfied: keras-preprocessing>=1.1.0 in /usr/local/lib/python3.6/dist-packages (from tensorflow) (1.1.0)\n",
            "Requirement already satisfied: setuptools in /usr/local/lib/python3.6/dist-packages (from protobuf>=3.8.0->tensorflow) (46.1.3)\n",
            "Requirement already satisfied: google-auth-oauthlib<0.5,>=0.4.1 in /usr/local/lib/python3.6/dist-packages (from tensorboard<2.3.0,>=2.2.0->tensorflow) (0.4.1)\n",
            "Requirement already satisfied: google-auth<2,>=1.6.3 in /usr/local/lib/python3.6/dist-packages (from tensorboard<2.3.0,>=2.2.0->tensorflow) (1.7.2)\n",
            "Requirement already satisfied: requests<3,>=2.21.0 in /usr/local/lib/python3.6/dist-packages (from tensorboard<2.3.0,>=2.2.0->tensorflow) (2.23.0)\n",
            "Requirement already satisfied: markdown>=2.6.8 in /usr/local/lib/python3.6/dist-packages (from tensorboard<2.3.0,>=2.2.0->tensorflow) (3.2.1)\n",
            "Requirement already satisfied: tensorboard-plugin-wit>=1.6.0 in /usr/local/lib/python3.6/dist-packages (from tensorboard<2.3.0,>=2.2.0->tensorflow) (1.6.0.post3)\n",
            "Requirement already satisfied: werkzeug>=0.11.15 in /usr/local/lib/python3.6/dist-packages (from tensorboard<2.3.0,>=2.2.0->tensorflow) (1.0.1)\n",
            "Requirement already satisfied: requests-oauthlib>=0.7.0 in /usr/local/lib/python3.6/dist-packages (from google-auth-oauthlib<0.5,>=0.4.1->tensorboard<2.3.0,>=2.2.0->tensorflow) (1.3.0)\n",
            "Requirement already satisfied: pyasn1-modules>=0.2.1 in /usr/local/lib/python3.6/dist-packages (from google-auth<2,>=1.6.3->tensorboard<2.3.0,>=2.2.0->tensorflow) (0.2.8)\n",
            "Requirement already satisfied: cachetools<3.2,>=2.0.0 in /usr/local/lib/python3.6/dist-packages (from google-auth<2,>=1.6.3->tensorboard<2.3.0,>=2.2.0->tensorflow) (3.1.1)\n",
            "Requirement already satisfied: rsa<4.1,>=3.1.4 in /usr/local/lib/python3.6/dist-packages (from google-auth<2,>=1.6.3->tensorboard<2.3.0,>=2.2.0->tensorflow) (4.0)\n",
            "Requirement already satisfied: idna<3,>=2.5 in /usr/local/lib/python3.6/dist-packages (from requests<3,>=2.21.0->tensorboard<2.3.0,>=2.2.0->tensorflow) (2.9)\n",
            "Requirement already satisfied: chardet<4,>=3.0.2 in /usr/local/lib/python3.6/dist-packages (from requests<3,>=2.21.0->tensorboard<2.3.0,>=2.2.0->tensorflow) (3.0.4)\n",
            "Requirement already satisfied: certifi>=2017.4.17 in /usr/local/lib/python3.6/dist-packages (from requests<3,>=2.21.0->tensorboard<2.3.0,>=2.2.0->tensorflow) (2020.4.5.1)\n",
            "Requirement already satisfied: urllib3!=1.25.0,!=1.25.1,<1.26,>=1.21.1 in /usr/local/lib/python3.6/dist-packages (from requests<3,>=2.21.0->tensorboard<2.3.0,>=2.2.0->tensorflow) (1.24.3)\n",
            "Requirement already satisfied: oauthlib>=3.0.0 in /usr/local/lib/python3.6/dist-packages (from requests-oauthlib>=0.7.0->google-auth-oauthlib<0.5,>=0.4.1->tensorboard<2.3.0,>=2.2.0->tensorflow) (3.1.0)\n",
            "Requirement already satisfied: pyasn1<0.5.0,>=0.4.6 in /usr/local/lib/python3.6/dist-packages (from pyasn1-modules>=0.2.1->google-auth<2,>=1.6.3->tensorboard<2.3.0,>=2.2.0->tensorflow) (0.4.8)\n",
            "Collecting tensorflow-gpu\n",
            "\u001b[?25l  Downloading https://files.pythonhosted.org/packages/31/bf/c28971266ca854a64f4b26f07c4112ddd61f30b4d1f18108b954a746f8ea/tensorflow_gpu-2.2.0-cp36-cp36m-manylinux2010_x86_64.whl (516.2MB)\n",
            "\u001b[K     |████████████████████████████████| 516.2MB 31kB/s \n",
            "\u001b[?25hRequirement already satisfied: h5py<2.11.0,>=2.10.0 in /usr/local/lib/python3.6/dist-packages (from tensorflow-gpu) (2.10.0)\n",
            "Requirement already satisfied: grpcio>=1.8.6 in /usr/local/lib/python3.6/dist-packages (from tensorflow-gpu) (1.28.1)\n",
            "Requirement already satisfied: numpy<2.0,>=1.16.0 in /usr/local/lib/python3.6/dist-packages (from tensorflow-gpu) (1.18.4)\n",
            "Requirement already satisfied: google-pasta>=0.1.8 in /usr/local/lib/python3.6/dist-packages (from tensorflow-gpu) (0.2.0)\n",
            "Requirement already satisfied: absl-py>=0.7.0 in /usr/local/lib/python3.6/dist-packages (from tensorflow-gpu) (0.9.0)\n",
            "Requirement already satisfied: gast==0.3.3 in /usr/local/lib/python3.6/dist-packages (from tensorflow-gpu) (0.3.3)\n",
            "Requirement already satisfied: tensorboard<2.3.0,>=2.2.0 in /usr/local/lib/python3.6/dist-packages (from tensorflow-gpu) (2.2.1)\n",
            "Requirement already satisfied: wheel>=0.26; python_version >= \"3\" in /usr/local/lib/python3.6/dist-packages (from tensorflow-gpu) (0.34.2)\n",
            "Requirement already satisfied: keras-preprocessing>=1.1.0 in /usr/local/lib/python3.6/dist-packages (from tensorflow-gpu) (1.1.0)\n",
            "Requirement already satisfied: six>=1.12.0 in /usr/local/lib/python3.6/dist-packages (from tensorflow-gpu) (1.12.0)\n",
            "Requirement already satisfied: tensorflow-estimator<2.3.0,>=2.2.0 in /usr/local/lib/python3.6/dist-packages (from tensorflow-gpu) (2.2.0)\n",
            "Requirement already satisfied: protobuf>=3.8.0 in /usr/local/lib/python3.6/dist-packages (from tensorflow-gpu) (3.10.0)\n",
            "Requirement already satisfied: scipy==1.4.1; python_version >= \"3\" in /usr/local/lib/python3.6/dist-packages (from tensorflow-gpu) (1.4.1)\n",
            "Requirement already satisfied: astunparse==1.6.3 in /usr/local/lib/python3.6/dist-packages (from tensorflow-gpu) (1.6.3)\n",
            "Requirement already satisfied: opt-einsum>=2.3.2 in /usr/local/lib/python3.6/dist-packages (from tensorflow-gpu) (3.2.1)\n",
            "Requirement already satisfied: wrapt>=1.11.1 in /usr/local/lib/python3.6/dist-packages (from tensorflow-gpu) (1.12.1)\n",
            "Requirement already satisfied: termcolor>=1.1.0 in /usr/local/lib/python3.6/dist-packages (from tensorflow-gpu) (1.1.0)\n",
            "Requirement already satisfied: markdown>=2.6.8 in /usr/local/lib/python3.6/dist-packages (from tensorboard<2.3.0,>=2.2.0->tensorflow-gpu) (3.2.1)\n",
            "Requirement already satisfied: requests<3,>=2.21.0 in /usr/local/lib/python3.6/dist-packages (from tensorboard<2.3.0,>=2.2.0->tensorflow-gpu) (2.23.0)\n",
            "Requirement already satisfied: setuptools>=41.0.0 in /usr/local/lib/python3.6/dist-packages (from tensorboard<2.3.0,>=2.2.0->tensorflow-gpu) (46.1.3)\n",
            "Requirement already satisfied: google-auth-oauthlib<0.5,>=0.4.1 in /usr/local/lib/python3.6/dist-packages (from tensorboard<2.3.0,>=2.2.0->tensorflow-gpu) (0.4.1)\n",
            "Requirement already satisfied: google-auth<2,>=1.6.3 in /usr/local/lib/python3.6/dist-packages (from tensorboard<2.3.0,>=2.2.0->tensorflow-gpu) (1.7.2)\n",
            "Requirement already satisfied: tensorboard-plugin-wit>=1.6.0 in /usr/local/lib/python3.6/dist-packages (from tensorboard<2.3.0,>=2.2.0->tensorflow-gpu) (1.6.0.post3)\n",
            "Requirement already satisfied: werkzeug>=0.11.15 in /usr/local/lib/python3.6/dist-packages (from tensorboard<2.3.0,>=2.2.0->tensorflow-gpu) (1.0.1)\n",
            "Requirement already satisfied: certifi>=2017.4.17 in /usr/local/lib/python3.6/dist-packages (from requests<3,>=2.21.0->tensorboard<2.3.0,>=2.2.0->tensorflow-gpu) (2020.4.5.1)\n",
            "Requirement already satisfied: idna<3,>=2.5 in /usr/local/lib/python3.6/dist-packages (from requests<3,>=2.21.0->tensorboard<2.3.0,>=2.2.0->tensorflow-gpu) (2.9)\n",
            "Requirement already satisfied: chardet<4,>=3.0.2 in /usr/local/lib/python3.6/dist-packages (from requests<3,>=2.21.0->tensorboard<2.3.0,>=2.2.0->tensorflow-gpu) (3.0.4)\n",
            "Requirement already satisfied: urllib3!=1.25.0,!=1.25.1,<1.26,>=1.21.1 in /usr/local/lib/python3.6/dist-packages (from requests<3,>=2.21.0->tensorboard<2.3.0,>=2.2.0->tensorflow-gpu) (1.24.3)\n",
            "Requirement already satisfied: requests-oauthlib>=0.7.0 in /usr/local/lib/python3.6/dist-packages (from google-auth-oauthlib<0.5,>=0.4.1->tensorboard<2.3.0,>=2.2.0->tensorflow-gpu) (1.3.0)\n",
            "Requirement already satisfied: rsa<4.1,>=3.1.4 in /usr/local/lib/python3.6/dist-packages (from google-auth<2,>=1.6.3->tensorboard<2.3.0,>=2.2.0->tensorflow-gpu) (4.0)\n",
            "Requirement already satisfied: cachetools<3.2,>=2.0.0 in /usr/local/lib/python3.6/dist-packages (from google-auth<2,>=1.6.3->tensorboard<2.3.0,>=2.2.0->tensorflow-gpu) (3.1.1)\n",
            "Requirement already satisfied: pyasn1-modules>=0.2.1 in /usr/local/lib/python3.6/dist-packages (from google-auth<2,>=1.6.3->tensorboard<2.3.0,>=2.2.0->tensorflow-gpu) (0.2.8)\n",
            "Requirement already satisfied: oauthlib>=3.0.0 in /usr/local/lib/python3.6/dist-packages (from requests-oauthlib>=0.7.0->google-auth-oauthlib<0.5,>=0.4.1->tensorboard<2.3.0,>=2.2.0->tensorflow-gpu) (3.1.0)\n",
            "Requirement already satisfied: pyasn1>=0.1.3 in /usr/local/lib/python3.6/dist-packages (from rsa<4.1,>=3.1.4->google-auth<2,>=1.6.3->tensorboard<2.3.0,>=2.2.0->tensorflow-gpu) (0.4.8)\n",
            "Installing collected packages: tensorflow-gpu\n",
            "Successfully installed tensorflow-gpu-2.2.0\n"
          ],
          "name": "stdout"
        }
      ]
    },
    {
      "cell_type": "code",
      "metadata": {
        "id": "aAhjCUVLCg_v",
        "colab_type": "code",
        "outputId": "d00840ff-fd7d-47f4-ed98-1833ffbb7563",
        "colab": {
          "base_uri": "https://localhost:8080/",
          "height": 680
        }
      },
      "source": [
        "pip install --upgrade tensorflow-gpu"
      ],
      "execution_count": 2,
      "outputs": [
        {
          "output_type": "stream",
          "text": [
            "Requirement already up-to-date: tensorflow-gpu in /usr/local/lib/python3.6/dist-packages (2.2.0)\n",
            "Requirement already satisfied, skipping upgrade: tensorflow-estimator<2.3.0,>=2.2.0 in /usr/local/lib/python3.6/dist-packages (from tensorflow-gpu) (2.2.0)\n",
            "Requirement already satisfied, skipping upgrade: protobuf>=3.8.0 in /usr/local/lib/python3.6/dist-packages (from tensorflow-gpu) (3.10.0)\n",
            "Requirement already satisfied, skipping upgrade: absl-py>=0.7.0 in /usr/local/lib/python3.6/dist-packages (from tensorflow-gpu) (0.9.0)\n",
            "Requirement already satisfied, skipping upgrade: google-pasta>=0.1.8 in /usr/local/lib/python3.6/dist-packages (from tensorflow-gpu) (0.2.0)\n",
            "Requirement already satisfied, skipping upgrade: numpy<2.0,>=1.16.0 in /usr/local/lib/python3.6/dist-packages (from tensorflow-gpu) (1.18.4)\n",
            "Requirement already satisfied, skipping upgrade: opt-einsum>=2.3.2 in /usr/local/lib/python3.6/dist-packages (from tensorflow-gpu) (3.2.1)\n",
            "Requirement already satisfied, skipping upgrade: grpcio>=1.8.6 in /usr/local/lib/python3.6/dist-packages (from tensorflow-gpu) (1.28.1)\n",
            "Requirement already satisfied, skipping upgrade: h5py<2.11.0,>=2.10.0 in /usr/local/lib/python3.6/dist-packages (from tensorflow-gpu) (2.10.0)\n",
            "Requirement already satisfied, skipping upgrade: tensorboard<2.3.0,>=2.2.0 in /usr/local/lib/python3.6/dist-packages (from tensorflow-gpu) (2.2.1)\n",
            "Requirement already satisfied, skipping upgrade: wheel>=0.26; python_version >= \"3\" in /usr/local/lib/python3.6/dist-packages (from tensorflow-gpu) (0.34.2)\n",
            "Requirement already satisfied, skipping upgrade: six>=1.12.0 in /usr/local/lib/python3.6/dist-packages (from tensorflow-gpu) (1.12.0)\n",
            "Requirement already satisfied, skipping upgrade: keras-preprocessing>=1.1.0 in /usr/local/lib/python3.6/dist-packages (from tensorflow-gpu) (1.1.0)\n",
            "Requirement already satisfied, skipping upgrade: astunparse==1.6.3 in /usr/local/lib/python3.6/dist-packages (from tensorflow-gpu) (1.6.3)\n",
            "Requirement already satisfied, skipping upgrade: wrapt>=1.11.1 in /usr/local/lib/python3.6/dist-packages (from tensorflow-gpu) (1.12.1)\n",
            "Requirement already satisfied, skipping upgrade: scipy==1.4.1; python_version >= \"3\" in /usr/local/lib/python3.6/dist-packages (from tensorflow-gpu) (1.4.1)\n",
            "Requirement already satisfied, skipping upgrade: termcolor>=1.1.0 in /usr/local/lib/python3.6/dist-packages (from tensorflow-gpu) (1.1.0)\n",
            "Requirement already satisfied, skipping upgrade: gast==0.3.3 in /usr/local/lib/python3.6/dist-packages (from tensorflow-gpu) (0.3.3)\n",
            "Requirement already satisfied, skipping upgrade: setuptools in /usr/local/lib/python3.6/dist-packages (from protobuf>=3.8.0->tensorflow-gpu) (46.1.3)\n",
            "Requirement already satisfied, skipping upgrade: markdown>=2.6.8 in /usr/local/lib/python3.6/dist-packages (from tensorboard<2.3.0,>=2.2.0->tensorflow-gpu) (3.2.1)\n",
            "Requirement already satisfied, skipping upgrade: google-auth-oauthlib<0.5,>=0.4.1 in /usr/local/lib/python3.6/dist-packages (from tensorboard<2.3.0,>=2.2.0->tensorflow-gpu) (0.4.1)\n",
            "Requirement already satisfied, skipping upgrade: werkzeug>=0.11.15 in /usr/local/lib/python3.6/dist-packages (from tensorboard<2.3.0,>=2.2.0->tensorflow-gpu) (1.0.1)\n",
            "Requirement already satisfied, skipping upgrade: tensorboard-plugin-wit>=1.6.0 in /usr/local/lib/python3.6/dist-packages (from tensorboard<2.3.0,>=2.2.0->tensorflow-gpu) (1.6.0.post3)\n",
            "Requirement already satisfied, skipping upgrade: google-auth<2,>=1.6.3 in /usr/local/lib/python3.6/dist-packages (from tensorboard<2.3.0,>=2.2.0->tensorflow-gpu) (1.7.2)\n",
            "Requirement already satisfied, skipping upgrade: requests<3,>=2.21.0 in /usr/local/lib/python3.6/dist-packages (from tensorboard<2.3.0,>=2.2.0->tensorflow-gpu) (2.23.0)\n",
            "Requirement already satisfied, skipping upgrade: requests-oauthlib>=0.7.0 in /usr/local/lib/python3.6/dist-packages (from google-auth-oauthlib<0.5,>=0.4.1->tensorboard<2.3.0,>=2.2.0->tensorflow-gpu) (1.3.0)\n",
            "Requirement already satisfied, skipping upgrade: pyasn1-modules>=0.2.1 in /usr/local/lib/python3.6/dist-packages (from google-auth<2,>=1.6.3->tensorboard<2.3.0,>=2.2.0->tensorflow-gpu) (0.2.8)\n",
            "Requirement already satisfied, skipping upgrade: rsa<4.1,>=3.1.4 in /usr/local/lib/python3.6/dist-packages (from google-auth<2,>=1.6.3->tensorboard<2.3.0,>=2.2.0->tensorflow-gpu) (4.0)\n",
            "Requirement already satisfied, skipping upgrade: cachetools<3.2,>=2.0.0 in /usr/local/lib/python3.6/dist-packages (from google-auth<2,>=1.6.3->tensorboard<2.3.0,>=2.2.0->tensorflow-gpu) (3.1.1)\n",
            "Requirement already satisfied, skipping upgrade: urllib3!=1.25.0,!=1.25.1,<1.26,>=1.21.1 in /usr/local/lib/python3.6/dist-packages (from requests<3,>=2.21.0->tensorboard<2.3.0,>=2.2.0->tensorflow-gpu) (1.24.3)\n",
            "Requirement already satisfied, skipping upgrade: idna<3,>=2.5 in /usr/local/lib/python3.6/dist-packages (from requests<3,>=2.21.0->tensorboard<2.3.0,>=2.2.0->tensorflow-gpu) (2.9)\n",
            "Requirement already satisfied, skipping upgrade: certifi>=2017.4.17 in /usr/local/lib/python3.6/dist-packages (from requests<3,>=2.21.0->tensorboard<2.3.0,>=2.2.0->tensorflow-gpu) (2020.4.5.1)\n",
            "Requirement already satisfied, skipping upgrade: chardet<4,>=3.0.2 in /usr/local/lib/python3.6/dist-packages (from requests<3,>=2.21.0->tensorboard<2.3.0,>=2.2.0->tensorflow-gpu) (3.0.4)\n",
            "Requirement already satisfied, skipping upgrade: oauthlib>=3.0.0 in /usr/local/lib/python3.6/dist-packages (from requests-oauthlib>=0.7.0->google-auth-oauthlib<0.5,>=0.4.1->tensorboard<2.3.0,>=2.2.0->tensorflow-gpu) (3.1.0)\n",
            "Requirement already satisfied, skipping upgrade: pyasn1<0.5.0,>=0.4.6 in /usr/local/lib/python3.6/dist-packages (from pyasn1-modules>=0.2.1->google-auth<2,>=1.6.3->tensorboard<2.3.0,>=2.2.0->tensorflow-gpu) (0.4.8)\n"
          ],
          "name": "stdout"
        }
      ]
    },
    {
      "cell_type": "code",
      "metadata": {
        "id": "JI4WocjUdcHG",
        "colab_type": "code",
        "outputId": "0906c533-5bf4-41c2-9bfd-d4bdbffe8328",
        "colab": {
          "base_uri": "https://localhost:8080/",
          "height": 147
        }
      },
      "source": [
        "import tensorflow\n",
        "import tensorflow.keras as keras\n",
        "\n",
        "from keras.models import Sequential\n",
        "from keras.layers import LSTM\n",
        "from keras.layers import Dense, Activation, Dropout\n",
        "from keras.layers import BatchNormalization\n",
        "from keras.metrics import BinaryAccuracy\n",
        "from keras import optimizers\n",
        "\n",
        "\n",
        "import pandas\n",
        "import matplotlib.pyplot as plt\n",
        "from google.colab import drive\n",
        "from os.path import join\n",
        "import numpy\n",
        "\n",
        "ROOT = '/content/drive'\n",
        "drive.mount(ROOT)\n",
        "HOME = join(ROOT,'My Drive')\n",
        "COLAB_DIR = join(HOME, 'Colab Notebooks')\n",
        "data = pandas.read_csv(join(COLAB_DIR, 'data.csv'), encoding='utf-16')"
      ],
      "execution_count": 3,
      "outputs": [
        {
          "output_type": "stream",
          "text": [
            "Using TensorFlow backend.\n"
          ],
          "name": "stderr"
        },
        {
          "output_type": "stream",
          "text": [
            "Go to this URL in a browser: https://accounts.google.com/o/oauth2/auth?client_id=947318989803-6bn6qk8qdgf4n4g3pfee6491hc0brc4i.apps.googleusercontent.com&redirect_uri=urn%3aietf%3awg%3aoauth%3a2.0%3aoob&response_type=code&scope=email%20https%3a%2f%2fwww.googleapis.com%2fauth%2fdocs.test%20https%3a%2f%2fwww.googleapis.com%2fauth%2fdrive%20https%3a%2f%2fwww.googleapis.com%2fauth%2fdrive.photos.readonly%20https%3a%2f%2fwww.googleapis.com%2fauth%2fpeopleapi.readonly\n",
            "\n",
            "Enter your authorization code:\n",
            "··········\n",
            "Mounted at /content/drive\n"
          ],
          "name": "stdout"
        }
      ]
    },
    {
      "cell_type": "code",
      "metadata": {
        "id": "S2Sg8tkYdxxn",
        "colab_type": "code",
        "colab": {}
      },
      "source": [
        "data = data.drop(['Unnamed: 0', 'VAL', 'NUM_OF_TRANSACTIONS','CLOSE_ONE_DAY_BEFORE'], axis=1).rename(columns={'DTYYYYMMDD': 'DATE'})\n",
        "data['DATE'] = pandas.to_datetime(data['DATE'],format='%Y%m%d')"
      ],
      "execution_count": 0,
      "outputs": []
    },
    {
      "cell_type": "code",
      "metadata": {
        "id": "y9Kqk0OWSCUc",
        "colab_type": "code",
        "outputId": "8d631864-6c9f-4983-c9dd-853c2d53c0c4",
        "colab": {
          "base_uri": "https://localhost:8080/",
          "height": 363
        }
      },
      "source": [
        "labels = pandas.DataFrame()\n",
        "labels['CLASS'] = numpy.where(data['CLOSE'] > data['CLOSE'].shift(1), 1.0, 0.0)\n",
        "labels['DATE'] = data['DATE'].copy()\n",
        "labels['TICKER'] = data['TICKER'].copy()\n",
        "labels.head(10)"
      ],
      "execution_count": 5,
      "outputs": [
        {
          "output_type": "execute_result",
          "data": {
            "text/html": [
              "<div>\n",
              "<style scoped>\n",
              "    .dataframe tbody tr th:only-of-type {\n",
              "        vertical-align: middle;\n",
              "    }\n",
              "\n",
              "    .dataframe tbody tr th {\n",
              "        vertical-align: top;\n",
              "    }\n",
              "\n",
              "    .dataframe thead th {\n",
              "        text-align: right;\n",
              "    }\n",
              "</style>\n",
              "<table border=\"1\" class=\"dataframe\">\n",
              "  <thead>\n",
              "    <tr style=\"text-align: right;\">\n",
              "      <th></th>\n",
              "      <th>CLASS</th>\n",
              "      <th>DATE</th>\n",
              "      <th>TICKER</th>\n",
              "    </tr>\n",
              "  </thead>\n",
              "  <tbody>\n",
              "    <tr>\n",
              "      <th>0</th>\n",
              "      <td>0.0</td>\n",
              "      <td>2019-11-20</td>\n",
              "      <td>مظنه</td>\n",
              "    </tr>\n",
              "    <tr>\n",
              "      <th>1</th>\n",
              "      <td>0.0</td>\n",
              "      <td>2019-11-23</td>\n",
              "      <td>مظنه</td>\n",
              "    </tr>\n",
              "    <tr>\n",
              "      <th>2</th>\n",
              "      <td>0.0</td>\n",
              "      <td>2019-11-24</td>\n",
              "      <td>مظنه</td>\n",
              "    </tr>\n",
              "    <tr>\n",
              "      <th>3</th>\n",
              "      <td>0.0</td>\n",
              "      <td>2019-11-25</td>\n",
              "      <td>مظنه</td>\n",
              "    </tr>\n",
              "    <tr>\n",
              "      <th>4</th>\n",
              "      <td>0.0</td>\n",
              "      <td>2019-11-26</td>\n",
              "      <td>مظنه</td>\n",
              "    </tr>\n",
              "    <tr>\n",
              "      <th>5</th>\n",
              "      <td>0.0</td>\n",
              "      <td>2019-11-27</td>\n",
              "      <td>مظنه</td>\n",
              "    </tr>\n",
              "    <tr>\n",
              "      <th>6</th>\n",
              "      <td>0.0</td>\n",
              "      <td>2019-11-30</td>\n",
              "      <td>مظنه</td>\n",
              "    </tr>\n",
              "    <tr>\n",
              "      <th>7</th>\n",
              "      <td>0.0</td>\n",
              "      <td>2019-12-01</td>\n",
              "      <td>مظنه</td>\n",
              "    </tr>\n",
              "    <tr>\n",
              "      <th>8</th>\n",
              "      <td>0.0</td>\n",
              "      <td>2019-12-02</td>\n",
              "      <td>مظنه</td>\n",
              "    </tr>\n",
              "    <tr>\n",
              "      <th>9</th>\n",
              "      <td>0.0</td>\n",
              "      <td>2019-12-03</td>\n",
              "      <td>مظنه</td>\n",
              "    </tr>\n",
              "  </tbody>\n",
              "</table>\n",
              "</div>"
            ],
            "text/plain": [
              "   CLASS       DATE TICKER\n",
              "0    0.0 2019-11-20   مظنه\n",
              "1    0.0 2019-11-23   مظنه\n",
              "2    0.0 2019-11-24   مظنه\n",
              "3    0.0 2019-11-25   مظنه\n",
              "4    0.0 2019-11-26   مظنه\n",
              "5    0.0 2019-11-27   مظنه\n",
              "6    0.0 2019-11-30   مظنه\n",
              "7    0.0 2019-12-01   مظنه\n",
              "8    0.0 2019-12-02   مظنه\n",
              "9    0.0 2019-12-03   مظنه"
            ]
          },
          "metadata": {
            "tags": []
          },
          "execution_count": 5
        }
      ]
    },
    {
      "cell_type": "markdown",
      "metadata": {
        "id": "DIum7gnaTg61",
        "colab_type": "text"
      },
      "source": [
        "Let's assert if we are using GPU."
      ]
    },
    {
      "cell_type": "code",
      "metadata": {
        "id": "pkguLUIJTJFH",
        "colab_type": "code",
        "outputId": "50020905-3bb6-45de-fec4-e108368f9f16",
        "colab": {
          "base_uri": "https://localhost:8080/",
          "height": 35
        }
      },
      "source": [
        "tensorflow.config.list_physical_devices('GPU')"
      ],
      "execution_count": 6,
      "outputs": [
        {
          "output_type": "execute_result",
          "data": {
            "text/plain": [
              "[PhysicalDevice(name='/physical_device:GPU:0', device_type='GPU')]"
            ]
          },
          "metadata": {
            "tags": []
          },
          "execution_count": 6
        }
      ]
    },
    {
      "cell_type": "markdown",
      "metadata": {
        "id": "WxL_xMfUxJ9Y",
        "colab_type": "text"
      },
      "source": [
        "## **Visualization Task**"
      ]
    },
    {
      "cell_type": "markdown",
      "metadata": {
        "id": "rQNiGcVJTlwl",
        "colab_type": "text"
      },
      "source": [
        "**Let's do some visualizations first to investigate data set we are working with**"
      ]
    },
    {
      "cell_type": "code",
      "metadata": {
        "id": "54OVoJw4jcRs",
        "colab_type": "code",
        "outputId": "eb84bed3-3293-4d4e-a978-fc449faeed80",
        "colab": {
          "base_uri": "https://localhost:8080/",
          "height": 206
        }
      },
      "source": [
        "mean_vol_per_ticker = data.groupby('TICKER')['VOL'].agg(numpy.mean).reset_index().sort_values('VOL', ascending=False)\n",
        "mean_vol_per_ticker.head()"
      ],
      "execution_count": 7,
      "outputs": [
        {
          "output_type": "execute_result",
          "data": {
            "text/html": [
              "<div>\n",
              "<style scoped>\n",
              "    .dataframe tbody tr th:only-of-type {\n",
              "        vertical-align: middle;\n",
              "    }\n",
              "\n",
              "    .dataframe tbody tr th {\n",
              "        vertical-align: top;\n",
              "    }\n",
              "\n",
              "    .dataframe thead th {\n",
              "        text-align: right;\n",
              "    }\n",
              "</style>\n",
              "<table border=\"1\" class=\"dataframe\">\n",
              "  <thead>\n",
              "    <tr style=\"text-align: right;\">\n",
              "      <th></th>\n",
              "      <th>TICKER</th>\n",
              "      <th>VOL</th>\n",
              "    </tr>\n",
              "  </thead>\n",
              "  <tbody>\n",
              "    <tr>\n",
              "      <th>894</th>\n",
              "      <td>شاخص_قيمت(هم_وزن6)</td>\n",
              "      <td>1.560700e+09</td>\n",
              "    </tr>\n",
              "    <tr>\n",
              "      <th>895</th>\n",
              "      <td>شاخص_قيمت6</td>\n",
              "      <td>1.559693e+09</td>\n",
              "    </tr>\n",
              "    <tr>\n",
              "      <th>898</th>\n",
              "      <td>شاخص_كل_(هم_وزن)6</td>\n",
              "      <td>1.559693e+09</td>\n",
              "    </tr>\n",
              "    <tr>\n",
              "      <th>889</th>\n",
              "      <td>شاخص_آزاد_شناور6</td>\n",
              "      <td>9.130124e+08</td>\n",
              "    </tr>\n",
              "    <tr>\n",
              "      <th>897</th>\n",
              "      <td>شاخص_كل6</td>\n",
              "      <td>8.711138e+08</td>\n",
              "    </tr>\n",
              "  </tbody>\n",
              "</table>\n",
              "</div>"
            ],
            "text/plain": [
              "                 TICKER           VOL\n",
              "894  شاخص_قيمت(هم_وزن6)  1.560700e+09\n",
              "895          شاخص_قيمت6  1.559693e+09\n",
              "898   شاخص_كل_(هم_وزن)6  1.559693e+09\n",
              "889    شاخص_آزاد_شناور6  9.130124e+08\n",
              "897            شاخص_كل6  8.711138e+08"
            ]
          },
          "metadata": {
            "tags": []
          },
          "execution_count": 7
        }
      ]
    },
    {
      "cell_type": "code",
      "metadata": {
        "id": "Sk9OF8SHtiH9",
        "colab_type": "code",
        "outputId": "bd2a8e88-4b6f-4ced-e434-eb2af0a4d0bb",
        "colab": {
          "base_uri": "https://localhost:8080/",
          "height": 354
        }
      },
      "source": [
        " five_first_stocks_with_mean_vol = mean_vol_per_ticker.head()\n",
        " index = numpy.arange(len(five_first_stocks_with_mean_vol['TICKER']))\n",
        " plt.bar(index, five_first_stocks_with_mean_vol['VOL'])\n",
        " plt.xlabel('stock', fontsize=10)\n",
        " plt.ylabel('mean vol', fontsize=10)\n",
        " plt.xticks(index, five_first_stocks_with_mean_vol['TICKER'], fontsize=10, rotation=30)\n",
        " plt.title('mean volume in 2001-2020')\n",
        " plt.show()"
      ],
      "execution_count": 8,
      "outputs": [
        {
          "output_type": "display_data",
          "data": {
            "image/png": "[encoded data removed]",
            "text/plain": [
              "<Figure size 432x288 with 1 Axes>"
            ]
          },
          "metadata": {
            "tags": [],
            "needs_background": "light"
          }
        }
      ]
    },
    {
      "cell_type": "code",
      "metadata": {
        "id": "xG-cygZvxfUo",
        "colab_type": "code",
        "outputId": "1eee5de9-4d07-4043-9635-87b1067f4c36",
        "colab": {
          "base_uri": "https://localhost:8080/",
          "height": 206
        }
      },
      "source": [
        "data_for_ticker_with_max_mean_vol = data[ data['TICKER'] == mean_vol_per_ticker.head().iloc[0]['TICKER'] ]\n",
        "data_for_ticker_with_max_mean_vol.head()"
      ],
      "execution_count": 9,
      "outputs": [
        {
          "output_type": "execute_result",
          "data": {
            "text/html": [
              "<div>\n",
              "<style scoped>\n",
              "    .dataframe tbody tr th:only-of-type {\n",
              "        vertical-align: middle;\n",
              "    }\n",
              "\n",
              "    .dataframe tbody tr th {\n",
              "        vertical-align: top;\n",
              "    }\n",
              "\n",
              "    .dataframe thead th {\n",
              "        text-align: right;\n",
              "    }\n",
              "</style>\n",
              "<table border=\"1\" class=\"dataframe\">\n",
              "  <thead>\n",
              "    <tr style=\"text-align: right;\">\n",
              "      <th></th>\n",
              "      <th>TICKER</th>\n",
              "      <th>DATE</th>\n",
              "      <th>OPEN</th>\n",
              "      <th>HIGH</th>\n",
              "      <th>LOW</th>\n",
              "      <th>CLOSE</th>\n",
              "      <th>VOL</th>\n",
              "    </tr>\n",
              "  </thead>\n",
              "  <tbody>\n",
              "    <tr>\n",
              "      <th>3004878</th>\n",
              "      <td>شاخص_قيمت(هم_وزن6)</td>\n",
              "      <td>2015-02-24</td>\n",
              "      <td>9198.4</td>\n",
              "      <td>9181.8</td>\n",
              "      <td>9181.8</td>\n",
              "      <td>9181.8</td>\n",
              "      <td>278521094</td>\n",
              "    </tr>\n",
              "    <tr>\n",
              "      <th>3004879</th>\n",
              "      <td>شاخص_قيمت(هم_وزن6)</td>\n",
              "      <td>2015-02-25</td>\n",
              "      <td>9183.3</td>\n",
              "      <td>9109.1</td>\n",
              "      <td>9109.2</td>\n",
              "      <td>9109.1</td>\n",
              "      <td>271188153</td>\n",
              "    </tr>\n",
              "    <tr>\n",
              "      <th>3004880</th>\n",
              "      <td>شاخص_قيمت(هم_وزن6)</td>\n",
              "      <td>2015-02-28</td>\n",
              "      <td>9111.9</td>\n",
              "      <td>9090.0</td>\n",
              "      <td>9090.0</td>\n",
              "      <td>9090.0</td>\n",
              "      <td>257849083</td>\n",
              "    </tr>\n",
              "    <tr>\n",
              "      <th>3004881</th>\n",
              "      <td>شاخص_قيمت(هم_وزن6)</td>\n",
              "      <td>2015-03-01</td>\n",
              "      <td>9014.4</td>\n",
              "      <td>9030.4</td>\n",
              "      <td>9009.0</td>\n",
              "      <td>9030.4</td>\n",
              "      <td>475683577</td>\n",
              "    </tr>\n",
              "    <tr>\n",
              "      <th>3004882</th>\n",
              "      <td>شاخص_قيمت(هم_وزن6)</td>\n",
              "      <td>2015-03-02</td>\n",
              "      <td>9034.4</td>\n",
              "      <td>9043.5</td>\n",
              "      <td>9034.4</td>\n",
              "      <td>9043.5</td>\n",
              "      <td>717632564</td>\n",
              "    </tr>\n",
              "  </tbody>\n",
              "</table>\n",
              "</div>"
            ],
            "text/plain": [
              "                     TICKER       DATE    OPEN  ...     LOW   CLOSE        VOL\n",
              "3004878  شاخص_قيمت(هم_وزن6) 2015-02-24  9198.4  ...  9181.8  9181.8  278521094\n",
              "3004879  شاخص_قيمت(هم_وزن6) 2015-02-25  9183.3  ...  9109.2  9109.1  271188153\n",
              "3004880  شاخص_قيمت(هم_وزن6) 2015-02-28  9111.9  ...  9090.0  9090.0  257849083\n",
              "3004881  شاخص_قيمت(هم_وزن6) 2015-03-01  9014.4  ...  9009.0  9030.4  475683577\n",
              "3004882  شاخص_قيمت(هم_وزن6) 2015-03-02  9034.4  ...  9034.4  9043.5  717632564\n",
              "\n",
              "[5 rows x 7 columns]"
            ]
          },
          "metadata": {
            "tags": []
          },
          "execution_count": 9
        }
      ]
    },
    {
      "cell_type": "code",
      "metadata": {
        "id": "QWjZVmwA2XWB",
        "colab_type": "code",
        "outputId": "0586c824-a732-441b-d459-85db982e30d8",
        "colab": {
          "base_uri": "https://localhost:8080/",
          "height": 885
        }
      },
      "source": [
        "import matplotlib.dates as mdates\n",
        "\n",
        "fig, axs = plt.subplots(2, 1, sharex=True, figsize=(12,12))\n",
        "fig.tight_layout()\n",
        "\n",
        "ax1 = axs[0]\n",
        "ax2 = axs[1]\n",
        "starting_date = str(data_for_ticker_with_max_mean_vol['DATE'].iloc[0])\n",
        "ending_date = str(data_for_ticker_with_max_mean_vol['DATE'].iloc[len(data_for_ticker_with_max_mean_vol) - 1])\n",
        "\n",
        "years = mdates.YearLocator()   # every year\n",
        "months = mdates.MonthLocator()  # every month\n",
        "years_fmt = mdates.DateFormatter('%Y')\n",
        "\n",
        "ax1.xaxis.set_major_locator(years)\n",
        "ax1.xaxis.set_major_formatter(years_fmt)\n",
        "ax1.xaxis.set_minor_locator(months)\n",
        "\n",
        "\n",
        "ax1.plot(data_for_ticker_with_max_mean_vol['DATE'], data_for_ticker_with_max_mean_vol['CLOSE'])\n",
        "ax1.set(ylabel='closing price (in tomans)')\n",
        "ax1.set_title('closing price of stock ' + data_for_ticker_with_max_mean_vol['TICKER'].iloc[0][::-1] + \n",
        "          ' from ' + starting_date + ' to ' + ending_date)\n",
        "ax2.plot(data_for_ticker_with_max_mean_vol['DATE'], data_for_ticker_with_max_mean_vol['VOL'])\n",
        "ax2.set(ylabel='daily volume (in share)')\n",
        "ax2.set_title('daily trading volume of stock ' + data_for_ticker_with_max_mean_vol['TICKER'].iloc[0][::-1] + \n",
        "          ' from ' + starting_date + ' to ' + ending_date)\n",
        "\n",
        "ax1.grid(True)\n",
        "ax2.grid(True)\n",
        "\n",
        "ax1.format_xdata = mdates.DateFormatter('%Y-%m-%d')\n",
        "ax1.format_ydata = lambda x: '$%1.2f' % x  # format the price.\n",
        "\n",
        "plt.show()"
      ],
      "execution_count": 10,
      "outputs": [
        {
          "output_type": "display_data",
          "data": {
            "image/png": "[encoded data removed]",
            "text/plain": [
              "<Figure size 864x864 with 2 Axes>"
            ]
          },
          "metadata": {
            "tags": [],
            "needs_background": "light"
          }
        }
      ]
    },
    {
      "cell_type": "code",
      "metadata": {
        "id": "a8vM2kzK3vQK",
        "colab_type": "code",
        "outputId": "946047d5-b60f-4007-d71a-9872791f3e28",
        "colab": {
          "base_uri": "https://localhost:8080/",
          "height": 394
        }
      },
      "source": [
        "ten_stocks_with_max_trading_days = data.groupby('TICKER').agg({'DATE': ['min', 'max', 'count'], 'VOL': ['mean']}).reset_index().sort_values(('DATE', 'count'), ascending=False).head(10)\n",
        "stock_with_max_trading_days = ten_stocks_with_max_trading_days['TICKER'].iloc[0]\n",
        "ten_stocks_with_max_trading_days.head(10)"
      ],
      "execution_count": 11,
      "outputs": [
        {
          "output_type": "execute_result",
          "data": {
            "text/html": [
              "<div>\n",
              "<style scoped>\n",
              "    .dataframe tbody tr th:only-of-type {\n",
              "        vertical-align: middle;\n",
              "    }\n",
              "\n",
              "    .dataframe tbody tr th {\n",
              "        vertical-align: top;\n",
              "    }\n",
              "\n",
              "    .dataframe thead tr th {\n",
              "        text-align: left;\n",
              "    }\n",
              "</style>\n",
              "<table border=\"1\" class=\"dataframe\">\n",
              "  <thead>\n",
              "    <tr>\n",
              "      <th></th>\n",
              "      <th>TICKER</th>\n",
              "      <th colspan=\"3\" halign=\"left\">DATE</th>\n",
              "      <th>VOL</th>\n",
              "    </tr>\n",
              "    <tr>\n",
              "      <th></th>\n",
              "      <th></th>\n",
              "      <th>min</th>\n",
              "      <th>max</th>\n",
              "      <th>count</th>\n",
              "      <th>mean</th>\n",
              "    </tr>\n",
              "  </thead>\n",
              "  <tbody>\n",
              "    <tr>\n",
              "      <th>1616</th>\n",
              "      <td>وپترو</td>\n",
              "      <td>2001-03-25</td>\n",
              "      <td>2020-04-13</td>\n",
              "      <td>4366</td>\n",
              "      <td>2.323352e+06</td>\n",
              "    </tr>\n",
              "    <tr>\n",
              "      <th>1522</th>\n",
              "      <td>وساخت</td>\n",
              "      <td>2001-03-25</td>\n",
              "      <td>2020-04-13</td>\n",
              "      <td>4356</td>\n",
              "      <td>1.464725e+06</td>\n",
              "    </tr>\n",
              "    <tr>\n",
              "      <th>56</th>\n",
              "      <td>آريان</td>\n",
              "      <td>2010-10-06</td>\n",
              "      <td>2020-04-13</td>\n",
              "      <td>4347</td>\n",
              "      <td>2.723661e+06</td>\n",
              "    </tr>\n",
              "    <tr>\n",
              "      <th>624</th>\n",
              "      <td>خودرو</td>\n",
              "      <td>2001-03-25</td>\n",
              "      <td>2020-04-13</td>\n",
              "      <td>4340</td>\n",
              "      <td>1.123416e+07</td>\n",
              "    </tr>\n",
              "    <tr>\n",
              "      <th>1539</th>\n",
              "      <td>وسپه</td>\n",
              "      <td>2001-03-27</td>\n",
              "      <td>2020-04-13</td>\n",
              "      <td>4323</td>\n",
              "      <td>2.620691e+06</td>\n",
              "    </tr>\n",
              "    <tr>\n",
              "      <th>753</th>\n",
              "      <td>زنجان</td>\n",
              "      <td>2011-01-05</td>\n",
              "      <td>2020-04-13</td>\n",
              "      <td>4318</td>\n",
              "      <td>9.637195e+05</td>\n",
              "    </tr>\n",
              "    <tr>\n",
              "      <th>567</th>\n",
              "      <td>خبهمن</td>\n",
              "      <td>2001-04-07</td>\n",
              "      <td>2020-04-13</td>\n",
              "      <td>4315</td>\n",
              "      <td>6.061205e+06</td>\n",
              "    </tr>\n",
              "    <tr>\n",
              "      <th>1603</th>\n",
              "      <td>ونيكي</td>\n",
              "      <td>2001-04-07</td>\n",
              "      <td>2020-04-13</td>\n",
              "      <td>4302</td>\n",
              "      <td>1.712802e+06</td>\n",
              "    </tr>\n",
              "    <tr>\n",
              "      <th>900</th>\n",
              "      <td>شاراك</td>\n",
              "      <td>2001-03-27</td>\n",
              "      <td>2020-04-13</td>\n",
              "      <td>4298</td>\n",
              "      <td>2.342162e+06</td>\n",
              "    </tr>\n",
              "    <tr>\n",
              "      <th>1474</th>\n",
              "      <td>وبشهر</td>\n",
              "      <td>2001-03-25</td>\n",
              "      <td>2020-04-13</td>\n",
              "      <td>4291</td>\n",
              "      <td>2.265908e+06</td>\n",
              "    </tr>\n",
              "  </tbody>\n",
              "</table>\n",
              "</div>"
            ],
            "text/plain": [
              "     TICKER       DATE                            VOL\n",
              "                   min        max count          mean\n",
              "1616  وپترو 2001-03-25 2020-04-13  4366  2.323352e+06\n",
              "1522  وساخت 2001-03-25 2020-04-13  4356  1.464725e+06\n",
              "56    آريان 2010-10-06 2020-04-13  4347  2.723661e+06\n",
              "624   خودرو 2001-03-25 2020-04-13  4340  1.123416e+07\n",
              "1539   وسپه 2001-03-27 2020-04-13  4323  2.620691e+06\n",
              "753   زنجان 2011-01-05 2020-04-13  4318  9.637195e+05\n",
              "567   خبهمن 2001-04-07 2020-04-13  4315  6.061205e+06\n",
              "1603  ونيكي 2001-04-07 2020-04-13  4302  1.712802e+06\n",
              "900   شاراك 2001-03-27 2020-04-13  4298  2.342162e+06\n",
              "1474  وبشهر 2001-03-25 2020-04-13  4291  2.265908e+06"
            ]
          },
          "metadata": {
            "tags": []
          },
          "execution_count": 11
        }
      ]
    },
    {
      "cell_type": "markdown",
      "metadata": {
        "id": "BqoDpL0ExZMR",
        "colab_type": "text"
      },
      "source": [
        "## **Training Phase on the stock with max trading days**"
      ]
    },
    {
      "cell_type": "markdown",
      "metadata": {
        "id": "9ai4mNrBT2q5",
        "colab_type": "text"
      },
      "source": [
        "**Now it is time to start training our model**"
      ]
    },
    {
      "cell_type": "markdown",
      "metadata": {
        "id": "1zQLSFywTUoc",
        "colab_type": "text"
      },
      "source": [
        "We use adam optimizer throughout this experiment."
      ]
    },
    {
      "cell_type": "code",
      "metadata": {
        "id": "8mdOtWOmTQ-a",
        "colab_type": "code",
        "colab": {}
      },
      "source": [
        "optimizer = optimizers.Adam(learning_rate=0.001)"
      ],
      "execution_count": 0,
      "outputs": []
    },
    {
      "cell_type": "code",
      "metadata": {
        "id": "ERoZJ9C4NsB1",
        "colab_type": "code",
        "colab": {}
      },
      "source": [
        "from numpy.random import uniform\n",
        "\n",
        "window_in_days = 10\n",
        "\n",
        "class MyNormalizer:\n",
        "  def __init__(self):\n",
        "    self.max = 0\n",
        "    self.min = 0\n",
        "\n",
        "  def fit(self, data):\n",
        "    self.max = data.max()\n",
        "    self.min = data.min()\n",
        "  \n",
        "  def transform(self, data):\n",
        "    return (data - self.min) / (self.max - self.min)\n",
        "\n",
        "\n",
        "def align_data(x, y, window_in_days, batch_size):\n",
        "  rows_to_insert_to_x = pandas.DataFrame(numpy.zeros((window_in_days+(batch_size - len(x) % batch_size),len(x.columns))), columns=x.columns)\n",
        "  rows_to_insert_to_y = pandas.DataFrame(numpy.zeros((window_in_days+(batch_size - len(x) % batch_size), len(y.columns))), columns=y.columns)\n",
        "\n",
        "  return pandas.concat([rows_to_insert_to_x, x], ignore_index=True), pandas.concat([rows_to_insert_to_y, y], ignore_index=True)\n",
        "  \n",
        "\n",
        "def split_data_to_train_test(original_dataset, labels, stock, training_start, training_end, testing_start, testing_end, validation_split, test_required=True):\n",
        "  data_related_to_stock = original_dataset[ original_dataset['TICKER'] == stock ].drop('TICKER', axis=1)\n",
        "  labels_related_to_stock = labels[ labels['TICKER'] == stock ].drop('TICKER', axis=1)\n",
        "\n",
        " \n",
        "  training_period_mask = (data_related_to_stock['DATE'] >= training_start) & (data_related_to_stock['DATE'] <= training_end ) \n",
        "  training_period = data_related_to_stock.loc[training_period_mask].drop('DATE', axis=1)\n",
        "  training_period_labels = labels_related_to_stock.loc[training_period_mask].drop('DATE', axis=1)\n",
        "\n",
        "  train_split, data_validation_split = numpy.split(training_period, [int( (1 - validation_split) * len(training_period))])\n",
        "  train_labels_split, validation_labels_split = numpy.split(training_period_labels, [int( (1 - validation_split) * len(training_period_labels))])\n",
        "\n",
        "  if test_required:\n",
        "    testing_period_mask = (data_related_to_stock['DATE'] >= testing_start) & (data_related_to_stock['DATE'] <= testing_end )\n",
        "    testing_period = data_related_to_stock.loc[testing_period_mask].drop('DATE', axis=1)\n",
        "    testing_period_labels = labels_related_to_stock.loc[testing_period_mask].drop('DATE', axis=1)\n",
        "\n",
        "  return train_split, train_labels_split, data_validation_split, validation_labels_split , testing_period, testing_period_labels\n",
        "\n",
        "\n",
        "def normalize_dataframe_with_max_min(dataframe, train_max, train_min):\n",
        "    normalized_df=(dataframe - train_min)/(train_max - train_min)\n",
        "    return normalized_df\n",
        "\n",
        "\n",
        "def generate_datasets_for_model(original_dataset, labels, stock, training_start, training_end, \\\n",
        "                                testing_start, testing_end, window_in_days=10, batch_size=32, validation_split=0.2, test_required=True):\n",
        "  normalizer = MyNormalizer()\n",
        "  training_data = []\n",
        "  training_labels = []\n",
        "  validation_data = []\n",
        "  validation_labels = []\n",
        "  testing_data = []\n",
        "  testing_labels = []\n",
        "\n",
        "  training_period, training_period_labels, validation_period, validation_period_labels, testing_period, \\\n",
        "        testing_period_labels = split_data_to_train_test(original_dataset, labels, stock, training_start, training_end, testing_start, testing_end, validation_split, test_required=True)\n",
        "\n",
        "  training_period, training_period_labels = align_data(training_period, training_period_labels, window_in_days, batch_size)\n",
        "  if validation_split != 0.0:\n",
        "    validation_period, validation_period_labels = align_data(validation_period, validation_period_labels, window_in_days, batch_size)\n",
        "  if test_required:\n",
        "    testing_period, testing_period_labels = align_data(testing_period, testing_period_labels, window_in_days, batch_size)                                                                                               \n",
        "\n",
        "  normalizer.fit(training_period)\n",
        "  training_period = normalizer.transform(training_period)\n",
        "\n",
        "  for j in range(window_in_days, len(training_period)):\n",
        "    training_data.append(numpy.array(training_period[ j - window_in_days : j ].copy()))\n",
        "    training_labels.append(numpy.array(training_period_labels.iloc[j]))\n",
        "\n",
        "  training_data = numpy.array(training_data)\n",
        "  training_labels = numpy.array(training_labels)\n",
        "\n",
        "  if validation_split != 0.0:\n",
        "    validation_period = normalizer.transform(validation_period)\n",
        "    for j in range(window_in_days, len(validation_period)):\n",
        "      validation_data.append(numpy.array(validation_period[ j - window_in_days : j ].copy()))\n",
        "      validation_labels.append(numpy.array(validation_period_labels.iloc[j]))\n",
        "\n",
        "  validation_data = numpy.array(validation_data)\n",
        "  validation_labels = numpy.array(validation_labels)\n",
        "\n",
        "  if test_required:\n",
        "    testing_period = normalizer.transform(testing_period)\n",
        "    for j in range(window_in_days, len(testing_period)):\n",
        "      testing_data.append(numpy.array(testing_period[ j - window_in_days : j ].copy()))\n",
        "      testing_labels.append(numpy.array(testing_period_labels.iloc[j]))\n",
        "\n",
        "  testing_data = numpy.array(testing_data)\n",
        "  testing_labels = numpy.array(testing_labels)\n",
        "\n",
        "\n",
        "  return training_data, training_labels, validation_data, validation_labels, testing_data, testing_labels\n",
        "\n"
      ],
      "execution_count": 0,
      "outputs": []
    },
    {
      "cell_type": "code",
      "metadata": {
        "id": "Q95qXeQbgdxc",
        "colab_type": "code",
        "colab": {}
      },
      "source": [
        "training_start = pandas.to_datetime('20010101', format='%Y%m%d', errors='ignore')\n",
        "training_end = pandas.to_datetime('20170919', format='%Y%m%d', errors='ignore')\n",
        "testing_start = pandas.to_datetime('20180101', format='%Y%m%d', errors='ignore')\n",
        "testing_end = pandas.to_datetime('20180719', format='%Y%m%d', errors='ignore')"
      ],
      "execution_count": 0,
      "outputs": []
    },
    {
      "cell_type": "code",
      "metadata": {
        "id": "QSCBRXdtsYsX",
        "colab_type": "code",
        "colab": {}
      },
      "source": [
        "\n",
        "def build_model(input_shape, optimizer='adam', layers=None, loss='binary_crossentropy'):\n",
        "  if layers is None:\n",
        "    model = Sequential()\n",
        "    model.add(LSTM(64, input_shape=(input_shape[1], input_shape[2])))\n",
        "    model.add(Dense(32))\n",
        "    model.add(Dropout(0.1))\n",
        "    model.add(Dense(16))\n",
        "    model.add(BatchNormalization())\n",
        "    model.add(Dense(4))\n",
        "    model.add(Dense(1))\n",
        "    model.add(Activation('sigmoid'))\n",
        "\n",
        "  else:\n",
        "    model = Sequential(layers)\n",
        "  \n",
        "  model.compile(loss='binary_crossentropy', optimizer=optimizer, metrics=[BinaryAccuracy()])\n",
        "\n",
        "\n",
        "  return model\n"
      ],
      "execution_count": 0,
      "outputs": []
    },
    {
      "cell_type": "markdown",
      "metadata": {
        "id": "Ojs5GVNu0j2P",
        "colab_type": "text"
      },
      "source": [
        "**First of all, we train the model with training set and testing set containing information in the range indicated periods in the code. we first set the window length to 10 days.**"
      ]
    },
    {
      "cell_type": "code",
      "metadata": {
        "id": "KGODo7DUh0oq",
        "colab_type": "code",
        "outputId": "49df4447-ff50-4727-8259-93b448bc8f5a",
        "colab": {
          "base_uri": "https://localhost:8080/",
          "height": 35
        }
      },
      "source": [
        "training_data, training_labels, validation_data, validation_labels, testing_data, testing_labels = \\\n",
        "      generate_datasets_for_model(data, labels, stock_with_max_trading_days, training_start, training_end, testing_start, testing_end, validation_split=0.1)\n",
        "\n",
        "model = build_model(training_data.shape, optimizer)\n",
        "model.summary()"
      ],
      "execution_count": 81,
      "outputs": [
        {
          "output_type": "execute_result",
          "data": {
            "text/plain": [
              "(3392, 10, 5)"
            ]
          },
          "metadata": {
            "tags": []
          },
          "execution_count": 81
        }
      ]
    },
    {
      "cell_type": "code",
      "metadata": {
        "id": "Gsbik3-4uCcf",
        "colab_type": "code",
        "outputId": "ab4e340d-751a-4f9a-b9f4-f78a7c86b9e5",
        "colab": {
          "base_uri": "https://localhost:8080/",
          "height": 1000
        }
      },
      "source": [
        "history = model.fit(training_data, training_labels,\n",
        "                    batch_size=32,\n",
        "                    epochs=200,\n",
        "                    shuffle=False,\n",
        "                    validation_data=(validation_data, validation_labels))"
      ],
      "execution_count": 75,
      "outputs": [
        {
          "output_type": "stream",
          "text": [
            "Train on 3392 samples, validate on 384 samples\n",
            "Epoch 1/200\n",
            "3392/3392 [==============================] - 3s 1ms/step - loss: 0.6870 - binary_accuracy: 0.5873 - val_loss: 0.6540 - val_binary_accuracy: 0.6510\n",
            "Epoch 2/200\n",
            "3392/3392 [==============================] - 3s 828us/step - loss: 0.6705 - binary_accuracy: 0.6050 - val_loss: 0.6626 - val_binary_accuracy: 0.6510\n",
            "Epoch 3/200\n",
            "3392/3392 [==============================] - 3s 833us/step - loss: 0.6696 - binary_accuracy: 0.6091 - val_loss: 0.6680 - val_binary_accuracy: 0.6250\n",
            "Epoch 4/200\n",
            "3392/3392 [==============================] - 3s 825us/step - loss: 0.6651 - binary_accuracy: 0.6120 - val_loss: 0.6962 - val_binary_accuracy: 0.6198\n",
            "Epoch 5/200\n",
            "3392/3392 [==============================] - 3s 819us/step - loss: 0.6621 - binary_accuracy: 0.6188 - val_loss: 0.7776 - val_binary_accuracy: 0.4115\n",
            "Epoch 6/200\n",
            "3392/3392 [==============================] - 3s 822us/step - loss: 0.6597 - binary_accuracy: 0.6200 - val_loss: 0.8253 - val_binary_accuracy: 0.6198\n",
            "Epoch 7/200\n",
            "3392/3392 [==============================] - 3s 818us/step - loss: 0.6595 - binary_accuracy: 0.6176 - val_loss: 0.8966 - val_binary_accuracy: 0.4036\n",
            "Epoch 8/200\n",
            "3392/3392 [==============================] - 3s 818us/step - loss: 0.6607 - binary_accuracy: 0.6232 - val_loss: 0.7845 - val_binary_accuracy: 0.4167\n",
            "Epoch 9/200\n",
            "3392/3392 [==============================] - 3s 822us/step - loss: 0.6570 - binary_accuracy: 0.6212 - val_loss: 0.7442 - val_binary_accuracy: 0.6198\n",
            "Epoch 10/200\n",
            "3392/3392 [==============================] - 3s 822us/step - loss: 0.6558 - binary_accuracy: 0.6247 - val_loss: 0.8019 - val_binary_accuracy: 0.6198\n",
            "Epoch 11/200\n",
            "3392/3392 [==============================] - 3s 834us/step - loss: 0.6542 - binary_accuracy: 0.6259 - val_loss: 0.7736 - val_binary_accuracy: 0.6198\n",
            "Epoch 12/200\n",
            "3392/3392 [==============================] - 3s 839us/step - loss: 0.6553 - binary_accuracy: 0.6206 - val_loss: 0.7857 - val_binary_accuracy: 0.6198\n",
            "Epoch 13/200\n",
            "3392/3392 [==============================] - 3s 841us/step - loss: 0.6510 - binary_accuracy: 0.6303 - val_loss: 0.8097 - val_binary_accuracy: 0.4792\n",
            "Epoch 14/200\n",
            "3392/3392 [==============================] - 3s 817us/step - loss: 0.6550 - binary_accuracy: 0.6209 - val_loss: 0.7720 - val_binary_accuracy: 0.4531\n",
            "Epoch 15/200\n",
            "3392/3392 [==============================] - 3s 833us/step - loss: 0.6530 - binary_accuracy: 0.6279 - val_loss: 0.7750 - val_binary_accuracy: 0.6198\n",
            "Epoch 16/200\n",
            "3392/3392 [==============================] - 3s 830us/step - loss: 0.6526 - binary_accuracy: 0.6126 - val_loss: 0.7913 - val_binary_accuracy: 0.5000\n",
            "Epoch 17/200\n",
            "3392/3392 [==============================] - 3s 824us/step - loss: 0.6482 - binary_accuracy: 0.6265 - val_loss: 0.8115 - val_binary_accuracy: 0.4245\n",
            "Epoch 18/200\n",
            "3392/3392 [==============================] - 3s 829us/step - loss: 0.6518 - binary_accuracy: 0.6303 - val_loss: 0.7654 - val_binary_accuracy: 0.4349\n",
            "Epoch 19/200\n",
            "3392/3392 [==============================] - 3s 817us/step - loss: 0.6517 - binary_accuracy: 0.6209 - val_loss: 0.7532 - val_binary_accuracy: 0.4609\n",
            "Epoch 20/200\n",
            "3392/3392 [==============================] - 3s 837us/step - loss: 0.6505 - binary_accuracy: 0.6215 - val_loss: 0.7860 - val_binary_accuracy: 0.4193\n",
            "Epoch 21/200\n",
            "3392/3392 [==============================] - 3s 822us/step - loss: 0.6465 - binary_accuracy: 0.6277 - val_loss: 0.7961 - val_binary_accuracy: 0.6198\n",
            "Epoch 22/200\n",
            "3392/3392 [==============================] - 3s 832us/step - loss: 0.6516 - binary_accuracy: 0.6244 - val_loss: 0.8313 - val_binary_accuracy: 0.4036\n",
            "Epoch 23/200\n",
            "3392/3392 [==============================] - 3s 831us/step - loss: 0.6496 - binary_accuracy: 0.6277 - val_loss: 0.7666 - val_binary_accuracy: 0.4297\n",
            "Epoch 24/200\n",
            "3392/3392 [==============================] - 3s 823us/step - loss: 0.6488 - binary_accuracy: 0.6312 - val_loss: 0.7588 - val_binary_accuracy: 0.4349\n",
            "Epoch 25/200\n",
            "3392/3392 [==============================] - 3s 825us/step - loss: 0.6486 - binary_accuracy: 0.6347 - val_loss: 0.7478 - val_binary_accuracy: 0.4323\n",
            "Epoch 26/200\n",
            "3392/3392 [==============================] - 3s 831us/step - loss: 0.6467 - binary_accuracy: 0.6365 - val_loss: 0.7424 - val_binary_accuracy: 0.5677\n",
            "Epoch 27/200\n",
            "3392/3392 [==============================] - 3s 826us/step - loss: 0.6468 - binary_accuracy: 0.6215 - val_loss: 0.7478 - val_binary_accuracy: 0.4297\n",
            "Epoch 28/200\n",
            "3392/3392 [==============================] - 3s 823us/step - loss: 0.6449 - binary_accuracy: 0.6309 - val_loss: 0.7640 - val_binary_accuracy: 0.6068\n",
            "Epoch 29/200\n",
            "3392/3392 [==============================] - 3s 821us/step - loss: 0.6483 - binary_accuracy: 0.6279 - val_loss: 0.7666 - val_binary_accuracy: 0.4271\n",
            "Epoch 30/200\n",
            "3392/3392 [==============================] - 3s 813us/step - loss: 0.6438 - binary_accuracy: 0.6324 - val_loss: 0.7728 - val_binary_accuracy: 0.4271\n",
            "Epoch 31/200\n",
            "3392/3392 [==============================] - 3s 830us/step - loss: 0.6453 - binary_accuracy: 0.6383 - val_loss: 0.7323 - val_binary_accuracy: 0.5964\n",
            "Epoch 32/200\n",
            "3392/3392 [==============================] - 3s 825us/step - loss: 0.6471 - binary_accuracy: 0.6312 - val_loss: 0.7462 - val_binary_accuracy: 0.4297\n",
            "Epoch 33/200\n",
            "3392/3392 [==============================] - 3s 823us/step - loss: 0.6423 - binary_accuracy: 0.6282 - val_loss: 0.7722 - val_binary_accuracy: 0.4427\n",
            "Epoch 34/200\n",
            "3392/3392 [==============================] - 3s 835us/step - loss: 0.6463 - binary_accuracy: 0.6309 - val_loss: 0.7504 - val_binary_accuracy: 0.4297\n",
            "Epoch 35/200\n",
            "3392/3392 [==============================] - 3s 836us/step - loss: 0.6432 - binary_accuracy: 0.6335 - val_loss: 0.7160 - val_binary_accuracy: 0.5964\n",
            "Epoch 36/200\n",
            "3392/3392 [==============================] - 3s 826us/step - loss: 0.6408 - binary_accuracy: 0.6365 - val_loss: 0.7362 - val_binary_accuracy: 0.4349\n",
            "Epoch 37/200\n",
            "3392/3392 [==============================] - 3s 829us/step - loss: 0.6484 - binary_accuracy: 0.6309 - val_loss: 0.7391 - val_binary_accuracy: 0.5703\n",
            "Epoch 38/200\n",
            "3392/3392 [==============================] - 3s 825us/step - loss: 0.6447 - binary_accuracy: 0.6341 - val_loss: 0.7359 - val_binary_accuracy: 0.5599\n",
            "Epoch 39/200\n",
            "3392/3392 [==============================] - 3s 830us/step - loss: 0.6429 - binary_accuracy: 0.6392 - val_loss: 0.7347 - val_binary_accuracy: 0.5781\n",
            "Epoch 40/200\n",
            "3392/3392 [==============================] - 3s 827us/step - loss: 0.6408 - binary_accuracy: 0.6433 - val_loss: 0.7482 - val_binary_accuracy: 0.5781\n",
            "Epoch 41/200\n",
            "3392/3392 [==============================] - 3s 822us/step - loss: 0.6400 - binary_accuracy: 0.6421 - val_loss: 0.7057 - val_binary_accuracy: 0.6224\n",
            "Epoch 42/200\n",
            "3392/3392 [==============================] - 3s 822us/step - loss: 0.6410 - binary_accuracy: 0.6380 - val_loss: 0.7940 - val_binary_accuracy: 0.4089\n",
            "Epoch 43/200\n",
            "3392/3392 [==============================] - 3s 826us/step - loss: 0.6355 - binary_accuracy: 0.6436 - val_loss: 0.7665 - val_binary_accuracy: 0.5781\n",
            "Epoch 44/200\n",
            "3392/3392 [==============================] - 3s 824us/step - loss: 0.6370 - binary_accuracy: 0.6344 - val_loss: 0.7162 - val_binary_accuracy: 0.5833\n",
            "Epoch 45/200\n",
            "3392/3392 [==============================] - 3s 821us/step - loss: 0.6382 - binary_accuracy: 0.6468 - val_loss: 0.7610 - val_binary_accuracy: 0.5677\n",
            "Epoch 46/200\n",
            "3392/3392 [==============================] - 3s 826us/step - loss: 0.6336 - binary_accuracy: 0.6477 - val_loss: 0.7295 - val_binary_accuracy: 0.6198\n",
            "Epoch 47/200\n",
            "3392/3392 [==============================] - 3s 819us/step - loss: 0.6349 - binary_accuracy: 0.6527 - val_loss: 0.7610 - val_binary_accuracy: 0.5859\n",
            "Epoch 48/200\n",
            "3392/3392 [==============================] - 3s 819us/step - loss: 0.6336 - binary_accuracy: 0.6471 - val_loss: 0.7607 - val_binary_accuracy: 0.4219\n",
            "Epoch 49/200\n",
            "3392/3392 [==============================] - 3s 821us/step - loss: 0.6315 - binary_accuracy: 0.6515 - val_loss: 0.7606 - val_binary_accuracy: 0.5729\n",
            "Epoch 50/200\n",
            "3392/3392 [==============================] - 3s 821us/step - loss: 0.6303 - binary_accuracy: 0.6589 - val_loss: 0.7563 - val_binary_accuracy: 0.5990\n",
            "Epoch 51/200\n",
            "3392/3392 [==============================] - 3s 830us/step - loss: 0.6281 - binary_accuracy: 0.6604 - val_loss: 0.7778 - val_binary_accuracy: 0.4323\n",
            "Epoch 52/200\n",
            "3392/3392 [==============================] - 3s 827us/step - loss: 0.6342 - binary_accuracy: 0.6471 - val_loss: 0.7525 - val_binary_accuracy: 0.6016\n",
            "Epoch 53/200\n",
            "3392/3392 [==============================] - 3s 870us/step - loss: 0.6267 - binary_accuracy: 0.6639 - val_loss: 0.7390 - val_binary_accuracy: 0.5833\n",
            "Epoch 54/200\n",
            "3392/3392 [==============================] - 3s 869us/step - loss: 0.6302 - binary_accuracy: 0.6489 - val_loss: 0.7412 - val_binary_accuracy: 0.5495\n",
            "Epoch 55/200\n",
            "3392/3392 [==============================] - 3s 875us/step - loss: 0.6288 - binary_accuracy: 0.6504 - val_loss: 0.7372 - val_binary_accuracy: 0.6120\n",
            "Epoch 56/200\n",
            "3392/3392 [==============================] - 3s 835us/step - loss: 0.6283 - binary_accuracy: 0.6554 - val_loss: 0.7571 - val_binary_accuracy: 0.5729\n",
            "Epoch 57/200\n",
            "3392/3392 [==============================] - 3s 823us/step - loss: 0.6244 - binary_accuracy: 0.6627 - val_loss: 0.7759 - val_binary_accuracy: 0.4531\n",
            "Epoch 58/200\n",
            "3392/3392 [==============================] - 3s 826us/step - loss: 0.6267 - binary_accuracy: 0.6583 - val_loss: 0.7583 - val_binary_accuracy: 0.5990\n",
            "Epoch 59/200\n",
            "3392/3392 [==============================] - 3s 834us/step - loss: 0.6247 - binary_accuracy: 0.6610 - val_loss: 0.8138 - val_binary_accuracy: 0.3724\n",
            "Epoch 60/200\n",
            "3392/3392 [==============================] - 3s 830us/step - loss: 0.6279 - binary_accuracy: 0.6642 - val_loss: 0.7785 - val_binary_accuracy: 0.4193\n",
            "Epoch 61/200\n",
            "3392/3392 [==============================] - 3s 832us/step - loss: 0.6236 - binary_accuracy: 0.6613 - val_loss: 0.7456 - val_binary_accuracy: 0.4219\n",
            "Epoch 62/200\n",
            "3392/3392 [==============================] - 3s 826us/step - loss: 0.6264 - binary_accuracy: 0.6577 - val_loss: 0.7604 - val_binary_accuracy: 0.4297\n",
            "Epoch 63/200\n",
            "3392/3392 [==============================] - 3s 822us/step - loss: 0.6230 - binary_accuracy: 0.6645 - val_loss: 0.7804 - val_binary_accuracy: 0.4401\n",
            "Epoch 64/200\n",
            "3392/3392 [==============================] - 3s 820us/step - loss: 0.6228 - binary_accuracy: 0.6621 - val_loss: 0.7390 - val_binary_accuracy: 0.4453\n",
            "Epoch 65/200\n",
            "3392/3392 [==============================] - 3s 833us/step - loss: 0.6249 - binary_accuracy: 0.6666 - val_loss: 0.7730 - val_binary_accuracy: 0.4141\n",
            "Epoch 66/200\n",
            "3392/3392 [==============================] - 3s 828us/step - loss: 0.6221 - binary_accuracy: 0.6660 - val_loss: 0.7285 - val_binary_accuracy: 0.4401\n",
            "Epoch 67/200\n",
            "3392/3392 [==============================] - 3s 830us/step - loss: 0.6183 - binary_accuracy: 0.6769 - val_loss: 0.8606 - val_binary_accuracy: 0.3594\n",
            "Epoch 68/200\n",
            "3392/3392 [==============================] - 3s 828us/step - loss: 0.6203 - binary_accuracy: 0.6733 - val_loss: 0.7210 - val_binary_accuracy: 0.4661\n",
            "Epoch 69/200\n",
            "3392/3392 [==============================] - 3s 830us/step - loss: 0.6243 - binary_accuracy: 0.6560 - val_loss: 0.7463 - val_binary_accuracy: 0.4062\n",
            "Epoch 70/200\n",
            "3392/3392 [==============================] - 3s 824us/step - loss: 0.6206 - binary_accuracy: 0.6733 - val_loss: 0.7172 - val_binary_accuracy: 0.4505\n",
            "Epoch 71/200\n",
            "3392/3392 [==============================] - 3s 826us/step - loss: 0.6207 - binary_accuracy: 0.6695 - val_loss: 0.7131 - val_binary_accuracy: 0.4688\n",
            "Epoch 72/200\n",
            "3392/3392 [==============================] - 3s 820us/step - loss: 0.6175 - binary_accuracy: 0.6763 - val_loss: 0.7946 - val_binary_accuracy: 0.3828\n",
            "Epoch 73/200\n",
            "3392/3392 [==============================] - 3s 822us/step - loss: 0.6196 - binary_accuracy: 0.6775 - val_loss: 0.7420 - val_binary_accuracy: 0.3984\n",
            "Epoch 74/200\n",
            "3392/3392 [==============================] - 3s 821us/step - loss: 0.6178 - binary_accuracy: 0.6745 - val_loss: 0.7250 - val_binary_accuracy: 0.4193\n",
            "Epoch 75/200\n",
            "3392/3392 [==============================] - 3s 811us/step - loss: 0.6190 - binary_accuracy: 0.6736 - val_loss: 0.7354 - val_binary_accuracy: 0.4245\n",
            "Epoch 76/200\n",
            "3392/3392 [==============================] - 3s 824us/step - loss: 0.6163 - binary_accuracy: 0.6719 - val_loss: 0.7103 - val_binary_accuracy: 0.4401\n",
            "Epoch 77/200\n",
            "3392/3392 [==============================] - 3s 828us/step - loss: 0.6150 - binary_accuracy: 0.6701 - val_loss: 0.7172 - val_binary_accuracy: 0.4271\n",
            "Epoch 78/200\n",
            "3392/3392 [==============================] - 3s 828us/step - loss: 0.6169 - binary_accuracy: 0.6807 - val_loss: 0.7775 - val_binary_accuracy: 0.3958\n",
            "Epoch 79/200\n",
            "3392/3392 [==============================] - 3s 827us/step - loss: 0.6142 - binary_accuracy: 0.6751 - val_loss: 0.7732 - val_binary_accuracy: 0.4010\n",
            "Epoch 80/200\n",
            "3392/3392 [==============================] - 3s 828us/step - loss: 0.6161 - binary_accuracy: 0.6760 - val_loss: 0.7938 - val_binary_accuracy: 0.3906\n",
            "Epoch 81/200\n",
            "3392/3392 [==============================] - 3s 868us/step - loss: 0.6142 - binary_accuracy: 0.6745 - val_loss: 0.7742 - val_binary_accuracy: 0.3932\n",
            "Epoch 82/200\n",
            "3392/3392 [==============================] - 3s 867us/step - loss: 0.6198 - binary_accuracy: 0.6728 - val_loss: 0.8073 - val_binary_accuracy: 0.3932\n",
            "Epoch 83/200\n",
            "3392/3392 [==============================] - 3s 832us/step - loss: 0.6143 - binary_accuracy: 0.6751 - val_loss: 0.7746 - val_binary_accuracy: 0.3958\n",
            "Epoch 84/200\n",
            "3392/3392 [==============================] - 3s 828us/step - loss: 0.6132 - binary_accuracy: 0.6757 - val_loss: 0.7041 - val_binary_accuracy: 0.4818\n",
            "Epoch 85/200\n",
            "3392/3392 [==============================] - 3s 835us/step - loss: 0.6145 - binary_accuracy: 0.6763 - val_loss: 0.7695 - val_binary_accuracy: 0.4010\n",
            "Epoch 86/200\n",
            "3392/3392 [==============================] - 3s 830us/step - loss: 0.6165 - binary_accuracy: 0.6733 - val_loss: 0.7521 - val_binary_accuracy: 0.4036\n",
            "Epoch 87/200\n",
            "3392/3392 [==============================] - 3s 833us/step - loss: 0.6110 - binary_accuracy: 0.6760 - val_loss: 0.8152 - val_binary_accuracy: 0.3828\n",
            "Epoch 88/200\n",
            "3392/3392 [==============================] - 3s 821us/step - loss: 0.6098 - binary_accuracy: 0.6763 - val_loss: 0.7067 - val_binary_accuracy: 0.4792\n",
            "Epoch 89/200\n",
            "3392/3392 [==============================] - 3s 830us/step - loss: 0.6108 - binary_accuracy: 0.6828 - val_loss: 0.7501 - val_binary_accuracy: 0.4036\n",
            "Epoch 90/200\n",
            "3392/3392 [==============================] - 3s 833us/step - loss: 0.6101 - binary_accuracy: 0.6875 - val_loss: 0.8046 - val_binary_accuracy: 0.3906\n",
            "Epoch 91/200\n",
            "3392/3392 [==============================] - 3s 834us/step - loss: 0.6157 - binary_accuracy: 0.6725 - val_loss: 0.7701 - val_binary_accuracy: 0.3958\n",
            "Epoch 92/200\n",
            "3392/3392 [==============================] - 3s 829us/step - loss: 0.6101 - binary_accuracy: 0.6781 - val_loss: 0.7315 - val_binary_accuracy: 0.4219\n",
            "Epoch 93/200\n",
            "3392/3392 [==============================] - 3s 822us/step - loss: 0.6086 - binary_accuracy: 0.6801 - val_loss: 0.7678 - val_binary_accuracy: 0.4193\n",
            "Epoch 94/200\n",
            "3392/3392 [==============================] - 3s 834us/step - loss: 0.6134 - binary_accuracy: 0.6722 - val_loss: 0.8270 - val_binary_accuracy: 0.3880\n",
            "Epoch 95/200\n",
            "3392/3392 [==============================] - 3s 830us/step - loss: 0.6096 - binary_accuracy: 0.6848 - val_loss: 0.7229 - val_binary_accuracy: 0.4453\n",
            "Epoch 96/200\n",
            "3392/3392 [==============================] - 3s 847us/step - loss: 0.6122 - binary_accuracy: 0.6848 - val_loss: 0.8103 - val_binary_accuracy: 0.3854\n",
            "Epoch 97/200\n",
            "3392/3392 [==============================] - 3s 829us/step - loss: 0.6034 - binary_accuracy: 0.6869 - val_loss: 0.7886 - val_binary_accuracy: 0.4089\n",
            "Epoch 98/200\n",
            "3392/3392 [==============================] - 3s 825us/step - loss: 0.6068 - binary_accuracy: 0.6807 - val_loss: 0.7579 - val_binary_accuracy: 0.4245\n",
            "Epoch 99/200\n",
            "3392/3392 [==============================] - 3s 843us/step - loss: 0.6082 - binary_accuracy: 0.6769 - val_loss: 0.8078 - val_binary_accuracy: 0.3932\n",
            "Epoch 100/200\n",
            "3392/3392 [==============================] - 3s 837us/step - loss: 0.6093 - binary_accuracy: 0.6837 - val_loss: 0.8031 - val_binary_accuracy: 0.3880\n",
            "Epoch 101/200\n",
            "3392/3392 [==============================] - 3s 828us/step - loss: 0.6054 - binary_accuracy: 0.6872 - val_loss: 0.7778 - val_binary_accuracy: 0.3984\n",
            "Epoch 102/200\n",
            "3392/3392 [==============================] - 3s 825us/step - loss: 0.6052 - binary_accuracy: 0.6878 - val_loss: 0.7602 - val_binary_accuracy: 0.4167\n",
            "Epoch 103/200\n",
            "3392/3392 [==============================] - 3s 828us/step - loss: 0.6060 - binary_accuracy: 0.6798 - val_loss: 0.7628 - val_binary_accuracy: 0.4141\n",
            "Epoch 104/200\n",
            "3392/3392 [==============================] - 3s 827us/step - loss: 0.6061 - binary_accuracy: 0.6866 - val_loss: 0.7926 - val_binary_accuracy: 0.3906\n",
            "Epoch 105/200\n",
            "3392/3392 [==============================] - 3s 830us/step - loss: 0.6057 - binary_accuracy: 0.6866 - val_loss: 0.8093 - val_binary_accuracy: 0.3906\n",
            "Epoch 106/200\n",
            "3392/3392 [==============================] - 3s 831us/step - loss: 0.6068 - binary_accuracy: 0.6798 - val_loss: 0.7444 - val_binary_accuracy: 0.4141\n",
            "Epoch 107/200\n",
            "3392/3392 [==============================] - 3s 827us/step - loss: 0.5998 - binary_accuracy: 0.6881 - val_loss: 0.7969 - val_binary_accuracy: 0.4141\n",
            "Epoch 108/200\n",
            "3392/3392 [==============================] - 3s 826us/step - loss: 0.6017 - binary_accuracy: 0.6822 - val_loss: 0.8574 - val_binary_accuracy: 0.3880\n",
            "Epoch 109/200\n",
            "3392/3392 [==============================] - 3s 823us/step - loss: 0.6004 - binary_accuracy: 0.6884 - val_loss: 0.7794 - val_binary_accuracy: 0.4089\n",
            "Epoch 110/200\n",
            "3392/3392 [==============================] - 3s 819us/step - loss: 0.6024 - binary_accuracy: 0.6887 - val_loss: 0.7514 - val_binary_accuracy: 0.4271\n",
            "Epoch 111/200\n",
            "3392/3392 [==============================] - 3s 825us/step - loss: 0.6044 - binary_accuracy: 0.6857 - val_loss: 0.7359 - val_binary_accuracy: 0.4271\n",
            "Epoch 112/200\n",
            "3392/3392 [==============================] - 3s 836us/step - loss: 0.6021 - binary_accuracy: 0.6890 - val_loss: 0.7397 - val_binary_accuracy: 0.4297\n",
            "Epoch 113/200\n",
            "3392/3392 [==============================] - 3s 820us/step - loss: 0.6023 - binary_accuracy: 0.6819 - val_loss: 0.7659 - val_binary_accuracy: 0.4089\n",
            "Epoch 114/200\n",
            "3392/3392 [==============================] - 3s 827us/step - loss: 0.6017 - binary_accuracy: 0.6863 - val_loss: 0.7469 - val_binary_accuracy: 0.4245\n",
            "Epoch 115/200\n",
            "3392/3392 [==============================] - 3s 822us/step - loss: 0.5991 - binary_accuracy: 0.6975 - val_loss: 0.7985 - val_binary_accuracy: 0.4141\n",
            "Epoch 116/200\n",
            "3392/3392 [==============================] - 3s 828us/step - loss: 0.6003 - binary_accuracy: 0.6904 - val_loss: 0.7612 - val_binary_accuracy: 0.4193\n",
            "Epoch 117/200\n",
            "3392/3392 [==============================] - 3s 823us/step - loss: 0.5963 - binary_accuracy: 0.6904 - val_loss: 0.7465 - val_binary_accuracy: 0.4219\n",
            "Epoch 118/200\n",
            "3392/3392 [==============================] - 3s 823us/step - loss: 0.6028 - binary_accuracy: 0.6828 - val_loss: 0.7855 - val_binary_accuracy: 0.4115\n",
            "Epoch 119/200\n",
            "3392/3392 [==============================] - 3s 825us/step - loss: 0.6019 - binary_accuracy: 0.6934 - val_loss: 0.7373 - val_binary_accuracy: 0.4167\n",
            "Epoch 120/200\n",
            "3392/3392 [==============================] - 3s 832us/step - loss: 0.6010 - binary_accuracy: 0.6878 - val_loss: 0.7961 - val_binary_accuracy: 0.4010\n",
            "Epoch 121/200\n",
            "3392/3392 [==============================] - 3s 827us/step - loss: 0.5970 - binary_accuracy: 0.6881 - val_loss: 0.7545 - val_binary_accuracy: 0.4271\n",
            "Epoch 122/200\n",
            "3392/3392 [==============================] - 3s 824us/step - loss: 0.5965 - binary_accuracy: 0.6952 - val_loss: 0.7514 - val_binary_accuracy: 0.4271\n",
            "Epoch 123/200\n",
            "3392/3392 [==============================] - 3s 827us/step - loss: 0.5966 - binary_accuracy: 0.6893 - val_loss: 0.7789 - val_binary_accuracy: 0.4115\n",
            "Epoch 124/200\n",
            "3392/3392 [==============================] - 3s 825us/step - loss: 0.5965 - binary_accuracy: 0.6866 - val_loss: 0.7455 - val_binary_accuracy: 0.4245\n",
            "Epoch 125/200\n",
            "3392/3392 [==============================] - 3s 818us/step - loss: 0.5956 - binary_accuracy: 0.6922 - val_loss: 0.7348 - val_binary_accuracy: 0.4531\n",
            "Epoch 126/200\n",
            "3392/3392 [==============================] - 3s 822us/step - loss: 0.5982 - binary_accuracy: 0.6919 - val_loss: 0.7640 - val_binary_accuracy: 0.4219\n",
            "Epoch 127/200\n",
            "3392/3392 [==============================] - 3s 818us/step - loss: 0.5955 - binary_accuracy: 0.6966 - val_loss: 0.7535 - val_binary_accuracy: 0.4297\n",
            "Epoch 128/200\n",
            "3392/3392 [==============================] - 3s 822us/step - loss: 0.5946 - binary_accuracy: 0.6875 - val_loss: 0.7923 - val_binary_accuracy: 0.4089\n",
            "Epoch 129/200\n",
            "3392/3392 [==============================] - 3s 813us/step - loss: 0.5950 - binary_accuracy: 0.6931 - val_loss: 0.7369 - val_binary_accuracy: 0.4297\n",
            "Epoch 130/200\n",
            "3392/3392 [==============================] - 3s 825us/step - loss: 0.5941 - binary_accuracy: 0.6913 - val_loss: 0.7455 - val_binary_accuracy: 0.4531\n",
            "Epoch 131/200\n",
            "3392/3392 [==============================] - 3s 821us/step - loss: 0.5993 - binary_accuracy: 0.6940 - val_loss: 0.8341 - val_binary_accuracy: 0.3906\n",
            "Epoch 132/200\n",
            "3392/3392 [==============================] - 3s 819us/step - loss: 0.5919 - binary_accuracy: 0.6981 - val_loss: 0.7359 - val_binary_accuracy: 0.4505\n",
            "Epoch 133/200\n",
            "3392/3392 [==============================] - 3s 827us/step - loss: 0.5948 - binary_accuracy: 0.6863 - val_loss: 0.7390 - val_binary_accuracy: 0.4479\n",
            "Epoch 134/200\n",
            "3392/3392 [==============================] - 3s 821us/step - loss: 0.5898 - binary_accuracy: 0.6922 - val_loss: 0.7249 - val_binary_accuracy: 0.4661\n",
            "Epoch 135/200\n",
            "3392/3392 [==============================] - 3s 831us/step - loss: 0.5879 - binary_accuracy: 0.6987 - val_loss: 0.7337 - val_binary_accuracy: 0.4635\n",
            "Epoch 136/200\n",
            "3392/3392 [==============================] - 3s 816us/step - loss: 0.5923 - binary_accuracy: 0.6972 - val_loss: 0.7755 - val_binary_accuracy: 0.4323\n",
            "Epoch 137/200\n",
            "3392/3392 [==============================] - 3s 820us/step - loss: 0.5904 - binary_accuracy: 0.6919 - val_loss: 0.7838 - val_binary_accuracy: 0.4271\n",
            "Epoch 138/200\n",
            "3392/3392 [==============================] - 3s 821us/step - loss: 0.5891 - binary_accuracy: 0.6960 - val_loss: 0.7653 - val_binary_accuracy: 0.4115\n",
            "Epoch 139/200\n",
            "3392/3392 [==============================] - 3s 824us/step - loss: 0.5877 - binary_accuracy: 0.6955 - val_loss: 0.7654 - val_binary_accuracy: 0.4297\n",
            "Epoch 140/200\n",
            "3392/3392 [==============================] - 3s 819us/step - loss: 0.5889 - binary_accuracy: 0.6899 - val_loss: 0.7227 - val_binary_accuracy: 0.4583\n",
            "Epoch 141/200\n",
            "3392/3392 [==============================] - 3s 828us/step - loss: 0.5897 - binary_accuracy: 0.6981 - val_loss: 0.7119 - val_binary_accuracy: 0.5000\n",
            "Epoch 142/200\n",
            "3392/3392 [==============================] - 3s 829us/step - loss: 0.5871 - binary_accuracy: 0.6972 - val_loss: 0.7859 - val_binary_accuracy: 0.4115\n",
            "Epoch 143/200\n",
            "3392/3392 [==============================] - 3s 828us/step - loss: 0.5865 - binary_accuracy: 0.6940 - val_loss: 0.7578 - val_binary_accuracy: 0.4323\n",
            "Epoch 144/200\n",
            "3392/3392 [==============================] - 3s 827us/step - loss: 0.5903 - binary_accuracy: 0.6996 - val_loss: 0.7537 - val_binary_accuracy: 0.4505\n",
            "Epoch 145/200\n",
            "3392/3392 [==============================] - 3s 824us/step - loss: 0.5870 - binary_accuracy: 0.6966 - val_loss: 0.7544 - val_binary_accuracy: 0.4193\n",
            "Epoch 146/200\n",
            "3392/3392 [==============================] - 3s 828us/step - loss: 0.5831 - binary_accuracy: 0.7034 - val_loss: 0.7518 - val_binary_accuracy: 0.4609\n",
            "Epoch 147/200\n",
            "3392/3392 [==============================] - 3s 824us/step - loss: 0.5859 - binary_accuracy: 0.6969 - val_loss: 0.7469 - val_binary_accuracy: 0.4219\n",
            "Epoch 148/200\n",
            "3392/3392 [==============================] - 3s 832us/step - loss: 0.5824 - binary_accuracy: 0.7008 - val_loss: 0.7654 - val_binary_accuracy: 0.4297\n",
            "Epoch 149/200\n",
            "3392/3392 [==============================] - 3s 818us/step - loss: 0.5846 - binary_accuracy: 0.6978 - val_loss: 0.7512 - val_binary_accuracy: 0.4271\n",
            "Epoch 150/200\n",
            "3392/3392 [==============================] - 3s 835us/step - loss: 0.5818 - binary_accuracy: 0.7037 - val_loss: 0.7701 - val_binary_accuracy: 0.4219\n",
            "Epoch 151/200\n",
            "3392/3392 [==============================] - 3s 832us/step - loss: 0.5859 - binary_accuracy: 0.7008 - val_loss: 0.7280 - val_binary_accuracy: 0.4635\n",
            "Epoch 152/200\n",
            "3392/3392 [==============================] - 3s 824us/step - loss: 0.5807 - binary_accuracy: 0.7028 - val_loss: 0.7239 - val_binary_accuracy: 0.4792\n",
            "Epoch 153/200\n",
            "3392/3392 [==============================] - 3s 822us/step - loss: 0.5843 - binary_accuracy: 0.6987 - val_loss: 0.7290 - val_binary_accuracy: 0.4635\n",
            "Epoch 154/200\n",
            "3392/3392 [==============================] - 3s 824us/step - loss: 0.5832 - binary_accuracy: 0.6993 - val_loss: 0.7342 - val_binary_accuracy: 0.4635\n",
            "Epoch 155/200\n",
            "3392/3392 [==============================] - 3s 832us/step - loss: 0.5790 - binary_accuracy: 0.7034 - val_loss: 0.7607 - val_binary_accuracy: 0.4323\n",
            "Epoch 156/200\n",
            "3392/3392 [==============================] - 3s 825us/step - loss: 0.5796 - binary_accuracy: 0.7090 - val_loss: 0.7440 - val_binary_accuracy: 0.4401\n",
            "Epoch 157/200\n",
            "3392/3392 [==============================] - 3s 816us/step - loss: 0.5815 - binary_accuracy: 0.7061 - val_loss: 0.8349 - val_binary_accuracy: 0.4167\n",
            "Epoch 158/200\n",
            "3392/3392 [==============================] - 3s 828us/step - loss: 0.5794 - binary_accuracy: 0.7052 - val_loss: 0.7188 - val_binary_accuracy: 0.5078\n",
            "Epoch 159/200\n",
            "3392/3392 [==============================] - 3s 814us/step - loss: 0.5815 - binary_accuracy: 0.6902 - val_loss: 0.7154 - val_binary_accuracy: 0.4453\n",
            "Epoch 160/200\n",
            "3392/3392 [==============================] - 3s 829us/step - loss: 0.5766 - binary_accuracy: 0.7037 - val_loss: 0.7988 - val_binary_accuracy: 0.4297\n",
            "Epoch 161/200\n",
            "3392/3392 [==============================] - 3s 817us/step - loss: 0.5758 - binary_accuracy: 0.7014 - val_loss: 0.7318 - val_binary_accuracy: 0.4688\n",
            "Epoch 162/200\n",
            "3392/3392 [==============================] - 3s 830us/step - loss: 0.5762 - binary_accuracy: 0.7073 - val_loss: 0.7336 - val_binary_accuracy: 0.4714\n",
            "Epoch 163/200\n",
            "3392/3392 [==============================] - 3s 846us/step - loss: 0.5795 - binary_accuracy: 0.7011 - val_loss: 0.7643 - val_binary_accuracy: 0.4219\n",
            "Epoch 164/200\n",
            "3392/3392 [==============================] - 3s 865us/step - loss: 0.5765 - binary_accuracy: 0.7087 - val_loss: 0.7354 - val_binary_accuracy: 0.4896\n",
            "Epoch 165/200\n",
            "3392/3392 [==============================] - 3s 875us/step - loss: 0.5703 - binary_accuracy: 0.7087 - val_loss: 0.8024 - val_binary_accuracy: 0.4297\n",
            "Epoch 166/200\n",
            "3392/3392 [==============================] - 3s 861us/step - loss: 0.5723 - binary_accuracy: 0.7090 - val_loss: 0.8008 - val_binary_accuracy: 0.4323\n",
            "Epoch 167/200\n",
            "3392/3392 [==============================] - 3s 829us/step - loss: 0.5774 - binary_accuracy: 0.7090 - val_loss: 0.7607 - val_binary_accuracy: 0.4323\n",
            "Epoch 168/200\n",
            "3392/3392 [==============================] - 3s 827us/step - loss: 0.5690 - binary_accuracy: 0.7067 - val_loss: 0.7810 - val_binary_accuracy: 0.4375\n",
            "Epoch 169/200\n",
            "3392/3392 [==============================] - 3s 823us/step - loss: 0.5702 - binary_accuracy: 0.7049 - val_loss: 0.7047 - val_binary_accuracy: 0.5365\n",
            "Epoch 170/200\n",
            "3392/3392 [==============================] - 3s 829us/step - loss: 0.5738 - binary_accuracy: 0.7146 - val_loss: 0.8617 - val_binary_accuracy: 0.4062\n",
            "Epoch 171/200\n",
            "3392/3392 [==============================] - 3s 827us/step - loss: 0.5682 - binary_accuracy: 0.7096 - val_loss: 0.8085 - val_binary_accuracy: 0.4297\n",
            "Epoch 172/200\n",
            "3392/3392 [==============================] - 3s 825us/step - loss: 0.5720 - binary_accuracy: 0.7081 - val_loss: 0.6968 - val_binary_accuracy: 0.5156\n",
            "Epoch 173/200\n",
            "3392/3392 [==============================] - 3s 829us/step - loss: 0.5716 - binary_accuracy: 0.7152 - val_loss: 0.7996 - val_binary_accuracy: 0.4297\n",
            "Epoch 174/200\n",
            "3392/3392 [==============================] - 3s 816us/step - loss: 0.5695 - binary_accuracy: 0.7046 - val_loss: 0.8502 - val_binary_accuracy: 0.4089\n",
            "Epoch 175/200\n",
            "3392/3392 [==============================] - 3s 821us/step - loss: 0.5681 - binary_accuracy: 0.7096 - val_loss: 0.8552 - val_binary_accuracy: 0.4089\n",
            "Epoch 176/200\n",
            "3392/3392 [==============================] - 3s 815us/step - loss: 0.5689 - binary_accuracy: 0.7081 - val_loss: 0.7864 - val_binary_accuracy: 0.4323\n",
            "Epoch 177/200\n",
            "3392/3392 [==============================] - 3s 824us/step - loss: 0.5693 - binary_accuracy: 0.7093 - val_loss: 0.7657 - val_binary_accuracy: 0.4349\n",
            "Epoch 178/200\n",
            "3392/3392 [==============================] - 3s 817us/step - loss: 0.5713 - binary_accuracy: 0.7075 - val_loss: 0.7436 - val_binary_accuracy: 0.4870\n",
            "Epoch 179/200\n",
            "3392/3392 [==============================] - 3s 819us/step - loss: 0.5691 - binary_accuracy: 0.7114 - val_loss: 0.7981 - val_binary_accuracy: 0.4219\n",
            "Epoch 180/200\n",
            "3392/3392 [==============================] - 3s 827us/step - loss: 0.5665 - binary_accuracy: 0.7129 - val_loss: 0.8559 - val_binary_accuracy: 0.4271\n",
            "Epoch 181/200\n",
            "3392/3392 [==============================] - 3s 831us/step - loss: 0.5706 - binary_accuracy: 0.7084 - val_loss: 0.7447 - val_binary_accuracy: 0.4870\n",
            "Epoch 182/200\n",
            "3392/3392 [==============================] - 3s 826us/step - loss: 0.5701 - binary_accuracy: 0.7081 - val_loss: 0.7866 - val_binary_accuracy: 0.4349\n",
            "Epoch 183/200\n",
            "3392/3392 [==============================] - 3s 830us/step - loss: 0.5690 - binary_accuracy: 0.7137 - val_loss: 0.8184 - val_binary_accuracy: 0.4219\n",
            "Epoch 184/200\n",
            "3392/3392 [==============================] - 3s 830us/step - loss: 0.5583 - binary_accuracy: 0.7208 - val_loss: 0.7780 - val_binary_accuracy: 0.4766\n",
            "Epoch 185/200\n",
            "3392/3392 [==============================] - 3s 828us/step - loss: 0.5651 - binary_accuracy: 0.7131 - val_loss: 0.7922 - val_binary_accuracy: 0.4453\n",
            "Epoch 186/200\n",
            "3392/3392 [==============================] - 3s 826us/step - loss: 0.5654 - binary_accuracy: 0.7202 - val_loss: 0.7090 - val_binary_accuracy: 0.5417\n",
            "Epoch 187/200\n",
            "3392/3392 [==============================] - 3s 815us/step - loss: 0.5689 - binary_accuracy: 0.7061 - val_loss: 0.7115 - val_binary_accuracy: 0.5078\n",
            "Epoch 188/200\n",
            "3392/3392 [==============================] - 3s 823us/step - loss: 0.5556 - binary_accuracy: 0.7190 - val_loss: 0.8299 - val_binary_accuracy: 0.4219\n",
            "Epoch 189/200\n",
            "3392/3392 [==============================] - 3s 835us/step - loss: 0.5663 - binary_accuracy: 0.7140 - val_loss: 0.9473 - val_binary_accuracy: 0.4115\n",
            "Epoch 190/200\n",
            "3392/3392 [==============================] - 3s 860us/step - loss: 0.5597 - binary_accuracy: 0.7155 - val_loss: 0.8075 - val_binary_accuracy: 0.4453\n",
            "Epoch 191/200\n",
            "3392/3392 [==============================] - 3s 864us/step - loss: 0.5602 - binary_accuracy: 0.7123 - val_loss: 0.7895 - val_binary_accuracy: 0.4375\n",
            "Epoch 192/200\n",
            "3392/3392 [==============================] - 3s 827us/step - loss: 0.5575 - binary_accuracy: 0.7199 - val_loss: 0.8457 - val_binary_accuracy: 0.4323\n",
            "Epoch 193/200\n",
            "3392/3392 [==============================] - 3s 827us/step - loss: 0.5662 - binary_accuracy: 0.7143 - val_loss: 0.7470 - val_binary_accuracy: 0.5000\n",
            "Epoch 194/200\n",
            "3392/3392 [==============================] - 3s 820us/step - loss: 0.5686 - binary_accuracy: 0.7073 - val_loss: 0.7542 - val_binary_accuracy: 0.4401\n",
            "Epoch 195/200\n",
            "3392/3392 [==============================] - 3s 819us/step - loss: 0.5601 - binary_accuracy: 0.7188 - val_loss: 0.8131 - val_binary_accuracy: 0.4349\n",
            "Epoch 196/200\n",
            "3392/3392 [==============================] - 3s 817us/step - loss: 0.5611 - binary_accuracy: 0.7099 - val_loss: 0.9124 - val_binary_accuracy: 0.4062\n",
            "Epoch 197/200\n",
            "3392/3392 [==============================] - 3s 823us/step - loss: 0.5587 - binary_accuracy: 0.7241 - val_loss: 0.7131 - val_binary_accuracy: 0.5339\n",
            "Epoch 198/200\n",
            "3392/3392 [==============================] - 3s 819us/step - loss: 0.5607 - binary_accuracy: 0.7214 - val_loss: 0.8308 - val_binary_accuracy: 0.4271\n",
            "Epoch 199/200\n",
            "3392/3392 [==============================] - 3s 823us/step - loss: 0.5568 - binary_accuracy: 0.7241 - val_loss: 0.7228 - val_binary_accuracy: 0.5286\n",
            "Epoch 200/200\n",
            "3392/3392 [==============================] - 3s 822us/step - loss: 0.5640 - binary_accuracy: 0.7096 - val_loss: 0.7873 - val_binary_accuracy: 0.4505\n"
          ],
          "name": "stdout"
        }
      ]
    },
    {
      "cell_type": "code",
      "metadata": {
        "id": "ENuq6l5k2JQb",
        "colab_type": "code",
        "colab": {
          "base_uri": "https://localhost:8080/",
          "height": 295
        },
        "outputId": "7fa4d10b-0337-4e63-9d16-4b2a7a777686"
      },
      "source": [
        "plt.plot(history.history['binary_accuracy'])\n",
        "plt.plot(history.history['val_binary_accuracy'])\n",
        "plt.title('model accuracy with window length 10')\n",
        "plt.ylabel('accuracy')\n",
        "plt.xlabel('epoch')\n",
        "plt.legend(['train', 'val'], loc='upper left')\n",
        "plt.show()"
      ],
      "execution_count": 76,
      "outputs": [
        {
          "output_type": "display_data",
          "data": {
            "image/png": "[encoded data removed]",
            "text/plain": [
              "<Figure size 432x288 with 1 Axes>"
            ]
          },
          "metadata": {
            "tags": [],
            "needs_background": "light"
          }
        }
      ]
    },
    {
      "cell_type": "code",
      "metadata": {
        "id": "IkP8UGQN2OXp",
        "colab_type": "code",
        "colab": {
          "base_uri": "https://localhost:8080/",
          "height": 295
        },
        "outputId": "44a725a3-dc3b-449f-ac31-3fe4990231b0"
      },
      "source": [
        "plt.plot(history.history['loss'])\n",
        "plt.plot(history.history['val_loss'])\n",
        "plt.title('model loss with window length 10')\n",
        "plt.ylabel('loss')\n",
        "plt.xlabel('epoch')\n",
        "plt.legend(['train', 'val'], loc='upper left')\n",
        "plt.show()"
      ],
      "execution_count": 77,
      "outputs": [
        {
          "output_type": "display_data",
          "data": {
            "image/png": "[encoded data removed]",
            "text/plain": [
              "<Figure size 432x288 with 1 Axes>"
            ]
          },
          "metadata": {
            "tags": [],
            "needs_background": "light"
          }
        }
      ]
    },
    {
      "cell_type": "code",
      "metadata": {
        "id": "_Kckd-4U3ARe",
        "colab_type": "code",
        "colab": {
          "base_uri": "https://localhost:8080/",
          "height": 54
        },
        "outputId": "f7782367-e4de-43ca-d475-b1c06eabb3a7"
      },
      "source": [
        "results = model.evaluate(testing_data, testing_labels)\n",
        "print('for window length 10 we have: test loss, test acc:', results)"
      ],
      "execution_count": 78,
      "outputs": [
        {
          "output_type": "stream",
          "text": [
            "160/160 [==============================] - 0s 143us/step\n",
            "for window length 10 we have: test loss, test acc: [0.6843322530388832, 0.5562499761581421]\n"
          ],
          "name": "stdout"
        }
      ]
    },
    {
      "cell_type": "markdown",
      "metadata": {
        "id": "h_KdDQmtXoxo",
        "colab_type": "text"
      },
      "source": [
        "**Next, we train the model with window size 20 to see how the increase of window size affects the test accuracy**"
      ]
    },
    {
      "cell_type": "code",
      "metadata": {
        "id": "-DhfQNH73Pbt",
        "colab_type": "code",
        "colab": {
          "base_uri": "https://localhost:8080/",
          "height": 458
        },
        "outputId": "baec1a33-acb1-4d1f-a84b-8251996f406f"
      },
      "source": [
        "training_data, training_labels, validation_data, validation_labels, testing_data, testing_labels = \\\n",
        "      generate_datasets_for_model(data, labels, stock_with_max_trading_days, training_start, training_end, testing_start, testing_end, window_in_days=20)\n",
        "\n",
        "model = build_model(training_data.shape, optimizer)\n",
        "\n",
        "model.summary()"
      ],
      "execution_count": 96,
      "outputs": [
        {
          "output_type": "stream",
          "text": [
            "Model: \"sequential_9\"\n",
            "_________________________________________________________________\n",
            "Layer (type)                 Output Shape              Param #   \n",
            "=================================================================\n",
            "lstm_9 (LSTM)                (None, 64)                17920     \n",
            "_________________________________________________________________\n",
            "dense_33 (Dense)             (None, 32)                2080      \n",
            "_________________________________________________________________\n",
            "dropout_9 (Dropout)          (None, 32)                0         \n",
            "_________________________________________________________________\n",
            "dense_34 (Dense)             (None, 16)                528       \n",
            "_________________________________________________________________\n",
            "batch_normalization_9 (Batch (None, 16)                64        \n",
            "_________________________________________________________________\n",
            "dense_35 (Dense)             (None, 4)                 68        \n",
            "_________________________________________________________________\n",
            "dense_36 (Dense)             (None, 1)                 5         \n",
            "_________________________________________________________________\n",
            "activation_9 (Activation)    (None, 1)                 0         \n",
            "=================================================================\n",
            "Total params: 20,665\n",
            "Trainable params: 20,633\n",
            "Non-trainable params: 32\n",
            "_________________________________________________________________\n"
          ],
          "name": "stdout"
        }
      ]
    },
    {
      "cell_type": "code",
      "metadata": {
        "id": "0WtSPqfSJwbu",
        "colab_type": "code",
        "colab": {
          "base_uri": "https://localhost:8080/",
          "height": 1000
        },
        "outputId": "95056f9f-aa70-45c7-ed14-416672791d14"
      },
      "source": [
        "history = model.fit(training_data, training_labels,\n",
        "                    batch_size=32,\n",
        "                    epochs=200,\n",
        "                    shuffle=False,\n",
        "                    validation_data=(validation_data, validation_labels))"
      ],
      "execution_count": 97,
      "outputs": [
        {
          "output_type": "stream",
          "text": [
            "Train on 3008 samples, validate on 768 samples\n",
            "Epoch 1/200\n",
            "3008/3008 [==============================] - 5s 2ms/step - loss: 0.6928 - binary_accuracy: 0.5814 - val_loss: 0.6701 - val_binary_accuracy: 0.6185\n",
            "Epoch 2/200\n",
            "3008/3008 [==============================] - 4s 1ms/step - loss: 0.6714 - binary_accuracy: 0.6024 - val_loss: 0.7056 - val_binary_accuracy: 0.6185\n",
            "Epoch 3/200\n",
            "3008/3008 [==============================] - 4s 1ms/step - loss: 0.6651 - binary_accuracy: 0.6100 - val_loss: 0.7085 - val_binary_accuracy: 0.5951\n",
            "Epoch 4/200\n",
            "3008/3008 [==============================] - 4s 1ms/step - loss: 0.6656 - binary_accuracy: 0.6174 - val_loss: 0.7348 - val_binary_accuracy: 0.5938\n",
            "Epoch 5/200\n",
            "3008/3008 [==============================] - 4s 1ms/step - loss: 0.6600 - binary_accuracy: 0.6223 - val_loss: 0.8933 - val_binary_accuracy: 0.5951\n",
            "Epoch 6/200\n",
            "3008/3008 [==============================] - 4s 1ms/step - loss: 0.6578 - binary_accuracy: 0.6190 - val_loss: 0.9630 - val_binary_accuracy: 0.5977\n",
            "Epoch 7/200\n",
            "3008/3008 [==============================] - 4s 1ms/step - loss: 0.6571 - binary_accuracy: 0.6277 - val_loss: 1.0669 - val_binary_accuracy: 0.5977\n",
            "Epoch 8/200\n",
            "3008/3008 [==============================] - 4s 1ms/step - loss: 0.6590 - binary_accuracy: 0.6250 - val_loss: 0.9479 - val_binary_accuracy: 0.5951\n",
            "Epoch 9/200\n",
            "3008/3008 [==============================] - 4s 1ms/step - loss: 0.6517 - binary_accuracy: 0.6330 - val_loss: 1.1294 - val_binary_accuracy: 0.5977\n",
            "Epoch 10/200\n",
            "3008/3008 [==============================] - 4s 1ms/step - loss: 0.6519 - binary_accuracy: 0.6300 - val_loss: 1.0230 - val_binary_accuracy: 0.5964\n",
            "Epoch 11/200\n",
            "3008/3008 [==============================] - 4s 1ms/step - loss: 0.6512 - binary_accuracy: 0.6323 - val_loss: 0.9153 - val_binary_accuracy: 0.5964\n",
            "Epoch 12/200\n",
            "3008/3008 [==============================] - 4s 1ms/step - loss: 0.6525 - binary_accuracy: 0.6297 - val_loss: 0.9685 - val_binary_accuracy: 0.5951\n",
            "Epoch 13/200\n",
            "3008/3008 [==============================] - 4s 1ms/step - loss: 0.6523 - binary_accuracy: 0.6210 - val_loss: 0.9806 - val_binary_accuracy: 0.5977\n",
            "Epoch 14/200\n",
            "3008/3008 [==============================] - 4s 1ms/step - loss: 0.6488 - binary_accuracy: 0.6313 - val_loss: 0.9108 - val_binary_accuracy: 0.5951\n",
            "Epoch 15/200\n",
            "3008/3008 [==============================] - 4s 1ms/step - loss: 0.6502 - binary_accuracy: 0.6370 - val_loss: 0.8940 - val_binary_accuracy: 0.5951\n",
            "Epoch 16/200\n",
            "3008/3008 [==============================] - 4s 1ms/step - loss: 0.6480 - binary_accuracy: 0.6310 - val_loss: 0.8076 - val_binary_accuracy: 0.5964\n",
            "Epoch 17/200\n",
            "3008/3008 [==============================] - 4s 1ms/step - loss: 0.6440 - binary_accuracy: 0.6310 - val_loss: 0.9588 - val_binary_accuracy: 0.5977\n",
            "Epoch 18/200\n",
            "3008/3008 [==============================] - 4s 1ms/step - loss: 0.6482 - binary_accuracy: 0.6243 - val_loss: 0.8268 - val_binary_accuracy: 0.5964\n",
            "Epoch 19/200\n",
            "3008/3008 [==============================] - 5s 2ms/step - loss: 0.6487 - binary_accuracy: 0.6283 - val_loss: 0.8097 - val_binary_accuracy: 0.5964\n",
            "Epoch 20/200\n",
            "3008/3008 [==============================] - 5s 2ms/step - loss: 0.6414 - binary_accuracy: 0.6423 - val_loss: 0.7948 - val_binary_accuracy: 0.5977\n",
            "Epoch 21/200\n",
            "3008/3008 [==============================] - 4s 1ms/step - loss: 0.6482 - binary_accuracy: 0.6257 - val_loss: 0.8732 - val_binary_accuracy: 0.5964\n",
            "Epoch 22/200\n",
            "3008/3008 [==============================] - 4s 1ms/step - loss: 0.6443 - binary_accuracy: 0.6280 - val_loss: 0.8129 - val_binary_accuracy: 0.5260\n",
            "Epoch 23/200\n",
            "3008/3008 [==============================] - 4s 1ms/step - loss: 0.6463 - binary_accuracy: 0.6280 - val_loss: 0.7894 - val_binary_accuracy: 0.5065\n",
            "Epoch 24/200\n",
            "3008/3008 [==============================] - 4s 1ms/step - loss: 0.6435 - binary_accuracy: 0.6300 - val_loss: 0.7981 - val_binary_accuracy: 0.5977\n",
            "Epoch 25/200\n",
            "3008/3008 [==============================] - 4s 1ms/step - loss: 0.6476 - binary_accuracy: 0.6277 - val_loss: 0.7735 - val_binary_accuracy: 0.5312\n",
            "Epoch 26/200\n",
            "3008/3008 [==============================] - 4s 1ms/step - loss: 0.6451 - binary_accuracy: 0.6293 - val_loss: 0.7872 - val_binary_accuracy: 0.5964\n",
            "Epoch 27/200\n",
            "3008/3008 [==============================] - 4s 1ms/step - loss: 0.6439 - binary_accuracy: 0.6336 - val_loss: 0.8709 - val_binary_accuracy: 0.5964\n",
            "Epoch 28/200\n",
            "3008/3008 [==============================] - 4s 1ms/step - loss: 0.6462 - binary_accuracy: 0.6320 - val_loss: 0.8088 - val_binary_accuracy: 0.6016\n",
            "Epoch 29/200\n",
            "3008/3008 [==============================] - 5s 2ms/step - loss: 0.6392 - binary_accuracy: 0.6373 - val_loss: 0.8784 - val_binary_accuracy: 0.5977\n",
            "Epoch 30/200\n",
            "3008/3008 [==============================] - 4s 1ms/step - loss: 0.6415 - binary_accuracy: 0.6373 - val_loss: 0.7741 - val_binary_accuracy: 0.5846\n",
            "Epoch 31/200\n",
            "3008/3008 [==============================] - 4s 1ms/step - loss: 0.6434 - binary_accuracy: 0.6247 - val_loss: 0.8270 - val_binary_accuracy: 0.5234\n",
            "Epoch 32/200\n",
            "3008/3008 [==============================] - 4s 1ms/step - loss: 0.6371 - binary_accuracy: 0.6383 - val_loss: 0.7861 - val_binary_accuracy: 0.4883\n",
            "Epoch 33/200\n",
            "3008/3008 [==============================] - 4s 1ms/step - loss: 0.6364 - binary_accuracy: 0.6393 - val_loss: 0.7796 - val_binary_accuracy: 0.5234\n",
            "Epoch 34/200\n",
            "3008/3008 [==============================] - 4s 1ms/step - loss: 0.6406 - binary_accuracy: 0.6390 - val_loss: 0.7709 - val_binary_accuracy: 0.5260\n",
            "Epoch 35/200\n",
            "3008/3008 [==============================] - 4s 1ms/step - loss: 0.6429 - binary_accuracy: 0.6270 - val_loss: 0.7774 - val_binary_accuracy: 0.5964\n",
            "Epoch 36/200\n",
            "3008/3008 [==============================] - 4s 1ms/step - loss: 0.6357 - binary_accuracy: 0.6373 - val_loss: 0.7556 - val_binary_accuracy: 0.5951\n",
            "Epoch 37/200\n",
            "3008/3008 [==============================] - 4s 1ms/step - loss: 0.6394 - binary_accuracy: 0.6310 - val_loss: 0.7868 - val_binary_accuracy: 0.4987\n",
            "Epoch 38/200\n",
            "3008/3008 [==============================] - 4s 1ms/step - loss: 0.6402 - binary_accuracy: 0.6403 - val_loss: 0.7628 - val_binary_accuracy: 0.5026\n",
            "Epoch 39/200\n",
            "3008/3008 [==============================] - 4s 1ms/step - loss: 0.6390 - binary_accuracy: 0.6413 - val_loss: 0.7574 - val_binary_accuracy: 0.5117\n",
            "Epoch 40/200\n",
            "3008/3008 [==============================] - 4s 1ms/step - loss: 0.6368 - binary_accuracy: 0.6430 - val_loss: 0.7334 - val_binary_accuracy: 0.5859\n",
            "Epoch 41/200\n",
            "3008/3008 [==============================] - 4s 1ms/step - loss: 0.6412 - binary_accuracy: 0.6343 - val_loss: 0.7671 - val_binary_accuracy: 0.5039\n",
            "Epoch 42/200\n",
            "3008/3008 [==============================] - 4s 1ms/step - loss: 0.6373 - binary_accuracy: 0.6376 - val_loss: 0.7562 - val_binary_accuracy: 0.5260\n",
            "Epoch 43/200\n",
            "3008/3008 [==============================] - 4s 1ms/step - loss: 0.6356 - binary_accuracy: 0.6336 - val_loss: 0.7459 - val_binary_accuracy: 0.5065\n",
            "Epoch 44/200\n",
            "3008/3008 [==============================] - 4s 1ms/step - loss: 0.6330 - binary_accuracy: 0.6426 - val_loss: 0.7479 - val_binary_accuracy: 0.5247\n",
            "Epoch 45/200\n",
            "3008/3008 [==============================] - 4s 1ms/step - loss: 0.6399 - binary_accuracy: 0.6366 - val_loss: 0.7360 - val_binary_accuracy: 0.5182\n",
            "Epoch 46/200\n",
            "3008/3008 [==============================] - 4s 1ms/step - loss: 0.6343 - binary_accuracy: 0.6479 - val_loss: 0.7518 - val_binary_accuracy: 0.5221\n",
            "Epoch 47/200\n",
            "3008/3008 [==============================] - 4s 1ms/step - loss: 0.6336 - binary_accuracy: 0.6489 - val_loss: 0.7589 - val_binary_accuracy: 0.5000\n",
            "Epoch 48/200\n",
            "3008/3008 [==============================] - 4s 1ms/step - loss: 0.6342 - binary_accuracy: 0.6403 - val_loss: 0.7502 - val_binary_accuracy: 0.5065\n",
            "Epoch 49/200\n",
            "3008/3008 [==============================] - 4s 1ms/step - loss: 0.6295 - binary_accuracy: 0.6473 - val_loss: 0.7428 - val_binary_accuracy: 0.5286\n",
            "Epoch 50/200\n",
            "3008/3008 [==============================] - 4s 1ms/step - loss: 0.6353 - binary_accuracy: 0.6353 - val_loss: 0.7630 - val_binary_accuracy: 0.5156\n",
            "Epoch 51/200\n",
            "3008/3008 [==============================] - 4s 1ms/step - loss: 0.6331 - binary_accuracy: 0.6393 - val_loss: 0.7474 - val_binary_accuracy: 0.5312\n",
            "Epoch 52/200\n",
            "3008/3008 [==============================] - 4s 1ms/step - loss: 0.6303 - binary_accuracy: 0.6479 - val_loss: 0.7497 - val_binary_accuracy: 0.5065\n",
            "Epoch 53/200\n",
            "3008/3008 [==============================] - 4s 1ms/step - loss: 0.6319 - binary_accuracy: 0.6430 - val_loss: 0.7545 - val_binary_accuracy: 0.5234\n",
            "Epoch 54/200\n",
            "3008/3008 [==============================] - 4s 1ms/step - loss: 0.6317 - binary_accuracy: 0.6486 - val_loss: 0.7535 - val_binary_accuracy: 0.5169\n",
            "Epoch 55/200\n",
            "3008/3008 [==============================] - 4s 1ms/step - loss: 0.6291 - binary_accuracy: 0.6503 - val_loss: 0.7487 - val_binary_accuracy: 0.5182\n",
            "Epoch 56/200\n",
            "3008/3008 [==============================] - 4s 1ms/step - loss: 0.6296 - binary_accuracy: 0.6523 - val_loss: 0.7575 - val_binary_accuracy: 0.5104\n",
            "Epoch 57/200\n",
            "3008/3008 [==============================] - 4s 1ms/step - loss: 0.6278 - binary_accuracy: 0.6499 - val_loss: 0.7508 - val_binary_accuracy: 0.5221\n",
            "Epoch 58/200\n",
            "3008/3008 [==============================] - 4s 1ms/step - loss: 0.6294 - binary_accuracy: 0.6469 - val_loss: 0.7339 - val_binary_accuracy: 0.5326\n",
            "Epoch 59/200\n",
            "3008/3008 [==============================] - 4s 1ms/step - loss: 0.6274 - binary_accuracy: 0.6526 - val_loss: 0.7729 - val_binary_accuracy: 0.4492\n",
            "Epoch 60/200\n",
            "3008/3008 [==============================] - 4s 1ms/step - loss: 0.6296 - binary_accuracy: 0.6496 - val_loss: 0.7297 - val_binary_accuracy: 0.5872\n",
            "Epoch 61/200\n",
            "3008/3008 [==============================] - 4s 1ms/step - loss: 0.6302 - binary_accuracy: 0.6446 - val_loss: 0.7395 - val_binary_accuracy: 0.5273\n",
            "Epoch 62/200\n",
            "3008/3008 [==============================] - 4s 1ms/step - loss: 0.6215 - binary_accuracy: 0.6569 - val_loss: 0.7643 - val_binary_accuracy: 0.4948\n",
            "Epoch 63/200\n",
            "3008/3008 [==============================] - 4s 1ms/step - loss: 0.6265 - binary_accuracy: 0.6556 - val_loss: 0.7568 - val_binary_accuracy: 0.5065\n",
            "Epoch 64/200\n",
            "3008/3008 [==============================] - 4s 1ms/step - loss: 0.6230 - binary_accuracy: 0.6596 - val_loss: 0.7414 - val_binary_accuracy: 0.4909\n",
            "Epoch 65/200\n",
            "3008/3008 [==============================] - 4s 1ms/step - loss: 0.6250 - binary_accuracy: 0.6536 - val_loss: 0.7601 - val_binary_accuracy: 0.5039\n",
            "Epoch 66/200\n",
            "3008/3008 [==============================] - 4s 1ms/step - loss: 0.6226 - binary_accuracy: 0.6612 - val_loss: 0.7545 - val_binary_accuracy: 0.4466\n",
            "Epoch 67/200\n",
            "3008/3008 [==============================] - 4s 1ms/step - loss: 0.6242 - binary_accuracy: 0.6549 - val_loss: 0.7679 - val_binary_accuracy: 0.4505\n",
            "Epoch 68/200\n",
            "3008/3008 [==============================] - 4s 1ms/step - loss: 0.6216 - binary_accuracy: 0.6622 - val_loss: 0.7567 - val_binary_accuracy: 0.4362\n",
            "Epoch 69/200\n",
            "3008/3008 [==============================] - 4s 1ms/step - loss: 0.6215 - binary_accuracy: 0.6636 - val_loss: 0.7357 - val_binary_accuracy: 0.5755\n",
            "Epoch 70/200\n",
            "3008/3008 [==============================] - 4s 1ms/step - loss: 0.6225 - binary_accuracy: 0.6579 - val_loss: 0.7714 - val_binary_accuracy: 0.5260\n",
            "Epoch 71/200\n",
            "3008/3008 [==============================] - 4s 1ms/step - loss: 0.6249 - binary_accuracy: 0.6529 - val_loss: 0.8341 - val_binary_accuracy: 0.4258\n",
            "Epoch 72/200\n",
            "3008/3008 [==============================] - 4s 1ms/step - loss: 0.6234 - binary_accuracy: 0.6476 - val_loss: 0.7365 - val_binary_accuracy: 0.5286\n",
            "Epoch 73/200\n",
            "3008/3008 [==============================] - 4s 1ms/step - loss: 0.6212 - binary_accuracy: 0.6606 - val_loss: 0.7366 - val_binary_accuracy: 0.4714\n",
            "Epoch 74/200\n",
            "3008/3008 [==============================] - 5s 2ms/step - loss: 0.6165 - binary_accuracy: 0.6679 - val_loss: 0.7217 - val_binary_accuracy: 0.5833\n",
            "Epoch 75/200\n",
            "3008/3008 [==============================] - 4s 1ms/step - loss: 0.6222 - binary_accuracy: 0.6546 - val_loss: 0.7218 - val_binary_accuracy: 0.5573\n",
            "Epoch 76/200\n",
            "3008/3008 [==============================] - 4s 1ms/step - loss: 0.6165 - binary_accuracy: 0.6662 - val_loss: 0.7158 - val_binary_accuracy: 0.5964\n",
            "Epoch 77/200\n",
            "3008/3008 [==============================] - 4s 1ms/step - loss: 0.6177 - binary_accuracy: 0.6676 - val_loss: 0.7917 - val_binary_accuracy: 0.4596\n",
            "Epoch 78/200\n",
            "3008/3008 [==============================] - 4s 1ms/step - loss: 0.6205 - binary_accuracy: 0.6689 - val_loss: 0.7268 - val_binary_accuracy: 0.6029\n",
            "Epoch 79/200\n",
            "3008/3008 [==============================] - 4s 1ms/step - loss: 0.6201 - binary_accuracy: 0.6602 - val_loss: 0.7322 - val_binary_accuracy: 0.6003\n",
            "Epoch 80/200\n",
            "3008/3008 [==============================] - 4s 1ms/step - loss: 0.6159 - binary_accuracy: 0.6669 - val_loss: 0.7201 - val_binary_accuracy: 0.5807\n",
            "Epoch 81/200\n",
            "3008/3008 [==============================] - 4s 1ms/step - loss: 0.6165 - binary_accuracy: 0.6656 - val_loss: 0.7401 - val_binary_accuracy: 0.5352\n",
            "Epoch 82/200\n",
            "3008/3008 [==============================] - 4s 1ms/step - loss: 0.6101 - binary_accuracy: 0.6719 - val_loss: 0.7360 - val_binary_accuracy: 0.5977\n",
            "Epoch 83/200\n",
            "3008/3008 [==============================] - 4s 1ms/step - loss: 0.6140 - binary_accuracy: 0.6676 - val_loss: 0.7595 - val_binary_accuracy: 0.4727\n",
            "Epoch 84/200\n",
            "3008/3008 [==============================] - 4s 1ms/step - loss: 0.6100 - binary_accuracy: 0.6785 - val_loss: 0.7340 - val_binary_accuracy: 0.5508\n",
            "Epoch 85/200\n",
            "3008/3008 [==============================] - 4s 1ms/step - loss: 0.6119 - binary_accuracy: 0.6672 - val_loss: 0.7240 - val_binary_accuracy: 0.5924\n",
            "Epoch 86/200\n",
            "3008/3008 [==============================] - 4s 1ms/step - loss: 0.6115 - binary_accuracy: 0.6666 - val_loss: 0.7600 - val_binary_accuracy: 0.5482\n",
            "Epoch 87/200\n",
            "3008/3008 [==============================] - 4s 1ms/step - loss: 0.6094 - binary_accuracy: 0.6722 - val_loss: 0.7800 - val_binary_accuracy: 0.4271\n",
            "Epoch 88/200\n",
            "3008/3008 [==============================] - 4s 1ms/step - loss: 0.6099 - binary_accuracy: 0.6729 - val_loss: 0.7623 - val_binary_accuracy: 0.5052\n",
            "Epoch 89/200\n",
            "3008/3008 [==============================] - 4s 1ms/step - loss: 0.6060 - binary_accuracy: 0.6848 - val_loss: 0.7925 - val_binary_accuracy: 0.4349\n",
            "Epoch 90/200\n",
            "3008/3008 [==============================] - 5s 2ms/step - loss: 0.6089 - binary_accuracy: 0.6709 - val_loss: 0.7484 - val_binary_accuracy: 0.5820\n",
            "Epoch 91/200\n",
            "3008/3008 [==============================] - 4s 1ms/step - loss: 0.6066 - binary_accuracy: 0.6888 - val_loss: 0.7842 - val_binary_accuracy: 0.4258\n",
            "Epoch 92/200\n",
            "3008/3008 [==============================] - 4s 1ms/step - loss: 0.6080 - binary_accuracy: 0.6805 - val_loss: 0.7178 - val_binary_accuracy: 0.6289\n",
            "Epoch 93/200\n",
            "3008/3008 [==============================] - 4s 1ms/step - loss: 0.6051 - binary_accuracy: 0.6772 - val_loss: 0.7905 - val_binary_accuracy: 0.4701\n",
            "Epoch 94/200\n",
            "3008/3008 [==============================] - 4s 1ms/step - loss: 0.6054 - binary_accuracy: 0.6752 - val_loss: 0.7691 - val_binary_accuracy: 0.4427\n",
            "Epoch 95/200\n",
            "3008/3008 [==============================] - 4s 1ms/step - loss: 0.6083 - binary_accuracy: 0.6739 - val_loss: 0.7802 - val_binary_accuracy: 0.4688\n",
            "Epoch 96/200\n",
            "3008/3008 [==============================] - 4s 1ms/step - loss: 0.6064 - binary_accuracy: 0.6725 - val_loss: 0.7738 - val_binary_accuracy: 0.6419\n",
            "Epoch 97/200\n",
            "3008/3008 [==============================] - 4s 1ms/step - loss: 0.5970 - binary_accuracy: 0.6865 - val_loss: 0.7632 - val_binary_accuracy: 0.5586\n",
            "Epoch 98/200\n",
            "3008/3008 [==============================] - 4s 1ms/step - loss: 0.6008 - binary_accuracy: 0.6809 - val_loss: 0.7635 - val_binary_accuracy: 0.5260\n",
            "Epoch 99/200\n",
            "3008/3008 [==============================] - 4s 1ms/step - loss: 0.6006 - binary_accuracy: 0.6902 - val_loss: 0.8535 - val_binary_accuracy: 0.4766\n",
            "Epoch 100/200\n",
            "3008/3008 [==============================] - 4s 1ms/step - loss: 0.6011 - binary_accuracy: 0.6895 - val_loss: 0.7773 - val_binary_accuracy: 0.6211\n",
            "Epoch 101/200\n",
            "3008/3008 [==============================] - 4s 1ms/step - loss: 0.5953 - binary_accuracy: 0.6975 - val_loss: 0.7800 - val_binary_accuracy: 0.6003\n",
            "Epoch 102/200\n",
            "3008/3008 [==============================] - 4s 1ms/step - loss: 0.6007 - binary_accuracy: 0.6858 - val_loss: 0.9098 - val_binary_accuracy: 0.5091\n",
            "Epoch 103/200\n",
            "3008/3008 [==============================] - 4s 1ms/step - loss: 0.5941 - binary_accuracy: 0.6905 - val_loss: 0.7399 - val_binary_accuracy: 0.6042\n",
            "Epoch 104/200\n",
            "3008/3008 [==============================] - 4s 1ms/step - loss: 0.5999 - binary_accuracy: 0.6888 - val_loss: 0.8436 - val_binary_accuracy: 0.5846\n",
            "Epoch 105/200\n",
            "3008/3008 [==============================] - 4s 1ms/step - loss: 0.5991 - binary_accuracy: 0.6912 - val_loss: 0.7750 - val_binary_accuracy: 0.5859\n",
            "Epoch 106/200\n",
            "3008/3008 [==============================] - 4s 1ms/step - loss: 0.5971 - binary_accuracy: 0.6928 - val_loss: 0.8519 - val_binary_accuracy: 0.4948\n",
            "Epoch 107/200\n",
            "3008/3008 [==============================] - 4s 1ms/step - loss: 0.5947 - binary_accuracy: 0.6885 - val_loss: 0.7877 - val_binary_accuracy: 0.5872\n",
            "Epoch 108/200\n",
            "3008/3008 [==============================] - 4s 1ms/step - loss: 0.5923 - binary_accuracy: 0.6902 - val_loss: 0.7848 - val_binary_accuracy: 0.5000\n",
            "Epoch 109/200\n",
            "3008/3008 [==============================] - 4s 1ms/step - loss: 0.5882 - binary_accuracy: 0.6988 - val_loss: 0.8347 - val_binary_accuracy: 0.6094\n",
            "Epoch 110/200\n",
            "3008/3008 [==============================] - 4s 1ms/step - loss: 0.5905 - binary_accuracy: 0.6908 - val_loss: 0.7924 - val_binary_accuracy: 0.5586\n",
            "Epoch 111/200\n",
            "3008/3008 [==============================] - 4s 1ms/step - loss: 0.5925 - binary_accuracy: 0.6965 - val_loss: 0.8019 - val_binary_accuracy: 0.5326\n",
            "Epoch 112/200\n",
            "3008/3008 [==============================] - 4s 1ms/step - loss: 0.5935 - binary_accuracy: 0.6898 - val_loss: 0.8330 - val_binary_accuracy: 0.5677\n",
            "Epoch 113/200\n",
            "3008/3008 [==============================] - 4s 1ms/step - loss: 0.5866 - binary_accuracy: 0.7035 - val_loss: 0.8065 - val_binary_accuracy: 0.5898\n",
            "Epoch 114/200\n",
            "3008/3008 [==============================] - 4s 1ms/step - loss: 0.5846 - binary_accuracy: 0.6892 - val_loss: 0.8384 - val_binary_accuracy: 0.5078\n",
            "Epoch 115/200\n",
            "3008/3008 [==============================] - 4s 1ms/step - loss: 0.5946 - binary_accuracy: 0.6895 - val_loss: 0.7473 - val_binary_accuracy: 0.6250\n",
            "Epoch 116/200\n",
            "3008/3008 [==============================] - 4s 1ms/step - loss: 0.5905 - binary_accuracy: 0.6902 - val_loss: 0.8562 - val_binary_accuracy: 0.5117\n",
            "Epoch 117/200\n",
            "3008/3008 [==============================] - 4s 1ms/step - loss: 0.5860 - binary_accuracy: 0.6895 - val_loss: 0.7977 - val_binary_accuracy: 0.5260\n",
            "Epoch 118/200\n",
            "3008/3008 [==============================] - 4s 1ms/step - loss: 0.5867 - binary_accuracy: 0.6938 - val_loss: 0.7875 - val_binary_accuracy: 0.4909\n",
            "Epoch 119/200\n",
            "3008/3008 [==============================] - 4s 1ms/step - loss: 0.5852 - binary_accuracy: 0.6958 - val_loss: 0.7649 - val_binary_accuracy: 0.5352\n",
            "Epoch 120/200\n",
            "3008/3008 [==============================] - 4s 1ms/step - loss: 0.5885 - binary_accuracy: 0.6988 - val_loss: 0.8183 - val_binary_accuracy: 0.4805\n",
            "Epoch 121/200\n",
            "3008/3008 [==============================] - 4s 1ms/step - loss: 0.5889 - binary_accuracy: 0.6922 - val_loss: 0.7488 - val_binary_accuracy: 0.4883\n",
            "Epoch 122/200\n",
            "3008/3008 [==============================] - 4s 1ms/step - loss: 0.5829 - binary_accuracy: 0.7001 - val_loss: 0.8216 - val_binary_accuracy: 0.5534\n",
            "Epoch 123/200\n",
            "3008/3008 [==============================] - 4s 1ms/step - loss: 0.5829 - binary_accuracy: 0.7025 - val_loss: 0.7382 - val_binary_accuracy: 0.6016\n",
            "Epoch 124/200\n",
            "3008/3008 [==============================] - 4s 1ms/step - loss: 0.5842 - binary_accuracy: 0.6928 - val_loss: 0.7417 - val_binary_accuracy: 0.5117\n",
            "Epoch 125/200\n",
            "3008/3008 [==============================] - 4s 1ms/step - loss: 0.5857 - binary_accuracy: 0.6938 - val_loss: 0.7853 - val_binary_accuracy: 0.4375\n",
            "Epoch 126/200\n",
            "3008/3008 [==============================] - 4s 1ms/step - loss: 0.5842 - binary_accuracy: 0.6918 - val_loss: 0.7548 - val_binary_accuracy: 0.5221\n",
            "Epoch 127/200\n",
            "3008/3008 [==============================] - 4s 1ms/step - loss: 0.5838 - binary_accuracy: 0.6975 - val_loss: 0.7604 - val_binary_accuracy: 0.5703\n",
            "Epoch 128/200\n",
            "3008/3008 [==============================] - 4s 1ms/step - loss: 0.5807 - binary_accuracy: 0.6998 - val_loss: 0.7416 - val_binary_accuracy: 0.4818\n",
            "Epoch 129/200\n",
            "3008/3008 [==============================] - 4s 1ms/step - loss: 0.5823 - binary_accuracy: 0.6965 - val_loss: 0.7284 - val_binary_accuracy: 0.5404\n",
            "Epoch 130/200\n",
            "3008/3008 [==============================] - 4s 1ms/step - loss: 0.5791 - binary_accuracy: 0.6955 - val_loss: 0.7393 - val_binary_accuracy: 0.5182\n",
            "Epoch 131/200\n",
            "3008/3008 [==============================] - 4s 1ms/step - loss: 0.5741 - binary_accuracy: 0.7064 - val_loss: 0.7485 - val_binary_accuracy: 0.5208\n",
            "Epoch 132/200\n",
            "3008/3008 [==============================] - 4s 1ms/step - loss: 0.5756 - binary_accuracy: 0.7021 - val_loss: 0.7882 - val_binary_accuracy: 0.4427\n",
            "Epoch 133/200\n",
            "3008/3008 [==============================] - 4s 1ms/step - loss: 0.5805 - binary_accuracy: 0.7031 - val_loss: 0.7179 - val_binary_accuracy: 0.5221\n",
            "Epoch 134/200\n",
            "3008/3008 [==============================] - 4s 1ms/step - loss: 0.5807 - binary_accuracy: 0.6978 - val_loss: 0.7529 - val_binary_accuracy: 0.5234\n",
            "Epoch 135/200\n",
            "3008/3008 [==============================] - 4s 1ms/step - loss: 0.5809 - binary_accuracy: 0.6948 - val_loss: 0.7537 - val_binary_accuracy: 0.4857\n",
            "Epoch 136/200\n",
            "3008/3008 [==============================] - 4s 1ms/step - loss: 0.5741 - binary_accuracy: 0.7064 - val_loss: 0.7473 - val_binary_accuracy: 0.4805\n",
            "Epoch 137/200\n",
            "3008/3008 [==============================] - 4s 1ms/step - loss: 0.5722 - binary_accuracy: 0.7091 - val_loss: 0.7675 - val_binary_accuracy: 0.4440\n",
            "Epoch 138/200\n",
            "3008/3008 [==============================] - 4s 1ms/step - loss: 0.5733 - binary_accuracy: 0.7118 - val_loss: 0.7806 - val_binary_accuracy: 0.4701\n",
            "Epoch 139/200\n",
            "3008/3008 [==============================] - 4s 1ms/step - loss: 0.5761 - binary_accuracy: 0.7131 - val_loss: 0.7531 - val_binary_accuracy: 0.5716\n",
            "Epoch 140/200\n",
            "3008/3008 [==============================] - 4s 1ms/step - loss: 0.5754 - binary_accuracy: 0.7091 - val_loss: 0.7493 - val_binary_accuracy: 0.4701\n",
            "Epoch 141/200\n",
            "3008/3008 [==============================] - 4s 1ms/step - loss: 0.5786 - binary_accuracy: 0.7025 - val_loss: 0.7403 - val_binary_accuracy: 0.5495\n",
            "Epoch 142/200\n",
            "3008/3008 [==============================] - 4s 1ms/step - loss: 0.5740 - binary_accuracy: 0.7048 - val_loss: 0.7615 - val_binary_accuracy: 0.4583\n",
            "Epoch 143/200\n",
            "3008/3008 [==============================] - 4s 1ms/step - loss: 0.5705 - binary_accuracy: 0.7141 - val_loss: 0.7949 - val_binary_accuracy: 0.5143\n",
            "Epoch 144/200\n",
            "3008/3008 [==============================] - 4s 1ms/step - loss: 0.5697 - binary_accuracy: 0.7134 - val_loss: 0.7990 - val_binary_accuracy: 0.4323\n",
            "Epoch 145/200\n",
            "3008/3008 [==============================] - 4s 1ms/step - loss: 0.5692 - binary_accuracy: 0.7048 - val_loss: 0.7392 - val_binary_accuracy: 0.5247\n",
            "Epoch 146/200\n",
            "3008/3008 [==============================] - 4s 1ms/step - loss: 0.5679 - binary_accuracy: 0.7118 - val_loss: 0.7881 - val_binary_accuracy: 0.4479\n",
            "Epoch 147/200\n",
            "3008/3008 [==============================] - 4s 1ms/step - loss: 0.5668 - binary_accuracy: 0.7078 - val_loss: 0.7628 - val_binary_accuracy: 0.4870\n",
            "Epoch 148/200\n",
            "3008/3008 [==============================] - 4s 1ms/step - loss: 0.5657 - binary_accuracy: 0.7154 - val_loss: 0.7874 - val_binary_accuracy: 0.5104\n",
            "Epoch 149/200\n",
            "3008/3008 [==============================] - 4s 1ms/step - loss: 0.5695 - binary_accuracy: 0.7048 - val_loss: 0.7659 - val_binary_accuracy: 0.4570\n",
            "Epoch 150/200\n",
            "3008/3008 [==============================] - 4s 1ms/step - loss: 0.5656 - binary_accuracy: 0.7171 - val_loss: 0.7599 - val_binary_accuracy: 0.5404\n",
            "Epoch 151/200\n",
            "3008/3008 [==============================] - 4s 1ms/step - loss: 0.5663 - binary_accuracy: 0.7158 - val_loss: 0.7726 - val_binary_accuracy: 0.4648\n",
            "Epoch 152/200\n",
            "3008/3008 [==============================] - 4s 1ms/step - loss: 0.5639 - binary_accuracy: 0.7211 - val_loss: 0.7741 - val_binary_accuracy: 0.5326\n",
            "Epoch 153/200\n",
            "3008/3008 [==============================] - 4s 1ms/step - loss: 0.5613 - binary_accuracy: 0.7184 - val_loss: 0.7803 - val_binary_accuracy: 0.4609\n",
            "Epoch 154/200\n",
            "3008/3008 [==============================] - 4s 1ms/step - loss: 0.5688 - binary_accuracy: 0.7138 - val_loss: 0.7739 - val_binary_accuracy: 0.5169\n",
            "Epoch 155/200\n",
            "3008/3008 [==============================] - 4s 1ms/step - loss: 0.5649 - binary_accuracy: 0.7171 - val_loss: 0.8248 - val_binary_accuracy: 0.4466\n",
            "Epoch 156/200\n",
            "3008/3008 [==============================] - 4s 1ms/step - loss: 0.5667 - binary_accuracy: 0.7168 - val_loss: 0.7434 - val_binary_accuracy: 0.4714\n",
            "Epoch 157/200\n",
            "3008/3008 [==============================] - 4s 1ms/step - loss: 0.5638 - binary_accuracy: 0.7224 - val_loss: 0.8224 - val_binary_accuracy: 0.4896\n",
            "Epoch 158/200\n",
            "3008/3008 [==============================] - 4s 1ms/step - loss: 0.5597 - binary_accuracy: 0.7188 - val_loss: 0.7705 - val_binary_accuracy: 0.5273\n",
            "Epoch 159/200\n",
            "3008/3008 [==============================] - 4s 1ms/step - loss: 0.5655 - binary_accuracy: 0.7091 - val_loss: 0.8247 - val_binary_accuracy: 0.4388\n",
            "Epoch 160/200\n",
            "3008/3008 [==============================] - 4s 1ms/step - loss: 0.5605 - binary_accuracy: 0.7174 - val_loss: 0.8241 - val_binary_accuracy: 0.5091\n",
            "Epoch 161/200\n",
            "3008/3008 [==============================] - 4s 1ms/step - loss: 0.5586 - binary_accuracy: 0.7214 - val_loss: 0.8308 - val_binary_accuracy: 0.4479\n",
            "Epoch 162/200\n",
            "3008/3008 [==============================] - 5s 2ms/step - loss: 0.5584 - binary_accuracy: 0.7098 - val_loss: 0.7604 - val_binary_accuracy: 0.5482\n",
            "Epoch 163/200\n",
            "3008/3008 [==============================] - 5s 2ms/step - loss: 0.5627 - binary_accuracy: 0.7134 - val_loss: 0.7995 - val_binary_accuracy: 0.4466\n",
            "Epoch 164/200\n",
            "3008/3008 [==============================] - 5s 2ms/step - loss: 0.5629 - binary_accuracy: 0.7144 - val_loss: 0.7966 - val_binary_accuracy: 0.4948\n",
            "Epoch 165/200\n",
            "3008/3008 [==============================] - 4s 1ms/step - loss: 0.5603 - binary_accuracy: 0.7134 - val_loss: 0.7769 - val_binary_accuracy: 0.4857\n",
            "Epoch 166/200\n",
            "3008/3008 [==============================] - 4s 1ms/step - loss: 0.5539 - binary_accuracy: 0.7188 - val_loss: 0.7565 - val_binary_accuracy: 0.5221\n",
            "Epoch 167/200\n",
            "3008/3008 [==============================] - 4s 1ms/step - loss: 0.5600 - binary_accuracy: 0.7188 - val_loss: 0.8242 - val_binary_accuracy: 0.4362\n",
            "Epoch 168/200\n",
            "3008/3008 [==============================] - 4s 1ms/step - loss: 0.5567 - binary_accuracy: 0.7144 - val_loss: 0.7682 - val_binary_accuracy: 0.5156\n",
            "Epoch 169/200\n",
            "3008/3008 [==============================] - 4s 1ms/step - loss: 0.5516 - binary_accuracy: 0.7214 - val_loss: 0.8191 - val_binary_accuracy: 0.4688\n",
            "Epoch 170/200\n",
            "3008/3008 [==============================] - 5s 2ms/step - loss: 0.5521 - binary_accuracy: 0.7214 - val_loss: 0.8313 - val_binary_accuracy: 0.4518\n",
            "Epoch 171/200\n",
            "3008/3008 [==============================] - 4s 1ms/step - loss: 0.5443 - binary_accuracy: 0.7281 - val_loss: 0.9290 - val_binary_accuracy: 0.4362\n",
            "Epoch 172/200\n",
            "3008/3008 [==============================] - 4s 1ms/step - loss: 0.5479 - binary_accuracy: 0.7291 - val_loss: 0.8366 - val_binary_accuracy: 0.4870\n",
            "Epoch 173/200\n",
            "3008/3008 [==============================] - 4s 1ms/step - loss: 0.5503 - binary_accuracy: 0.7254 - val_loss: 0.8364 - val_binary_accuracy: 0.4622\n",
            "Epoch 174/200\n",
            "3008/3008 [==============================] - 4s 1ms/step - loss: 0.5554 - binary_accuracy: 0.7188 - val_loss: 0.7960 - val_binary_accuracy: 0.4948\n",
            "Epoch 175/200\n",
            "3008/3008 [==============================] - 4s 1ms/step - loss: 0.5617 - binary_accuracy: 0.7144 - val_loss: 0.7876 - val_binary_accuracy: 0.4753\n",
            "Epoch 176/200\n",
            "3008/3008 [==============================] - 4s 1ms/step - loss: 0.5456 - binary_accuracy: 0.7241 - val_loss: 0.7963 - val_binary_accuracy: 0.4844\n",
            "Epoch 177/200\n",
            "3008/3008 [==============================] - 4s 1ms/step - loss: 0.5430 - binary_accuracy: 0.7337 - val_loss: 0.8726 - val_binary_accuracy: 0.4609\n",
            "Epoch 178/200\n",
            "3008/3008 [==============================] - 4s 1ms/step - loss: 0.5416 - binary_accuracy: 0.7314 - val_loss: 0.8297 - val_binary_accuracy: 0.4648\n",
            "Epoch 179/200\n",
            "3008/3008 [==============================] - 4s 1ms/step - loss: 0.5428 - binary_accuracy: 0.7251 - val_loss: 0.8565 - val_binary_accuracy: 0.4518\n",
            "Epoch 180/200\n",
            "3008/3008 [==============================] - 4s 1ms/step - loss: 0.5413 - binary_accuracy: 0.7284 - val_loss: 0.8344 - val_binary_accuracy: 0.4948\n",
            "Epoch 181/200\n",
            "3008/3008 [==============================] - 4s 1ms/step - loss: 0.5448 - binary_accuracy: 0.7244 - val_loss: 0.7921 - val_binary_accuracy: 0.4818\n",
            "Epoch 182/200\n",
            "3008/3008 [==============================] - 4s 1ms/step - loss: 0.5519 - binary_accuracy: 0.7237 - val_loss: 0.7894 - val_binary_accuracy: 0.5091\n",
            "Epoch 183/200\n",
            "3008/3008 [==============================] - 4s 1ms/step - loss: 0.5399 - binary_accuracy: 0.7277 - val_loss: 0.8189 - val_binary_accuracy: 0.4635\n",
            "Epoch 184/200\n",
            "3008/3008 [==============================] - 4s 1ms/step - loss: 0.5474 - binary_accuracy: 0.7307 - val_loss: 0.8941 - val_binary_accuracy: 0.4401\n",
            "Epoch 185/200\n",
            "3008/3008 [==============================] - 4s 1ms/step - loss: 0.5433 - binary_accuracy: 0.7274 - val_loss: 0.8262 - val_binary_accuracy: 0.5508\n",
            "Epoch 186/200\n",
            "3008/3008 [==============================] - 4s 1ms/step - loss: 0.5448 - binary_accuracy: 0.7297 - val_loss: 0.8778 - val_binary_accuracy: 0.4570\n",
            "Epoch 187/200\n",
            "3008/3008 [==============================] - 4s 1ms/step - loss: 0.5354 - binary_accuracy: 0.7377 - val_loss: 0.8365 - val_binary_accuracy: 0.5352\n",
            "Epoch 188/200\n",
            "3008/3008 [==============================] - 4s 1ms/step - loss: 0.5404 - binary_accuracy: 0.7320 - val_loss: 0.8875 - val_binary_accuracy: 0.4505\n",
            "Epoch 189/200\n",
            "3008/3008 [==============================] - 4s 1ms/step - loss: 0.5407 - binary_accuracy: 0.7264 - val_loss: 0.8467 - val_binary_accuracy: 0.5378\n",
            "Epoch 190/200\n",
            "3008/3008 [==============================] - 4s 1ms/step - loss: 0.5343 - binary_accuracy: 0.7397 - val_loss: 0.8565 - val_binary_accuracy: 0.5260\n",
            "Epoch 191/200\n",
            "3008/3008 [==============================] - 4s 1ms/step - loss: 0.5370 - binary_accuracy: 0.7271 - val_loss: 0.8738 - val_binary_accuracy: 0.4596\n",
            "Epoch 192/200\n",
            "3008/3008 [==============================] - 4s 1ms/step - loss: 0.5332 - binary_accuracy: 0.7334 - val_loss: 0.8856 - val_binary_accuracy: 0.5260\n",
            "Epoch 193/200\n",
            "3008/3008 [==============================] - 4s 1ms/step - loss: 0.5315 - binary_accuracy: 0.7354 - val_loss: 0.8810 - val_binary_accuracy: 0.4427\n",
            "Epoch 194/200\n",
            "3008/3008 [==============================] - 4s 1ms/step - loss: 0.5297 - binary_accuracy: 0.7364 - val_loss: 0.8857 - val_binary_accuracy: 0.5091\n",
            "Epoch 195/200\n",
            "3008/3008 [==============================] - 4s 1ms/step - loss: 0.5398 - binary_accuracy: 0.7284 - val_loss: 0.9320 - val_binary_accuracy: 0.4466\n",
            "Epoch 196/200\n",
            "3008/3008 [==============================] - 4s 1ms/step - loss: 0.5533 - binary_accuracy: 0.7151 - val_loss: 0.8699 - val_binary_accuracy: 0.5182\n",
            "Epoch 197/200\n",
            "3008/3008 [==============================] - 4s 1ms/step - loss: 0.5441 - binary_accuracy: 0.7274 - val_loss: 0.7989 - val_binary_accuracy: 0.5299\n",
            "Epoch 198/200\n",
            "3008/3008 [==============================] - 4s 1ms/step - loss: 0.5343 - binary_accuracy: 0.7340 - val_loss: 0.8629 - val_binary_accuracy: 0.4766\n",
            "Epoch 199/200\n",
            "3008/3008 [==============================] - 4s 1ms/step - loss: 0.5239 - binary_accuracy: 0.7370 - val_loss: 0.8699 - val_binary_accuracy: 0.4792\n",
            "Epoch 200/200\n",
            "3008/3008 [==============================] - 4s 1ms/step - loss: 0.5251 - binary_accuracy: 0.7370 - val_loss: 0.9220 - val_binary_accuracy: 0.5247\n"
          ],
          "name": "stdout"
        }
      ]
    },
    {
      "cell_type": "code",
      "metadata": {
        "id": "M3Idp4YgKM3x",
        "colab_type": "code",
        "colab": {
          "base_uri": "https://localhost:8080/",
          "height": 295
        },
        "outputId": "08039d93-8311-48a9-f436-a67ec7ac97ef"
      },
      "source": [
        "plt.plot(history.history['binary_accuracy'])\n",
        "plt.plot(history.history['val_binary_accuracy'])\n",
        "plt.title('model accuracy with window length 20')\n",
        "plt.ylabel('accuracy')\n",
        "plt.xlabel('epoch')\n",
        "plt.legend(['train', 'val'], loc='upper left')\n",
        "plt.show()"
      ],
      "execution_count": 98,
      "outputs": [
        {
          "output_type": "display_data",
          "data": {
            "image/png": "[encoded data removed]",
            "text/plain": [
              "<Figure size 432x288 with 1 Axes>"
            ]
          },
          "metadata": {
            "tags": [],
            "needs_background": "light"
          }
        }
      ]
    },
    {
      "cell_type": "code",
      "metadata": {
        "id": "2lUtUpsjMOBN",
        "colab_type": "code",
        "colab": {
          "base_uri": "https://localhost:8080/",
          "height": 295
        },
        "outputId": "54f1d407-cdc0-4bd8-8ba7-a681ba7e6b52"
      },
      "source": [
        "plt.plot(history.history['loss'])\n",
        "plt.plot(history.history['val_loss'])\n",
        "plt.title('model loss with window length 20')\n",
        "plt.ylabel('loss')\n",
        "plt.xlabel('epoch')\n",
        "plt.legend(['train', 'val'], loc='upper left')\n",
        "plt.show()"
      ],
      "execution_count": 100,
      "outputs": [
        {
          "output_type": "display_data",
          "data": {
            "image/png": "[encoded data removed]",
            "text/plain": [
              "<Figure size 432x288 with 1 Axes>"
            ]
          },
          "metadata": {
            "tags": [],
            "needs_background": "light"
          }
        }
      ]
    },
    {
      "cell_type": "code",
      "metadata": {
        "id": "C-H0WT6AMTVZ",
        "colab_type": "code",
        "colab": {
          "base_uri": "https://localhost:8080/",
          "height": 54
        },
        "outputId": "7063818e-ae77-4b61-a900-7619676554e6"
      },
      "source": [
        "results = model.evaluate(testing_data, testing_labels)\n",
        "print('for window length 20 we have: test loss, test acc:', results)"
      ],
      "execution_count": 101,
      "outputs": [
        {
          "output_type": "stream",
          "text": [
            "160/160 [==============================] - 0s 202us/step\n",
            "for window length 20 we have: test loss, test acc: [0.9741903234273195, 0.668749988079071]\n"
          ],
          "name": "stdout"
        }
      ]
    },
    {
      "cell_type": "markdown",
      "metadata": {
        "id": "L8KtRk_5NjqO",
        "colab_type": "text"
      },
      "source": [
        "**And finally, we set the window length to 30 days.**"
      ]
    },
    {
      "cell_type": "code",
      "metadata": {
        "id": "UNKQoqqjN3nB",
        "colab_type": "code",
        "colab": {
          "base_uri": "https://localhost:8080/",
          "height": 458
        },
        "outputId": "9367d0aa-1d8f-4298-97de-0e9230c73b0e"
      },
      "source": [
        "training_data, training_labels, validation_data, validation_labels, testing_data, testing_labels = \\\n",
        "      generate_datasets_for_model(data, labels, stock_with_max_trading_days, training_start, training_end, testing_start, testing_end, window_in_days=30)\n",
        "\n",
        "model = build_model(training_data.shape, optimizer)\n",
        "\n",
        "model.summary()"
      ],
      "execution_count": 109,
      "outputs": [
        {
          "output_type": "stream",
          "text": [
            "Model: \"sequential_11\"\n",
            "_________________________________________________________________\n",
            "Layer (type)                 Output Shape              Param #   \n",
            "=================================================================\n",
            "lstm_11 (LSTM)               (None, 64)                17920     \n",
            "_________________________________________________________________\n",
            "dense_41 (Dense)             (None, 32)                2080      \n",
            "_________________________________________________________________\n",
            "dropout_11 (Dropout)         (None, 32)                0         \n",
            "_________________________________________________________________\n",
            "dense_42 (Dense)             (None, 16)                528       \n",
            "_________________________________________________________________\n",
            "batch_normalization_11 (Batc (None, 16)                64        \n",
            "_________________________________________________________________\n",
            "dense_43 (Dense)             (None, 4)                 68        \n",
            "_________________________________________________________________\n",
            "dense_44 (Dense)             (None, 1)                 5         \n",
            "_________________________________________________________________\n",
            "activation_11 (Activation)   (None, 1)                 0         \n",
            "=================================================================\n",
            "Total params: 20,665\n",
            "Trainable params: 20,633\n",
            "Non-trainable params: 32\n",
            "_________________________________________________________________\n"
          ],
          "name": "stdout"
        }
      ]
    },
    {
      "cell_type": "code",
      "metadata": {
        "id": "QZ255yb2OZSD",
        "colab_type": "code",
        "colab": {
          "base_uri": "https://localhost:8080/",
          "height": 1000
        },
        "outputId": "590eb63e-eefd-430b-c025-157799dca7c2"
      },
      "source": [
        "history = model.fit(training_data, training_labels,\n",
        "                    batch_size=32,\n",
        "                    epochs=200,\n",
        "                    shuffle=False,\n",
        "                    validation_data=(validation_data,validation_labels))"
      ],
      "execution_count": 105,
      "outputs": [
        {
          "output_type": "stream",
          "text": [
            "Train on 3008 samples, validate on 768 samples\n",
            "Epoch 1/200\n",
            "3008/3008 [==============================] - 7s 2ms/step - loss: 0.7009 - binary_accuracy: 0.5861 - val_loss: 0.6642 - val_binary_accuracy: 0.6185\n",
            "Epoch 2/200\n",
            "3008/3008 [==============================] - 6s 2ms/step - loss: 0.6684 - binary_accuracy: 0.6197 - val_loss: 0.6863 - val_binary_accuracy: 0.6185\n",
            "Epoch 3/200\n",
            "3008/3008 [==============================] - 6s 2ms/step - loss: 0.6712 - binary_accuracy: 0.6084 - val_loss: 0.6845 - val_binary_accuracy: 0.5951\n",
            "Epoch 4/200\n",
            "3008/3008 [==============================] - 6s 2ms/step - loss: 0.6648 - binary_accuracy: 0.6147 - val_loss: 0.7039 - val_binary_accuracy: 0.5964\n",
            "Epoch 5/200\n",
            "3008/3008 [==============================] - 6s 2ms/step - loss: 0.6613 - binary_accuracy: 0.6197 - val_loss: 0.8341 - val_binary_accuracy: 0.5964\n",
            "Epoch 6/200\n",
            "3008/3008 [==============================] - 6s 2ms/step - loss: 0.6558 - binary_accuracy: 0.6263 - val_loss: 0.8755 - val_binary_accuracy: 0.5951\n",
            "Epoch 7/200\n",
            "3008/3008 [==============================] - 6s 2ms/step - loss: 0.6568 - binary_accuracy: 0.6247 - val_loss: 1.1957 - val_binary_accuracy: 0.5951\n",
            "Epoch 8/200\n",
            "3008/3008 [==============================] - 6s 2ms/step - loss: 0.6601 - binary_accuracy: 0.6237 - val_loss: 1.0896 - val_binary_accuracy: 0.5951\n",
            "Epoch 9/200\n",
            "3008/3008 [==============================] - 6s 2ms/step - loss: 0.6563 - binary_accuracy: 0.6260 - val_loss: 0.9115 - val_binary_accuracy: 0.5924\n",
            "Epoch 10/200\n",
            "3008/3008 [==============================] - 6s 2ms/step - loss: 0.6495 - binary_accuracy: 0.6293 - val_loss: 1.0895 - val_binary_accuracy: 0.5951\n",
            "Epoch 11/200\n",
            "3008/3008 [==============================] - 6s 2ms/step - loss: 0.6544 - binary_accuracy: 0.6273 - val_loss: 1.1965 - val_binary_accuracy: 0.5977\n",
            "Epoch 12/200\n",
            "3008/3008 [==============================] - 6s 2ms/step - loss: 0.6552 - binary_accuracy: 0.6217 - val_loss: 0.8852 - val_binary_accuracy: 0.5990\n",
            "Epoch 13/200\n",
            "3008/3008 [==============================] - 6s 2ms/step - loss: 0.6466 - binary_accuracy: 0.6350 - val_loss: 0.8570 - val_binary_accuracy: 0.5143\n",
            "Epoch 14/200\n",
            "3008/3008 [==============================] - 6s 2ms/step - loss: 0.6502 - binary_accuracy: 0.6310 - val_loss: 1.0664 - val_binary_accuracy: 0.5964\n",
            "Epoch 15/200\n",
            "3008/3008 [==============================] - 6s 2ms/step - loss: 0.6489 - binary_accuracy: 0.6253 - val_loss: 1.0636 - val_binary_accuracy: 0.5977\n",
            "Epoch 16/200\n",
            "3008/3008 [==============================] - 6s 2ms/step - loss: 0.6550 - binary_accuracy: 0.6223 - val_loss: 0.8561 - val_binary_accuracy: 0.5547\n",
            "Epoch 17/200\n",
            "3008/3008 [==============================] - 6s 2ms/step - loss: 0.6469 - binary_accuracy: 0.6283 - val_loss: 0.8329 - val_binary_accuracy: 0.5352\n",
            "Epoch 18/200\n",
            "3008/3008 [==============================] - 6s 2ms/step - loss: 0.6462 - binary_accuracy: 0.6263 - val_loss: 0.8879 - val_binary_accuracy: 0.4883\n",
            "Epoch 19/200\n",
            "3008/3008 [==============================] - 6s 2ms/step - loss: 0.6463 - binary_accuracy: 0.6320 - val_loss: 0.9297 - val_binary_accuracy: 0.5977\n",
            "Epoch 20/200\n",
            "3008/3008 [==============================] - 6s 2ms/step - loss: 0.6444 - binary_accuracy: 0.6247 - val_loss: 0.8813 - val_binary_accuracy: 0.5326\n",
            "Epoch 21/200\n",
            "3008/3008 [==============================] - 6s 2ms/step - loss: 0.6440 - binary_accuracy: 0.6293 - val_loss: 0.8449 - val_binary_accuracy: 0.5378\n",
            "Epoch 22/200\n",
            "3008/3008 [==============================] - 6s 2ms/step - loss: 0.6423 - binary_accuracy: 0.6380 - val_loss: 0.8672 - val_binary_accuracy: 0.5117\n",
            "Epoch 23/200\n",
            "3008/3008 [==============================] - 6s 2ms/step - loss: 0.6459 - binary_accuracy: 0.6313 - val_loss: 0.8409 - val_binary_accuracy: 0.5391\n",
            "Epoch 24/200\n",
            "3008/3008 [==============================] - 6s 2ms/step - loss: 0.6422 - binary_accuracy: 0.6333 - val_loss: 0.8754 - val_binary_accuracy: 0.5482\n",
            "Epoch 25/200\n",
            "3008/3008 [==============================] - 6s 2ms/step - loss: 0.6480 - binary_accuracy: 0.6326 - val_loss: 0.8206 - val_binary_accuracy: 0.5404\n",
            "Epoch 26/200\n",
            "3008/3008 [==============================] - 6s 2ms/step - loss: 0.6452 - binary_accuracy: 0.6297 - val_loss: 0.8112 - val_binary_accuracy: 0.5104\n",
            "Epoch 27/200\n",
            "3008/3008 [==============================] - 6s 2ms/step - loss: 0.6462 - binary_accuracy: 0.6343 - val_loss: 0.9263 - val_binary_accuracy: 0.5977\n",
            "Epoch 28/200\n",
            "3008/3008 [==============================] - 6s 2ms/step - loss: 0.6424 - binary_accuracy: 0.6333 - val_loss: 0.8311 - val_binary_accuracy: 0.5104\n",
            "Epoch 29/200\n",
            "3008/3008 [==============================] - 6s 2ms/step - loss: 0.6428 - binary_accuracy: 0.6283 - val_loss: 0.8204 - val_binary_accuracy: 0.4805\n",
            "Epoch 30/200\n",
            "3008/3008 [==============================] - 6s 2ms/step - loss: 0.6424 - binary_accuracy: 0.6343 - val_loss: 0.8697 - val_binary_accuracy: 0.5352\n",
            "Epoch 31/200\n",
            "3008/3008 [==============================] - 6s 2ms/step - loss: 0.6438 - binary_accuracy: 0.6263 - val_loss: 0.7845 - val_binary_accuracy: 0.5299\n",
            "Epoch 32/200\n",
            "3008/3008 [==============================] - 6s 2ms/step - loss: 0.6424 - binary_accuracy: 0.6263 - val_loss: 0.8507 - val_binary_accuracy: 0.4271\n",
            "Epoch 33/200\n",
            "3008/3008 [==============================] - 6s 2ms/step - loss: 0.6419 - binary_accuracy: 0.6267 - val_loss: 0.8128 - val_binary_accuracy: 0.5365\n",
            "Epoch 34/200\n",
            "3008/3008 [==============================] - 6s 2ms/step - loss: 0.6396 - binary_accuracy: 0.6380 - val_loss: 0.8186 - val_binary_accuracy: 0.5091\n",
            "Epoch 35/200\n",
            "3008/3008 [==============================] - 6s 2ms/step - loss: 0.6410 - binary_accuracy: 0.6390 - val_loss: 0.7903 - val_binary_accuracy: 0.5286\n",
            "Epoch 36/200\n",
            "3008/3008 [==============================] - 6s 2ms/step - loss: 0.6414 - binary_accuracy: 0.6373 - val_loss: 0.7953 - val_binary_accuracy: 0.5143\n",
            "Epoch 37/200\n",
            "3008/3008 [==============================] - 6s 2ms/step - loss: 0.6358 - binary_accuracy: 0.6413 - val_loss: 0.8115 - val_binary_accuracy: 0.5221\n",
            "Epoch 38/200\n",
            "3008/3008 [==============================] - 6s 2ms/step - loss: 0.6362 - binary_accuracy: 0.6446 - val_loss: 0.8359 - val_binary_accuracy: 0.4375\n",
            "Epoch 39/200\n",
            "3008/3008 [==============================] - 6s 2ms/step - loss: 0.6376 - binary_accuracy: 0.6430 - val_loss: 0.7699 - val_binary_accuracy: 0.5169\n",
            "Epoch 40/200\n",
            "3008/3008 [==============================] - 6s 2ms/step - loss: 0.6371 - binary_accuracy: 0.6410 - val_loss: 0.7744 - val_binary_accuracy: 0.5078\n",
            "Epoch 41/200\n",
            "3008/3008 [==============================] - 6s 2ms/step - loss: 0.6332 - binary_accuracy: 0.6479 - val_loss: 0.8167 - val_binary_accuracy: 0.5052\n",
            "Epoch 42/200\n",
            "3008/3008 [==============================] - 6s 2ms/step - loss: 0.6366 - binary_accuracy: 0.6370 - val_loss: 0.7855 - val_binary_accuracy: 0.5078\n",
            "Epoch 43/200\n",
            "3008/3008 [==============================] - 6s 2ms/step - loss: 0.6319 - binary_accuracy: 0.6486 - val_loss: 0.7940 - val_binary_accuracy: 0.5065\n",
            "Epoch 44/200\n",
            "3008/3008 [==============================] - 6s 2ms/step - loss: 0.6346 - binary_accuracy: 0.6406 - val_loss: 0.8106 - val_binary_accuracy: 0.4935\n",
            "Epoch 45/200\n",
            "3008/3008 [==============================] - 6s 2ms/step - loss: 0.6348 - binary_accuracy: 0.6446 - val_loss: 0.7967 - val_binary_accuracy: 0.5391\n",
            "Epoch 46/200\n",
            "3008/3008 [==============================] - 6s 2ms/step - loss: 0.6367 - binary_accuracy: 0.6443 - val_loss: 0.7823 - val_binary_accuracy: 0.5078\n",
            "Epoch 47/200\n",
            "3008/3008 [==============================] - 6s 2ms/step - loss: 0.6304 - binary_accuracy: 0.6543 - val_loss: 0.8147 - val_binary_accuracy: 0.5039\n",
            "Epoch 48/200\n",
            "3008/3008 [==============================] - 6s 2ms/step - loss: 0.6295 - binary_accuracy: 0.6513 - val_loss: 0.7771 - val_binary_accuracy: 0.5182\n",
            "Epoch 49/200\n",
            "3008/3008 [==============================] - 6s 2ms/step - loss: 0.6284 - binary_accuracy: 0.6473 - val_loss: 0.7883 - val_binary_accuracy: 0.5065\n",
            "Epoch 50/200\n",
            "3008/3008 [==============================] - 6s 2ms/step - loss: 0.6305 - binary_accuracy: 0.6499 - val_loss: 0.7657 - val_binary_accuracy: 0.5169\n",
            "Epoch 51/200\n",
            "3008/3008 [==============================] - 6s 2ms/step - loss: 0.6288 - binary_accuracy: 0.6589 - val_loss: 0.7966 - val_binary_accuracy: 0.5091\n",
            "Epoch 52/200\n",
            "3008/3008 [==============================] - 6s 2ms/step - loss: 0.6296 - binary_accuracy: 0.6606 - val_loss: 0.7733 - val_binary_accuracy: 0.5091\n",
            "Epoch 53/200\n",
            "3008/3008 [==============================] - 6s 2ms/step - loss: 0.6245 - binary_accuracy: 0.6526 - val_loss: 0.7605 - val_binary_accuracy: 0.5846\n",
            "Epoch 54/200\n",
            "3008/3008 [==============================] - 6s 2ms/step - loss: 0.6333 - binary_accuracy: 0.6459 - val_loss: 0.8007 - val_binary_accuracy: 0.4427\n",
            "Epoch 55/200\n",
            "3008/3008 [==============================] - 6s 2ms/step - loss: 0.6258 - binary_accuracy: 0.6523 - val_loss: 0.7699 - val_binary_accuracy: 0.4961\n",
            "Epoch 56/200\n",
            "3008/3008 [==============================] - 6s 2ms/step - loss: 0.6272 - binary_accuracy: 0.6579 - val_loss: 0.7581 - val_binary_accuracy: 0.5130\n",
            "Epoch 57/200\n",
            "3008/3008 [==============================] - 6s 2ms/step - loss: 0.6280 - binary_accuracy: 0.6559 - val_loss: 0.7583 - val_binary_accuracy: 0.5078\n",
            "Epoch 58/200\n",
            "3008/3008 [==============================] - 6s 2ms/step - loss: 0.6251 - binary_accuracy: 0.6546 - val_loss: 0.7340 - val_binary_accuracy: 0.5339\n",
            "Epoch 59/200\n",
            "3008/3008 [==============================] - 6s 2ms/step - loss: 0.6290 - binary_accuracy: 0.6533 - val_loss: 0.7857 - val_binary_accuracy: 0.5156\n",
            "Epoch 60/200\n",
            "3008/3008 [==============================] - 6s 2ms/step - loss: 0.6266 - binary_accuracy: 0.6523 - val_loss: 0.7694 - val_binary_accuracy: 0.5807\n",
            "Epoch 61/200\n",
            "3008/3008 [==============================] - 6s 2ms/step - loss: 0.6218 - binary_accuracy: 0.6679 - val_loss: 0.8104 - val_binary_accuracy: 0.4935\n",
            "Epoch 62/200\n",
            "3008/3008 [==============================] - 6s 2ms/step - loss: 0.6288 - binary_accuracy: 0.6629 - val_loss: 0.7644 - val_binary_accuracy: 0.5247\n",
            "Epoch 63/200\n",
            "3008/3008 [==============================] - 6s 2ms/step - loss: 0.6278 - binary_accuracy: 0.6602 - val_loss: 0.7691 - val_binary_accuracy: 0.5026\n",
            "Epoch 64/200\n",
            "3008/3008 [==============================] - 6s 2ms/step - loss: 0.6216 - binary_accuracy: 0.6576 - val_loss: 0.7830 - val_binary_accuracy: 0.4909\n",
            "Epoch 65/200\n",
            "3008/3008 [==============================] - 6s 2ms/step - loss: 0.6228 - binary_accuracy: 0.6599 - val_loss: 0.7727 - val_binary_accuracy: 0.4883\n",
            "Epoch 66/200\n",
            "3008/3008 [==============================] - 6s 2ms/step - loss: 0.6221 - binary_accuracy: 0.6659 - val_loss: 0.7558 - val_binary_accuracy: 0.5326\n",
            "Epoch 67/200\n",
            "3008/3008 [==============================] - 6s 2ms/step - loss: 0.6215 - binary_accuracy: 0.6622 - val_loss: 0.7667 - val_binary_accuracy: 0.4974\n",
            "Epoch 68/200\n",
            "3008/3008 [==============================] - 6s 2ms/step - loss: 0.6173 - binary_accuracy: 0.6702 - val_loss: 0.7830 - val_binary_accuracy: 0.5000\n",
            "Epoch 69/200\n",
            "3008/3008 [==============================] - 6s 2ms/step - loss: 0.6172 - binary_accuracy: 0.6652 - val_loss: 0.7364 - val_binary_accuracy: 0.5794\n",
            "Epoch 70/200\n",
            "3008/3008 [==============================] - 6s 2ms/step - loss: 0.6248 - binary_accuracy: 0.6682 - val_loss: 0.7489 - val_binary_accuracy: 0.5534\n",
            "Epoch 71/200\n",
            "3008/3008 [==============================] - 6s 2ms/step - loss: 0.6240 - binary_accuracy: 0.6579 - val_loss: 0.7584 - val_binary_accuracy: 0.5781\n",
            "Epoch 72/200\n",
            "3008/3008 [==============================] - 6s 2ms/step - loss: 0.6227 - binary_accuracy: 0.6609 - val_loss: 0.7480 - val_binary_accuracy: 0.5365\n",
            "Epoch 73/200\n",
            "3008/3008 [==============================] - 6s 2ms/step - loss: 0.6222 - binary_accuracy: 0.6626 - val_loss: 0.7765 - val_binary_accuracy: 0.5026\n",
            "Epoch 74/200\n",
            "3008/3008 [==============================] - 6s 2ms/step - loss: 0.6169 - binary_accuracy: 0.6662 - val_loss: 0.8054 - val_binary_accuracy: 0.5078\n",
            "Epoch 75/200\n",
            "3008/3008 [==============================] - 6s 2ms/step - loss: 0.6177 - binary_accuracy: 0.6659 - val_loss: 0.7431 - val_binary_accuracy: 0.5339\n",
            "Epoch 76/200\n",
            "3008/3008 [==============================] - 6s 2ms/step - loss: 0.6212 - binary_accuracy: 0.6649 - val_loss: 0.7505 - val_binary_accuracy: 0.5547\n",
            "Epoch 77/200\n",
            "3008/3008 [==============================] - 6s 2ms/step - loss: 0.6160 - binary_accuracy: 0.6695 - val_loss: 0.8000 - val_binary_accuracy: 0.4792\n",
            "Epoch 78/200\n",
            "3008/3008 [==============================] - 6s 2ms/step - loss: 0.6139 - binary_accuracy: 0.6792 - val_loss: 0.7621 - val_binary_accuracy: 0.5299\n",
            "Epoch 79/200\n",
            "3008/3008 [==============================] - 6s 2ms/step - loss: 0.6175 - binary_accuracy: 0.6602 - val_loss: 0.7811 - val_binary_accuracy: 0.5417\n",
            "Epoch 80/200\n",
            "3008/3008 [==============================] - 6s 2ms/step - loss: 0.6121 - binary_accuracy: 0.6749 - val_loss: 0.7610 - val_binary_accuracy: 0.5352\n",
            "Epoch 81/200\n",
            "3008/3008 [==============================] - 6s 2ms/step - loss: 0.6129 - binary_accuracy: 0.6695 - val_loss: 0.8991 - val_binary_accuracy: 0.4258\n",
            "Epoch 82/200\n",
            "3008/3008 [==============================] - 6s 2ms/step - loss: 0.6167 - binary_accuracy: 0.6682 - val_loss: 0.7502 - val_binary_accuracy: 0.5456\n",
            "Epoch 83/200\n",
            "3008/3008 [==============================] - 6s 2ms/step - loss: 0.6181 - binary_accuracy: 0.6622 - val_loss: 0.7534 - val_binary_accuracy: 0.5586\n",
            "Epoch 84/200\n",
            "3008/3008 [==============================] - 6s 2ms/step - loss: 0.6114 - binary_accuracy: 0.6785 - val_loss: 0.8072 - val_binary_accuracy: 0.4805\n",
            "Epoch 85/200\n",
            "3008/3008 [==============================] - 6s 2ms/step - loss: 0.6107 - binary_accuracy: 0.6772 - val_loss: 0.8160 - val_binary_accuracy: 0.5391\n",
            "Epoch 86/200\n",
            "3008/3008 [==============================] - 6s 2ms/step - loss: 0.6066 - binary_accuracy: 0.6842 - val_loss: 0.8069 - val_binary_accuracy: 0.4831\n",
            "Epoch 87/200\n",
            "3008/3008 [==============================] - 6s 2ms/step - loss: 0.6095 - binary_accuracy: 0.6725 - val_loss: 0.7678 - val_binary_accuracy: 0.5430\n",
            "Epoch 88/200\n",
            "3008/3008 [==============================] - 6s 2ms/step - loss: 0.6133 - binary_accuracy: 0.6769 - val_loss: 0.8753 - val_binary_accuracy: 0.4909\n",
            "Epoch 89/200\n",
            "3008/3008 [==============================] - 6s 2ms/step - loss: 0.6094 - binary_accuracy: 0.6799 - val_loss: 0.7490 - val_binary_accuracy: 0.5260\n",
            "Epoch 90/200\n",
            "3008/3008 [==============================] - 6s 2ms/step - loss: 0.6163 - binary_accuracy: 0.6732 - val_loss: 0.7626 - val_binary_accuracy: 0.5417\n",
            "Epoch 91/200\n",
            "3008/3008 [==============================] - 6s 2ms/step - loss: 0.6101 - binary_accuracy: 0.6705 - val_loss: 0.7598 - val_binary_accuracy: 0.5820\n",
            "Epoch 92/200\n",
            "3008/3008 [==============================] - 6s 2ms/step - loss: 0.6079 - binary_accuracy: 0.6822 - val_loss: 0.8346 - val_binary_accuracy: 0.4870\n",
            "Epoch 93/200\n",
            "3008/3008 [==============================] - 6s 2ms/step - loss: 0.6093 - binary_accuracy: 0.6805 - val_loss: 0.8239 - val_binary_accuracy: 0.5326\n",
            "Epoch 94/200\n",
            "3008/3008 [==============================] - 6s 2ms/step - loss: 0.6044 - binary_accuracy: 0.6865 - val_loss: 0.8133 - val_binary_accuracy: 0.4857\n",
            "Epoch 95/200\n",
            "3008/3008 [==============================] - 6s 2ms/step - loss: 0.6012 - binary_accuracy: 0.6828 - val_loss: 0.8257 - val_binary_accuracy: 0.4805\n",
            "Epoch 96/200\n",
            "3008/3008 [==============================] - 6s 2ms/step - loss: 0.6033 - binary_accuracy: 0.6812 - val_loss: 0.7407 - val_binary_accuracy: 0.5781\n",
            "Epoch 97/200\n",
            "3008/3008 [==============================] - 6s 2ms/step - loss: 0.6038 - binary_accuracy: 0.6805 - val_loss: 0.7915 - val_binary_accuracy: 0.5352\n",
            "Epoch 98/200\n",
            "3008/3008 [==============================] - 6s 2ms/step - loss: 0.6021 - binary_accuracy: 0.6852 - val_loss: 0.8217 - val_binary_accuracy: 0.4909\n",
            "Epoch 99/200\n",
            "3008/3008 [==============================] - 6s 2ms/step - loss: 0.6034 - binary_accuracy: 0.6835 - val_loss: 0.8624 - val_binary_accuracy: 0.5156\n",
            "Epoch 100/200\n",
            "3008/3008 [==============================] - 6s 2ms/step - loss: 0.6044 - binary_accuracy: 0.6835 - val_loss: 0.7656 - val_binary_accuracy: 0.5052\n",
            "Epoch 101/200\n",
            "3008/3008 [==============================] - 6s 2ms/step - loss: 0.5993 - binary_accuracy: 0.6845 - val_loss: 0.8461 - val_binary_accuracy: 0.4674\n",
            "Epoch 102/200\n",
            "3008/3008 [==============================] - 6s 2ms/step - loss: 0.6143 - binary_accuracy: 0.6772 - val_loss: 0.7730 - val_binary_accuracy: 0.5456\n",
            "Epoch 103/200\n",
            "3008/3008 [==============================] - 6s 2ms/step - loss: 0.6066 - binary_accuracy: 0.6732 - val_loss: 0.7753 - val_binary_accuracy: 0.5052\n",
            "Epoch 104/200\n",
            "3008/3008 [==============================] - 6s 2ms/step - loss: 0.6009 - binary_accuracy: 0.6805 - val_loss: 0.7658 - val_binary_accuracy: 0.5117\n",
            "Epoch 105/200\n",
            "3008/3008 [==============================] - 6s 2ms/step - loss: 0.6064 - binary_accuracy: 0.6779 - val_loss: 0.7632 - val_binary_accuracy: 0.5430\n",
            "Epoch 106/200\n",
            "3008/3008 [==============================] - 6s 2ms/step - loss: 0.5984 - binary_accuracy: 0.6878 - val_loss: 0.7802 - val_binary_accuracy: 0.4974\n",
            "Epoch 107/200\n",
            "3008/3008 [==============================] - 6s 2ms/step - loss: 0.6001 - binary_accuracy: 0.6812 - val_loss: 0.7538 - val_binary_accuracy: 0.5208\n",
            "Epoch 108/200\n",
            "3008/3008 [==============================] - 6s 2ms/step - loss: 0.6077 - binary_accuracy: 0.6759 - val_loss: 0.7630 - val_binary_accuracy: 0.5612\n",
            "Epoch 109/200\n",
            "3008/3008 [==============================] - 6s 2ms/step - loss: 0.5970 - binary_accuracy: 0.6902 - val_loss: 0.8273 - val_binary_accuracy: 0.4805\n",
            "Epoch 110/200\n",
            "3008/3008 [==============================] - 6s 2ms/step - loss: 0.5961 - binary_accuracy: 0.6915 - val_loss: 0.7779 - val_binary_accuracy: 0.4740\n",
            "Epoch 111/200\n",
            "3008/3008 [==============================] - 6s 2ms/step - loss: 0.6056 - binary_accuracy: 0.6682 - val_loss: 0.8186 - val_binary_accuracy: 0.4688\n",
            "Epoch 112/200\n",
            "3008/3008 [==============================] - 6s 2ms/step - loss: 0.6025 - binary_accuracy: 0.6862 - val_loss: 0.7458 - val_binary_accuracy: 0.5169\n",
            "Epoch 113/200\n",
            "3008/3008 [==============================] - 6s 2ms/step - loss: 0.6134 - binary_accuracy: 0.6659 - val_loss: 0.7220 - val_binary_accuracy: 0.5742\n",
            "Epoch 114/200\n",
            "3008/3008 [==============================] - 6s 2ms/step - loss: 0.6024 - binary_accuracy: 0.6809 - val_loss: 0.7574 - val_binary_accuracy: 0.4974\n",
            "Epoch 115/200\n",
            "3008/3008 [==============================] - 6s 2ms/step - loss: 0.5954 - binary_accuracy: 0.6912 - val_loss: 0.7813 - val_binary_accuracy: 0.5156\n",
            "Epoch 116/200\n",
            "3008/3008 [==============================] - 6s 2ms/step - loss: 0.5939 - binary_accuracy: 0.6922 - val_loss: 0.7876 - val_binary_accuracy: 0.5130\n",
            "Epoch 117/200\n",
            "3008/3008 [==============================] - 6s 2ms/step - loss: 0.5941 - binary_accuracy: 0.6922 - val_loss: 0.7912 - val_binary_accuracy: 0.5182\n",
            "Epoch 118/200\n",
            "3008/3008 [==============================] - 6s 2ms/step - loss: 0.5911 - binary_accuracy: 0.6865 - val_loss: 0.7860 - val_binary_accuracy: 0.5234\n",
            "Epoch 119/200\n",
            "3008/3008 [==============================] - 6s 2ms/step - loss: 0.5852 - binary_accuracy: 0.7011 - val_loss: 0.8352 - val_binary_accuracy: 0.4922\n",
            "Epoch 120/200\n",
            "3008/3008 [==============================] - 6s 2ms/step - loss: 0.5922 - binary_accuracy: 0.7008 - val_loss: 0.7643 - val_binary_accuracy: 0.5104\n",
            "Epoch 121/200\n",
            "3008/3008 [==============================] - 6s 2ms/step - loss: 0.5879 - binary_accuracy: 0.6932 - val_loss: 0.8001 - val_binary_accuracy: 0.4818\n",
            "Epoch 122/200\n",
            "3008/3008 [==============================] - 6s 2ms/step - loss: 0.5816 - binary_accuracy: 0.6941 - val_loss: 0.7707 - val_binary_accuracy: 0.5326\n",
            "Epoch 123/200\n",
            "3008/3008 [==============================] - 6s 2ms/step - loss: 0.5898 - binary_accuracy: 0.6932 - val_loss: 0.7636 - val_binary_accuracy: 0.4805\n",
            "Epoch 124/200\n",
            "3008/3008 [==============================] - 6s 2ms/step - loss: 0.5948 - binary_accuracy: 0.7035 - val_loss: 0.7583 - val_binary_accuracy: 0.5534\n",
            "Epoch 125/200\n",
            "3008/3008 [==============================] - 6s 2ms/step - loss: 0.5879 - binary_accuracy: 0.6961 - val_loss: 0.8111 - val_binary_accuracy: 0.4818\n",
            "Epoch 126/200\n",
            "3008/3008 [==============================] - 6s 2ms/step - loss: 0.5836 - binary_accuracy: 0.6988 - val_loss: 0.7927 - val_binary_accuracy: 0.4961\n",
            "Epoch 127/200\n",
            "3008/3008 [==============================] - 6s 2ms/step - loss: 0.5779 - binary_accuracy: 0.6995 - val_loss: 0.8311 - val_binary_accuracy: 0.5065\n",
            "Epoch 128/200\n",
            "3008/3008 [==============================] - 6s 2ms/step - loss: 0.5849 - binary_accuracy: 0.7055 - val_loss: 0.7300 - val_binary_accuracy: 0.5417\n",
            "Epoch 129/200\n",
            "3008/3008 [==============================] - 6s 2ms/step - loss: 0.5887 - binary_accuracy: 0.7005 - val_loss: 0.8642 - val_binary_accuracy: 0.5339\n",
            "Epoch 130/200\n",
            "3008/3008 [==============================] - 6s 2ms/step - loss: 0.5930 - binary_accuracy: 0.6988 - val_loss: 0.8973 - val_binary_accuracy: 0.4792\n",
            "Epoch 131/200\n",
            "3008/3008 [==============================] - 6s 2ms/step - loss: 0.5858 - binary_accuracy: 0.7031 - val_loss: 0.7907 - val_binary_accuracy: 0.5156\n",
            "Epoch 132/200\n",
            "3008/3008 [==============================] - 6s 2ms/step - loss: 0.5809 - binary_accuracy: 0.7018 - val_loss: 0.8104 - val_binary_accuracy: 0.5143\n",
            "Epoch 133/200\n",
            "3008/3008 [==============================] - 6s 2ms/step - loss: 0.5806 - binary_accuracy: 0.7071 - val_loss: 0.7714 - val_binary_accuracy: 0.5469\n",
            "Epoch 134/200\n",
            "3008/3008 [==============================] - 6s 2ms/step - loss: 0.5802 - binary_accuracy: 0.7028 - val_loss: 0.9884 - val_binary_accuracy: 0.4701\n",
            "Epoch 135/200\n",
            "3008/3008 [==============================] - 6s 2ms/step - loss: 0.5812 - binary_accuracy: 0.7011 - val_loss: 0.7710 - val_binary_accuracy: 0.5052\n",
            "Epoch 136/200\n",
            "3008/3008 [==============================] - 6s 2ms/step - loss: 0.5772 - binary_accuracy: 0.7124 - val_loss: 0.7390 - val_binary_accuracy: 0.5169\n",
            "Epoch 137/200\n",
            "3008/3008 [==============================] - 6s 2ms/step - loss: 0.5865 - binary_accuracy: 0.7025 - val_loss: 0.7352 - val_binary_accuracy: 0.5260\n",
            "Epoch 138/200\n",
            "3008/3008 [==============================] - 6s 2ms/step - loss: 0.5807 - binary_accuracy: 0.7068 - val_loss: 0.7676 - val_binary_accuracy: 0.4896\n",
            "Epoch 139/200\n",
            "3008/3008 [==============================] - 6s 2ms/step - loss: 0.5793 - binary_accuracy: 0.7101 - val_loss: 0.7254 - val_binary_accuracy: 0.5299\n",
            "Epoch 140/200\n",
            "3008/3008 [==============================] - 6s 2ms/step - loss: 0.5765 - binary_accuracy: 0.7058 - val_loss: 0.8415 - val_binary_accuracy: 0.4870\n",
            "Epoch 141/200\n",
            "3008/3008 [==============================] - 6s 2ms/step - loss: 0.5751 - binary_accuracy: 0.7101 - val_loss: 0.7522 - val_binary_accuracy: 0.5104\n",
            "Epoch 142/200\n",
            "3008/3008 [==============================] - 6s 2ms/step - loss: 0.5827 - binary_accuracy: 0.7005 - val_loss: 0.7702 - val_binary_accuracy: 0.5299\n",
            "Epoch 143/200\n",
            "3008/3008 [==============================] - 6s 2ms/step - loss: 0.5722 - binary_accuracy: 0.7035 - val_loss: 0.7798 - val_binary_accuracy: 0.5182\n",
            "Epoch 144/200\n",
            "3008/3008 [==============================] - 6s 2ms/step - loss: 0.5694 - binary_accuracy: 0.7158 - val_loss: 0.8422 - val_binary_accuracy: 0.4922\n",
            "Epoch 145/200\n",
            "3008/3008 [==============================] - 6s 2ms/step - loss: 0.5671 - binary_accuracy: 0.7104 - val_loss: 0.8301 - val_binary_accuracy: 0.4740\n",
            "Epoch 146/200\n",
            "3008/3008 [==============================] - 6s 2ms/step - loss: 0.5760 - binary_accuracy: 0.7131 - val_loss: 0.7554 - val_binary_accuracy: 0.5651\n",
            "Epoch 147/200\n",
            "3008/3008 [==============================] - 6s 2ms/step - loss: 0.5749 - binary_accuracy: 0.7078 - val_loss: 0.7593 - val_binary_accuracy: 0.5807\n",
            "Epoch 148/200\n",
            "3008/3008 [==============================] - 6s 2ms/step - loss: 0.5784 - binary_accuracy: 0.7161 - val_loss: 0.8034 - val_binary_accuracy: 0.4961\n",
            "Epoch 149/200\n",
            "3008/3008 [==============================] - 6s 2ms/step - loss: 0.5652 - binary_accuracy: 0.7121 - val_loss: 0.7787 - val_binary_accuracy: 0.5078\n",
            "Epoch 150/200\n",
            "3008/3008 [==============================] - 6s 2ms/step - loss: 0.5709 - binary_accuracy: 0.7108 - val_loss: 0.8514 - val_binary_accuracy: 0.4805\n",
            "Epoch 151/200\n",
            "3008/3008 [==============================] - 6s 2ms/step - loss: 0.5686 - binary_accuracy: 0.7164 - val_loss: 0.7493 - val_binary_accuracy: 0.5391\n",
            "Epoch 152/200\n",
            "3008/3008 [==============================] - 6s 2ms/step - loss: 0.5691 - binary_accuracy: 0.7134 - val_loss: 0.8071 - val_binary_accuracy: 0.5417\n",
            "Epoch 153/200\n",
            "3008/3008 [==============================] - 6s 2ms/step - loss: 0.5747 - binary_accuracy: 0.7055 - val_loss: 0.7539 - val_binary_accuracy: 0.5260\n",
            "Epoch 154/200\n",
            "3008/3008 [==============================] - 6s 2ms/step - loss: 0.5651 - binary_accuracy: 0.7101 - val_loss: 0.7943 - val_binary_accuracy: 0.5117\n",
            "Epoch 155/200\n",
            "3008/3008 [==============================] - 6s 2ms/step - loss: 0.5811 - binary_accuracy: 0.7108 - val_loss: 0.7463 - val_binary_accuracy: 0.5469\n",
            "Epoch 156/200\n",
            "3008/3008 [==============================] - 6s 2ms/step - loss: 0.5709 - binary_accuracy: 0.7151 - val_loss: 0.8142 - val_binary_accuracy: 0.5195\n",
            "Epoch 157/200\n",
            "3008/3008 [==============================] - 6s 2ms/step - loss: 0.5658 - binary_accuracy: 0.7224 - val_loss: 0.8400 - val_binary_accuracy: 0.5039\n",
            "Epoch 158/200\n",
            "3008/3008 [==============================] - 6s 2ms/step - loss: 0.5647 - binary_accuracy: 0.7161 - val_loss: 0.8052 - val_binary_accuracy: 0.5443\n",
            "Epoch 159/200\n",
            "3008/3008 [==============================] - 6s 2ms/step - loss: 0.5686 - binary_accuracy: 0.7201 - val_loss: 0.8118 - val_binary_accuracy: 0.5312\n",
            "Epoch 160/200\n",
            "3008/3008 [==============================] - 6s 2ms/step - loss: 0.5606 - binary_accuracy: 0.7144 - val_loss: 0.8389 - val_binary_accuracy: 0.5000\n",
            "Epoch 161/200\n",
            "3008/3008 [==============================] - 6s 2ms/step - loss: 0.5561 - binary_accuracy: 0.7204 - val_loss: 0.9230 - val_binary_accuracy: 0.5312\n",
            "Epoch 162/200\n",
            "3008/3008 [==============================] - 6s 2ms/step - loss: 0.5633 - binary_accuracy: 0.7174 - val_loss: 0.8247 - val_binary_accuracy: 0.5117\n",
            "Epoch 163/200\n",
            "3008/3008 [==============================] - 6s 2ms/step - loss: 0.5614 - binary_accuracy: 0.7178 - val_loss: 0.8879 - val_binary_accuracy: 0.5456\n",
            "Epoch 164/200\n",
            "3008/3008 [==============================] - 6s 2ms/step - loss: 0.5688 - binary_accuracy: 0.7121 - val_loss: 0.8184 - val_binary_accuracy: 0.5078\n",
            "Epoch 165/200\n",
            "3008/3008 [==============================] - 6s 2ms/step - loss: 0.5726 - binary_accuracy: 0.7098 - val_loss: 0.8371 - val_binary_accuracy: 0.5104\n",
            "Epoch 166/200\n",
            "3008/3008 [==============================] - 6s 2ms/step - loss: 0.5666 - binary_accuracy: 0.7184 - val_loss: 0.9891 - val_binary_accuracy: 0.4948\n",
            "Epoch 167/200\n",
            "3008/3008 [==============================] - 6s 2ms/step - loss: 0.5656 - binary_accuracy: 0.7214 - val_loss: 0.9113 - val_binary_accuracy: 0.5078\n",
            "Epoch 168/200\n",
            "3008/3008 [==============================] - 6s 2ms/step - loss: 0.5600 - binary_accuracy: 0.7194 - val_loss: 0.8652 - val_binary_accuracy: 0.5117\n",
            "Epoch 169/200\n",
            "3008/3008 [==============================] - 6s 2ms/step - loss: 0.5580 - binary_accuracy: 0.7181 - val_loss: 0.7822 - val_binary_accuracy: 0.5326\n",
            "Epoch 170/200\n",
            "3008/3008 [==============================] - 6s 2ms/step - loss: 0.5561 - binary_accuracy: 0.7207 - val_loss: 0.8014 - val_binary_accuracy: 0.5299\n",
            "Epoch 171/200\n",
            "3008/3008 [==============================] - 6s 2ms/step - loss: 0.5594 - binary_accuracy: 0.7284 - val_loss: 0.8122 - val_binary_accuracy: 0.5430\n",
            "Epoch 172/200\n",
            "3008/3008 [==============================] - 6s 2ms/step - loss: 0.5585 - binary_accuracy: 0.7287 - val_loss: 0.8189 - val_binary_accuracy: 0.5365\n",
            "Epoch 173/200\n",
            "3008/3008 [==============================] - 6s 2ms/step - loss: 0.5660 - binary_accuracy: 0.7214 - val_loss: 0.9255 - val_binary_accuracy: 0.5013\n",
            "Epoch 174/200\n",
            "3008/3008 [==============================] - 6s 2ms/step - loss: 0.5616 - binary_accuracy: 0.7201 - val_loss: 0.7604 - val_binary_accuracy: 0.5417\n",
            "Epoch 175/200\n",
            "3008/3008 [==============================] - 6s 2ms/step - loss: 0.5505 - binary_accuracy: 0.7320 - val_loss: 0.9353 - val_binary_accuracy: 0.5482\n",
            "Epoch 176/200\n",
            "3008/3008 [==============================] - 6s 2ms/step - loss: 0.5565 - binary_accuracy: 0.7281 - val_loss: 0.7895 - val_binary_accuracy: 0.5651\n",
            "Epoch 177/200\n",
            "3008/3008 [==============================] - 6s 2ms/step - loss: 0.5490 - binary_accuracy: 0.7244 - val_loss: 0.7921 - val_binary_accuracy: 0.5391\n",
            "Epoch 178/200\n",
            "3008/3008 [==============================] - 6s 2ms/step - loss: 0.5565 - binary_accuracy: 0.7234 - val_loss: 0.8967 - val_binary_accuracy: 0.4805\n",
            "Epoch 179/200\n",
            "3008/3008 [==============================] - 6s 2ms/step - loss: 0.5624 - binary_accuracy: 0.7211 - val_loss: 0.8266 - val_binary_accuracy: 0.5586\n",
            "Epoch 180/200\n",
            "3008/3008 [==============================] - 6s 2ms/step - loss: 0.5539 - binary_accuracy: 0.7271 - val_loss: 0.8057 - val_binary_accuracy: 0.5404\n",
            "Epoch 181/200\n",
            "3008/3008 [==============================] - 6s 2ms/step - loss: 0.5586 - binary_accuracy: 0.7191 - val_loss: 0.8886 - val_binary_accuracy: 0.4987\n",
            "Epoch 182/200\n",
            "3008/3008 [==============================] - 6s 2ms/step - loss: 0.5598 - binary_accuracy: 0.7191 - val_loss: 0.8615 - val_binary_accuracy: 0.5221\n",
            "Epoch 183/200\n",
            "3008/3008 [==============================] - 6s 2ms/step - loss: 0.5572 - binary_accuracy: 0.7231 - val_loss: 0.7740 - val_binary_accuracy: 0.5286\n",
            "Epoch 184/200\n",
            "3008/3008 [==============================] - 6s 2ms/step - loss: 0.5464 - binary_accuracy: 0.7214 - val_loss: 0.8448 - val_binary_accuracy: 0.5417\n",
            "Epoch 185/200\n",
            "3008/3008 [==============================] - 6s 2ms/step - loss: 0.5431 - binary_accuracy: 0.7347 - val_loss: 0.8343 - val_binary_accuracy: 0.5104\n",
            "Epoch 186/200\n",
            "3008/3008 [==============================] - 6s 2ms/step - loss: 0.5463 - binary_accuracy: 0.7287 - val_loss: 0.8350 - val_binary_accuracy: 0.5169\n",
            "Epoch 187/200\n",
            "3008/3008 [==============================] - 6s 2ms/step - loss: 0.5416 - binary_accuracy: 0.7287 - val_loss: 0.8530 - val_binary_accuracy: 0.5443\n",
            "Epoch 188/200\n",
            "3008/3008 [==============================] - 6s 2ms/step - loss: 0.5445 - binary_accuracy: 0.7287 - val_loss: 0.9606 - val_binary_accuracy: 0.5000\n",
            "Epoch 189/200\n",
            "3008/3008 [==============================] - 6s 2ms/step - loss: 0.5514 - binary_accuracy: 0.7227 - val_loss: 0.9686 - val_binary_accuracy: 0.4922\n",
            "Epoch 190/200\n",
            "3008/3008 [==============================] - 6s 2ms/step - loss: 0.5538 - binary_accuracy: 0.7214 - val_loss: 0.7904 - val_binary_accuracy: 0.5234\n",
            "Epoch 191/200\n",
            "3008/3008 [==============================] - 6s 2ms/step - loss: 0.5470 - binary_accuracy: 0.7334 - val_loss: 0.8602 - val_binary_accuracy: 0.5482\n",
            "Epoch 192/200\n",
            "3008/3008 [==============================] - 6s 2ms/step - loss: 0.5365 - binary_accuracy: 0.7357 - val_loss: 0.8467 - val_binary_accuracy: 0.5326\n",
            "Epoch 193/200\n",
            "3008/3008 [==============================] - 6s 2ms/step - loss: 0.5458 - binary_accuracy: 0.7330 - val_loss: 0.8619 - val_binary_accuracy: 0.5039\n",
            "Epoch 194/200\n",
            "3008/3008 [==============================] - 6s 2ms/step - loss: 0.5518 - binary_accuracy: 0.7221 - val_loss: 0.7593 - val_binary_accuracy: 0.5443\n",
            "Epoch 195/200\n",
            "3008/3008 [==============================] - 6s 2ms/step - loss: 0.5437 - binary_accuracy: 0.7427 - val_loss: 0.8547 - val_binary_accuracy: 0.5404\n",
            "Epoch 196/200\n",
            "3008/3008 [==============================] - 6s 2ms/step - loss: 0.5527 - binary_accuracy: 0.7334 - val_loss: 0.8275 - val_binary_accuracy: 0.5130\n",
            "Epoch 197/200\n",
            "3008/3008 [==============================] - 6s 2ms/step - loss: 0.5452 - binary_accuracy: 0.7311 - val_loss: 0.8607 - val_binary_accuracy: 0.5521\n",
            "Epoch 198/200\n",
            "3008/3008 [==============================] - 6s 2ms/step - loss: 0.5377 - binary_accuracy: 0.7410 - val_loss: 0.8421 - val_binary_accuracy: 0.5299\n",
            "Epoch 199/200\n",
            "3008/3008 [==============================] - 6s 2ms/step - loss: 0.5507 - binary_accuracy: 0.7274 - val_loss: 0.8206 - val_binary_accuracy: 0.5352\n",
            "Epoch 200/200\n",
            "3008/3008 [==============================] - 6s 2ms/step - loss: 0.5451 - binary_accuracy: 0.7327 - val_loss: 0.9065 - val_binary_accuracy: 0.5417\n"
          ],
          "name": "stdout"
        }
      ]
    },
    {
      "cell_type": "code",
      "metadata": {
        "id": "tYz2IwWnPBTp",
        "colab_type": "code",
        "colab": {
          "base_uri": "https://localhost:8080/",
          "height": 295
        },
        "outputId": "5817302d-2062-4ecc-f932-cbde1c1359a4"
      },
      "source": [
        "plt.plot(history.history['binary_accuracy'])\n",
        "plt.plot(history.history['val_binary_accuracy'])\n",
        "plt.title('model accuracy with window length 30')\n",
        "plt.ylabel('accuracy')\n",
        "plt.xlabel('epoch')\n",
        "plt.legend(['train', 'val'], loc='upper left')\n",
        "plt.show()"
      ],
      "execution_count": 106,
      "outputs": [
        {
          "output_type": "display_data",
          "data": {
            "image/png": "[encoded data removed]",
            "text/plain": [
              "<Figure size 432x288 with 1 Axes>"
            ]
          },
          "metadata": {
            "tags": [],
            "needs_background": "light"
          }
        }
      ]
    },
    {
      "cell_type": "code",
      "metadata": {
        "id": "YYpWDrVZRmyn",
        "colab_type": "code",
        "colab": {
          "base_uri": "https://localhost:8080/",
          "height": 295
        },
        "outputId": "367f3507-2af6-471a-f1c7-f9cf67302301"
      },
      "source": [
        "plt.plot(history.history['loss'])\n",
        "plt.plot(history.history['val_loss'])\n",
        "plt.title('model loss with window length 30')\n",
        "plt.ylabel('loss')\n",
        "plt.xlabel('epoch')\n",
        "plt.legend(['train', 'val'], loc='upper left')\n",
        "plt.show()"
      ],
      "execution_count": 107,
      "outputs": [
        {
          "output_type": "display_data",
          "data": {
            "image/png": "[encoded data removed]",
            "text/plain": [
              "<Figure size 432x288 with 1 Axes>"
            ]
          },
          "metadata": {
            "tags": [],
            "needs_background": "light"
          }
        }
      ]
    },
    {
      "cell_type": "code",
      "metadata": {
        "id": "Jpvbfg8aRsYA",
        "colab_type": "code",
        "colab": {
          "base_uri": "https://localhost:8080/",
          "height": 54
        },
        "outputId": "47bd1bf0-cccf-49ca-9af0-29686906b096"
      },
      "source": [
        "results = model.evaluate(testing_data, testing_labels)\n",
        "print('for window length 30 we have: test loss, test acc:', results)"
      ],
      "execution_count": 108,
      "outputs": [
        {
          "output_type": "stream",
          "text": [
            "160/160 [==============================] - 0s 254us/step\n",
            "for window length 30 we have: test loss, test acc: [1.1740493297576904, 0.6499999761581421]\n"
          ],
          "name": "stdout"
        }
      ]
    },
    {
      "cell_type": "markdown",
      "metadata": {
        "id": "SWWAOoye62qC",
        "colab_type": "text"
      },
      "source": [
        "**Now, Let's train the model with window size of 10 again, but increase the number of epochs to 1000**"
      ]
    },
    {
      "cell_type": "code",
      "metadata": {
        "id": "Qc5XAwuN7DEH",
        "colab_type": "code",
        "colab": {}
      },
      "source": [
        "training_data, training_labels, testing_data, testing_labels = \\\n",
        "      generate_datasets_for_model(data, labels, stock_with_max_trading_days, training_start, training_end, testing_start, testing_end)\n",
        "\n",
        "model = build_model(training_data.shape, optimizer)\n",
        "model.summary()"
      ],
      "execution_count": 0,
      "outputs": []
    },
    {
      "cell_type": "code",
      "metadata": {
        "id": "GG4DZfQG7Kd_",
        "colab_type": "code",
        "colab": {}
      },
      "source": [
        "history = model.fit(training_data, training_labels,\n",
        "                    batch_size=32,\n",
        "                    epochs=1000,\n",
        "                    shuffle=False,\n",
        "                    validation_split=0.2)"
      ],
      "execution_count": 0,
      "outputs": []
    },
    {
      "cell_type": "code",
      "metadata": {
        "id": "5AJhKcK_7N5G",
        "colab_type": "code",
        "colab": {}
      },
      "source": [
        "plt.plot(history.history['binary_accuracy'])\n",
        "plt.plot(history.history['val_binary_accuracy'])\n",
        "plt.title('model accuracy with window length 10')\n",
        "plt.ylabel('accuracy')\n",
        "plt.xlabel('epoch')\n",
        "plt.legend(['train', 'val'], loc='upper left')\n",
        "plt.show()"
      ],
      "execution_count": 0,
      "outputs": []
    },
    {
      "cell_type": "code",
      "metadata": {
        "id": "ls7rjK6NBGli",
        "colab_type": "code",
        "colab": {}
      },
      "source": [
        "plt.plot(history.history['loss'])\n",
        "plt.plot(history.history['val_loss'])\n",
        "plt.title('model loss with window length 10')\n",
        "plt.ylabel('loss')\n",
        "plt.xlabel('epoch')\n",
        "plt.legend(['train', 'val'], loc='upper left')\n",
        "plt.show()"
      ],
      "execution_count": 0,
      "outputs": []
    },
    {
      "cell_type": "code",
      "metadata": {
        "id": "Av5Qa-NaBNNA",
        "colab_type": "code",
        "colab": {}
      },
      "source": [
        "results = model.evaluate(testing_data, testing_labels)\n",
        "print('for window length 10 we have: test loss, test acc:', results)"
      ],
      "execution_count": 0,
      "outputs": []
    },
    {
      "cell_type": "markdown",
      "metadata": {
        "id": "9uTwhK3UFcHD",
        "colab_type": "text"
      },
      "source": [
        "**Now let's remove dropout layer and repeat the experiment with window length of 10**"
      ]
    },
    {
      "cell_type": "markdown",
      "metadata": {
        "id": "ob1COi88HqFe",
        "colab_type": "text"
      },
      "source": [
        "First of all, let's set number of epochs to 200"
      ]
    },
    {
      "cell_type": "code",
      "metadata": {
        "id": "M5bbqNFXLUtX",
        "colab_type": "code",
        "colab": {}
      },
      "source": [
        "training_data, training_labels, testing_data, testing_labels = \\\n",
        "      generate_datasets_for_model(data, labels, stock_with_max_trading_days, training_start, training_end, testing_start, testing_end)"
      ],
      "execution_count": 0,
      "outputs": []
    },
    {
      "cell_type": "code",
      "metadata": {
        "id": "2kZw7VUtLTPT",
        "colab_type": "code",
        "colab": {}
      },
      "source": [
        "\n",
        "layers = [\n",
        "          LSTM(64, input_shape=(training_data.shape[1], training_data.shape[2])),\n",
        "          Dense(32),\n",
        "          Dense(16),\n",
        "          BatchNormalization(),\n",
        "          Dense(4),\n",
        "          Dense(1),\n",
        "          Activation('sigmoid')\n",
        "         ]"
      ],
      "execution_count": 0,
      "outputs": []
    },
    {
      "cell_type": "code",
      "metadata": {
        "id": "V54ZVa7kGr4m",
        "colab_type": "code",
        "colab": {}
      },
      "source": [
        "model = build_model(training_data.shape, optimizer, layers)\n",
        "model.summary()"
      ],
      "execution_count": 0,
      "outputs": []
    },
    {
      "cell_type": "code",
      "metadata": {
        "id": "6nXwB6uaHb4p",
        "colab_type": "code",
        "colab": {}
      },
      "source": [
        "history = model.fit(training_data, training_labels,\n",
        "                    batch_size=32,\n",
        "                    epochs=200,\n",
        "                    shuffle=False,\n",
        "                    validation_split=0.2)"
      ],
      "execution_count": 0,
      "outputs": []
    },
    {
      "cell_type": "code",
      "metadata": {
        "id": "4ffPNgEpH0Uc",
        "colab_type": "code",
        "colab": {}
      },
      "source": [
        "plt.plot(history.history['binary_accuracy'])\n",
        "plt.plot(history.history['val_binary_accuracy'])\n",
        "plt.title('model accuracy with window length 10')\n",
        "plt.ylabel('accuracy')\n",
        "plt.xlabel('epoch')\n",
        "plt.legend(['train', 'val'], loc='upper left')\n",
        "plt.show()"
      ],
      "execution_count": 0,
      "outputs": []
    },
    {
      "cell_type": "code",
      "metadata": {
        "id": "MnH2L1xkJGdY",
        "colab_type": "code",
        "colab": {}
      },
      "source": [
        "plt.plot(history.history['loss'])\n",
        "plt.plot(history.history['val_loss'])\n",
        "plt.title('model loss with window length 10')\n",
        "plt.ylabel('loss')\n",
        "plt.xlabel('epoch')\n",
        "plt.legend(['train', 'val'], loc='upper left')\n",
        "plt.show()"
      ],
      "execution_count": 0,
      "outputs": []
    },
    {
      "cell_type": "code",
      "metadata": {
        "id": "vUs3uDQcJMH5",
        "colab_type": "code",
        "colab": {}
      },
      "source": [
        "results = model.evaluate(testing_data, testing_labels)\n",
        "print('for window length 10 we have: test loss, test acc:', results)"
      ],
      "execution_count": 0,
      "outputs": []
    },
    {
      "cell_type": "markdown",
      "metadata": {
        "id": "dv0TLYbGK_pd",
        "colab_type": "text"
      },
      "source": [
        "Now, let's set number of epochs to 1000"
      ]
    },
    {
      "cell_type": "code",
      "metadata": {
        "id": "LUAzAulbLC1s",
        "colab_type": "code",
        "colab": {}
      },
      "source": [
        "training_data, training_labels, testing_data, testing_labels = \\\n",
        "      generate_datasets_for_model(data, labels, stock_with_max_trading_days, training_start, training_end, testing_start, testing_end)\n",
        "\n",
        "model = build_model(training_data.shape, optimizer, layers)\n",
        "model.summary()"
      ],
      "execution_count": 0,
      "outputs": []
    },
    {
      "cell_type": "code",
      "metadata": {
        "id": "kTj2QxtGLjCF",
        "colab_type": "code",
        "colab": {}
      },
      "source": [
        "history = model.fit(training_data, training_labels,\n",
        "                    batch_size=32,\n",
        "                    epochs=1000,\n",
        "                    shuffle=False,\n",
        "                    validation_split=0.2)"
      ],
      "execution_count": 0,
      "outputs": []
    },
    {
      "cell_type": "code",
      "metadata": {
        "id": "3rA6YSV_NU63",
        "colab_type": "code",
        "colab": {}
      },
      "source": [
        "plt.plot(history.history['binary_accuracy'])\n",
        "plt.plot(history.history['val_binary_accuracy'])\n",
        "plt.title('model accuracy with window length 10')\n",
        "plt.ylabel('accuracy')\n",
        "plt.xlabel('epoch')\n",
        "plt.legend(['train', 'val'], loc='upper left')\n",
        "plt.show()"
      ],
      "execution_count": 0,
      "outputs": []
    },
    {
      "cell_type": "code",
      "metadata": {
        "id": "rhS92oxoTXHP",
        "colab_type": "code",
        "colab": {}
      },
      "source": [
        "plt.plot(history.history['loss'])\n",
        "plt.plot(history.history['val_loss'])\n",
        "plt.title('model loss with window length 10')\n",
        "plt.ylabel('loss')\n",
        "plt.xlabel('epoch')\n",
        "plt.legend(['train', 'val'], loc='upper left')\n",
        "plt.show()"
      ],
      "execution_count": 0,
      "outputs": []
    },
    {
      "cell_type": "code",
      "metadata": {
        "id": "0uzXd8WETaDt",
        "colab_type": "code",
        "colab": {}
      },
      "source": [
        "results = model.evaluate(testing_data, testing_labels)\n",
        "print('for window length 10 we have: test loss, test acc:', results)"
      ],
      "execution_count": 0,
      "outputs": []
    },
    {
      "cell_type": "markdown",
      "metadata": {
        "id": "WX5M4QyKjdYv",
        "colab_type": "text"
      },
      "source": [
        "**Now, Let's train the model on the whole dataset with no test data, also with window length of 10**"
      ]
    },
    {
      "cell_type": "code",
      "metadata": {
        "id": "yCieIcoInwBy",
        "colab_type": "code",
        "colab": {}
      },
      "source": [
        "_training_end = pandas.to_datetime('20200501', format='%Y%m%d', errors='ignore')\n",
        "\n",
        "training_data, training_labels, testing_data, testing_labels = \\\n",
        "      generate_datasets_for_model(data, labels, stock_with_max_trading_days, training_start, _training_end, test_required=False)\n",
        "\n",
        "model = build_model(training_data.shape, optimizer)\n",
        "model.summary()"
      ],
      "execution_count": 0,
      "outputs": []
    },
    {
      "cell_type": "code",
      "metadata": {
        "id": "pahvW_vWoBn0",
        "colab_type": "code",
        "colab": {}
      },
      "source": [
        "history = model.fit(training_data, training_labels,\n",
        "                    batch_size=32,\n",
        "                    epochs=1200,\n",
        "                    shuffle=False\n",
        "                    )"
      ],
      "execution_count": 0,
      "outputs": []
    },
    {
      "cell_type": "markdown",
      "metadata": {
        "id": "u2QZS72s1g2z",
        "colab_type": "text"
      },
      "source": [
        "Let's save the achieved model for further use."
      ]
    },
    {
      "cell_type": "code",
      "metadata": {
        "id": "WjPa3qWD1qTe",
        "colab_type": "code",
        "colab": {}
      },
      "source": [
        "model.save(join(COLAB_DIR,'model.h5'))"
      ],
      "execution_count": 0,
      "outputs": []
    },
    {
      "cell_type": "markdown",
      "metadata": {
        "id": "LZOztlz66fOv",
        "colab_type": "text"
      },
      "source": [
        "## **Stateful LSTM**"
      ]
    },
    {
      "cell_type": "markdown",
      "metadata": {
        "id": "DI9FCm-e6l-O",
        "colab_type": "text"
      },
      "source": [
        "Until now, we have considered our model as a stateless model. However, that is not the case. One should realize that stateless models reset their state at the end of each batch and that is not desirable in sequence modeling. Thus, let's set the stateful flag in our model."
      ]
    },
    {
      "cell_type": "markdown",
      "metadata": {
        "id": "BfcDmLJT7pk9",
        "colab_type": "text"
      },
      "source": [
        "Now, let's generate the dataset and the model. All the parameters are initialized with their default value throughout this documentation. the window size is still 10."
      ]
    },
    {
      "cell_type": "code",
      "metadata": {
        "id": "NRS8hbnY70d7",
        "colab_type": "code",
        "outputId": "73c53675-9251-4d1d-e3f0-1663084957af",
        "colab": {
          "base_uri": "https://localhost:8080/",
          "height": 421
        }
      },
      "source": [
        "training_start = pandas.to_datetime('20010101', format='%Y%m%d', errors='ignore')\n",
        "training_end = pandas.to_datetime('20170919', format='%Y%m%d', errors='ignore')\n",
        "testing_start = pandas.to_datetime('20180101', format='%Y%m%d', errors='ignore')\n",
        "testing_end = pandas.to_datetime('20180719', format='%Y%m%d', errors='ignore')\n",
        "\n",
        "training_data, training_labels, testing_data, testing_labels = \\\n",
        "      generate_datasets_for_model(data, labels, stock_with_max_trading_days, training_start, training_end, testing_start, testing_end, validation_split=0.0)\n",
        "\n",
        "\n",
        "layers = [\n",
        "          # input_shape : batch_size, time_step, #features\n",
        "          LSTM(64, batch_input_shape=(32,training_data.shape[1], training_data.shape[2]), stateful=True ),\n",
        "          Dense(32),\n",
        "          Dense(16),\n",
        "          BatchNormalization(),\n",
        "          Dense(4),\n",
        "          Dense(1),\n",
        "          Activation('sigmoid')\n",
        "         ]\n",
        "\n",
        "model = build_model(training_data.shape, optimizer, layers)\n",
        "model.summary()"
      ],
      "execution_count": 0,
      "outputs": [
        {
          "output_type": "stream",
          "text": [
            "Model: \"sequential_2\"\n",
            "_________________________________________________________________\n",
            "Layer (type)                 Output Shape              Param #   \n",
            "=================================================================\n",
            "lstm_2 (LSTM)                (32, 64)                  17920     \n",
            "_________________________________________________________________\n",
            "dense_5 (Dense)              (32, 32)                  2080      \n",
            "_________________________________________________________________\n",
            "dense_6 (Dense)              (32, 16)                  528       \n",
            "_________________________________________________________________\n",
            "batch_normalization_2 (Batch (32, 16)                  64        \n",
            "_________________________________________________________________\n",
            "dense_7 (Dense)              (32, 4)                   68        \n",
            "_________________________________________________________________\n",
            "dense_8 (Dense)              (32, 1)                   5         \n",
            "_________________________________________________________________\n",
            "activation_2 (Activation)    (32, 1)                   0         \n",
            "=================================================================\n",
            "Total params: 20,665\n",
            "Trainable params: 20,633\n",
            "Non-trainable params: 32\n",
            "_________________________________________________________________\n"
          ],
          "name": "stdout"
        }
      ]
    },
    {
      "cell_type": "code",
      "metadata": {
        "id": "qZpmTAQumcdN",
        "colab_type": "code",
        "outputId": "9887e387-7012-49e9-f2e2-3c3ebab7e09b",
        "colab": {
          "base_uri": "https://localhost:8080/",
          "height": 400
        }
      },
      "source": [
        "epochs = 200\n",
        "\n",
        "for i in range(epochs):\n",
        "    print('Epoch', i + 1, '/', epochs)\n",
        "    model.fit(training_data,\n",
        "                       training_labels,\n",
        "                       batch_size=32,\n",
        "                       epochs=1,\n",
        "                       shuffle=False)\n",
        "    model.reset_states()"
      ],
      "execution_count": 0,
      "outputs": [
        {
          "output_type": "stream",
          "text": [
            "Epoch 1 / 200\n"
          ],
          "name": "stdout"
        },
        {
          "output_type": "error",
          "ename": "ValueError",
          "evalue": "ignored",
          "traceback": [
            "\u001b[0;31m---------------------------------------------------------------------------\u001b[0m",
            "\u001b[0;31mValueError\u001b[0m                                Traceback (most recent call last)",
            "\u001b[0;32m<ipython-input-20-1607796658cb>\u001b[0m in \u001b[0;36m<module>\u001b[0;34m()\u001b[0m\n\u001b[1;32m      7\u001b[0m                        \u001b[0mbatch_size\u001b[0m\u001b[0;34m=\u001b[0m\u001b[0;36m32\u001b[0m\u001b[0;34m,\u001b[0m\u001b[0;34m\u001b[0m\u001b[0;34m\u001b[0m\u001b[0m\n\u001b[1;32m      8\u001b[0m                        \u001b[0mepochs\u001b[0m\u001b[0;34m=\u001b[0m\u001b[0;36m1\u001b[0m\u001b[0;34m,\u001b[0m\u001b[0;34m\u001b[0m\u001b[0;34m\u001b[0m\u001b[0m\n\u001b[0;32m----> 9\u001b[0;31m                        shuffle=False)\n\u001b[0m\u001b[1;32m     10\u001b[0m     \u001b[0mmodel\u001b[0m\u001b[0;34m.\u001b[0m\u001b[0mreset_states\u001b[0m\u001b[0;34m(\u001b[0m\u001b[0;34m)\u001b[0m\u001b[0;34m\u001b[0m\u001b[0;34m\u001b[0m\u001b[0m\n",
            "\u001b[0;32m/usr/local/lib/python3.6/dist-packages/keras/engine/training.py\u001b[0m in \u001b[0;36mfit\u001b[0;34m(self, x, y, batch_size, epochs, verbose, callbacks, validation_split, validation_data, shuffle, class_weight, sample_weight, initial_epoch, steps_per_epoch, validation_steps, validation_freq, max_queue_size, workers, use_multiprocessing, **kwargs)\u001b[0m\n\u001b[1;32m   1152\u001b[0m             \u001b[0msample_weight\u001b[0m\u001b[0;34m=\u001b[0m\u001b[0msample_weight\u001b[0m\u001b[0;34m,\u001b[0m\u001b[0;34m\u001b[0m\u001b[0;34m\u001b[0m\u001b[0m\n\u001b[1;32m   1153\u001b[0m             \u001b[0mclass_weight\u001b[0m\u001b[0;34m=\u001b[0m\u001b[0mclass_weight\u001b[0m\u001b[0;34m,\u001b[0m\u001b[0;34m\u001b[0m\u001b[0;34m\u001b[0m\u001b[0m\n\u001b[0;32m-> 1154\u001b[0;31m             batch_size=batch_size)\n\u001b[0m\u001b[1;32m   1155\u001b[0m \u001b[0;34m\u001b[0m\u001b[0m\n\u001b[1;32m   1156\u001b[0m         \u001b[0;31m# Prepare validation data.\u001b[0m\u001b[0;34m\u001b[0m\u001b[0;34m\u001b[0m\u001b[0;34m\u001b[0m\u001b[0m\n",
            "\u001b[0;32m/usr/local/lib/python3.6/dist-packages/keras/engine/training.py\u001b[0m in \u001b[0;36m_standardize_user_data\u001b[0;34m(self, x, y, sample_weight, class_weight, check_array_lengths, batch_size)\u001b[0m\n\u001b[1;32m    653\u001b[0m                                  \u001b[0;34m'a number of samples that can be '\u001b[0m\u001b[0;34m\u001b[0m\u001b[0;34m\u001b[0m\u001b[0m\n\u001b[1;32m    654\u001b[0m                                  \u001b[0;34m'divided by the batch size. Found: '\u001b[0m \u001b[0;34m+\u001b[0m\u001b[0;34m\u001b[0m\u001b[0;34m\u001b[0m\u001b[0m\n\u001b[0;32m--> 655\u001b[0;31m                                  str(x[0].shape[0]) + ' samples')\n\u001b[0m\u001b[1;32m    656\u001b[0m         \u001b[0;32mreturn\u001b[0m \u001b[0mx\u001b[0m\u001b[0;34m,\u001b[0m \u001b[0my\u001b[0m\u001b[0;34m,\u001b[0m \u001b[0msample_weights\u001b[0m\u001b[0;34m\u001b[0m\u001b[0;34m\u001b[0m\u001b[0m\n\u001b[1;32m    657\u001b[0m \u001b[0;34m\u001b[0m\u001b[0m\n",
            "\u001b[0;31mValueError\u001b[0m: In a stateful network, you should only pass inputs with a number of samples that can be divided by the batch size. Found: 3738 samples"
          ]
        }
      ]
    },
    {
      "cell_type": "code",
      "metadata": {
        "id": "3KbJbD4hnfpm",
        "colab_type": "code",
        "colab": {}
      },
      "source": [
        ""
      ],
      "execution_count": 0,
      "outputs": []
    },
    {
      "cell_type": "markdown",
      "metadata": {
        "id": "i4H_9YbwxqTA",
        "colab_type": "text"
      },
      "source": [
        "## **Transfer Learning**"
      ]
    },
    {
      "cell_type": "markdown",
      "metadata": {
        "id": "G6ROLUcqO5db",
        "colab_type": "text"
      },
      "source": [
        "In this section, we load the pre-trained model and then do partial tuning with training it on the stock with second max trading days. Then, we test it to get accuracy of the model"
      ]
    },
    {
      "cell_type": "code",
      "metadata": {
        "id": "9YRfWrlrLTBK",
        "colab_type": "code",
        "colab": {}
      },
      "source": [
        "stock_with_second_max_trading_days = ten_stocks_with_max_trading_days['TICKER'].iloc[1]"
      ],
      "execution_count": 0,
      "outputs": []
    },
    {
      "cell_type": "code",
      "metadata": {
        "id": "Ljyp-X38Ozqy",
        "colab_type": "code",
        "colab": {}
      },
      "source": [
        "train_start = pandas.to_datetime('20100101', format='%Y%m%d', errors='ignore')\n",
        "train_end = pandas.to_datetime('20160719', format='%Y%m%d', errors='ignore')\n",
        "test_start = pandas.to_datetime('20170101', format='%Y%m%d', errors='ignore')\n",
        "test_end = pandas.to_datetime('20180101', format='%Y%m%d', errors='ignore')"
      ],
      "execution_count": 0,
      "outputs": []
    },
    {
      "cell_type": "markdown",
      "metadata": {
        "id": "fWk7fDmXTALK",
        "colab_type": "text"
      },
      "source": [
        "Next, we load the pretrained model"
      ]
    },
    {
      "cell_type": "code",
      "metadata": {
        "id": "wkVLs-J0TEN7",
        "colab_type": "code",
        "colab": {}
      },
      "source": [
        "from keras.models import load_model\n",
        "\n",
        "training_data, training_labels, testing_data, testing_labels = \\\n",
        "      generate_datasets_for_model(data, labels, stock_with_second_max_trading_days, train_start, train_end, test_start, test_end)\n",
        "\n",
        "base_model = build_model(training_data.shape, optimizer)\n",
        "base_model.load_weights(join(COLAB_DIR,'model.h5'))\n",
        "base_model.summary()"
      ],
      "execution_count": 0,
      "outputs": []
    },
    {
      "cell_type": "code",
      "metadata": {
        "id": "UlIHnsZPTdAz",
        "colab_type": "code",
        "colab": {}
      },
      "source": [
        "history = base_model.fit(training_data, training_labels,\n",
        "                    batch_size=32,\n",
        "                    epochs=200,\n",
        "                    shuffle=False,\n",
        "                    validation_split=0.2)"
      ],
      "execution_count": 0,
      "outputs": []
    },
    {
      "cell_type": "code",
      "metadata": {
        "id": "mHc_GIFAb_1e",
        "colab_type": "code",
        "colab": {}
      },
      "source": [
        "plt.plot(history.history['binary_accuracy'])\n",
        "plt.plot(history.history['val_binary_accuracy'])\n",
        "plt.title('model accuracy with window length 10')\n",
        "plt.ylabel('accuracy')\n",
        "plt.xlabel('epoch')\n",
        "plt.legend(['train', 'val'], loc='upper left')\n",
        "plt.show()"
      ],
      "execution_count": 0,
      "outputs": []
    },
    {
      "cell_type": "code",
      "metadata": {
        "id": "OwPrcDDBcnMm",
        "colab_type": "code",
        "colab": {}
      },
      "source": [
        "plt.plot(history.history['loss'])\n",
        "plt.plot(history.history['val_loss'])\n",
        "plt.title('model loss with window length 10')\n",
        "plt.ylabel('loss')\n",
        "plt.xlabel('epoch')\n",
        "plt.legend(['train', 'val'], loc='upper left')\n",
        "plt.show()"
      ],
      "execution_count": 0,
      "outputs": []
    },
    {
      "cell_type": "code",
      "metadata": {
        "id": "g6RntZgzcqh8",
        "colab_type": "code",
        "colab": {}
      },
      "source": [
        "results = base_model.evaluate(testing_data, testing_labels)\n",
        "print('for window length 10 we have: test loss, test acc:', results)"
      ],
      "execution_count": 0,
      "outputs": []
    }
  ]
}