{
  "nbformat": 4,
  "nbformat_minor": 0,
  "metadata": {
    "colab": {
      "name": "Phase1 OCHLV.ipynb",
      "provenance": [],
      "collapsed_sections": [],
      "authorship_tag": "ABX9TyOVRlIj+sgFJFNZDrVSlazo",
      "include_colab_link": true
    },
    "kernelspec": {
      "name": "python3",
      "display_name": "Python 3"
    },
    "accelerator": "GPU"
  },
  "cells": [
    {
      "cell_type": "markdown",
      "metadata": {
        "id": "view-in-github",
        "colab_type": "text"
      },
      "source": [
        "<a href=\"https://colab.research.google.com/github/Ayazdani1997/stock-feature-prediction-final-pro/blob/master/Phase1_OCHLV.ipynb\" target=\"_parent\"><img src=\"https://colab.research.google.com/assets/colab-badge.svg\" alt=\"Open In Colab\"/></a>"
      ]
    },
    {
      "cell_type": "code",
      "metadata": {
        "id": "RA5xnKo5dv0y",
        "colab_type": "code",
        "outputId": "0f0851a2-9a57-4333-f406-aee581889076",
        "colab": {
          "base_uri": "https://localhost:8080/",
          "height": 109
        }
      },
      "source": [
        "!pip install pandas"
      ],
      "execution_count": 1,
      "outputs": [
        {
          "output_type": "stream",
          "text": [
            "Requirement already satisfied: pandas in /usr/local/lib/python3.6/dist-packages (1.0.3)\n",
            "Requirement already satisfied: numpy>=1.13.3 in /usr/local/lib/python3.6/dist-packages (from pandas) (1.18.2)\n",
            "Requirement already satisfied: pytz>=2017.2 in /usr/local/lib/python3.6/dist-packages (from pandas) (2018.9)\n",
            "Requirement already satisfied: python-dateutil>=2.6.1 in /usr/local/lib/python3.6/dist-packages (from pandas) (2.8.1)\n",
            "Requirement already satisfied: six>=1.5 in /usr/local/lib/python3.6/dist-packages (from python-dateutil>=2.6.1->pandas) (1.12.0)\n"
          ],
          "name": "stdout"
        }
      ]
    },
    {
      "cell_type": "code",
      "metadata": {
        "id": "JI4WocjUdcHG",
        "colab_type": "code",
        "outputId": "25ae1eb8-ddac-4532-ab20-1a24e407d636",
        "colab": {
          "base_uri": "https://localhost:8080/",
          "height": 129
        }
      },
      "source": [
        "import pandas\n",
        "import matplotlib.pyplot as plt\n",
        "from google.colab import drive\n",
        "from os.path import join\n",
        "import numpy\n",
        "\n",
        "ROOT = '/content/drive'\n",
        "drive.mount(ROOT)\n",
        "HOME = join(ROOT,'My Drive')\n",
        "COLAB_DIR = join(HOME, 'Colab Notebooks')\n",
        "data = pandas.read_csv(join(COLAB_DIR, 'data.csv'), encoding='utf-16')"
      ],
      "execution_count": 2,
      "outputs": [
        {
          "output_type": "stream",
          "text": [
            "Go to this URL in a browser: https://accounts.google.com/o/oauth2/auth?client_id=947318989803-6bn6qk8qdgf4n4g3pfee6491hc0brc4i.apps.googleusercontent.com&redirect_uri=urn%3aietf%3awg%3aoauth%3a2.0%3aoob&response_type=code&scope=email%20https%3a%2f%2fwww.googleapis.com%2fauth%2fdocs.test%20https%3a%2f%2fwww.googleapis.com%2fauth%2fdrive%20https%3a%2f%2fwww.googleapis.com%2fauth%2fdrive.photos.readonly%20https%3a%2f%2fwww.googleapis.com%2fauth%2fpeopleapi.readonly\n",
            "\n",
            "Enter your authorization code:\n",
            "··········\n",
            "Mounted at /content/drive\n"
          ],
          "name": "stdout"
        }
      ]
    },
    {
      "cell_type": "code",
      "metadata": {
        "id": "S2Sg8tkYdxxn",
        "colab_type": "code",
        "outputId": "ae78ac36-1d97-4659-e187-6714d6dda1fc",
        "colab": {
          "base_uri": "https://localhost:8080/",
          "height": 206
        }
      },
      "source": [
        "new_col = numpy.where(data['CLOSE'] >= data['CLOSE'].shift(1), 1, 0)  \n",
        "loc = len(data.columns)\n",
        "data.insert(loc, column='LABEL', value=new_col)\n",
        "data.fillna(0)\n",
        "data = data.drop('Unnamed: 0', axis=1).rename(columns={'DTYYYYMMDD': 'DATE'})\n",
        "data.head()"
      ],
      "execution_count": 25,
      "outputs": [
        {
          "output_type": "execute_result",
          "data": {
            "text/html": [
              "<div>\n",
              "<style scoped>\n",
              "    .dataframe tbody tr th:only-of-type {\n",
              "        vertical-align: middle;\n",
              "    }\n",
              "\n",
              "    .dataframe tbody tr th {\n",
              "        vertical-align: top;\n",
              "    }\n",
              "\n",
              "    .dataframe thead th {\n",
              "        text-align: right;\n",
              "    }\n",
              "</style>\n",
              "<table border=\"1\" class=\"dataframe\">\n",
              "  <thead>\n",
              "    <tr style=\"text-align: right;\">\n",
              "      <th></th>\n",
              "      <th>TICKER</th>\n",
              "      <th>DATE</th>\n",
              "      <th>OPEN</th>\n",
              "      <th>HIGH</th>\n",
              "      <th>LOW</th>\n",
              "      <th>CLOSE</th>\n",
              "      <th>VOL</th>\n",
              "      <th>VAL</th>\n",
              "      <th>NUM_OF_TRANSACTIONS</th>\n",
              "      <th>CLOSE_ONE_DAY_BEFORE</th>\n",
              "      <th>LABEL</th>\n",
              "    </tr>\n",
              "  </thead>\n",
              "  <tbody>\n",
              "    <tr>\n",
              "      <th>0</th>\n",
              "      <td>مظنه</td>\n",
              "      <td>20191120</td>\n",
              "      <td>0.0</td>\n",
              "      <td>1000000.0</td>\n",
              "      <td>0.0</td>\n",
              "      <td>1000000.0</td>\n",
              "      <td>0</td>\n",
              "      <td>0.0</td>\n",
              "      <td>0</td>\n",
              "      <td>1000000.0</td>\n",
              "      <td>0</td>\n",
              "    </tr>\n",
              "    <tr>\n",
              "      <th>1</th>\n",
              "      <td>مظنه</td>\n",
              "      <td>20191123</td>\n",
              "      <td>0.0</td>\n",
              "      <td>1000000.0</td>\n",
              "      <td>0.0</td>\n",
              "      <td>1000000.0</td>\n",
              "      <td>0</td>\n",
              "      <td>0.0</td>\n",
              "      <td>0</td>\n",
              "      <td>1000000.0</td>\n",
              "      <td>1</td>\n",
              "    </tr>\n",
              "    <tr>\n",
              "      <th>2</th>\n",
              "      <td>مظنه</td>\n",
              "      <td>20191124</td>\n",
              "      <td>0.0</td>\n",
              "      <td>1000000.0</td>\n",
              "      <td>0.0</td>\n",
              "      <td>1000000.0</td>\n",
              "      <td>0</td>\n",
              "      <td>0.0</td>\n",
              "      <td>0</td>\n",
              "      <td>1000000.0</td>\n",
              "      <td>1</td>\n",
              "    </tr>\n",
              "    <tr>\n",
              "      <th>3</th>\n",
              "      <td>مظنه</td>\n",
              "      <td>20191125</td>\n",
              "      <td>0.0</td>\n",
              "      <td>1000000.0</td>\n",
              "      <td>0.0</td>\n",
              "      <td>1000000.0</td>\n",
              "      <td>0</td>\n",
              "      <td>0.0</td>\n",
              "      <td>0</td>\n",
              "      <td>1000000.0</td>\n",
              "      <td>1</td>\n",
              "    </tr>\n",
              "    <tr>\n",
              "      <th>4</th>\n",
              "      <td>مظنه</td>\n",
              "      <td>20191126</td>\n",
              "      <td>0.0</td>\n",
              "      <td>1000000.0</td>\n",
              "      <td>0.0</td>\n",
              "      <td>1000000.0</td>\n",
              "      <td>0</td>\n",
              "      <td>0.0</td>\n",
              "      <td>0</td>\n",
              "      <td>1000000.0</td>\n",
              "      <td>1</td>\n",
              "    </tr>\n",
              "  </tbody>\n",
              "</table>\n",
              "</div>"
            ],
            "text/plain": [
              "  TICKER      DATE  OPEN  ...  NUM_OF_TRANSACTIONS  CLOSE_ONE_DAY_BEFORE  LABEL\n",
              "0   مظنه  20191120   0.0  ...                    0             1000000.0      0\n",
              "1   مظنه  20191123   0.0  ...                    0             1000000.0      1\n",
              "2   مظنه  20191124   0.0  ...                    0             1000000.0      1\n",
              "3   مظنه  20191125   0.0  ...                    0             1000000.0      1\n",
              "4   مظنه  20191126   0.0  ...                    0             1000000.0      1\n",
              "\n",
              "[5 rows x 11 columns]"
            ]
          },
          "metadata": {
            "tags": []
          },
          "execution_count": 25
        }
      ]
    },
    {
      "cell_type": "code",
      "metadata": {
        "id": "54OVoJw4jcRs",
        "colab_type": "code",
        "outputId": "7398fa55-22b5-453e-8f69-4161f99f0bb5",
        "colab": {
          "base_uri": "https://localhost:8080/",
          "height": 206
        }
      },
      "source": [
        "mean_vol_per_ticker = data.groupby('TICKER')['VOL'].agg(numpy.mean).reset_index().sort_values('VOL', ascending=False)\n",
        "mean_vol_per_ticker.head()"
      ],
      "execution_count": 13,
      "outputs": [
        {
          "output_type": "execute_result",
          "data": {
            "text/html": [
              "<div>\n",
              "<style scoped>\n",
              "    .dataframe tbody tr th:only-of-type {\n",
              "        vertical-align: middle;\n",
              "    }\n",
              "\n",
              "    .dataframe tbody tr th {\n",
              "        vertical-align: top;\n",
              "    }\n",
              "\n",
              "    .dataframe thead th {\n",
              "        text-align: right;\n",
              "    }\n",
              "</style>\n",
              "<table border=\"1\" class=\"dataframe\">\n",
              "  <thead>\n",
              "    <tr style=\"text-align: right;\">\n",
              "      <th></th>\n",
              "      <th>TICKER</th>\n",
              "      <th>VOL</th>\n",
              "    </tr>\n",
              "  </thead>\n",
              "  <tbody>\n",
              "    <tr>\n",
              "      <th>894</th>\n",
              "      <td>شاخص_قيمت(هم_وزن6)</td>\n",
              "      <td>1.560700e+09</td>\n",
              "    </tr>\n",
              "    <tr>\n",
              "      <th>895</th>\n",
              "      <td>شاخص_قيمت6</td>\n",
              "      <td>1.559693e+09</td>\n",
              "    </tr>\n",
              "    <tr>\n",
              "      <th>898</th>\n",
              "      <td>شاخص_كل_(هم_وزن)6</td>\n",
              "      <td>1.559693e+09</td>\n",
              "    </tr>\n",
              "    <tr>\n",
              "      <th>889</th>\n",
              "      <td>شاخص_آزاد_شناور6</td>\n",
              "      <td>9.130124e+08</td>\n",
              "    </tr>\n",
              "    <tr>\n",
              "      <th>897</th>\n",
              "      <td>شاخص_كل6</td>\n",
              "      <td>8.711138e+08</td>\n",
              "    </tr>\n",
              "  </tbody>\n",
              "</table>\n",
              "</div>"
            ],
            "text/plain": [
              "                 TICKER           VOL\n",
              "894  شاخص_قيمت(هم_وزن6)  1.560700e+09\n",
              "895          شاخص_قيمت6  1.559693e+09\n",
              "898   شاخص_كل_(هم_وزن)6  1.559693e+09\n",
              "889    شاخص_آزاد_شناور6  9.130124e+08\n",
              "897            شاخص_كل6  8.711138e+08"
            ]
          },
          "metadata": {
            "tags": []
          },
          "execution_count": 13
        }
      ]
    },
    {
      "cell_type": "code",
      "metadata": {
        "id": "Sk9OF8SHtiH9",
        "colab_type": "code",
        "outputId": "7af3fced-2176-495b-badc-490cffda8d3b",
        "colab": {
          "base_uri": "https://localhost:8080/",
          "height": 354
        }
      },
      "source": [
        " five_first_stocks_with_mean_vol = mean_vol_per_ticker.head()\n",
        " index = numpy.arange(len(five_first_stocks_with_mean_vol['TICKER']))\n",
        " plt.bar(index, five_first_stocks_with_mean_vol['VOL'])\n",
        " plt.xlabel('stock', fontsize=10)\n",
        " plt.ylabel('mean vol', fontsize=10)\n",
        " plt.xticks(index, five_first_stocks_with_mean_vol['TICKER'], fontsize=10, rotation=30)\n",
        " plt.title('mean volume in 2001-2020')\n",
        " plt.show()"
      ],
      "execution_count": 14,
      "outputs": [
        {
          "output_type": "display_data",
          "data": {
            "image/png": "[encoded data removed]",
            "text/plain": [
              "<Figure size 432x288 with 1 Axes>"
            ]
          },
          "metadata": {
            "tags": [],
            "needs_background": "light"
          }
        }
      ]
    },
    {
      "cell_type": "code",
      "metadata": {
        "id": "xG-cygZvxfUo",
        "colab_type": "code",
        "outputId": "7e4d0a86-a74d-4096-8b5b-9110d81f9f56",
        "colab": {
          "base_uri": "https://localhost:8080/",
          "height": 206
        }
      },
      "source": [
        "data_for_ticker_with_max_mean_vol = data[ data['TICKER'] == mean_vol_per_ticker.head().iloc[0]['TICKER'] ]\n",
        "data_for_ticker_with_max_mean_vol.head()"
      ],
      "execution_count": 26,
      "outputs": [
        {
          "output_type": "execute_result",
          "data": {
            "text/html": [
              "<div>\n",
              "<style scoped>\n",
              "    .dataframe tbody tr th:only-of-type {\n",
              "        vertical-align: middle;\n",
              "    }\n",
              "\n",
              "    .dataframe tbody tr th {\n",
              "        vertical-align: top;\n",
              "    }\n",
              "\n",
              "    .dataframe thead th {\n",
              "        text-align: right;\n",
              "    }\n",
              "</style>\n",
              "<table border=\"1\" class=\"dataframe\">\n",
              "  <thead>\n",
              "    <tr style=\"text-align: right;\">\n",
              "      <th></th>\n",
              "      <th>TICKER</th>\n",
              "      <th>DATE</th>\n",
              "      <th>OPEN</th>\n",
              "      <th>HIGH</th>\n",
              "      <th>LOW</th>\n",
              "      <th>CLOSE</th>\n",
              "      <th>VOL</th>\n",
              "      <th>VAL</th>\n",
              "      <th>NUM_OF_TRANSACTIONS</th>\n",
              "      <th>CLOSE_ONE_DAY_BEFORE</th>\n",
              "      <th>LABEL</th>\n",
              "    </tr>\n",
              "  </thead>\n",
              "  <tbody>\n",
              "    <tr>\n",
              "      <th>3004878</th>\n",
              "      <td>شاخص_قيمت(هم_وزن6)</td>\n",
              "      <td>20150224</td>\n",
              "      <td>9198.4</td>\n",
              "      <td>9181.8</td>\n",
              "      <td>9181.8</td>\n",
              "      <td>9181.8</td>\n",
              "      <td>278521094</td>\n",
              "      <td>6.199195e+11</td>\n",
              "      <td>31899</td>\n",
              "      <td>592.6</td>\n",
              "      <td>0</td>\n",
              "    </tr>\n",
              "    <tr>\n",
              "      <th>3004879</th>\n",
              "      <td>شاخص_قيمت(هم_وزن6)</td>\n",
              "      <td>20150225</td>\n",
              "      <td>9183.3</td>\n",
              "      <td>9109.1</td>\n",
              "      <td>9109.2</td>\n",
              "      <td>9109.1</td>\n",
              "      <td>271188153</td>\n",
              "      <td>5.908300e+11</td>\n",
              "      <td>28391</td>\n",
              "      <td>21957.9</td>\n",
              "      <td>0</td>\n",
              "    </tr>\n",
              "    <tr>\n",
              "      <th>3004880</th>\n",
              "      <td>شاخص_قيمت(هم_وزن6)</td>\n",
              "      <td>20150228</td>\n",
              "      <td>9111.9</td>\n",
              "      <td>9090.0</td>\n",
              "      <td>9090.0</td>\n",
              "      <td>9090.0</td>\n",
              "      <td>257849083</td>\n",
              "      <td>4.914391e+11</td>\n",
              "      <td>23864</td>\n",
              "      <td>590.0</td>\n",
              "      <td>0</td>\n",
              "    </tr>\n",
              "    <tr>\n",
              "      <th>3004881</th>\n",
              "      <td>شاخص_قيمت(هم_وزن6)</td>\n",
              "      <td>20150301</td>\n",
              "      <td>9014.4</td>\n",
              "      <td>9030.4</td>\n",
              "      <td>9009.0</td>\n",
              "      <td>9030.4</td>\n",
              "      <td>475683577</td>\n",
              "      <td>1.030119e+12</td>\n",
              "      <td>37612</td>\n",
              "      <td>21635.1</td>\n",
              "      <td>0</td>\n",
              "    </tr>\n",
              "    <tr>\n",
              "      <th>3004882</th>\n",
              "      <td>شاخص_قيمت(هم_وزن6)</td>\n",
              "      <td>20150302</td>\n",
              "      <td>9034.4</td>\n",
              "      <td>9043.5</td>\n",
              "      <td>9034.4</td>\n",
              "      <td>9043.5</td>\n",
              "      <td>717632564</td>\n",
              "      <td>9.735307e+11</td>\n",
              "      <td>39724</td>\n",
              "      <td>588.2</td>\n",
              "      <td>1</td>\n",
              "    </tr>\n",
              "  </tbody>\n",
              "</table>\n",
              "</div>"
            ],
            "text/plain": [
              "                     TICKER      DATE  ...  CLOSE_ONE_DAY_BEFORE  LABEL\n",
              "3004878  شاخص_قيمت(هم_وزن6)  20150224  ...                 592.6      0\n",
              "3004879  شاخص_قيمت(هم_وزن6)  20150225  ...               21957.9      0\n",
              "3004880  شاخص_قيمت(هم_وزن6)  20150228  ...                 590.0      0\n",
              "3004881  شاخص_قيمت(هم_وزن6)  20150301  ...               21635.1      0\n",
              "3004882  شاخص_قيمت(هم_وزن6)  20150302  ...                 588.2      1\n",
              "\n",
              "[5 rows x 11 columns]"
            ]
          },
          "metadata": {
            "tags": []
          },
          "execution_count": 26
        }
      ]
    },
    {
      "cell_type": "code",
      "metadata": {
        "id": "QWjZVmwA2XWB",
        "colab_type": "code",
        "outputId": "ef4628ee-9b90-43e9-e904-98346abfd589",
        "colab": {
          "base_uri": "https://localhost:8080/",
          "height": 728
        }
      },
      "source": [
        "from datetime import datetime\n",
        "\n",
        "fig, axs = plt.subplots(2, 1, sharex=True, figsize=(10,10))\n",
        "fig.tight_layout()\n",
        "\n",
        "ax1 = axs[0]\n",
        "ax2 = axs[1]\n",
        "starting_date = str(data_for_ticker_with_max_mean_vol['DATE'].iloc[0])\n",
        "ending_date = str(data_for_ticker_with_max_mean_vol['DATE'].iloc[len(data_for_ticker_with_max_mean_vol) - 1])\n",
        "starting_date_object = datetime.strptime(starting_date,'%Y%m%d')\n",
        "ending_date_object = datetime.strptime(ending_date,'%Y%m%d')\n",
        "starting_date_in_new_format = starting_date_object.strftime('%m/%d/%Y')\n",
        "ending_date_in_new_format = ending_date_object.strftime('%m/%d/%Y')\n",
        "\n",
        "ax1.plot(data_for_ticker_with_max_mean_vol['CLOSE'])\n",
        "ax1.set(ylabel='closing price (in tomans)')\n",
        "ax1.set_title('closing price of stock ' + data_for_ticker_with_max_mean_vol['TICKER'].iloc[0][::-1] + \n",
        "          ' from ' + starting_date_in_new_format + ' to ' + ending_date_in_new_format)\n",
        "# ax1.xticks([], labels=\" \")\n",
        "ax2.plot(data_for_ticker_with_max_mean_vol['VOL'])\n",
        "ax2.set(ylabel='daily volume (in share)')\n",
        "ax2.set_title('daily trading volume of stock ' + data_for_ticker_with_max_mean_vol['TICKER'].iloc[0][::-1] + \n",
        "          ' from ' + starting_date_in_new_format + ' to ' + ending_date_in_new_format)\n",
        "plt.xticks([], labels=\"\")\n",
        "ax1.grid(True)\n",
        "ax2.grid(True)\n",
        "plt.show()"
      ],
      "execution_count": 16,
      "outputs": [
        {
          "output_type": "display_data",
          "data": {
            "image/png": "[encoded data removed]",
            "text/plain": [
              "<Figure size 720x720 with 2 Axes>"
            ]
          },
          "metadata": {
            "tags": [],
            "needs_background": "light"
          }
        }
      ]
    },
    {
      "cell_type": "code",
      "metadata": {
        "id": "a8vM2kzK3vQK",
        "colab_type": "code",
        "colab": {}
      },
      "source": [
        "ten_stocks_with_max_trading_per_day = data.groupby('TICKER').agg({'DATE': ['min', 'max', 'count'], 'VOL': ['mean']}).reset_index().sort_values(('DATE', 'count'), ascending=False).head(10)\n",
        "stock_with_max_trading_per_day = ten_stocks_with_max_trading_per_day['TICKER'].iloc[0]"
      ],
      "execution_count": 0,
      "outputs": []
    },
    {
      "cell_type": "code",
      "metadata": {
        "id": "ERoZJ9C4NsB1",
        "colab_type": "code",
        "outputId": "70b404cd-5105-4132-f6e7-f8e3c18fae5a",
        "colab": {
          "base_uri": "https://localhost:8080/",
          "height": 424
        }
      },
      "source": [
        "data_related_to_max_trading_stock = data[ data['TICKER' ] == stock_with_max_trading_per_day ]\n",
        "data_related_to_max_trading_stock = data_related_to_max_trading_stock.drop(['TICKER', 'VAL', 'NUM_OF_TRANSACTIONS','CLOSE_ONE_DAY_BEFORE'],1)\n",
        "data_related_to_max_trading_stock"
      ],
      "execution_count": 29,
      "outputs": [
        {
          "output_type": "execute_result",
          "data": {
            "text/html": [
              "<div>\n",
              "<style scoped>\n",
              "    .dataframe tbody tr th:only-of-type {\n",
              "        vertical-align: middle;\n",
              "    }\n",
              "\n",
              "    .dataframe tbody tr th {\n",
              "        vertical-align: top;\n",
              "    }\n",
              "\n",
              "    .dataframe thead th {\n",
              "        text-align: right;\n",
              "    }\n",
              "</style>\n",
              "<table border=\"1\" class=\"dataframe\">\n",
              "  <thead>\n",
              "    <tr style=\"text-align: right;\">\n",
              "      <th></th>\n",
              "      <th>DATE</th>\n",
              "      <th>OPEN</th>\n",
              "      <th>HIGH</th>\n",
              "      <th>LOW</th>\n",
              "      <th>CLOSE</th>\n",
              "      <th>VOL</th>\n",
              "      <th>LABEL</th>\n",
              "    </tr>\n",
              "  </thead>\n",
              "  <tbody>\n",
              "    <tr>\n",
              "      <th>729611</th>\n",
              "      <td>20010325</td>\n",
              "      <td>2140.0</td>\n",
              "      <td>2140.0</td>\n",
              "      <td>2139.0</td>\n",
              "      <td>2140.0</td>\n",
              "      <td>163488</td>\n",
              "      <td>1</td>\n",
              "    </tr>\n",
              "    <tr>\n",
              "      <th>729612</th>\n",
              "      <td>20010326</td>\n",
              "      <td>2135.0</td>\n",
              "      <td>2100.0</td>\n",
              "      <td>2100.0</td>\n",
              "      <td>2100.0</td>\n",
              "      <td>17577</td>\n",
              "      <td>0</td>\n",
              "    </tr>\n",
              "    <tr>\n",
              "      <th>729613</th>\n",
              "      <td>20010327</td>\n",
              "      <td>2100.0</td>\n",
              "      <td>2050.0</td>\n",
              "      <td>2045.0</td>\n",
              "      <td>2050.0</td>\n",
              "      <td>97608</td>\n",
              "      <td>0</td>\n",
              "    </tr>\n",
              "    <tr>\n",
              "      <th>729614</th>\n",
              "      <td>20010328</td>\n",
              "      <td>2049.0</td>\n",
              "      <td>2100.0</td>\n",
              "      <td>2020.0</td>\n",
              "      <td>2100.0</td>\n",
              "      <td>59019</td>\n",
              "      <td>1</td>\n",
              "    </tr>\n",
              "    <tr>\n",
              "      <th>729615</th>\n",
              "      <td>20010331</td>\n",
              "      <td>2101.0</td>\n",
              "      <td>2205.0</td>\n",
              "      <td>2100.0</td>\n",
              "      <td>2205.0</td>\n",
              "      <td>85296</td>\n",
              "      <td>1</td>\n",
              "    </tr>\n",
              "    <tr>\n",
              "      <th>...</th>\n",
              "      <td>...</td>\n",
              "      <td>...</td>\n",
              "      <td>...</td>\n",
              "      <td>...</td>\n",
              "      <td>...</td>\n",
              "      <td>...</td>\n",
              "      <td>...</td>\n",
              "    </tr>\n",
              "    <tr>\n",
              "      <th>733972</th>\n",
              "      <td>20200407</td>\n",
              "      <td>13537.0</td>\n",
              "      <td>13538.0</td>\n",
              "      <td>12665.0</td>\n",
              "      <td>13398.0</td>\n",
              "      <td>6530898</td>\n",
              "      <td>1</td>\n",
              "    </tr>\n",
              "    <tr>\n",
              "      <th>733973</th>\n",
              "      <td>20200408</td>\n",
              "      <td>13850.0</td>\n",
              "      <td>14067.0</td>\n",
              "      <td>13615.0</td>\n",
              "      <td>13989.0</td>\n",
              "      <td>9576755</td>\n",
              "      <td>1</td>\n",
              "    </tr>\n",
              "    <tr>\n",
              "      <th>733974</th>\n",
              "      <td>20200411</td>\n",
              "      <td>14490.0</td>\n",
              "      <td>14688.0</td>\n",
              "      <td>13463.0</td>\n",
              "      <td>14479.0</td>\n",
              "      <td>7285102</td>\n",
              "      <td>1</td>\n",
              "    </tr>\n",
              "    <tr>\n",
              "      <th>733975</th>\n",
              "      <td>20200412</td>\n",
              "      <td>15087.0</td>\n",
              "      <td>15029.0</td>\n",
              "      <td>14971.0</td>\n",
              "      <td>14699.0</td>\n",
              "      <td>1243068</td>\n",
              "      <td>1</td>\n",
              "    </tr>\n",
              "    <tr>\n",
              "      <th>733976</th>\n",
              "      <td>20200413</td>\n",
              "      <td>0.0</td>\n",
              "      <td>15029.0</td>\n",
              "      <td>0.0</td>\n",
              "      <td>14699.0</td>\n",
              "      <td>0</td>\n",
              "      <td>1</td>\n",
              "    </tr>\n",
              "  </tbody>\n",
              "</table>\n",
              "<p>4366 rows × 7 columns</p>\n",
              "</div>"
            ],
            "text/plain": [
              "            DATE     OPEN     HIGH      LOW    CLOSE      VOL  LABEL\n",
              "729611  20010325   2140.0   2140.0   2139.0   2140.0   163488      1\n",
              "729612  20010326   2135.0   2100.0   2100.0   2100.0    17577      0\n",
              "729613  20010327   2100.0   2050.0   2045.0   2050.0    97608      0\n",
              "729614  20010328   2049.0   2100.0   2020.0   2100.0    59019      1\n",
              "729615  20010331   2101.0   2205.0   2100.0   2205.0    85296      1\n",
              "...          ...      ...      ...      ...      ...      ...    ...\n",
              "733972  20200407  13537.0  13538.0  12665.0  13398.0  6530898      1\n",
              "733973  20200408  13850.0  14067.0  13615.0  13989.0  9576755      1\n",
              "733974  20200411  14490.0  14688.0  13463.0  14479.0  7285102      1\n",
              "733975  20200412  15087.0  15029.0  14971.0  14699.0  1243068      1\n",
              "733976  20200413      0.0  15029.0      0.0  14699.0        0      1\n",
              "\n",
              "[4366 rows x 7 columns]"
            ]
          },
          "metadata": {
            "tags": []
          },
          "execution_count": 29
        }
      ]
    },
    {
      "cell_type": "code",
      "metadata": {
        "id": "_02UQe4Cy53Y",
        "colab_type": "code",
        "colab": {}
      },
      "source": [
        ""
      ],
      "execution_count": 0,
      "outputs": []
    }
  ]
}