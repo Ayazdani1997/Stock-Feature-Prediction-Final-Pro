{
  "nbformat": 4,
  "nbformat_minor": 0,
  "metadata": {
    "colab": {
      "name": "Phase1 OCHLV.ipynb",
      "provenance": [],
      "collapsed_sections": [],
      "machine_shape": "hm",
      "authorship_tag": "ABX9TyPWwdkHzb8hFsWueT3+zlG4",
      "include_colab_link": true
    },
    "kernelspec": {
      "name": "python3",
      "display_name": "Python 3"
    },
    "accelerator": "GPU"
  },
  "cells": [
    {
      "cell_type": "markdown",
      "metadata": {
        "id": "view-in-github",
        "colab_type": "text"
      },
      "source": [
        "<a href=\"https://colab.research.google.com/github/Ayazdani1997/stock-feature-prediction-final-pro/blob/master/Phase1_OCHLV.ipynb\" target=\"_parent\"><img src=\"https://colab.research.google.com/assets/colab-badge.svg\" alt=\"Open In Colab\"/></a>"
      ]
    },
    {
      "cell_type": "code",
      "metadata": {
        "id": "RA5xnKo5dv0y",
        "colab_type": "code",
        "outputId": "b660ed21-0368-423c-f9f1-ab177d88dbb3",
        "colab": {
          "base_uri": "https://localhost:8080/",
          "height": 109
        }
      },
      "source": [
        "!pip install pandas"
      ],
      "execution_count": 1,
      "outputs": [
        {
          "output_type": "stream",
          "text": [
            "Requirement already satisfied: pandas in /usr/local/lib/python3.6/dist-packages (1.0.3)\n",
            "Requirement already satisfied: pytz>=2017.2 in /usr/local/lib/python3.6/dist-packages (from pandas) (2018.9)\n",
            "Requirement already satisfied: numpy>=1.13.3 in /usr/local/lib/python3.6/dist-packages (from pandas) (1.18.3)\n",
            "Requirement already satisfied: python-dateutil>=2.6.1 in /usr/local/lib/python3.6/dist-packages (from pandas) (2.8.1)\n",
            "Requirement already satisfied: six>=1.5 in /usr/local/lib/python3.6/dist-packages (from python-dateutil>=2.6.1->pandas) (1.12.0)\n"
          ],
          "name": "stdout"
        }
      ]
    },
    {
      "cell_type": "code",
      "metadata": {
        "id": "JI4WocjUdcHG",
        "colab_type": "code",
        "outputId": "5e3c49fc-7409-4157-fda6-c7eafa9f89e8",
        "colab": {
          "base_uri": "https://localhost:8080/",
          "height": 35
        }
      },
      "source": [
        "import pandas\n",
        "import matplotlib.pyplot as plt\n",
        "from google.colab import drive\n",
        "from os.path import join\n",
        "import numpy\n",
        "\n",
        "ROOT = '/content/drive'\n",
        "drive.mount(ROOT)\n",
        "HOME = join(ROOT,'My Drive')\n",
        "COLAB_DIR = join(HOME, 'Colab Notebooks')\n",
        "data = pandas.read_csv(join(COLAB_DIR, 'data.csv'), encoding='utf-16')"
      ],
      "execution_count": 2,
      "outputs": [
        {
          "output_type": "stream",
          "text": [
            "Drive already mounted at /content/drive; to attempt to forcibly remount, call drive.mount(\"/content/drive\", force_remount=True).\n"
          ],
          "name": "stdout"
        }
      ]
    },
    {
      "cell_type": "code",
      "metadata": {
        "id": "S2Sg8tkYdxxn",
        "colab_type": "code",
        "outputId": "20a2cbf0-8750-492a-d1e5-987c93cd7583",
        "colab": {
          "base_uri": "https://localhost:8080/",
          "height": 206
        }
      },
      "source": [
        "data = data.drop(['Unnamed: 0', 'VAL', 'NUM_OF_TRANSACTIONS','CLOSE_ONE_DAY_BEFORE'], axis=1).rename(columns={'DTYYYYMMDD': 'DATE'})\n",
        "data['DATE'] = pandas.to_datetime(data['DATE'],format='%Y%m%d')\n",
        "data.head()"
      ],
      "execution_count": 3,
      "outputs": [
        {
          "output_type": "execute_result",
          "data": {
            "text/html": [
              "<div>\n",
              "<style scoped>\n",
              "    .dataframe tbody tr th:only-of-type {\n",
              "        vertical-align: middle;\n",
              "    }\n",
              "\n",
              "    .dataframe tbody tr th {\n",
              "        vertical-align: top;\n",
              "    }\n",
              "\n",
              "    .dataframe thead th {\n",
              "        text-align: right;\n",
              "    }\n",
              "</style>\n",
              "<table border=\"1\" class=\"dataframe\">\n",
              "  <thead>\n",
              "    <tr style=\"text-align: right;\">\n",
              "      <th></th>\n",
              "      <th>TICKER</th>\n",
              "      <th>DATE</th>\n",
              "      <th>OPEN</th>\n",
              "      <th>HIGH</th>\n",
              "      <th>LOW</th>\n",
              "      <th>CLOSE</th>\n",
              "      <th>VOL</th>\n",
              "    </tr>\n",
              "  </thead>\n",
              "  <tbody>\n",
              "    <tr>\n",
              "      <th>0</th>\n",
              "      <td>مظنه</td>\n",
              "      <td>2019-11-20</td>\n",
              "      <td>0.0</td>\n",
              "      <td>1000000.0</td>\n",
              "      <td>0.0</td>\n",
              "      <td>1000000.0</td>\n",
              "      <td>0</td>\n",
              "    </tr>\n",
              "    <tr>\n",
              "      <th>1</th>\n",
              "      <td>مظنه</td>\n",
              "      <td>2019-11-23</td>\n",
              "      <td>0.0</td>\n",
              "      <td>1000000.0</td>\n",
              "      <td>0.0</td>\n",
              "      <td>1000000.0</td>\n",
              "      <td>0</td>\n",
              "    </tr>\n",
              "    <tr>\n",
              "      <th>2</th>\n",
              "      <td>مظنه</td>\n",
              "      <td>2019-11-24</td>\n",
              "      <td>0.0</td>\n",
              "      <td>1000000.0</td>\n",
              "      <td>0.0</td>\n",
              "      <td>1000000.0</td>\n",
              "      <td>0</td>\n",
              "    </tr>\n",
              "    <tr>\n",
              "      <th>3</th>\n",
              "      <td>مظنه</td>\n",
              "      <td>2019-11-25</td>\n",
              "      <td>0.0</td>\n",
              "      <td>1000000.0</td>\n",
              "      <td>0.0</td>\n",
              "      <td>1000000.0</td>\n",
              "      <td>0</td>\n",
              "    </tr>\n",
              "    <tr>\n",
              "      <th>4</th>\n",
              "      <td>مظنه</td>\n",
              "      <td>2019-11-26</td>\n",
              "      <td>0.0</td>\n",
              "      <td>1000000.0</td>\n",
              "      <td>0.0</td>\n",
              "      <td>1000000.0</td>\n",
              "      <td>0</td>\n",
              "    </tr>\n",
              "  </tbody>\n",
              "</table>\n",
              "</div>"
            ],
            "text/plain": [
              "  TICKER       DATE  OPEN       HIGH  LOW      CLOSE  VOL\n",
              "0   مظنه 2019-11-20   0.0  1000000.0  0.0  1000000.0    0\n",
              "1   مظنه 2019-11-23   0.0  1000000.0  0.0  1000000.0    0\n",
              "2   مظنه 2019-11-24   0.0  1000000.0  0.0  1000000.0    0\n",
              "3   مظنه 2019-11-25   0.0  1000000.0  0.0  1000000.0    0\n",
              "4   مظنه 2019-11-26   0.0  1000000.0  0.0  1000000.0    0"
            ]
          },
          "metadata": {
            "tags": []
          },
          "execution_count": 3
        }
      ]
    },
    {
      "cell_type": "code",
      "metadata": {
        "id": "54OVoJw4jcRs",
        "colab_type": "code",
        "outputId": "0b202e05-2450-4e8b-f3e8-86c7a0f5517b",
        "colab": {
          "base_uri": "https://localhost:8080/",
          "height": 206
        }
      },
      "source": [
        "mean_vol_per_ticker = data.groupby('TICKER')['VOL'].agg(numpy.mean).reset_index().sort_values('VOL', ascending=False)\n",
        "mean_vol_per_ticker.head()"
      ],
      "execution_count": 4,
      "outputs": [
        {
          "output_type": "execute_result",
          "data": {
            "text/html": [
              "<div>\n",
              "<style scoped>\n",
              "    .dataframe tbody tr th:only-of-type {\n",
              "        vertical-align: middle;\n",
              "    }\n",
              "\n",
              "    .dataframe tbody tr th {\n",
              "        vertical-align: top;\n",
              "    }\n",
              "\n",
              "    .dataframe thead th {\n",
              "        text-align: right;\n",
              "    }\n",
              "</style>\n",
              "<table border=\"1\" class=\"dataframe\">\n",
              "  <thead>\n",
              "    <tr style=\"text-align: right;\">\n",
              "      <th></th>\n",
              "      <th>TICKER</th>\n",
              "      <th>VOL</th>\n",
              "    </tr>\n",
              "  </thead>\n",
              "  <tbody>\n",
              "    <tr>\n",
              "      <th>894</th>\n",
              "      <td>شاخص_قيمت(هم_وزن6)</td>\n",
              "      <td>1.560700e+09</td>\n",
              "    </tr>\n",
              "    <tr>\n",
              "      <th>895</th>\n",
              "      <td>شاخص_قيمت6</td>\n",
              "      <td>1.559693e+09</td>\n",
              "    </tr>\n",
              "    <tr>\n",
              "      <th>898</th>\n",
              "      <td>شاخص_كل_(هم_وزن)6</td>\n",
              "      <td>1.559693e+09</td>\n",
              "    </tr>\n",
              "    <tr>\n",
              "      <th>889</th>\n",
              "      <td>شاخص_آزاد_شناور6</td>\n",
              "      <td>9.130124e+08</td>\n",
              "    </tr>\n",
              "    <tr>\n",
              "      <th>897</th>\n",
              "      <td>شاخص_كل6</td>\n",
              "      <td>8.711138e+08</td>\n",
              "    </tr>\n",
              "  </tbody>\n",
              "</table>\n",
              "</div>"
            ],
            "text/plain": [
              "                 TICKER           VOL\n",
              "894  شاخص_قيمت(هم_وزن6)  1.560700e+09\n",
              "895          شاخص_قيمت6  1.559693e+09\n",
              "898   شاخص_كل_(هم_وزن)6  1.559693e+09\n",
              "889    شاخص_آزاد_شناور6  9.130124e+08\n",
              "897            شاخص_كل6  8.711138e+08"
            ]
          },
          "metadata": {
            "tags": []
          },
          "execution_count": 4
        }
      ]
    },
    {
      "cell_type": "code",
      "metadata": {
        "id": "Sk9OF8SHtiH9",
        "colab_type": "code",
        "outputId": "cb8c7e7c-2eb6-4645-9f2d-b36eefa14e7c",
        "colab": {
          "base_uri": "https://localhost:8080/",
          "height": 354
        }
      },
      "source": [
        " plt.style.use('dark_background')\n",
        " five_first_stocks_with_mean_vol = mean_vol_per_ticker.head()\n",
        " index = numpy.arange(len(five_first_stocks_with_mean_vol['TICKER']))\n",
        " plt.bar(index, five_first_stocks_with_mean_vol['VOL'])\n",
        " plt.xlabel('stock', fontsize=10)\n",
        " plt.ylabel('mean vol', fontsize=10)\n",
        " plt.xticks(index, five_first_stocks_with_mean_vol['TICKER'], fontsize=10, rotation=30)\n",
        " plt.title('mean volume in 2001-2020')\n",
        " plt.show()"
      ],
      "execution_count": 5,
      "outputs": [
        {
          "output_type": "display_data",
          "data": {
            "image/png": "[encoded data removed]",
            "text/plain": [
              "<Figure size 432x288 with 1 Axes>"
            ]
          },
          "metadata": {
            "tags": []
          }
        }
      ]
    },
    {
      "cell_type": "code",
      "metadata": {
        "id": "xG-cygZvxfUo",
        "colab_type": "code",
        "outputId": "953b3adf-0a16-431b-98d4-c53111b55856",
        "colab": {
          "base_uri": "https://localhost:8080/",
          "height": 206
        }
      },
      "source": [
        "data_for_ticker_with_max_mean_vol = data[ data['TICKER'] == mean_vol_per_ticker.head().iloc[0]['TICKER'] ]\n",
        "data_for_ticker_with_max_mean_vol.head()"
      ],
      "execution_count": 6,
      "outputs": [
        {
          "output_type": "execute_result",
          "data": {
            "text/html": [
              "<div>\n",
              "<style scoped>\n",
              "    .dataframe tbody tr th:only-of-type {\n",
              "        vertical-align: middle;\n",
              "    }\n",
              "\n",
              "    .dataframe tbody tr th {\n",
              "        vertical-align: top;\n",
              "    }\n",
              "\n",
              "    .dataframe thead th {\n",
              "        text-align: right;\n",
              "    }\n",
              "</style>\n",
              "<table border=\"1\" class=\"dataframe\">\n",
              "  <thead>\n",
              "    <tr style=\"text-align: right;\">\n",
              "      <th></th>\n",
              "      <th>TICKER</th>\n",
              "      <th>DATE</th>\n",
              "      <th>OPEN</th>\n",
              "      <th>HIGH</th>\n",
              "      <th>LOW</th>\n",
              "      <th>CLOSE</th>\n",
              "      <th>VOL</th>\n",
              "    </tr>\n",
              "  </thead>\n",
              "  <tbody>\n",
              "    <tr>\n",
              "      <th>3004878</th>\n",
              "      <td>شاخص_قيمت(هم_وزن6)</td>\n",
              "      <td>2015-02-24</td>\n",
              "      <td>9198.4</td>\n",
              "      <td>9181.8</td>\n",
              "      <td>9181.8</td>\n",
              "      <td>9181.8</td>\n",
              "      <td>278521094</td>\n",
              "    </tr>\n",
              "    <tr>\n",
              "      <th>3004879</th>\n",
              "      <td>شاخص_قيمت(هم_وزن6)</td>\n",
              "      <td>2015-02-25</td>\n",
              "      <td>9183.3</td>\n",
              "      <td>9109.1</td>\n",
              "      <td>9109.2</td>\n",
              "      <td>9109.1</td>\n",
              "      <td>271188153</td>\n",
              "    </tr>\n",
              "    <tr>\n",
              "      <th>3004880</th>\n",
              "      <td>شاخص_قيمت(هم_وزن6)</td>\n",
              "      <td>2015-02-28</td>\n",
              "      <td>9111.9</td>\n",
              "      <td>9090.0</td>\n",
              "      <td>9090.0</td>\n",
              "      <td>9090.0</td>\n",
              "      <td>257849083</td>\n",
              "    </tr>\n",
              "    <tr>\n",
              "      <th>3004881</th>\n",
              "      <td>شاخص_قيمت(هم_وزن6)</td>\n",
              "      <td>2015-03-01</td>\n",
              "      <td>9014.4</td>\n",
              "      <td>9030.4</td>\n",
              "      <td>9009.0</td>\n",
              "      <td>9030.4</td>\n",
              "      <td>475683577</td>\n",
              "    </tr>\n",
              "    <tr>\n",
              "      <th>3004882</th>\n",
              "      <td>شاخص_قيمت(هم_وزن6)</td>\n",
              "      <td>2015-03-02</td>\n",
              "      <td>9034.4</td>\n",
              "      <td>9043.5</td>\n",
              "      <td>9034.4</td>\n",
              "      <td>9043.5</td>\n",
              "      <td>717632564</td>\n",
              "    </tr>\n",
              "  </tbody>\n",
              "</table>\n",
              "</div>"
            ],
            "text/plain": [
              "                     TICKER       DATE    OPEN  ...     LOW   CLOSE        VOL\n",
              "3004878  شاخص_قيمت(هم_وزن6) 2015-02-24  9198.4  ...  9181.8  9181.8  278521094\n",
              "3004879  شاخص_قيمت(هم_وزن6) 2015-02-25  9183.3  ...  9109.2  9109.1  271188153\n",
              "3004880  شاخص_قيمت(هم_وزن6) 2015-02-28  9111.9  ...  9090.0  9090.0  257849083\n",
              "3004881  شاخص_قيمت(هم_وزن6) 2015-03-01  9014.4  ...  9009.0  9030.4  475683577\n",
              "3004882  شاخص_قيمت(هم_وزن6) 2015-03-02  9034.4  ...  9034.4  9043.5  717632564\n",
              "\n",
              "[5 rows x 7 columns]"
            ]
          },
          "metadata": {
            "tags": []
          },
          "execution_count": 6
        }
      ]
    },
    {
      "cell_type": "code",
      "metadata": {
        "id": "QWjZVmwA2XWB",
        "colab_type": "code",
        "outputId": "00225074-8b13-45b7-d9ae-15cfb59645a9",
        "colab": {
          "base_uri": "https://localhost:8080/",
          "height": 885
        }
      },
      "source": [
        "import matplotlib.dates as mdates\n",
        "\n",
        "fig, axs = plt.subplots(2, 1, sharex=True, figsize=(12,12))\n",
        "fig.tight_layout()\n",
        "\n",
        "ax1 = axs[0]\n",
        "ax2 = axs[1]\n",
        "starting_date = str(data_for_ticker_with_max_mean_vol['DATE'].iloc[0])\n",
        "ending_date = str(data_for_ticker_with_max_mean_vol['DATE'].iloc[len(data_for_ticker_with_max_mean_vol) - 1])\n",
        "\n",
        "years = mdates.YearLocator()   # every year\n",
        "months = mdates.MonthLocator()  # every month\n",
        "years_fmt = mdates.DateFormatter('%Y')\n",
        "\n",
        "ax1.xaxis.set_major_locator(years)\n",
        "ax1.xaxis.set_major_formatter(years_fmt)\n",
        "ax1.xaxis.set_minor_locator(months)\n",
        "\n",
        "\n",
        "ax1.plot(data_for_ticker_with_max_mean_vol['DATE'], data_for_ticker_with_max_mean_vol['CLOSE'])\n",
        "ax1.set(ylabel='closing price (in tomans)')\n",
        "ax1.set_title('closing price of stock ' + data_for_ticker_with_max_mean_vol['TICKER'].iloc[0][::-1] + \n",
        "          ' from ' + starting_date + ' to ' + ending_date)\n",
        "ax2.plot(data_for_ticker_with_max_mean_vol['DATE'], data_for_ticker_with_max_mean_vol['VOL'])\n",
        "ax2.set(ylabel='daily volume (in share)')\n",
        "ax2.set_title('daily trading volume of stock ' + data_for_ticker_with_max_mean_vol['TICKER'].iloc[0][::-1] + \n",
        "          ' from ' + starting_date + ' to ' + ending_date)\n",
        "\n",
        "ax1.grid(True)\n",
        "ax2.grid(True)\n",
        "\n",
        "ax1.format_xdata = mdates.DateFormatter('%Y-%m-%d')\n",
        "ax1.format_ydata = lambda x: '$%1.2f' % x  # format the price.\n",
        "\n",
        "plt.show()"
      ],
      "execution_count": 7,
      "outputs": [
        {
          "output_type": "display_data",
          "data": {
            "image/png": "[encoded data removed]",
            "text/plain": [
              "<Figure size 864x864 with 2 Axes>"
            ]
          },
          "metadata": {
            "tags": []
          }
        }
      ]
    },
    {
      "cell_type": "code",
      "metadata": {
        "id": "a8vM2kzK3vQK",
        "colab_type": "code",
        "outputId": "948458f6-767c-47e4-9562-ec2a49bd7488",
        "colab": {
          "base_uri": "https://localhost:8080/",
          "height": 394
        }
      },
      "source": [
        "ten_stocks_with_max_trading_per_day = data.groupby('TICKER').agg({'DATE': ['min', 'max', 'count'], 'VOL': ['mean']}).reset_index().sort_values(('DATE', 'count'), ascending=False).head(10)\n",
        "stock_with_max_trading_per_day = ten_stocks_with_max_trading_per_day['TICKER'].iloc[0]\n",
        "ten_stocks_with_max_trading_per_day.head(10)"
      ],
      "execution_count": 8,
      "outputs": [
        {
          "output_type": "execute_result",
          "data": {
            "text/html": [
              "<div>\n",
              "<style scoped>\n",
              "    .dataframe tbody tr th:only-of-type {\n",
              "        vertical-align: middle;\n",
              "    }\n",
              "\n",
              "    .dataframe tbody tr th {\n",
              "        vertical-align: top;\n",
              "    }\n",
              "\n",
              "    .dataframe thead tr th {\n",
              "        text-align: left;\n",
              "    }\n",
              "</style>\n",
              "<table border=\"1\" class=\"dataframe\">\n",
              "  <thead>\n",
              "    <tr>\n",
              "      <th></th>\n",
              "      <th>TICKER</th>\n",
              "      <th colspan=\"3\" halign=\"left\">DATE</th>\n",
              "      <th>VOL</th>\n",
              "    </tr>\n",
              "    <tr>\n",
              "      <th></th>\n",
              "      <th></th>\n",
              "      <th>min</th>\n",
              "      <th>max</th>\n",
              "      <th>count</th>\n",
              "      <th>mean</th>\n",
              "    </tr>\n",
              "  </thead>\n",
              "  <tbody>\n",
              "    <tr>\n",
              "      <th>1616</th>\n",
              "      <td>وپترو</td>\n",
              "      <td>2001-03-25</td>\n",
              "      <td>2020-04-13</td>\n",
              "      <td>4366</td>\n",
              "      <td>2.323352e+06</td>\n",
              "    </tr>\n",
              "    <tr>\n",
              "      <th>1522</th>\n",
              "      <td>وساخت</td>\n",
              "      <td>2001-03-25</td>\n",
              "      <td>2020-04-13</td>\n",
              "      <td>4356</td>\n",
              "      <td>1.464725e+06</td>\n",
              "    </tr>\n",
              "    <tr>\n",
              "      <th>56</th>\n",
              "      <td>آريان</td>\n",
              "      <td>2010-10-06</td>\n",
              "      <td>2020-04-13</td>\n",
              "      <td>4347</td>\n",
              "      <td>2.723661e+06</td>\n",
              "    </tr>\n",
              "    <tr>\n",
              "      <th>624</th>\n",
              "      <td>خودرو</td>\n",
              "      <td>2001-03-25</td>\n",
              "      <td>2020-04-13</td>\n",
              "      <td>4340</td>\n",
              "      <td>1.123416e+07</td>\n",
              "    </tr>\n",
              "    <tr>\n",
              "      <th>1539</th>\n",
              "      <td>وسپه</td>\n",
              "      <td>2001-03-27</td>\n",
              "      <td>2020-04-13</td>\n",
              "      <td>4323</td>\n",
              "      <td>2.620691e+06</td>\n",
              "    </tr>\n",
              "    <tr>\n",
              "      <th>753</th>\n",
              "      <td>زنجان</td>\n",
              "      <td>2011-01-05</td>\n",
              "      <td>2020-04-13</td>\n",
              "      <td>4318</td>\n",
              "      <td>9.637195e+05</td>\n",
              "    </tr>\n",
              "    <tr>\n",
              "      <th>567</th>\n",
              "      <td>خبهمن</td>\n",
              "      <td>2001-04-07</td>\n",
              "      <td>2020-04-13</td>\n",
              "      <td>4315</td>\n",
              "      <td>6.061205e+06</td>\n",
              "    </tr>\n",
              "    <tr>\n",
              "      <th>1603</th>\n",
              "      <td>ونيكي</td>\n",
              "      <td>2001-04-07</td>\n",
              "      <td>2020-04-13</td>\n",
              "      <td>4302</td>\n",
              "      <td>1.712802e+06</td>\n",
              "    </tr>\n",
              "    <tr>\n",
              "      <th>900</th>\n",
              "      <td>شاراك</td>\n",
              "      <td>2001-03-27</td>\n",
              "      <td>2020-04-13</td>\n",
              "      <td>4298</td>\n",
              "      <td>2.342162e+06</td>\n",
              "    </tr>\n",
              "    <tr>\n",
              "      <th>1474</th>\n",
              "      <td>وبشهر</td>\n",
              "      <td>2001-03-25</td>\n",
              "      <td>2020-04-13</td>\n",
              "      <td>4291</td>\n",
              "      <td>2.265908e+06</td>\n",
              "    </tr>\n",
              "  </tbody>\n",
              "</table>\n",
              "</div>"
            ],
            "text/plain": [
              "     TICKER       DATE                            VOL\n",
              "                   min        max count          mean\n",
              "1616  وپترو 2001-03-25 2020-04-13  4366  2.323352e+06\n",
              "1522  وساخت 2001-03-25 2020-04-13  4356  1.464725e+06\n",
              "56    آريان 2010-10-06 2020-04-13  4347  2.723661e+06\n",
              "624   خودرو 2001-03-25 2020-04-13  4340  1.123416e+07\n",
              "1539   وسپه 2001-03-27 2020-04-13  4323  2.620691e+06\n",
              "753   زنجان 2011-01-05 2020-04-13  4318  9.637195e+05\n",
              "567   خبهمن 2001-04-07 2020-04-13  4315  6.061205e+06\n",
              "1603  ونيكي 2001-04-07 2020-04-13  4302  1.712802e+06\n",
              "900   شاراك 2001-03-27 2020-04-13  4298  2.342162e+06\n",
              "1474  وبشهر 2001-03-25 2020-04-13  4291  2.265908e+06"
            ]
          },
          "metadata": {
            "tags": []
          },
          "execution_count": 8
        }
      ]
    },
    {
      "cell_type": "code",
      "metadata": {
        "id": "ERoZJ9C4NsB1",
        "colab_type": "code",
        "colab": {}
      },
      "source": [
        "\n",
        "window_in_days = 10\n",
        "horizon_in_days = 1\n",
        "\n",
        "def push_padding_to_dataframe_to_front(dataframe, window_in_days):\n",
        "  for _ in range(window_in_days):\n",
        "    row_to_insert = [0.0 for _ in dataframe.columns]\n",
        "    dataframe.loc[-1] = row_to_insert\n",
        "    dataframe.index = dataframe.index + 1\n",
        "    dataframe = dataframe.sort_index()\n",
        "    dataframe = dataframe.reset_index(drop=True)\n",
        "  return dataframe\n",
        "\n",
        "\n",
        "def normalize_dataframe(dataframe, train_mean, train_std):\n",
        "    normalized_df=(dataframe-train_mean)/train_std\n",
        "    return normalized_df\n",
        "\n",
        "\n",
        "def generate_datasets_for_model(original_dataset, stock, training_start, training_end, testing_start, testing_end, batch_size=32):\n",
        "  data_related_to_stock = original_dataset[ original_dataset['TICKER'] == stock ]\n",
        "  data_related_to_stock = data_related_to_stock.drop('TICKER', axis=1)\n",
        "\n",
        " \n",
        "  training_period_mask = (data_related_to_stock['DATE'] >= training_start) & (data_related_to_stock['DATE'] <= training_end )\n",
        "  testing_period_mask = (data_related_to_stock['DATE'] >= testing_start) & (data_related_to_stock['DATE'] <= testing_end )\n",
        "\n",
        "  training_period = data_related_to_stock.loc[training_period_mask]\n",
        "  testing_period = data_related_to_stock.loc[testing_period_mask]\n",
        "\n",
        "\n",
        "  # training_period, validation_period = numpy.split(training_period, [int(.8*len(training_period))])\n",
        "\n",
        "\n",
        "  training_period.drop('DATE', axis=1)\n",
        "  testing_period.drop('DATE', axis=1)\n",
        "\n",
        "  training_period = push_padding_to_dataframe_to_front(training_period.copy(), (batch_size - (len(training_period) - window_in_days) ) % batch_size)\n",
        "  # validation_period = push_padding_to_dataframe_to_front(validation_period.copy(), window_in_days) \n",
        "  testing_period = push_padding_to_dataframe_to_front(testing_period.copy(), window_in_days)\n",
        "\n",
        "\n",
        "\n",
        "\n",
        "  training_period_labels = numpy.where(training_period['CLOSE'] > training_period['CLOSE'].shift(1), 1.0, 0.0)\n",
        "  # validation_period_labels = numpy.where(validation_period['CLOSE'] > validation_period['CLOSE'].shift(1), 1.0, 0.0) \n",
        "  testing_period_labels = numpy.where(testing_period['CLOSE'] > testing_period['CLOSE'].shift(1), 1.0, 0.0)\n",
        "\n",
        "  training_period = training_period.drop('DATE', axis=1)\n",
        "  # validation_period = validation_period.drop('DATE', axis=1)\n",
        "  testing_period = testing_period.drop('DATE', axis=1)\n",
        "\n",
        "  training_period = normalize_dataframe(training_period, training_period.mean(), training_period.std())\n",
        "  # validation_period = normalize_dataframe(validation_period, training_period.mean(), training_period.std())\n",
        "  testing_period = normalize_dataframe(testing_period, training_period.mean(), training_period.std())\n",
        "\n",
        "  training_data = []\n",
        "  training_labels = []\n",
        "\n",
        "  for j in range(window_in_days, len(training_period)):\n",
        "    training_data.append(numpy.array(training_period[ j - window_in_days : j ].copy()))\n",
        "    training_labels.append(training_period_labels[j])\n",
        "\n",
        "  training_data = numpy.array(training_data)\n",
        "  training_labels = numpy.array(training_labels)\n",
        "\n",
        "  # validation_data = []\n",
        "  # validation_labels = []\n",
        "\n",
        "  \n",
        "  # for j in range(window_in_days, len(validation_period)):\n",
        "  #   validation_data.append(numpy.array(validation_period[ j - window_in_days : j ].copy()))\n",
        "  #   validation_labels.append(validation_period_labels[j])\n",
        "\n",
        "  # validation_data = numpy.array(validation_data)\n",
        "  # validation_labels = numpy.array(validation_labels)\n",
        "\n",
        "\n",
        "  testing_data = []\n",
        "  testing_labels = []\n",
        "\n",
        "\n",
        "  for j in range(window_in_days, len(testing_period)):\n",
        "    testing_data.append(numpy.array(testing_period[ j - window_in_days : j ].copy()))\n",
        "    testing_labels.append(testing_period_labels[j])\n",
        "  \n",
        "  testing_data = numpy.array(testing_data)\n",
        "  testing_labels = numpy.array(testing_labels)\n",
        "\n",
        "\n",
        "  return training_data, training_labels, testing_data, testing_labels\n",
        "\n"
      ],
      "execution_count": 0,
      "outputs": []
    },
    {
      "cell_type": "code",
      "metadata": {
        "id": "1WlzfbdWTbvF",
        "colab_type": "code",
        "colab": {}
      },
      "source": [
        "training_start = pandas.to_datetime('20010101', format='%Y%m%d', errors='ignore')\n",
        "training_end = pandas.to_datetime('20170919', format='%Y%m%d', errors='ignore')\n",
        "testing_start = pandas.to_datetime('20180101', format='%Y%m%d', errors='ignore')\n",
        "testing_end = pandas.to_datetime('20180719', format='%Y%m%d', errors='ignore')\n",
        "\n",
        "training_data, training_labels, testing_data, testing_labels = \\\n",
        "      generate_datasets_for_model(data, stock_with_max_trading_per_day, training_start, training_end, testing_start, testing_end)"
      ],
      "execution_count": 0,
      "outputs": []
    },
    {
      "cell_type": "code",
      "metadata": {
        "id": "linrD_G1bP4Z",
        "colab_type": "code",
        "outputId": "43d498f1-07ad-4b35-af32-35f2947106fb",
        "colab": {
          "base_uri": "https://localhost:8080/",
          "height": 1000
        }
      },
      "source": [
        "!pip install tensorflow\n",
        "!pip install tensorflow-gpu"
      ],
      "execution_count": 11,
      "outputs": [
        {
          "output_type": "stream",
          "text": [
            "Requirement already satisfied: tensorflow in /usr/local/lib/python3.6/dist-packages (2.2.0rc3)\n",
            "Requirement already satisfied: scipy==1.4.1; python_version >= \"3\" in /usr/local/lib/python3.6/dist-packages (from tensorflow) (1.4.1)\n",
            "Requirement already satisfied: opt-einsum>=2.3.2 in /usr/local/lib/python3.6/dist-packages (from tensorflow) (3.2.1)\n",
            "Requirement already satisfied: google-pasta>=0.1.8 in /usr/local/lib/python3.6/dist-packages (from tensorflow) (0.2.0)\n",
            "Requirement already satisfied: absl-py>=0.7.0 in /usr/local/lib/python3.6/dist-packages (from tensorflow) (0.9.0)\n",
            "Collecting tensorboard<2.3.0,>=2.2.0\n",
            "\u001b[?25l  Downloading https://files.pythonhosted.org/packages/1d/fd/4f3ca1516cbb3713259ef229abd9314bba0077ef6070285dde0dd1ed21b2/tensorboard-2.2.1-py3-none-any.whl (3.0MB)\n",
            "\u001b[K     |████████████████████████████████| 3.0MB 59kB/s \n",
            "\u001b[?25hCollecting tensorflow-estimator<2.3.0,>=2.2.0rc0\n",
            "\u001b[?25l  Downloading https://files.pythonhosted.org/packages/a4/f5/926ae53d6a226ec0fda5208e0e581cffed895ccc89e36ba76a8e60895b78/tensorflow_estimator-2.2.0-py2.py3-none-any.whl (454kB)\n",
            "\u001b[K     |████████████████████████████████| 460kB 9.6MB/s \n",
            "\u001b[?25hRequirement already satisfied: astunparse==1.6.3 in /usr/local/lib/python3.6/dist-packages (from tensorflow) (1.6.3)\n",
            "Requirement already satisfied: six>=1.12.0 in /usr/local/lib/python3.6/dist-packages (from tensorflow) (1.12.0)\n",
            "Requirement already satisfied: wheel>=0.26; python_version >= \"3\" in /usr/local/lib/python3.6/dist-packages (from tensorflow) (0.34.2)\n",
            "Requirement already satisfied: h5py<2.11.0,>=2.10.0 in /usr/local/lib/python3.6/dist-packages (from tensorflow) (2.10.0)\n",
            "Requirement already satisfied: numpy<2.0,>=1.16.0 in /usr/local/lib/python3.6/dist-packages (from tensorflow) (1.18.3)\n",
            "Collecting gast==0.3.3\n",
            "  Downloading https://files.pythonhosted.org/packages/d6/84/759f5dd23fec8ba71952d97bcc7e2c9d7d63bdc582421f3cd4be845f0c98/gast-0.3.3-py2.py3-none-any.whl\n",
            "Requirement already satisfied: grpcio>=1.8.6 in /usr/local/lib/python3.6/dist-packages (from tensorflow) (1.28.1)\n",
            "Requirement already satisfied: protobuf>=3.8.0 in /usr/local/lib/python3.6/dist-packages (from tensorflow) (3.10.0)\n",
            "Requirement already satisfied: wrapt>=1.11.1 in /usr/local/lib/python3.6/dist-packages (from tensorflow) (1.12.1)\n",
            "Requirement already satisfied: keras-preprocessing>=1.1.0 in /usr/local/lib/python3.6/dist-packages (from tensorflow) (1.1.0)\n",
            "Requirement already satisfied: termcolor>=1.1.0 in /usr/local/lib/python3.6/dist-packages (from tensorflow) (1.1.0)\n",
            "Requirement already satisfied: google-auth-oauthlib<0.5,>=0.4.1 in /usr/local/lib/python3.6/dist-packages (from tensorboard<2.3.0,>=2.2.0->tensorflow) (0.4.1)\n",
            "Requirement already satisfied: google-auth<2,>=1.6.3 in /usr/local/lib/python3.6/dist-packages (from tensorboard<2.3.0,>=2.2.0->tensorflow) (1.7.2)\n",
            "Requirement already satisfied: tensorboard-plugin-wit>=1.6.0 in /usr/local/lib/python3.6/dist-packages (from tensorboard<2.3.0,>=2.2.0->tensorflow) (1.6.0.post3)\n",
            "Requirement already satisfied: markdown>=2.6.8 in /usr/local/lib/python3.6/dist-packages (from tensorboard<2.3.0,>=2.2.0->tensorflow) (3.2.1)\n",
            "Requirement already satisfied: werkzeug>=0.11.15 in /usr/local/lib/python3.6/dist-packages (from tensorboard<2.3.0,>=2.2.0->tensorflow) (1.0.1)\n",
            "Requirement already satisfied: requests<3,>=2.21.0 in /usr/local/lib/python3.6/dist-packages (from tensorboard<2.3.0,>=2.2.0->tensorflow) (2.21.0)\n",
            "Requirement already satisfied: setuptools>=41.0.0 in /usr/local/lib/python3.6/dist-packages (from tensorboard<2.3.0,>=2.2.0->tensorflow) (46.1.3)\n",
            "Requirement already satisfied: requests-oauthlib>=0.7.0 in /usr/local/lib/python3.6/dist-packages (from google-auth-oauthlib<0.5,>=0.4.1->tensorboard<2.3.0,>=2.2.0->tensorflow) (1.3.0)\n",
            "Requirement already satisfied: pyasn1-modules>=0.2.1 in /usr/local/lib/python3.6/dist-packages (from google-auth<2,>=1.6.3->tensorboard<2.3.0,>=2.2.0->tensorflow) (0.2.8)\n",
            "Requirement already satisfied: cachetools<3.2,>=2.0.0 in /usr/local/lib/python3.6/dist-packages (from google-auth<2,>=1.6.3->tensorboard<2.3.0,>=2.2.0->tensorflow) (3.1.1)\n",
            "Requirement already satisfied: rsa<4.1,>=3.1.4 in /usr/local/lib/python3.6/dist-packages (from google-auth<2,>=1.6.3->tensorboard<2.3.0,>=2.2.0->tensorflow) (4.0)\n",
            "Requirement already satisfied: certifi>=2017.4.17 in /usr/local/lib/python3.6/dist-packages (from requests<3,>=2.21.0->tensorboard<2.3.0,>=2.2.0->tensorflow) (2020.4.5.1)\n",
            "Requirement already satisfied: idna<2.9,>=2.5 in /usr/local/lib/python3.6/dist-packages (from requests<3,>=2.21.0->tensorboard<2.3.0,>=2.2.0->tensorflow) (2.8)\n",
            "Requirement already satisfied: chardet<3.1.0,>=3.0.2 in /usr/local/lib/python3.6/dist-packages (from requests<3,>=2.21.0->tensorboard<2.3.0,>=2.2.0->tensorflow) (3.0.4)\n",
            "Requirement already satisfied: urllib3<1.25,>=1.21.1 in /usr/local/lib/python3.6/dist-packages (from requests<3,>=2.21.0->tensorboard<2.3.0,>=2.2.0->tensorflow) (1.24.3)\n",
            "Requirement already satisfied: oauthlib>=3.0.0 in /usr/local/lib/python3.6/dist-packages (from requests-oauthlib>=0.7.0->google-auth-oauthlib<0.5,>=0.4.1->tensorboard<2.3.0,>=2.2.0->tensorflow) (3.1.0)\n",
            "Requirement already satisfied: pyasn1<0.5.0,>=0.4.6 in /usr/local/lib/python3.6/dist-packages (from pyasn1-modules>=0.2.1->google-auth<2,>=1.6.3->tensorboard<2.3.0,>=2.2.0->tensorflow) (0.4.8)\n",
            "\u001b[31mERROR: tensorflow-gpu 2.1.0 has requirement gast==0.2.2, but you'll have gast 0.3.3 which is incompatible.\u001b[0m\n",
            "\u001b[31mERROR: tensorflow-gpu 2.1.0 has requirement tensorboard<2.2.0,>=2.1.0, but you'll have tensorboard 2.2.1 which is incompatible.\u001b[0m\n",
            "\u001b[31mERROR: tensorflow-gpu 2.1.0 has requirement tensorflow-estimator<2.2.0,>=2.1.0rc0, but you'll have tensorflow-estimator 2.2.0 which is incompatible.\u001b[0m\n",
            "Installing collected packages: tensorboard, tensorflow-estimator, gast\n",
            "  Found existing installation: tensorboard 2.1.1\n",
            "    Uninstalling tensorboard-2.1.1:\n",
            "      Successfully uninstalled tensorboard-2.1.1\n",
            "  Found existing installation: tensorflow-estimator 2.1.0\n",
            "    Uninstalling tensorflow-estimator-2.1.0:\n",
            "      Successfully uninstalled tensorflow-estimator-2.1.0\n",
            "  Found existing installation: gast 0.2.2\n",
            "    Uninstalling gast-0.2.2:\n",
            "      Successfully uninstalled gast-0.2.2\n",
            "Successfully installed gast-0.3.3 tensorboard-2.2.1 tensorflow-estimator-2.2.0\n"
          ],
          "name": "stdout"
        }
      ]
    },
    {
      "cell_type": "code",
      "metadata": {
        "id": "QSCBRXdtsYsX",
        "colab_type": "code",
        "outputId": "addbeaba-b30e-4b35-a7d9-7508f12106bd",
        "colab": {
          "base_uri": "https://localhost:8080/",
          "height": 476
        }
      },
      "source": [
        "import tensorflow.keras as keras\n",
        "\n",
        "from keras.models import Sequential\n",
        "from keras.layers import LSTM\n",
        "from keras.layers import Dense, Activation, Dropout\n",
        "from keras.layers import BatchNormalization\n",
        "from keras.metrics import BinaryAccuracy\n",
        "\n",
        "def build_model(input_shape):\n",
        "  model = Sequential()\n",
        "  model.add(LSTM(64, input_shape=(input_shape[1], input_shape[2])))\n",
        "  model.add(Dense(32))\n",
        "  model.add(Dropout(0.1))\n",
        "  model.add(Dense(16))\n",
        "  model.add(BatchNormalization())\n",
        "  model.add(Dense(4))\n",
        "  model.add(Dense(1))\n",
        "  model.add(Activation('sigmoid'))\n",
        "\n",
        "  model.compile(loss='binary_crossentropy', optimizer='adam', metrics=[BinaryAccuracy()])\n",
        "\n",
        "\n",
        "  return model\n",
        "\n",
        "\n",
        "model = build_model(training_data.shape)\n",
        "model.summary()"
      ],
      "execution_count": 13,
      "outputs": [
        {
          "output_type": "stream",
          "text": [
            "Using TensorFlow backend.\n"
          ],
          "name": "stderr"
        },
        {
          "output_type": "stream",
          "text": [
            "Model: \"sequential_1\"\n",
            "_________________________________________________________________\n",
            "Layer (type)                 Output Shape              Param #   \n",
            "=================================================================\n",
            "lstm_1 (LSTM)                (None, 64)                17920     \n",
            "_________________________________________________________________\n",
            "dense_1 (Dense)              (None, 32)                2080      \n",
            "_________________________________________________________________\n",
            "dropout_1 (Dropout)          (None, 32)                0         \n",
            "_________________________________________________________________\n",
            "dense_2 (Dense)              (None, 16)                528       \n",
            "_________________________________________________________________\n",
            "batch_normalization_1 (Batch (None, 16)                64        \n",
            "_________________________________________________________________\n",
            "dense_3 (Dense)              (None, 4)                 68        \n",
            "_________________________________________________________________\n",
            "dense_4 (Dense)              (None, 1)                 5         \n",
            "_________________________________________________________________\n",
            "activation_1 (Activation)    (None, 1)                 0         \n",
            "=================================================================\n",
            "Total params: 20,665\n",
            "Trainable params: 20,633\n",
            "Non-trainable params: 32\n",
            "_________________________________________________________________\n"
          ],
          "name": "stdout"
        }
      ]
    },
    {
      "cell_type": "code",
      "metadata": {
        "id": "Gsbik3-4uCcf",
        "colab_type": "code",
        "colab": {}
      },
      "source": [
        "history = model.fit(training_data, training_labels,\n",
        "                    batch_size=32,\n",
        "                    epochs=50,\n",
        "                    validation_split=0.2)"
      ],
      "execution_count": 0,
      "outputs": []
    }
  ]
}